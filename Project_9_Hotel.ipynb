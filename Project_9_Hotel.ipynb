{
 "cells": [
  {
   "cell_type": "markdown",
   "metadata": {},
   "source": [
    "# Прогнозирование оттока клиентов в сети отелей \"Как в гостях\"\n",
    "\n",
    "## Описание проекта\n",
    "\n",
    "Заказчиком данного исследования является сеть отелей \"Как в гостях\". Основной проблемой, перед которой стоит компания, является отмена бронирования номеров клиентами. Эта проблема ведет к финансовым убыткам, так как в случае отмены брони отель может не успеть найти другого клиента или уже закупить продукты к приезду гостя.\n",
    "\n",
    "Для решения данной проблемы необходимо разработать систему, способную предсказывать вероятность отмены бронирования. Если модель предсказывает отказ от брони, клиенту предлагается внести депозит в размере 80% от стоимости номера за одни сутки и затрат на разовую уборку. Эти средства будут списаны со счета клиента в случае отмены брони.\n",
    "\n",
    "### Бизнес-метрика и другие данные\n",
    "\n",
    "Основной бизнес-метрикой для сети отелей \"Как в гостях\" является прибыль. Прибыль отеля рассчитывается как разница между стоимостью номера за все ночи и затратами на обслуживание, включая подготовку номера и проживание гостя.\n",
    "\n",
    "Отель предлагает несколько типов номеров, и стоимость зависит от типа номера и количества ночей. Кроме того, есть затраты на уборку, которая производится каждые два дня в случае длительного проживания гостя.\n",
    "\n",
    "Стоимость номеров отеля по категориям:\n",
    "\n",
    "- Категория A: за ночь - 1 000 рублей, разовое обслуживание - 400 рублей.\n",
    "- Категория B: за ночь - 800 рублей, разовое обслуживание - 350 рублей.\n",
    "- Категория C: за ночь - 600 рублей, разовое обслуживание - 350 рублей.\n",
    "- Категория D: за ночь - 550 рублей, разовое обслуживание - 150 рублей.\n",
    "- Категория E: за ночь - 500 рублей, разовое обслуживание - 150 рублей.\n",
    "- Категория F: за ночь - 450 рублей, разовое обслуживание - 150 рублей.\n",
    "- Категория G: за ночь - 350 рублей, разовое обслуживание - 150 рублей.\n",
    "\n",
    "Политика ценообразования отеля учитывает сезонные коэффициенты:\n",
    "\n",
    "- Весной и осенью цены повышаются на 20%.\n",
    "- Летом цены повышаются на 40%.\n",
    "\n",
    "Убытки отеля в случае отмены брони номера рассчитываются как стоимость одной уборки и стоимость одной ночи с учетом сезонного коэффициента.\n",
    "\n",
    "На разработку системы прогнозирования оттока клиентов выделен бюджет в размере 400 000 рублей. Важно учесть, что внедрение модели должно окупиться за тестовый период, и затраты на разработку не должны превышать выручку, которую система принесет компании."
   ]
  },
  {
   "cell_type": "markdown",
   "metadata": {},
   "source": [
    "###  Импорт библиотек"
   ]
  },
  {
   "cell_type": "code",
   "execution_count": 2,
   "metadata": {},
   "outputs": [],
   "source": [
    "#!pip install imbalanced-learn\n",
    "#!pip install -U scikit-learn\n",
    "#!pip install category_encoders -q\n",
    "#!pip install optuna\n",
    "#!pip install pandas_profiling\n",
    "#!pip install imblearn\n",
    "#C:\\Users\\Admin\\Desktop\\hotel PRoject\n",
    "import pandas as pd\n",
    "\n",
    "import datetime as dt\n",
    "\n",
    "import plotly.express as px\n",
    "\n",
    "import seaborn as sns\n",
    "\n",
    "\n",
    "import matplotlib.pyplot as plt\n",
    "\n",
    "import numpy as np\n",
    "\n",
    "from sklearn.model_selection import train_test_split\n",
    "\n",
    "from sklearn.preprocessing import StandardScaler\n",
    "\n",
    "from sklearn.linear_model import LinearRegression\n",
    "\n",
    "\n",
    "\n",
    "from sklearn.tree import DecisionTreeClassifier\n",
    "from sklearn.linear_model import LogisticRegression\n",
    "from sklearn.ensemble import RandomForestRegressor\n",
    "\n",
    "from sklearn.metrics import  r2_score\n",
    "from sklearn.metrics import mean_absolute_error\n",
    "\n",
    "from sklearn.metrics import confusion_matrix\n",
    "import scipy.stats as st \n",
    "from sklearn.metrics import accuracy_score\n",
    "from sklearn.ensemble import RandomForestClassifier\n",
    "from sklearn.metrics import mean_squared_error\n",
    "\n",
    "from scipy import stats as st\n",
    "from sklearn.metrics import precision_score\n",
    "from sklearn.metrics import recall_score\n",
    "from sklearn.metrics import f1_score\n",
    "from sklearn.metrics import classification_report\n",
    "from sklearn.utils import shuffle\n",
    "from sklearn.preprocessing import OneHotEncoder\n",
    "\n",
    "from imblearn.over_sampling import ADASYN\n",
    "from sklearn.metrics import roc_curve \n",
    "from sklearn.metrics import precision_recall_curve\n",
    "\n",
    "from sklearn.metrics import roc_auc_score\n",
    "\n",
    "from imblearn.over_sampling import SMOTE\n",
    "\n",
    "RANDOM_STATE=12345\n",
    "\n",
    "from category_encoders.leave_one_out import LeaveOneOutEncoder\n",
    "from imblearn.over_sampling import ADASYN\n",
    "from sklearn.preprocessing import RobustScaler\n",
    "\n",
    "import optuna\n",
    "\n",
    "from sklearn.model_selection import cross_val_score\n",
    "\n",
    "from sklearn.metrics import fbeta_score\n",
    "\n",
    "\n",
    "\n",
    "from imblearn.pipeline import Pipeline, make_pipeline\n",
    "\n",
    "\n",
    "import warnings\n",
    "warnings.filterwarnings('ignore')\n",
    "\n",
    "import pandas_profiling #импортируемpandas_profiling"
   ]
  },
  {
   "cell_type": "code",
   "execution_count": 3,
   "metadata": {},
   "outputs": [],
   "source": [
    "#Функция для установки пакетов\n",
    "def install(package):\n",
    "    if hasattr(pip, 'main'):\n",
    "        pip.main(['install', package])\n",
    "    else:\n",
    "        pip._internal.main(['install', package])"
   ]
  },
  {
   "cell_type": "code",
   "execution_count": 4,
   "metadata": {},
   "outputs": [],
   "source": [
    "#install('pandas_profiling') #ставим pandas_profiling\n",
    "#install('imblearn')"
   ]
  },
  {
   "cell_type": "markdown",
   "metadata": {},
   "source": [
    "### Шаг 1. Откройте файлы с данными"
   ]
  },
  {
   "cell_type": "code",
   "execution_count": 6,
   "metadata": {},
   "outputs": [],
   "source": [
    "try:\n",
    "    train= pd.read_csv('/datasets/hotel_train.csv')\n",
    "    test= pd.read_csv('/datasets/hotel_test.csv')\n",
    "except:\n",
    "    train= pd.read_csv(r'C:\\Users\\Admin\\Desktop\\hotel PRoject\\hotel_train.csv')\n",
    "    test= pd.read_csv(r'C:\\Users\\Admin\\Desktop\\hotel PRoject\\hotel_test.csv')"
   ]
  },
  {
   "cell_type": "markdown",
   "metadata": {},
   "source": [
    "### Шаг 2. Предобработка и исследовательский анализ данных"
   ]
  },
  {
   "cell_type": "markdown",
   "metadata": {},
   "source": [
    "P.S. profiling кушает много оперативной памяти, не знаю как его убивать в трее, после запуска. \n",
    "Поэтому закомментил код, в марк закинул алерт репорт"
   ]
  },
  {
   "cell_type": "code",
   "execution_count": 7,
   "metadata": {},
   "outputs": [],
   "source": [
    "#Функция вывода инфы о массиве первые и последние 5 строк\n",
    "def headtail(df_name):\n",
    "    display('Head 5')\n",
    "    display(df_name.head(5))\n",
    "    display('Tail 5')\n",
    "    display(df_name.tail(5))"
   ]
  },
  {
   "cell_type": "markdown",
   "metadata": {},
   "source": [
    "Глянем train "
   ]
  },
  {
   "cell_type": "code",
   "execution_count": 8,
   "metadata": {},
   "outputs": [
    {
     "data": {
      "text/plain": [
       "'Head 5'"
      ]
     },
     "metadata": {},
     "output_type": "display_data"
    },
    {
     "data": {
      "text/html": [
       "<div>\n",
       "<style scoped>\n",
       "    .dataframe tbody tr th:only-of-type {\n",
       "        vertical-align: middle;\n",
       "    }\n",
       "\n",
       "    .dataframe tbody tr th {\n",
       "        vertical-align: top;\n",
       "    }\n",
       "\n",
       "    .dataframe thead th {\n",
       "        text-align: right;\n",
       "    }\n",
       "</style>\n",
       "<table border=\"1\" class=\"dataframe\">\n",
       "  <thead>\n",
       "    <tr style=\"text-align: right;\">\n",
       "      <th></th>\n",
       "      <th>id</th>\n",
       "      <th>is_canceled</th>\n",
       "      <th>lead_time</th>\n",
       "      <th>arrival_date_year</th>\n",
       "      <th>arrival_date_month</th>\n",
       "      <th>arrival_date_week_number</th>\n",
       "      <th>arrival_date_day_of_month</th>\n",
       "      <th>stays_in_weekend_nights</th>\n",
       "      <th>stays_in_week_nights</th>\n",
       "      <th>adults</th>\n",
       "      <th>...</th>\n",
       "      <th>is_repeated_guest</th>\n",
       "      <th>previous_cancellations</th>\n",
       "      <th>previous_bookings_not_canceled</th>\n",
       "      <th>reserved_room_type</th>\n",
       "      <th>booking_changes</th>\n",
       "      <th>days_in_waiting_list</th>\n",
       "      <th>customer_type</th>\n",
       "      <th>required_car_parking_spaces</th>\n",
       "      <th>total_of_special_requests</th>\n",
       "      <th>total_nights</th>\n",
       "    </tr>\n",
       "  </thead>\n",
       "  <tbody>\n",
       "    <tr>\n",
       "      <th>0</th>\n",
       "      <td>0</td>\n",
       "      <td>0</td>\n",
       "      <td>7.0</td>\n",
       "      <td>2015</td>\n",
       "      <td>July</td>\n",
       "      <td>27</td>\n",
       "      <td>1</td>\n",
       "      <td>0</td>\n",
       "      <td>1</td>\n",
       "      <td>1.0</td>\n",
       "      <td>...</td>\n",
       "      <td>0</td>\n",
       "      <td>0</td>\n",
       "      <td>0</td>\n",
       "      <td>A</td>\n",
       "      <td>0</td>\n",
       "      <td>0</td>\n",
       "      <td>Transient</td>\n",
       "      <td>0</td>\n",
       "      <td>0</td>\n",
       "      <td>1</td>\n",
       "    </tr>\n",
       "    <tr>\n",
       "      <th>1</th>\n",
       "      <td>1</td>\n",
       "      <td>0</td>\n",
       "      <td>14.0</td>\n",
       "      <td>2015</td>\n",
       "      <td>July</td>\n",
       "      <td>27</td>\n",
       "      <td>1</td>\n",
       "      <td>0</td>\n",
       "      <td>2</td>\n",
       "      <td>2.0</td>\n",
       "      <td>...</td>\n",
       "      <td>0</td>\n",
       "      <td>0</td>\n",
       "      <td>0</td>\n",
       "      <td>A</td>\n",
       "      <td>0</td>\n",
       "      <td>0</td>\n",
       "      <td>Transient</td>\n",
       "      <td>0</td>\n",
       "      <td>1</td>\n",
       "      <td>2</td>\n",
       "    </tr>\n",
       "    <tr>\n",
       "      <th>2</th>\n",
       "      <td>2</td>\n",
       "      <td>0</td>\n",
       "      <td>0.0</td>\n",
       "      <td>2015</td>\n",
       "      <td>July</td>\n",
       "      <td>27</td>\n",
       "      <td>1</td>\n",
       "      <td>0</td>\n",
       "      <td>2</td>\n",
       "      <td>2.0</td>\n",
       "      <td>...</td>\n",
       "      <td>0</td>\n",
       "      <td>0</td>\n",
       "      <td>0</td>\n",
       "      <td>C</td>\n",
       "      <td>0</td>\n",
       "      <td>0</td>\n",
       "      <td>Transient</td>\n",
       "      <td>0</td>\n",
       "      <td>0</td>\n",
       "      <td>2</td>\n",
       "    </tr>\n",
       "    <tr>\n",
       "      <th>3</th>\n",
       "      <td>3</td>\n",
       "      <td>0</td>\n",
       "      <td>9.0</td>\n",
       "      <td>2015</td>\n",
       "      <td>July</td>\n",
       "      <td>27</td>\n",
       "      <td>1</td>\n",
       "      <td>0</td>\n",
       "      <td>2</td>\n",
       "      <td>2.0</td>\n",
       "      <td>...</td>\n",
       "      <td>0</td>\n",
       "      <td>0</td>\n",
       "      <td>0</td>\n",
       "      <td>C</td>\n",
       "      <td>0</td>\n",
       "      <td>0</td>\n",
       "      <td>Transient</td>\n",
       "      <td>0</td>\n",
       "      <td>1</td>\n",
       "      <td>2</td>\n",
       "    </tr>\n",
       "    <tr>\n",
       "      <th>4</th>\n",
       "      <td>4</td>\n",
       "      <td>1</td>\n",
       "      <td>85.0</td>\n",
       "      <td>2015</td>\n",
       "      <td>July</td>\n",
       "      <td>27</td>\n",
       "      <td>1</td>\n",
       "      <td>0</td>\n",
       "      <td>3</td>\n",
       "      <td>2.0</td>\n",
       "      <td>...</td>\n",
       "      <td>0</td>\n",
       "      <td>0</td>\n",
       "      <td>0</td>\n",
       "      <td>A</td>\n",
       "      <td>0</td>\n",
       "      <td>0</td>\n",
       "      <td>Transient</td>\n",
       "      <td>0</td>\n",
       "      <td>1</td>\n",
       "      <td>3</td>\n",
       "    </tr>\n",
       "  </tbody>\n",
       "</table>\n",
       "<p>5 rows × 25 columns</p>\n",
       "</div>"
      ],
      "text/plain": [
       "   id  is_canceled  lead_time  arrival_date_year arrival_date_month  \\\n",
       "0   0            0        7.0               2015               July   \n",
       "1   1            0       14.0               2015               July   \n",
       "2   2            0        0.0               2015               July   \n",
       "3   3            0        9.0               2015               July   \n",
       "4   4            1       85.0               2015               July   \n",
       "\n",
       "   arrival_date_week_number  arrival_date_day_of_month  \\\n",
       "0                        27                          1   \n",
       "1                        27                          1   \n",
       "2                        27                          1   \n",
       "3                        27                          1   \n",
       "4                        27                          1   \n",
       "\n",
       "   stays_in_weekend_nights  stays_in_week_nights  adults  ...  \\\n",
       "0                        0                     1     1.0  ...   \n",
       "1                        0                     2     2.0  ...   \n",
       "2                        0                     2     2.0  ...   \n",
       "3                        0                     2     2.0  ...   \n",
       "4                        0                     3     2.0  ...   \n",
       "\n",
       "   is_repeated_guest  previous_cancellations previous_bookings_not_canceled  \\\n",
       "0                  0                       0                              0   \n",
       "1                  0                       0                              0   \n",
       "2                  0                       0                              0   \n",
       "3                  0                       0                              0   \n",
       "4                  0                       0                              0   \n",
       "\n",
       "  reserved_room_type booking_changes  days_in_waiting_list  customer_type  \\\n",
       "0   A                              0                     0      Transient   \n",
       "1   A                              0                     0      Transient   \n",
       "2   C                              0                     0      Transient   \n",
       "3   C                              0                     0      Transient   \n",
       "4   A                              0                     0      Transient   \n",
       "\n",
       "   required_car_parking_spaces total_of_special_requests  total_nights  \n",
       "0                            0                         0             1  \n",
       "1                            0                         1             2  \n",
       "2                            0                         0             2  \n",
       "3                            0                         1             2  \n",
       "4                            0                         1             3  \n",
       "\n",
       "[5 rows x 25 columns]"
      ]
     },
     "metadata": {},
     "output_type": "display_data"
    },
    {
     "data": {
      "text/plain": [
       "'Tail 5'"
      ]
     },
     "metadata": {},
     "output_type": "display_data"
    },
    {
     "data": {
      "text/html": [
       "<div>\n",
       "<style scoped>\n",
       "    .dataframe tbody tr th:only-of-type {\n",
       "        vertical-align: middle;\n",
       "    }\n",
       "\n",
       "    .dataframe tbody tr th {\n",
       "        vertical-align: top;\n",
       "    }\n",
       "\n",
       "    .dataframe thead th {\n",
       "        text-align: right;\n",
       "    }\n",
       "</style>\n",
       "<table border=\"1\" class=\"dataframe\">\n",
       "  <thead>\n",
       "    <tr style=\"text-align: right;\">\n",
       "      <th></th>\n",
       "      <th>id</th>\n",
       "      <th>is_canceled</th>\n",
       "      <th>lead_time</th>\n",
       "      <th>arrival_date_year</th>\n",
       "      <th>arrival_date_month</th>\n",
       "      <th>arrival_date_week_number</th>\n",
       "      <th>arrival_date_day_of_month</th>\n",
       "      <th>stays_in_weekend_nights</th>\n",
       "      <th>stays_in_week_nights</th>\n",
       "      <th>adults</th>\n",
       "      <th>...</th>\n",
       "      <th>is_repeated_guest</th>\n",
       "      <th>previous_cancellations</th>\n",
       "      <th>previous_bookings_not_canceled</th>\n",
       "      <th>reserved_room_type</th>\n",
       "      <th>booking_changes</th>\n",
       "      <th>days_in_waiting_list</th>\n",
       "      <th>customer_type</th>\n",
       "      <th>required_car_parking_spaces</th>\n",
       "      <th>total_of_special_requests</th>\n",
       "      <th>total_nights</th>\n",
       "    </tr>\n",
       "  </thead>\n",
       "  <tbody>\n",
       "    <tr>\n",
       "      <th>65224</th>\n",
       "      <td>84057</td>\n",
       "      <td>0</td>\n",
       "      <td>23.0</td>\n",
       "      <td>2016</td>\n",
       "      <td>December</td>\n",
       "      <td>53</td>\n",
       "      <td>30</td>\n",
       "      <td>2</td>\n",
       "      <td>4</td>\n",
       "      <td>2.0</td>\n",
       "      <td>...</td>\n",
       "      <td>0</td>\n",
       "      <td>0</td>\n",
       "      <td>0</td>\n",
       "      <td>D</td>\n",
       "      <td>0</td>\n",
       "      <td>0</td>\n",
       "      <td>Transient</td>\n",
       "      <td>0</td>\n",
       "      <td>2</td>\n",
       "      <td>6</td>\n",
       "    </tr>\n",
       "    <tr>\n",
       "      <th>65225</th>\n",
       "      <td>84063</td>\n",
       "      <td>0</td>\n",
       "      <td>53.0</td>\n",
       "      <td>2016</td>\n",
       "      <td>December</td>\n",
       "      <td>53</td>\n",
       "      <td>31</td>\n",
       "      <td>2</td>\n",
       "      <td>3</td>\n",
       "      <td>2.0</td>\n",
       "      <td>...</td>\n",
       "      <td>0</td>\n",
       "      <td>0</td>\n",
       "      <td>0</td>\n",
       "      <td>D</td>\n",
       "      <td>0</td>\n",
       "      <td>0</td>\n",
       "      <td>Transient</td>\n",
       "      <td>0</td>\n",
       "      <td>3</td>\n",
       "      <td>5</td>\n",
       "    </tr>\n",
       "    <tr>\n",
       "      <th>65226</th>\n",
       "      <td>84094</td>\n",
       "      <td>0</td>\n",
       "      <td>7.0</td>\n",
       "      <td>2016</td>\n",
       "      <td>December</td>\n",
       "      <td>53</td>\n",
       "      <td>31</td>\n",
       "      <td>2</td>\n",
       "      <td>4</td>\n",
       "      <td>2.0</td>\n",
       "      <td>...</td>\n",
       "      <td>0</td>\n",
       "      <td>0</td>\n",
       "      <td>0</td>\n",
       "      <td>D</td>\n",
       "      <td>0</td>\n",
       "      <td>0</td>\n",
       "      <td>Transient</td>\n",
       "      <td>0</td>\n",
       "      <td>1</td>\n",
       "      <td>6</td>\n",
       "    </tr>\n",
       "    <tr>\n",
       "      <th>65227</th>\n",
       "      <td>84117</td>\n",
       "      <td>0</td>\n",
       "      <td>17.0</td>\n",
       "      <td>2016</td>\n",
       "      <td>December</td>\n",
       "      <td>53</td>\n",
       "      <td>30</td>\n",
       "      <td>2</td>\n",
       "      <td>5</td>\n",
       "      <td>2.0</td>\n",
       "      <td>...</td>\n",
       "      <td>0</td>\n",
       "      <td>0</td>\n",
       "      <td>0</td>\n",
       "      <td>A</td>\n",
       "      <td>0</td>\n",
       "      <td>0</td>\n",
       "      <td>Transient</td>\n",
       "      <td>0</td>\n",
       "      <td>1</td>\n",
       "      <td>7</td>\n",
       "    </tr>\n",
       "    <tr>\n",
       "      <th>65228</th>\n",
       "      <td>84121</td>\n",
       "      <td>0</td>\n",
       "      <td>107.0</td>\n",
       "      <td>2016</td>\n",
       "      <td>December</td>\n",
       "      <td>53</td>\n",
       "      <td>31</td>\n",
       "      <td>2</td>\n",
       "      <td>5</td>\n",
       "      <td>2.0</td>\n",
       "      <td>...</td>\n",
       "      <td>0</td>\n",
       "      <td>0</td>\n",
       "      <td>0</td>\n",
       "      <td>A</td>\n",
       "      <td>0</td>\n",
       "      <td>0</td>\n",
       "      <td>Transient</td>\n",
       "      <td>0</td>\n",
       "      <td>0</td>\n",
       "      <td>7</td>\n",
       "    </tr>\n",
       "  </tbody>\n",
       "</table>\n",
       "<p>5 rows × 25 columns</p>\n",
       "</div>"
      ],
      "text/plain": [
       "          id  is_canceled  lead_time  arrival_date_year arrival_date_month  \\\n",
       "65224  84057            0       23.0               2016           December   \n",
       "65225  84063            0       53.0               2016           December   \n",
       "65226  84094            0        7.0               2016           December   \n",
       "65227  84117            0       17.0               2016           December   \n",
       "65228  84121            0      107.0               2016           December   \n",
       "\n",
       "       arrival_date_week_number  arrival_date_day_of_month  \\\n",
       "65224                        53                         30   \n",
       "65225                        53                         31   \n",
       "65226                        53                         31   \n",
       "65227                        53                         30   \n",
       "65228                        53                         31   \n",
       "\n",
       "       stays_in_weekend_nights  stays_in_week_nights  adults  ...  \\\n",
       "65224                        2                     4     2.0  ...   \n",
       "65225                        2                     3     2.0  ...   \n",
       "65226                        2                     4     2.0  ...   \n",
       "65227                        2                     5     2.0  ...   \n",
       "65228                        2                     5     2.0  ...   \n",
       "\n",
       "       is_repeated_guest  previous_cancellations  \\\n",
       "65224                  0                       0   \n",
       "65225                  0                       0   \n",
       "65226                  0                       0   \n",
       "65227                  0                       0   \n",
       "65228                  0                       0   \n",
       "\n",
       "      previous_bookings_not_canceled reserved_room_type booking_changes  \\\n",
       "65224                              0   D                              0   \n",
       "65225                              0   D                              0   \n",
       "65226                              0   D                              0   \n",
       "65227                              0   A                              0   \n",
       "65228                              0   A                              0   \n",
       "\n",
       "       days_in_waiting_list  customer_type  required_car_parking_spaces  \\\n",
       "65224                     0      Transient                            0   \n",
       "65225                     0      Transient                            0   \n",
       "65226                     0      Transient                            0   \n",
       "65227                     0      Transient                            0   \n",
       "65228                     0      Transient                            0   \n",
       "\n",
       "      total_of_special_requests  total_nights  \n",
       "65224                         2             6  \n",
       "65225                         3             5  \n",
       "65226                         1             6  \n",
       "65227                         1             7  \n",
       "65228                         0             7  \n",
       "\n",
       "[5 rows x 25 columns]"
      ]
     },
     "metadata": {},
     "output_type": "display_data"
    }
   ],
   "source": [
    "headtail(train)"
   ]
  },
  {
   "cell_type": "markdown",
   "metadata": {},
   "source": [
    "Наблюдаются качественные и количественные признаки. Фичей много. Вероятно - поле  индекс это ошибка выгрузки(id строки в таблице. Дату зачем-то разнесли по группе полей, ладно с этим разберемся позднее. Также среди фичей будут те, которые надо исключить ввиду мультиколлинеарности. также надо произвести стандатную проверку на дубликаты "
   ]
  },
  {
   "cell_type": "code",
   "execution_count": 9,
   "metadata": {},
   "outputs": [
    {
     "data": {
      "text/plain": [
       "'Head 5'"
      ]
     },
     "metadata": {},
     "output_type": "display_data"
    },
    {
     "data": {
      "text/html": [
       "<div>\n",
       "<style scoped>\n",
       "    .dataframe tbody tr th:only-of-type {\n",
       "        vertical-align: middle;\n",
       "    }\n",
       "\n",
       "    .dataframe tbody tr th {\n",
       "        vertical-align: top;\n",
       "    }\n",
       "\n",
       "    .dataframe thead th {\n",
       "        text-align: right;\n",
       "    }\n",
       "</style>\n",
       "<table border=\"1\" class=\"dataframe\">\n",
       "  <thead>\n",
       "    <tr style=\"text-align: right;\">\n",
       "      <th></th>\n",
       "      <th>id</th>\n",
       "      <th>is_canceled</th>\n",
       "      <th>lead_time</th>\n",
       "      <th>arrival_date_year</th>\n",
       "      <th>arrival_date_month</th>\n",
       "      <th>arrival_date_week_number</th>\n",
       "      <th>arrival_date_day_of_month</th>\n",
       "      <th>stays_in_weekend_nights</th>\n",
       "      <th>stays_in_week_nights</th>\n",
       "      <th>adults</th>\n",
       "      <th>...</th>\n",
       "      <th>is_repeated_guest</th>\n",
       "      <th>previous_cancellations</th>\n",
       "      <th>previous_bookings_not_canceled</th>\n",
       "      <th>reserved_room_type</th>\n",
       "      <th>booking_changes</th>\n",
       "      <th>days_in_waiting_list</th>\n",
       "      <th>customer_type</th>\n",
       "      <th>required_car_parking_spaces</th>\n",
       "      <th>total_of_special_requests</th>\n",
       "      <th>total_nights</th>\n",
       "    </tr>\n",
       "  </thead>\n",
       "  <tbody>\n",
       "    <tr>\n",
       "      <th>0</th>\n",
       "      <td>6086</td>\n",
       "      <td>1</td>\n",
       "      <td>74.0</td>\n",
       "      <td>2017</td>\n",
       "      <td>January</td>\n",
       "      <td>1</td>\n",
       "      <td>1</td>\n",
       "      <td>1</td>\n",
       "      <td>0</td>\n",
       "      <td>2.0</td>\n",
       "      <td>...</td>\n",
       "      <td>0</td>\n",
       "      <td>0</td>\n",
       "      <td>0</td>\n",
       "      <td>A</td>\n",
       "      <td>0</td>\n",
       "      <td>0</td>\n",
       "      <td>Transient</td>\n",
       "      <td>0</td>\n",
       "      <td>0</td>\n",
       "      <td>1</td>\n",
       "    </tr>\n",
       "    <tr>\n",
       "      <th>1</th>\n",
       "      <td>6087</td>\n",
       "      <td>1</td>\n",
       "      <td>62.0</td>\n",
       "      <td>2017</td>\n",
       "      <td>January</td>\n",
       "      <td>1</td>\n",
       "      <td>1</td>\n",
       "      <td>2</td>\n",
       "      <td>2</td>\n",
       "      <td>2.0</td>\n",
       "      <td>...</td>\n",
       "      <td>0</td>\n",
       "      <td>0</td>\n",
       "      <td>0</td>\n",
       "      <td>A</td>\n",
       "      <td>0</td>\n",
       "      <td>0</td>\n",
       "      <td>Transient</td>\n",
       "      <td>0</td>\n",
       "      <td>1</td>\n",
       "      <td>4</td>\n",
       "    </tr>\n",
       "    <tr>\n",
       "      <th>2</th>\n",
       "      <td>6088</td>\n",
       "      <td>1</td>\n",
       "      <td>62.0</td>\n",
       "      <td>2017</td>\n",
       "      <td>January</td>\n",
       "      <td>1</td>\n",
       "      <td>1</td>\n",
       "      <td>2</td>\n",
       "      <td>2</td>\n",
       "      <td>2.0</td>\n",
       "      <td>...</td>\n",
       "      <td>0</td>\n",
       "      <td>0</td>\n",
       "      <td>0</td>\n",
       "      <td>A</td>\n",
       "      <td>0</td>\n",
       "      <td>0</td>\n",
       "      <td>Transient</td>\n",
       "      <td>0</td>\n",
       "      <td>1</td>\n",
       "      <td>4</td>\n",
       "    </tr>\n",
       "    <tr>\n",
       "      <th>3</th>\n",
       "      <td>6089</td>\n",
       "      <td>1</td>\n",
       "      <td>71.0</td>\n",
       "      <td>2017</td>\n",
       "      <td>January</td>\n",
       "      <td>1</td>\n",
       "      <td>1</td>\n",
       "      <td>2</td>\n",
       "      <td>2</td>\n",
       "      <td>1.0</td>\n",
       "      <td>...</td>\n",
       "      <td>0</td>\n",
       "      <td>0</td>\n",
       "      <td>0</td>\n",
       "      <td>A</td>\n",
       "      <td>0</td>\n",
       "      <td>0</td>\n",
       "      <td>Transient</td>\n",
       "      <td>0</td>\n",
       "      <td>1</td>\n",
       "      <td>4</td>\n",
       "    </tr>\n",
       "    <tr>\n",
       "      <th>4</th>\n",
       "      <td>6090</td>\n",
       "      <td>1</td>\n",
       "      <td>172.0</td>\n",
       "      <td>2017</td>\n",
       "      <td>January</td>\n",
       "      <td>1</td>\n",
       "      <td>1</td>\n",
       "      <td>2</td>\n",
       "      <td>5</td>\n",
       "      <td>2.0</td>\n",
       "      <td>...</td>\n",
       "      <td>0</td>\n",
       "      <td>0</td>\n",
       "      <td>0</td>\n",
       "      <td>A</td>\n",
       "      <td>0</td>\n",
       "      <td>0</td>\n",
       "      <td>Transient</td>\n",
       "      <td>0</td>\n",
       "      <td>0</td>\n",
       "      <td>7</td>\n",
       "    </tr>\n",
       "  </tbody>\n",
       "</table>\n",
       "<p>5 rows × 25 columns</p>\n",
       "</div>"
      ],
      "text/plain": [
       "     id  is_canceled  lead_time  arrival_date_year arrival_date_month  \\\n",
       "0  6086            1       74.0               2017            January   \n",
       "1  6087            1       62.0               2017            January   \n",
       "2  6088            1       62.0               2017            January   \n",
       "3  6089            1       71.0               2017            January   \n",
       "4  6090            1      172.0               2017            January   \n",
       "\n",
       "   arrival_date_week_number  arrival_date_day_of_month  \\\n",
       "0                         1                          1   \n",
       "1                         1                          1   \n",
       "2                         1                          1   \n",
       "3                         1                          1   \n",
       "4                         1                          1   \n",
       "\n",
       "   stays_in_weekend_nights  stays_in_week_nights  adults  ...  \\\n",
       "0                        1                     0     2.0  ...   \n",
       "1                        2                     2     2.0  ...   \n",
       "2                        2                     2     2.0  ...   \n",
       "3                        2                     2     1.0  ...   \n",
       "4                        2                     5     2.0  ...   \n",
       "\n",
       "   is_repeated_guest  previous_cancellations previous_bookings_not_canceled  \\\n",
       "0                  0                       0                              0   \n",
       "1                  0                       0                              0   \n",
       "2                  0                       0                              0   \n",
       "3                  0                       0                              0   \n",
       "4                  0                       0                              0   \n",
       "\n",
       "  reserved_room_type booking_changes  days_in_waiting_list  customer_type  \\\n",
       "0   A                              0                     0      Transient   \n",
       "1   A                              0                     0      Transient   \n",
       "2   A                              0                     0      Transient   \n",
       "3   A                              0                     0      Transient   \n",
       "4   A                              0                     0      Transient   \n",
       "\n",
       "   required_car_parking_spaces total_of_special_requests  total_nights  \n",
       "0                            0                         0             1  \n",
       "1                            0                         1             4  \n",
       "2                            0                         1             4  \n",
       "3                            0                         1             4  \n",
       "4                            0                         0             7  \n",
       "\n",
       "[5 rows x 25 columns]"
      ]
     },
     "metadata": {},
     "output_type": "display_data"
    },
    {
     "data": {
      "text/plain": [
       "'Tail 5'"
      ]
     },
     "metadata": {},
     "output_type": "display_data"
    },
    {
     "data": {
      "text/html": [
       "<div>\n",
       "<style scoped>\n",
       "    .dataframe tbody tr th:only-of-type {\n",
       "        vertical-align: middle;\n",
       "    }\n",
       "\n",
       "    .dataframe tbody tr th {\n",
       "        vertical-align: top;\n",
       "    }\n",
       "\n",
       "    .dataframe thead th {\n",
       "        text-align: right;\n",
       "    }\n",
       "</style>\n",
       "<table border=\"1\" class=\"dataframe\">\n",
       "  <thead>\n",
       "    <tr style=\"text-align: right;\">\n",
       "      <th></th>\n",
       "      <th>id</th>\n",
       "      <th>is_canceled</th>\n",
       "      <th>lead_time</th>\n",
       "      <th>arrival_date_year</th>\n",
       "      <th>arrival_date_month</th>\n",
       "      <th>arrival_date_week_number</th>\n",
       "      <th>arrival_date_day_of_month</th>\n",
       "      <th>stays_in_weekend_nights</th>\n",
       "      <th>stays_in_week_nights</th>\n",
       "      <th>adults</th>\n",
       "      <th>...</th>\n",
       "      <th>is_repeated_guest</th>\n",
       "      <th>previous_cancellations</th>\n",
       "      <th>previous_bookings_not_canceled</th>\n",
       "      <th>reserved_room_type</th>\n",
       "      <th>booking_changes</th>\n",
       "      <th>days_in_waiting_list</th>\n",
       "      <th>customer_type</th>\n",
       "      <th>required_car_parking_spaces</th>\n",
       "      <th>total_of_special_requests</th>\n",
       "      <th>total_nights</th>\n",
       "    </tr>\n",
       "  </thead>\n",
       "  <tbody>\n",
       "    <tr>\n",
       "      <th>32407</th>\n",
       "      <td>97899</td>\n",
       "      <td>0</td>\n",
       "      <td>164.0</td>\n",
       "      <td>2017</td>\n",
       "      <td>August</td>\n",
       "      <td>35</td>\n",
       "      <td>31</td>\n",
       "      <td>2</td>\n",
       "      <td>4</td>\n",
       "      <td>2.0</td>\n",
       "      <td>...</td>\n",
       "      <td>0</td>\n",
       "      <td>0</td>\n",
       "      <td>0</td>\n",
       "      <td>A</td>\n",
       "      <td>0</td>\n",
       "      <td>0</td>\n",
       "      <td>Transient</td>\n",
       "      <td>0</td>\n",
       "      <td>0</td>\n",
       "      <td>6</td>\n",
       "    </tr>\n",
       "    <tr>\n",
       "      <th>32408</th>\n",
       "      <td>97900</td>\n",
       "      <td>0</td>\n",
       "      <td>21.0</td>\n",
       "      <td>2017</td>\n",
       "      <td>August</td>\n",
       "      <td>35</td>\n",
       "      <td>30</td>\n",
       "      <td>2</td>\n",
       "      <td>5</td>\n",
       "      <td>2.0</td>\n",
       "      <td>...</td>\n",
       "      <td>0</td>\n",
       "      <td>0</td>\n",
       "      <td>0</td>\n",
       "      <td>A</td>\n",
       "      <td>0</td>\n",
       "      <td>0</td>\n",
       "      <td>Transient</td>\n",
       "      <td>0</td>\n",
       "      <td>2</td>\n",
       "      <td>7</td>\n",
       "    </tr>\n",
       "    <tr>\n",
       "      <th>32409</th>\n",
       "      <td>97901</td>\n",
       "      <td>0</td>\n",
       "      <td>23.0</td>\n",
       "      <td>2017</td>\n",
       "      <td>August</td>\n",
       "      <td>35</td>\n",
       "      <td>30</td>\n",
       "      <td>2</td>\n",
       "      <td>5</td>\n",
       "      <td>2.0</td>\n",
       "      <td>...</td>\n",
       "      <td>0</td>\n",
       "      <td>0</td>\n",
       "      <td>0</td>\n",
       "      <td>A</td>\n",
       "      <td>0</td>\n",
       "      <td>0</td>\n",
       "      <td>Transient</td>\n",
       "      <td>0</td>\n",
       "      <td>0</td>\n",
       "      <td>7</td>\n",
       "    </tr>\n",
       "    <tr>\n",
       "      <th>32410</th>\n",
       "      <td>97902</td>\n",
       "      <td>0</td>\n",
       "      <td>34.0</td>\n",
       "      <td>2017</td>\n",
       "      <td>August</td>\n",
       "      <td>35</td>\n",
       "      <td>31</td>\n",
       "      <td>2</td>\n",
       "      <td>5</td>\n",
       "      <td>2.0</td>\n",
       "      <td>...</td>\n",
       "      <td>0</td>\n",
       "      <td>0</td>\n",
       "      <td>0</td>\n",
       "      <td>D</td>\n",
       "      <td>0</td>\n",
       "      <td>0</td>\n",
       "      <td>Transient</td>\n",
       "      <td>0</td>\n",
       "      <td>4</td>\n",
       "      <td>7</td>\n",
       "    </tr>\n",
       "    <tr>\n",
       "      <th>32411</th>\n",
       "      <td>97903</td>\n",
       "      <td>0</td>\n",
       "      <td>109.0</td>\n",
       "      <td>2017</td>\n",
       "      <td>August</td>\n",
       "      <td>35</td>\n",
       "      <td>31</td>\n",
       "      <td>2</td>\n",
       "      <td>5</td>\n",
       "      <td>2.0</td>\n",
       "      <td>...</td>\n",
       "      <td>0</td>\n",
       "      <td>0</td>\n",
       "      <td>0</td>\n",
       "      <td>A</td>\n",
       "      <td>0</td>\n",
       "      <td>0</td>\n",
       "      <td>Transient</td>\n",
       "      <td>0</td>\n",
       "      <td>0</td>\n",
       "      <td>7</td>\n",
       "    </tr>\n",
       "  </tbody>\n",
       "</table>\n",
       "<p>5 rows × 25 columns</p>\n",
       "</div>"
      ],
      "text/plain": [
       "          id  is_canceled  lead_time  arrival_date_year arrival_date_month  \\\n",
       "32407  97899            0      164.0               2017             August   \n",
       "32408  97900            0       21.0               2017             August   \n",
       "32409  97901            0       23.0               2017             August   \n",
       "32410  97902            0       34.0               2017             August   \n",
       "32411  97903            0      109.0               2017             August   \n",
       "\n",
       "       arrival_date_week_number  arrival_date_day_of_month  \\\n",
       "32407                        35                         31   \n",
       "32408                        35                         30   \n",
       "32409                        35                         30   \n",
       "32410                        35                         31   \n",
       "32411                        35                         31   \n",
       "\n",
       "       stays_in_weekend_nights  stays_in_week_nights  adults  ...  \\\n",
       "32407                        2                     4     2.0  ...   \n",
       "32408                        2                     5     2.0  ...   \n",
       "32409                        2                     5     2.0  ...   \n",
       "32410                        2                     5     2.0  ...   \n",
       "32411                        2                     5     2.0  ...   \n",
       "\n",
       "       is_repeated_guest  previous_cancellations  \\\n",
       "32407                  0                       0   \n",
       "32408                  0                       0   \n",
       "32409                  0                       0   \n",
       "32410                  0                       0   \n",
       "32411                  0                       0   \n",
       "\n",
       "      previous_bookings_not_canceled reserved_room_type booking_changes  \\\n",
       "32407                              0   A                              0   \n",
       "32408                              0   A                              0   \n",
       "32409                              0   A                              0   \n",
       "32410                              0   D                              0   \n",
       "32411                              0   A                              0   \n",
       "\n",
       "       days_in_waiting_list  customer_type  required_car_parking_spaces  \\\n",
       "32407                     0      Transient                            0   \n",
       "32408                     0      Transient                            0   \n",
       "32409                     0      Transient                            0   \n",
       "32410                     0      Transient                            0   \n",
       "32411                     0      Transient                            0   \n",
       "\n",
       "      total_of_special_requests  total_nights  \n",
       "32407                         0             6  \n",
       "32408                         2             7  \n",
       "32409                         0             7  \n",
       "32410                         4             7  \n",
       "32411                         0             7  \n",
       "\n",
       "[5 rows x 25 columns]"
      ]
     },
     "metadata": {},
     "output_type": "display_data"
    }
   ],
   "source": [
    "headtail(test)"
   ]
  },
  {
   "cell_type": "markdown",
   "metadata": {},
   "source": [
    "Что сразу бросается в глаза - поле id не подходит для индексации юзверя - индекс из таблицы (вероятно, ошибка при выгрузке). Поэтому данное поле идет в дроп, также массив состоит из категориальных и количественных переменных, также категориальные переменные представлены форматом типа bool"
   ]
  },
  {
   "cell_type": "markdown",
   "metadata": {},
   "source": [
    "Глянем на shape и dtype"
   ]
  },
  {
   "cell_type": "code",
   "execution_count": 10,
   "metadata": {},
   "outputs": [],
   "source": [
    "#Функция возвращает размеры датафрейма\n",
    "def decrupter(df):\n",
    "    print('В массиве',df.shape[0],'строк','и',df.shape[1],'столбцов' )"
   ]
  },
  {
   "cell_type": "code",
   "execution_count": 11,
   "metadata": {},
   "outputs": [
    {
     "name": "stdout",
     "output_type": "stream",
     "text": [
      "В массиве 65229 строк и 25 столбцов\n"
     ]
    }
   ],
   "source": [
    "decrupter(train)"
   ]
  },
  {
   "cell_type": "code",
   "execution_count": 12,
   "metadata": {},
   "outputs": [
    {
     "name": "stdout",
     "output_type": "stream",
     "text": [
      "В массиве 32412 строк и 25 столбцов\n"
     ]
    }
   ],
   "source": [
    "decrupter(test)"
   ]
  },
  {
   "cell_type": "markdown",
   "metadata": {},
   "source": [
    "Обучающая выборка примерно в 2 раза больше тестовой, хорошо"
   ]
  },
  {
   "cell_type": "code",
   "execution_count": 13,
   "metadata": {},
   "outputs": [],
   "source": [
    "def dtypes_mode(df):\n",
    "    print('Типы данных массива')\n",
    "    print(df.info())"
   ]
  },
  {
   "cell_type": "code",
   "execution_count": 14,
   "metadata": {},
   "outputs": [
    {
     "name": "stdout",
     "output_type": "stream",
     "text": [
      "Массив train\n",
      "Типы данных массива\n",
      "<class 'pandas.core.frame.DataFrame'>\n",
      "RangeIndex: 65229 entries, 0 to 65228\n",
      "Data columns (total 25 columns):\n",
      " #   Column                          Non-Null Count  Dtype  \n",
      "---  ------                          --------------  -----  \n",
      " 0   id                              65229 non-null  int64  \n",
      " 1   is_canceled                     65229 non-null  int64  \n",
      " 2   lead_time                       65229 non-null  float64\n",
      " 3   arrival_date_year               65229 non-null  int64  \n",
      " 4   arrival_date_month              65229 non-null  object \n",
      " 5   arrival_date_week_number        65229 non-null  int64  \n",
      " 6   arrival_date_day_of_month       65229 non-null  int64  \n",
      " 7   stays_in_weekend_nights         65229 non-null  int64  \n",
      " 8   stays_in_week_nights            65229 non-null  int64  \n",
      " 9   adults                          65229 non-null  float64\n",
      " 10  children                        65229 non-null  float64\n",
      " 11  babies                          65229 non-null  float64\n",
      " 12  meal                            65229 non-null  object \n",
      " 13  country                         65229 non-null  object \n",
      " 14  distribution_channel            65229 non-null  object \n",
      " 15  is_repeated_guest               65229 non-null  int64  \n",
      " 16  previous_cancellations          65229 non-null  int64  \n",
      " 17  previous_bookings_not_canceled  65229 non-null  int64  \n",
      " 18  reserved_room_type              65229 non-null  object \n",
      " 19  booking_changes                 65229 non-null  int64  \n",
      " 20  days_in_waiting_list            65229 non-null  int64  \n",
      " 21  customer_type                   65229 non-null  object \n",
      " 22  required_car_parking_spaces     65229 non-null  int64  \n",
      " 23  total_of_special_requests       65229 non-null  int64  \n",
      " 24  total_nights                    65229 non-null  int64  \n",
      "dtypes: float64(4), int64(15), object(6)\n",
      "memory usage: 12.4+ MB\n",
      "None\n"
     ]
    }
   ],
   "source": [
    "print('Массив train')\n",
    "dtypes_mode(train)"
   ]
  },
  {
   "cell_type": "code",
   "execution_count": 15,
   "metadata": {},
   "outputs": [
    {
     "name": "stdout",
     "output_type": "stream",
     "text": [
      "Массив test\n",
      "Типы данных массива\n",
      "<class 'pandas.core.frame.DataFrame'>\n",
      "RangeIndex: 32412 entries, 0 to 32411\n",
      "Data columns (total 25 columns):\n",
      " #   Column                          Non-Null Count  Dtype  \n",
      "---  ------                          --------------  -----  \n",
      " 0   id                              32412 non-null  int64  \n",
      " 1   is_canceled                     32412 non-null  int64  \n",
      " 2   lead_time                       32412 non-null  float64\n",
      " 3   arrival_date_year               32412 non-null  int64  \n",
      " 4   arrival_date_month              32412 non-null  object \n",
      " 5   arrival_date_week_number        32412 non-null  int64  \n",
      " 6   arrival_date_day_of_month       32412 non-null  int64  \n",
      " 7   stays_in_weekend_nights         32412 non-null  int64  \n",
      " 8   stays_in_week_nights            32412 non-null  int64  \n",
      " 9   adults                          32412 non-null  float64\n",
      " 10  children                        32412 non-null  float64\n",
      " 11  babies                          32412 non-null  float64\n",
      " 12  meal                            32412 non-null  object \n",
      " 13  country                         32412 non-null  object \n",
      " 14  distribution_channel            32412 non-null  object \n",
      " 15  is_repeated_guest               32412 non-null  int64  \n",
      " 16  previous_cancellations          32412 non-null  int64  \n",
      " 17  previous_bookings_not_canceled  32412 non-null  int64  \n",
      " 18  reserved_room_type              32412 non-null  object \n",
      " 19  booking_changes                 32412 non-null  int64  \n",
      " 20  days_in_waiting_list            32412 non-null  int64  \n",
      " 21  customer_type                   32412 non-null  object \n",
      " 22  required_car_parking_spaces     32412 non-null  int64  \n",
      " 23  total_of_special_requests       32412 non-null  int64  \n",
      " 24  total_nights                    32412 non-null  int64  \n",
      "dtypes: float64(4), int64(15), object(6)\n",
      "memory usage: 6.2+ MB\n",
      "None\n"
     ]
    }
   ],
   "source": [
    "print('Массив test')\n",
    "dtypes_mode(test)"
   ]
  },
  {
   "cell_type": "markdown",
   "metadata": {},
   "source": [
    "Что же, внешне массив выглядит нормально,пропусков нет. Глянем, что у нас по статистикам"
   ]
  },
  {
   "cell_type": "code",
   "execution_count": 16,
   "metadata": {},
   "outputs": [
    {
     "data": {
      "text/html": [
       "<div>\n",
       "<style scoped>\n",
       "    .dataframe tbody tr th:only-of-type {\n",
       "        vertical-align: middle;\n",
       "    }\n",
       "\n",
       "    .dataframe tbody tr th {\n",
       "        vertical-align: top;\n",
       "    }\n",
       "\n",
       "    .dataframe thead th {\n",
       "        text-align: right;\n",
       "    }\n",
       "</style>\n",
       "<table border=\"1\" class=\"dataframe\">\n",
       "  <thead>\n",
       "    <tr style=\"text-align: right;\">\n",
       "      <th></th>\n",
       "      <th>id</th>\n",
       "      <th>is_canceled</th>\n",
       "      <th>lead_time</th>\n",
       "      <th>arrival_date_year</th>\n",
       "      <th>arrival_date_week_number</th>\n",
       "      <th>arrival_date_day_of_month</th>\n",
       "      <th>stays_in_weekend_nights</th>\n",
       "      <th>stays_in_week_nights</th>\n",
       "      <th>adults</th>\n",
       "      <th>children</th>\n",
       "      <th>babies</th>\n",
       "      <th>is_repeated_guest</th>\n",
       "      <th>previous_cancellations</th>\n",
       "      <th>previous_bookings_not_canceled</th>\n",
       "      <th>booking_changes</th>\n",
       "      <th>days_in_waiting_list</th>\n",
       "      <th>required_car_parking_spaces</th>\n",
       "      <th>total_of_special_requests</th>\n",
       "      <th>total_nights</th>\n",
       "    </tr>\n",
       "  </thead>\n",
       "  <tbody>\n",
       "    <tr>\n",
       "      <th>count</th>\n",
       "      <td>65229.000000</td>\n",
       "      <td>65229.000000</td>\n",
       "      <td>65229.000000</td>\n",
       "      <td>65229.000000</td>\n",
       "      <td>65229.000000</td>\n",
       "      <td>65229.000000</td>\n",
       "      <td>65229.000000</td>\n",
       "      <td>65229.000000</td>\n",
       "      <td>65229.000000</td>\n",
       "      <td>65229.000000</td>\n",
       "      <td>65229.000000</td>\n",
       "      <td>65229.000000</td>\n",
       "      <td>65229.000000</td>\n",
       "      <td>65229.000000</td>\n",
       "      <td>65229.000000</td>\n",
       "      <td>65229.000000</td>\n",
       "      <td>65229.000000</td>\n",
       "      <td>65229.000000</td>\n",
       "      <td>65229.000000</td>\n",
       "    </tr>\n",
       "    <tr>\n",
       "      <th>mean</th>\n",
       "      <td>43544.069172</td>\n",
       "      <td>0.368609</td>\n",
       "      <td>96.337917</td>\n",
       "      <td>2015.719021</td>\n",
       "      <td>31.339772</td>\n",
       "      <td>15.847813</td>\n",
       "      <td>0.825185</td>\n",
       "      <td>2.224793</td>\n",
       "      <td>1.836576</td>\n",
       "      <td>0.074890</td>\n",
       "      <td>0.007236</td>\n",
       "      <td>0.027151</td>\n",
       "      <td>0.128915</td>\n",
       "      <td>0.107713</td>\n",
       "      <td>0.194269</td>\n",
       "      <td>3.334422</td>\n",
       "      <td>0.056647</td>\n",
       "      <td>0.512763</td>\n",
       "      <td>3.049978</td>\n",
       "    </tr>\n",
       "    <tr>\n",
       "      <th>std</th>\n",
       "      <td>25614.858971</td>\n",
       "      <td>0.482431</td>\n",
       "      <td>96.127545</td>\n",
       "      <td>0.449481</td>\n",
       "      <td>13.464024</td>\n",
       "      <td>8.748182</td>\n",
       "      <td>0.853477</td>\n",
       "      <td>1.354992</td>\n",
       "      <td>0.480245</td>\n",
       "      <td>0.334243</td>\n",
       "      <td>0.098790</td>\n",
       "      <td>0.162523</td>\n",
       "      <td>0.965326</td>\n",
       "      <td>1.326638</td>\n",
       "      <td>0.593838</td>\n",
       "      <td>18.239606</td>\n",
       "      <td>0.232094</td>\n",
       "      <td>0.752590</td>\n",
       "      <td>1.738108</td>\n",
       "    </tr>\n",
       "    <tr>\n",
       "      <th>min</th>\n",
       "      <td>0.000000</td>\n",
       "      <td>0.000000</td>\n",
       "      <td>0.000000</td>\n",
       "      <td>2015.000000</td>\n",
       "      <td>1.000000</td>\n",
       "      <td>1.000000</td>\n",
       "      <td>0.000000</td>\n",
       "      <td>0.000000</td>\n",
       "      <td>0.000000</td>\n",
       "      <td>0.000000</td>\n",
       "      <td>0.000000</td>\n",
       "      <td>0.000000</td>\n",
       "      <td>0.000000</td>\n",
       "      <td>0.000000</td>\n",
       "      <td>0.000000</td>\n",
       "      <td>0.000000</td>\n",
       "      <td>0.000000</td>\n",
       "      <td>0.000000</td>\n",
       "      <td>1.000000</td>\n",
       "    </tr>\n",
       "    <tr>\n",
       "      <th>25%</th>\n",
       "      <td>19108.000000</td>\n",
       "      <td>0.000000</td>\n",
       "      <td>17.000000</td>\n",
       "      <td>2015.000000</td>\n",
       "      <td>21.000000</td>\n",
       "      <td>8.000000</td>\n",
       "      <td>0.000000</td>\n",
       "      <td>1.000000</td>\n",
       "      <td>2.000000</td>\n",
       "      <td>0.000000</td>\n",
       "      <td>0.000000</td>\n",
       "      <td>0.000000</td>\n",
       "      <td>0.000000</td>\n",
       "      <td>0.000000</td>\n",
       "      <td>0.000000</td>\n",
       "      <td>0.000000</td>\n",
       "      <td>0.000000</td>\n",
       "      <td>0.000000</td>\n",
       "      <td>2.000000</td>\n",
       "    </tr>\n",
       "    <tr>\n",
       "      <th>50%</th>\n",
       "      <td>40554.000000</td>\n",
       "      <td>0.000000</td>\n",
       "      <td>64.000000</td>\n",
       "      <td>2016.000000</td>\n",
       "      <td>34.000000</td>\n",
       "      <td>16.000000</td>\n",
       "      <td>1.000000</td>\n",
       "      <td>2.000000</td>\n",
       "      <td>2.000000</td>\n",
       "      <td>0.000000</td>\n",
       "      <td>0.000000</td>\n",
       "      <td>0.000000</td>\n",
       "      <td>0.000000</td>\n",
       "      <td>0.000000</td>\n",
       "      <td>0.000000</td>\n",
       "      <td>0.000000</td>\n",
       "      <td>0.000000</td>\n",
       "      <td>0.000000</td>\n",
       "      <td>3.000000</td>\n",
       "    </tr>\n",
       "    <tr>\n",
       "      <th>75%</th>\n",
       "      <td>67414.000000</td>\n",
       "      <td>1.000000</td>\n",
       "      <td>151.000000</td>\n",
       "      <td>2016.000000</td>\n",
       "      <td>42.000000</td>\n",
       "      <td>23.000000</td>\n",
       "      <td>2.000000</td>\n",
       "      <td>3.000000</td>\n",
       "      <td>2.000000</td>\n",
       "      <td>0.000000</td>\n",
       "      <td>0.000000</td>\n",
       "      <td>0.000000</td>\n",
       "      <td>0.000000</td>\n",
       "      <td>0.000000</td>\n",
       "      <td>0.000000</td>\n",
       "      <td>0.000000</td>\n",
       "      <td>0.000000</td>\n",
       "      <td>1.000000</td>\n",
       "      <td>4.000000</td>\n",
       "    </tr>\n",
       "    <tr>\n",
       "      <th>max</th>\n",
       "      <td>84121.000000</td>\n",
       "      <td>1.000000</td>\n",
       "      <td>374.000000</td>\n",
       "      <td>2016.000000</td>\n",
       "      <td>53.000000</td>\n",
       "      <td>31.000000</td>\n",
       "      <td>4.000000</td>\n",
       "      <td>6.000000</td>\n",
       "      <td>4.000000</td>\n",
       "      <td>3.000000</td>\n",
       "      <td>10.000000</td>\n",
       "      <td>1.000000</td>\n",
       "      <td>26.000000</td>\n",
       "      <td>58.000000</td>\n",
       "      <td>17.000000</td>\n",
       "      <td>259.000000</td>\n",
       "      <td>3.000000</td>\n",
       "      <td>5.000000</td>\n",
       "      <td>10.000000</td>\n",
       "    </tr>\n",
       "  </tbody>\n",
       "</table>\n",
       "</div>"
      ],
      "text/plain": [
       "                 id   is_canceled     lead_time  arrival_date_year  \\\n",
       "count  65229.000000  65229.000000  65229.000000       65229.000000   \n",
       "mean   43544.069172      0.368609     96.337917        2015.719021   \n",
       "std    25614.858971      0.482431     96.127545           0.449481   \n",
       "min        0.000000      0.000000      0.000000        2015.000000   \n",
       "25%    19108.000000      0.000000     17.000000        2015.000000   \n",
       "50%    40554.000000      0.000000     64.000000        2016.000000   \n",
       "75%    67414.000000      1.000000    151.000000        2016.000000   \n",
       "max    84121.000000      1.000000    374.000000        2016.000000   \n",
       "\n",
       "       arrival_date_week_number  arrival_date_day_of_month  \\\n",
       "count              65229.000000               65229.000000   \n",
       "mean                  31.339772                  15.847813   \n",
       "std                   13.464024                   8.748182   \n",
       "min                    1.000000                   1.000000   \n",
       "25%                   21.000000                   8.000000   \n",
       "50%                   34.000000                  16.000000   \n",
       "75%                   42.000000                  23.000000   \n",
       "max                   53.000000                  31.000000   \n",
       "\n",
       "       stays_in_weekend_nights  stays_in_week_nights        adults  \\\n",
       "count             65229.000000          65229.000000  65229.000000   \n",
       "mean                  0.825185              2.224793      1.836576   \n",
       "std                   0.853477              1.354992      0.480245   \n",
       "min                   0.000000              0.000000      0.000000   \n",
       "25%                   0.000000              1.000000      2.000000   \n",
       "50%                   1.000000              2.000000      2.000000   \n",
       "75%                   2.000000              3.000000      2.000000   \n",
       "max                   4.000000              6.000000      4.000000   \n",
       "\n",
       "           children        babies  is_repeated_guest  previous_cancellations  \\\n",
       "count  65229.000000  65229.000000       65229.000000            65229.000000   \n",
       "mean       0.074890      0.007236           0.027151                0.128915   \n",
       "std        0.334243      0.098790           0.162523                0.965326   \n",
       "min        0.000000      0.000000           0.000000                0.000000   \n",
       "25%        0.000000      0.000000           0.000000                0.000000   \n",
       "50%        0.000000      0.000000           0.000000                0.000000   \n",
       "75%        0.000000      0.000000           0.000000                0.000000   \n",
       "max        3.000000     10.000000           1.000000               26.000000   \n",
       "\n",
       "       previous_bookings_not_canceled  booking_changes  days_in_waiting_list  \\\n",
       "count                    65229.000000     65229.000000          65229.000000   \n",
       "mean                         0.107713         0.194269              3.334422   \n",
       "std                          1.326638         0.593838             18.239606   \n",
       "min                          0.000000         0.000000              0.000000   \n",
       "25%                          0.000000         0.000000              0.000000   \n",
       "50%                          0.000000         0.000000              0.000000   \n",
       "75%                          0.000000         0.000000              0.000000   \n",
       "max                         58.000000        17.000000            259.000000   \n",
       "\n",
       "       required_car_parking_spaces  total_of_special_requests  total_nights  \n",
       "count                 65229.000000               65229.000000  65229.000000  \n",
       "mean                      0.056647                   0.512763      3.049978  \n",
       "std                       0.232094                   0.752590      1.738108  \n",
       "min                       0.000000                   0.000000      1.000000  \n",
       "25%                       0.000000                   0.000000      2.000000  \n",
       "50%                       0.000000                   0.000000      3.000000  \n",
       "75%                       0.000000                   1.000000      4.000000  \n",
       "max                       3.000000                   5.000000     10.000000  "
      ]
     },
     "execution_count": 16,
     "metadata": {},
     "output_type": "execute_result"
    }
   ],
   "source": [
    "train.describe()"
   ]
  },
  {
   "cell_type": "code",
   "execution_count": 17,
   "metadata": {},
   "outputs": [
    {
     "data": {
      "text/html": [
       "<div>\n",
       "<style scoped>\n",
       "    .dataframe tbody tr th:only-of-type {\n",
       "        vertical-align: middle;\n",
       "    }\n",
       "\n",
       "    .dataframe tbody tr th {\n",
       "        vertical-align: top;\n",
       "    }\n",
       "\n",
       "    .dataframe thead th {\n",
       "        text-align: right;\n",
       "    }\n",
       "</style>\n",
       "<table border=\"1\" class=\"dataframe\">\n",
       "  <thead>\n",
       "    <tr style=\"text-align: right;\">\n",
       "      <th></th>\n",
       "      <th>id</th>\n",
       "      <th>is_canceled</th>\n",
       "      <th>lead_time</th>\n",
       "      <th>arrival_date_year</th>\n",
       "      <th>arrival_date_week_number</th>\n",
       "      <th>arrival_date_day_of_month</th>\n",
       "      <th>stays_in_weekend_nights</th>\n",
       "      <th>stays_in_week_nights</th>\n",
       "      <th>adults</th>\n",
       "      <th>children</th>\n",
       "      <th>babies</th>\n",
       "      <th>is_repeated_guest</th>\n",
       "      <th>previous_cancellations</th>\n",
       "      <th>previous_bookings_not_canceled</th>\n",
       "      <th>booking_changes</th>\n",
       "      <th>days_in_waiting_list</th>\n",
       "      <th>required_car_parking_spaces</th>\n",
       "      <th>total_of_special_requests</th>\n",
       "      <th>total_nights</th>\n",
       "    </tr>\n",
       "  </thead>\n",
       "  <tbody>\n",
       "    <tr>\n",
       "      <th>count</th>\n",
       "      <td>32412.000000</td>\n",
       "      <td>32412.000000</td>\n",
       "      <td>32412.000000</td>\n",
       "      <td>32412.0</td>\n",
       "      <td>32412.000000</td>\n",
       "      <td>32412.000000</td>\n",
       "      <td>32412.000000</td>\n",
       "      <td>32412.00000</td>\n",
       "      <td>32412.000000</td>\n",
       "      <td>32412.000000</td>\n",
       "      <td>32412.000000</td>\n",
       "      <td>32412.000000</td>\n",
       "      <td>32412.000000</td>\n",
       "      <td>32412.000000</td>\n",
       "      <td>32412.000000</td>\n",
       "      <td>32412.000000</td>\n",
       "      <td>32412.000000</td>\n",
       "      <td>32412.000000</td>\n",
       "      <td>32412.000000</td>\n",
       "    </tr>\n",
       "    <tr>\n",
       "      <th>mean</th>\n",
       "      <td>60131.505183</td>\n",
       "      <td>0.388467</td>\n",
       "      <td>97.587869</td>\n",
       "      <td>2017.0</td>\n",
       "      <td>17.804054</td>\n",
       "      <td>15.656948</td>\n",
       "      <td>0.867888</td>\n",
       "      <td>2.34009</td>\n",
       "      <td>1.858602</td>\n",
       "      <td>0.083765</td>\n",
       "      <td>0.005523</td>\n",
       "      <td>0.031377</td>\n",
       "      <td>0.011601</td>\n",
       "      <td>0.171418</td>\n",
       "      <td>0.216741</td>\n",
       "      <td>0.262341</td>\n",
       "      <td>0.046248</td>\n",
       "      <td>0.657781</td>\n",
       "      <td>3.207979</td>\n",
       "    </tr>\n",
       "    <tr>\n",
       "      <th>std</th>\n",
       "      <td>29953.586177</td>\n",
       "      <td>0.487409</td>\n",
       "      <td>86.507146</td>\n",
       "      <td>0.0</td>\n",
       "      <td>9.177384</td>\n",
       "      <td>8.766429</td>\n",
       "      <td>0.853394</td>\n",
       "      <td>1.37517</td>\n",
       "      <td>0.489341</td>\n",
       "      <td>0.343470</td>\n",
       "      <td>0.075757</td>\n",
       "      <td>0.174338</td>\n",
       "      <td>0.180473</td>\n",
       "      <td>1.875170</td>\n",
       "      <td>0.640551</td>\n",
       "      <td>4.733027</td>\n",
       "      <td>0.219367</td>\n",
       "      <td>0.834341</td>\n",
       "      <td>1.738683</td>\n",
       "    </tr>\n",
       "    <tr>\n",
       "      <th>min</th>\n",
       "      <td>6086.000000</td>\n",
       "      <td>0.000000</td>\n",
       "      <td>0.000000</td>\n",
       "      <td>2017.0</td>\n",
       "      <td>1.000000</td>\n",
       "      <td>1.000000</td>\n",
       "      <td>0.000000</td>\n",
       "      <td>0.00000</td>\n",
       "      <td>0.000000</td>\n",
       "      <td>0.000000</td>\n",
       "      <td>0.000000</td>\n",
       "      <td>0.000000</td>\n",
       "      <td>0.000000</td>\n",
       "      <td>0.000000</td>\n",
       "      <td>0.000000</td>\n",
       "      <td>0.000000</td>\n",
       "      <td>0.000000</td>\n",
       "      <td>0.000000</td>\n",
       "      <td>1.000000</td>\n",
       "    </tr>\n",
       "    <tr>\n",
       "      <th>25%</th>\n",
       "      <td>45291.750000</td>\n",
       "      <td>0.000000</td>\n",
       "      <td>23.000000</td>\n",
       "      <td>2017.0</td>\n",
       "      <td>10.000000</td>\n",
       "      <td>8.000000</td>\n",
       "      <td>0.000000</td>\n",
       "      <td>1.00000</td>\n",
       "      <td>2.000000</td>\n",
       "      <td>0.000000</td>\n",
       "      <td>0.000000</td>\n",
       "      <td>0.000000</td>\n",
       "      <td>0.000000</td>\n",
       "      <td>0.000000</td>\n",
       "      <td>0.000000</td>\n",
       "      <td>0.000000</td>\n",
       "      <td>0.000000</td>\n",
       "      <td>0.000000</td>\n",
       "      <td>2.000000</td>\n",
       "    </tr>\n",
       "    <tr>\n",
       "      <th>50%</th>\n",
       "      <td>53394.500000</td>\n",
       "      <td>0.000000</td>\n",
       "      <td>76.000000</td>\n",
       "      <td>2017.0</td>\n",
       "      <td>18.000000</td>\n",
       "      <td>15.500000</td>\n",
       "      <td>1.000000</td>\n",
       "      <td>2.00000</td>\n",
       "      <td>2.000000</td>\n",
       "      <td>0.000000</td>\n",
       "      <td>0.000000</td>\n",
       "      <td>0.000000</td>\n",
       "      <td>0.000000</td>\n",
       "      <td>0.000000</td>\n",
       "      <td>0.000000</td>\n",
       "      <td>0.000000</td>\n",
       "      <td>0.000000</td>\n",
       "      <td>0.000000</td>\n",
       "      <td>3.000000</td>\n",
       "    </tr>\n",
       "    <tr>\n",
       "      <th>75%</th>\n",
       "      <td>89800.250000</td>\n",
       "      <td>1.000000</td>\n",
       "      <td>155.000000</td>\n",
       "      <td>2017.0</td>\n",
       "      <td>25.000000</td>\n",
       "      <td>23.000000</td>\n",
       "      <td>2.000000</td>\n",
       "      <td>3.00000</td>\n",
       "      <td>2.000000</td>\n",
       "      <td>0.000000</td>\n",
       "      <td>0.000000</td>\n",
       "      <td>0.000000</td>\n",
       "      <td>0.000000</td>\n",
       "      <td>0.000000</td>\n",
       "      <td>0.000000</td>\n",
       "      <td>0.000000</td>\n",
       "      <td>0.000000</td>\n",
       "      <td>1.000000</td>\n",
       "      <td>4.000000</td>\n",
       "    </tr>\n",
       "    <tr>\n",
       "      <th>max</th>\n",
       "      <td>97903.000000</td>\n",
       "      <td>1.000000</td>\n",
       "      <td>373.000000</td>\n",
       "      <td>2017.0</td>\n",
       "      <td>35.000000</td>\n",
       "      <td>31.000000</td>\n",
       "      <td>4.000000</td>\n",
       "      <td>6.00000</td>\n",
       "      <td>4.000000</td>\n",
       "      <td>3.000000</td>\n",
       "      <td>2.000000</td>\n",
       "      <td>1.000000</td>\n",
       "      <td>6.000000</td>\n",
       "      <td>72.000000</td>\n",
       "      <td>18.000000</td>\n",
       "      <td>223.000000</td>\n",
       "      <td>8.000000</td>\n",
       "      <td>5.000000</td>\n",
       "      <td>10.000000</td>\n",
       "    </tr>\n",
       "  </tbody>\n",
       "</table>\n",
       "</div>"
      ],
      "text/plain": [
       "                 id   is_canceled     lead_time  arrival_date_year  \\\n",
       "count  32412.000000  32412.000000  32412.000000            32412.0   \n",
       "mean   60131.505183      0.388467     97.587869             2017.0   \n",
       "std    29953.586177      0.487409     86.507146                0.0   \n",
       "min     6086.000000      0.000000      0.000000             2017.0   \n",
       "25%    45291.750000      0.000000     23.000000             2017.0   \n",
       "50%    53394.500000      0.000000     76.000000             2017.0   \n",
       "75%    89800.250000      1.000000    155.000000             2017.0   \n",
       "max    97903.000000      1.000000    373.000000             2017.0   \n",
       "\n",
       "       arrival_date_week_number  arrival_date_day_of_month  \\\n",
       "count              32412.000000               32412.000000   \n",
       "mean                  17.804054                  15.656948   \n",
       "std                    9.177384                   8.766429   \n",
       "min                    1.000000                   1.000000   \n",
       "25%                   10.000000                   8.000000   \n",
       "50%                   18.000000                  15.500000   \n",
       "75%                   25.000000                  23.000000   \n",
       "max                   35.000000                  31.000000   \n",
       "\n",
       "       stays_in_weekend_nights  stays_in_week_nights        adults  \\\n",
       "count             32412.000000           32412.00000  32412.000000   \n",
       "mean                  0.867888               2.34009      1.858602   \n",
       "std                   0.853394               1.37517      0.489341   \n",
       "min                   0.000000               0.00000      0.000000   \n",
       "25%                   0.000000               1.00000      2.000000   \n",
       "50%                   1.000000               2.00000      2.000000   \n",
       "75%                   2.000000               3.00000      2.000000   \n",
       "max                   4.000000               6.00000      4.000000   \n",
       "\n",
       "           children        babies  is_repeated_guest  previous_cancellations  \\\n",
       "count  32412.000000  32412.000000       32412.000000            32412.000000   \n",
       "mean       0.083765      0.005523           0.031377                0.011601   \n",
       "std        0.343470      0.075757           0.174338                0.180473   \n",
       "min        0.000000      0.000000           0.000000                0.000000   \n",
       "25%        0.000000      0.000000           0.000000                0.000000   \n",
       "50%        0.000000      0.000000           0.000000                0.000000   \n",
       "75%        0.000000      0.000000           0.000000                0.000000   \n",
       "max        3.000000      2.000000           1.000000                6.000000   \n",
       "\n",
       "       previous_bookings_not_canceled  booking_changes  days_in_waiting_list  \\\n",
       "count                    32412.000000     32412.000000          32412.000000   \n",
       "mean                         0.171418         0.216741              0.262341   \n",
       "std                          1.875170         0.640551              4.733027   \n",
       "min                          0.000000         0.000000              0.000000   \n",
       "25%                          0.000000         0.000000              0.000000   \n",
       "50%                          0.000000         0.000000              0.000000   \n",
       "75%                          0.000000         0.000000              0.000000   \n",
       "max                         72.000000        18.000000            223.000000   \n",
       "\n",
       "       required_car_parking_spaces  total_of_special_requests  total_nights  \n",
       "count                 32412.000000               32412.000000  32412.000000  \n",
       "mean                      0.046248                   0.657781      3.207979  \n",
       "std                       0.219367                   0.834341      1.738683  \n",
       "min                       0.000000                   0.000000      1.000000  \n",
       "25%                       0.000000                   0.000000      2.000000  \n",
       "50%                       0.000000                   0.000000      3.000000  \n",
       "75%                       0.000000                   1.000000      4.000000  \n",
       "max                       8.000000                   5.000000     10.000000  "
      ]
     },
     "execution_count": 17,
     "metadata": {},
     "output_type": "execute_result"
    }
   ],
   "source": [
    "test.describe()"
   ]
  },
  {
   "cell_type": "markdown",
   "metadata": {},
   "source": [
    "Число признаков типа numeric без исключения bool, а также date"
   ]
  },
  {
   "cell_type": "code",
   "execution_count": 18,
   "metadata": {},
   "outputs": [
    {
     "name": "stdout",
     "output_type": "stream",
     "text": [
      "В массиве 8 строк и 19 столбцов\n"
     ]
    }
   ],
   "source": [
    "decrupter(train.describe())"
   ]
  },
  {
   "cell_type": "markdown",
   "metadata": {},
   "source": [
    "Число признаков типа numeric без исключения bool,а также date для массива train 8 фичей"
   ]
  },
  {
   "cell_type": "code",
   "execution_count": 19,
   "metadata": {},
   "outputs": [
    {
     "name": "stdout",
     "output_type": "stream",
     "text": [
      "В массиве 8 строк и 19 столбцов\n"
     ]
    }
   ],
   "source": [
    "decrupter(test.describe())"
   ]
  },
  {
   "cell_type": "markdown",
   "metadata": {},
   "source": [
    "Число признаков типа numeric без исключения bool,а также date для массива test 8 фичей"
   ]
  },
  {
   "cell_type": "markdown",
   "metadata": {},
   "source": [
    "Проверим записи на дубли"
   ]
  },
  {
   "cell_type": "code",
   "execution_count": 20,
   "metadata": {},
   "outputs": [
    {
     "data": {
      "text/plain": [
       "0"
      ]
     },
     "execution_count": 20,
     "metadata": {},
     "output_type": "execute_result"
    }
   ],
   "source": [
    "train.duplicated().sum()"
   ]
  },
  {
   "cell_type": "code",
   "execution_count": 21,
   "metadata": {},
   "outputs": [
    {
     "data": {
      "text/plain": [
       "0"
      ]
     },
     "execution_count": 21,
     "metadata": {},
     "output_type": "execute_result"
    }
   ],
   "source": [
    "test.duplicated().sum()"
   ]
  },
  {
   "cell_type": "markdown",
   "metadata": {},
   "source": [
    "Проверим на дубликаты по id"
   ]
  },
  {
   "cell_type": "code",
   "execution_count": 22,
   "metadata": {},
   "outputs": [
    {
     "data": {
      "text/plain": [
       "0"
      ]
     },
     "execution_count": 22,
     "metadata": {},
     "output_type": "execute_result"
    }
   ],
   "source": [
    "train['id'].duplicated().sum()"
   ]
  },
  {
   "cell_type": "code",
   "execution_count": 23,
   "metadata": {},
   "outputs": [
    {
     "data": {
      "text/plain": [
       "0"
      ]
     },
     "execution_count": 23,
     "metadata": {},
     "output_type": "execute_result"
    }
   ],
   "source": [
    "test['id'].duplicated().sum()"
   ]
  },
  {
   "cell_type": "markdown",
   "metadata": {},
   "source": [
    "Для удобства добавим расшифровку полей из задания"
   ]
  },
  {
   "cell_type": "markdown",
   "metadata": {},
   "source": [
    "В таблицах `hotel_train` и `hotel_test` содержатся следующие столбцы:\n",
    "\n",
    "1. `id` — номер записи.\n",
    "\n",
    "2. `adults` — количество взрослых постояльцев.\n",
    "\n",
    "3. `arrival_date_year` — год заезда.\n",
    "\n",
    "4. `arrival_date_month` — месяц заезда.\n",
    "\n",
    "5. `arrival_date_week_number` — номер недели заезда.\n",
    "\n",
    "6. `arrival_date_day_of_month` — день заезда.\n",
    "\n",
    "7. `babies` — количество младенцев.\n",
    "\n",
    "8. `booking_changes` — количество изменений параметров заказа.\n",
    "\n",
    "9. `children` — количество детей от 3 до 14 лет.\n",
    "\n",
    "10. `country` — гражданство постояльца.\n",
    "\n",
    "11. `customer_type` — тип заказчика:\n",
    "   - `Contract` — договор с юридическим лицом;\n",
    "   - `Group` — групповой заезд;\n",
    "   - `Transient` — не связано с договором или групповым заездом;\n",
    "   - `Transient-party` — не связано с договором или групповым заездом, но связано с бронированием типа `Transient`.\n",
    "\n",
    "12. `days_in_waiting_list` — количество дней, в течение которых заказ ожидал подтверждения.\n",
    "\n",
    "13. `distribution_channel` — канал дистрибуции заказа.\n",
    "\n",
    "14. `is_canceled` — признак отмены заказа.\n",
    "\n",
    "15. `is_repeated_guest` — признак того, что гость бронирует номер второй раз.\n",
    "\n",
    "16. `lead_time` — количество дней между датой бронирования и датой прибытия.\n",
    "\n",
    "17. `meal` — опции заказа:\n",
    "    - `SC` — нет дополнительных опций;\n",
    "    - `BB` — включён завтрак;\n",
    "    - `HB` — включён завтрак и обед;\n",
    "    - `FB` — включён завтрак, обед и ужин.\n",
    "\n",
    "18. `previous_bookings_not_canceled` — количество подтверждённых заказов у клиента.\n",
    "\n",
    "19. `previous_cancellations` — количество отменённых заказов у клиента.\n",
    "\n",
    "20. `required_car_parking_spaces` — необходимость места для автомобиля.\n",
    "\n",
    "21. `reserved_room_type` — тип забронированной комнаты.\n",
    "\n",
    "22. `stays_in_weekend_nights` — количество ночей в выходные дни.\n",
    "\n",
    "23. `stays_in_week_nights` — количество ночей в будние дни.\n",
    "\n",
    "24. `total_nights` — общее количество ночей.\n",
    "\n",
    "25. `total_of_special_requests` — количество специальных отметок.\n",
    "\n",
    "Эти данные представляют информацию о бронировании отелей и содержат различные характеристики постояльцев, условия бронирования и статистические данные, которые могут быть полезными для анализа и построения моделей."
   ]
  },
  {
   "cell_type": "markdown",
   "metadata": {},
   "source": [
    "Видим мы также категории признаков не относящиеся конкретно к юзеру, а касающиеся, например, условий проживания, типа заезда и так далее\n"
   ]
  },
  {
   "cell_type": "markdown",
   "metadata": {},
   "source": [
    "Целевой признак is_canceled"
   ]
  },
  {
   "cell_type": "markdown",
   "metadata": {},
   "source": [
    "Сделаем его визуализацию для двух массивов"
   ]
  },
  {
   "cell_type": "code",
   "execution_count": 24,
   "metadata": {},
   "outputs": [],
   "source": [
    "def visualpt1(df):\n",
    "    ((df['is_canceled'].value_counts(normalize=True))*100).plot(kind='bar').set_title(\n",
    "    'Доли отмененных заявок 0- нет, 1 - да, в %')\n",
    "    plt.show()"
   ]
  },
  {
   "cell_type": "code",
   "execution_count": 25,
   "metadata": {},
   "outputs": [
    {
     "name": "stdout",
     "output_type": "stream",
     "text": [
      "Тренировочный массив\n"
     ]
    },
    {
     "data": {
      "image/png": "[encoded data removed]",
      "text/plain": [
       "<Figure size 432x288 with 1 Axes>"
      ]
     },
     "metadata": {
      "needs_background": "light"
     },
     "output_type": "display_data"
    }
   ],
   "source": [
    "print('Тренировочный массив')\n",
    "visualpt1(train)"
   ]
  },
  {
   "cell_type": "code",
   "execution_count": 26,
   "metadata": {},
   "outputs": [
    {
     "name": "stdout",
     "output_type": "stream",
     "text": [
      "Тестовый массив\n"
     ]
    },
    {
     "data": {
      "image/png": "[encoded data removed]",
      "text/plain": [
       "<Figure size 432x288 with 1 Axes>"
      ]
     },
     "metadata": {
      "needs_background": "light"
     },
     "output_type": "display_data"
    }
   ],
   "source": [
    "print('Тестовый массив')\n",
    "visualpt1(test)"
   ]
  },
  {
   "cell_type": "markdown",
   "metadata": {},
   "source": [
    "Соотношение отменных заявок и действующих одинаково как для train так и для test"
   ]
  },
  {
   "cell_type": "markdown",
   "metadata": {},
   "source": [
    "произведем категоризацию атрибутов. Разделим на группы по целевому признаку на данные с 1 и 0"
   ]
  },
  {
   "cell_type": "code",
   "execution_count": 27,
   "metadata": {},
   "outputs": [],
   "source": [
    "train1=train[train['is_canceled']==1]# массив с отмененными заявками из train"
   ]
  },
  {
   "cell_type": "code",
   "execution_count": 28,
   "metadata": {},
   "outputs": [],
   "source": [
    "train0=train[train['is_canceled']==0]# массив с действующими заявками из train"
   ]
  },
  {
   "cell_type": "markdown",
   "metadata": {},
   "source": [
    "Следющим действием рассмотрим различие между данными в этих подгруппах "
   ]
  },
  {
   "cell_type": "code",
   "execution_count": 29,
   "metadata": {},
   "outputs": [
    {
     "data": {
      "text/html": [
       "<div>\n",
       "<style scoped>\n",
       "    .dataframe tbody tr th:only-of-type {\n",
       "        vertical-align: middle;\n",
       "    }\n",
       "\n",
       "    .dataframe tbody tr th {\n",
       "        vertical-align: top;\n",
       "    }\n",
       "\n",
       "    .dataframe thead th {\n",
       "        text-align: right;\n",
       "    }\n",
       "</style>\n",
       "<table border=\"1\" class=\"dataframe\">\n",
       "  <thead>\n",
       "    <tr style=\"text-align: right;\">\n",
       "      <th></th>\n",
       "      <th>id</th>\n",
       "      <th>is_canceled</th>\n",
       "      <th>lead_time</th>\n",
       "      <th>arrival_date_year</th>\n",
       "      <th>arrival_date_week_number</th>\n",
       "      <th>arrival_date_day_of_month</th>\n",
       "      <th>stays_in_weekend_nights</th>\n",
       "      <th>stays_in_week_nights</th>\n",
       "      <th>adults</th>\n",
       "      <th>children</th>\n",
       "      <th>babies</th>\n",
       "      <th>is_repeated_guest</th>\n",
       "      <th>previous_cancellations</th>\n",
       "      <th>previous_bookings_not_canceled</th>\n",
       "      <th>booking_changes</th>\n",
       "      <th>days_in_waiting_list</th>\n",
       "      <th>required_car_parking_spaces</th>\n",
       "      <th>total_of_special_requests</th>\n",
       "      <th>total_nights</th>\n",
       "    </tr>\n",
       "  </thead>\n",
       "  <tbody>\n",
       "    <tr>\n",
       "      <th>count</th>\n",
       "      <td>24044.000000</td>\n",
       "      <td>24044.0</td>\n",
       "      <td>24044.000000</td>\n",
       "      <td>24044.000000</td>\n",
       "      <td>24044.000000</td>\n",
       "      <td>24044.000000</td>\n",
       "      <td>24044.000000</td>\n",
       "      <td>24044.000000</td>\n",
       "      <td>24044.000000</td>\n",
       "      <td>24044.000000</td>\n",
       "      <td>24044.00000</td>\n",
       "      <td>24044.000000</td>\n",
       "      <td>24044.000000</td>\n",
       "      <td>24044.000000</td>\n",
       "      <td>24044.000000</td>\n",
       "      <td>24044.000000</td>\n",
       "      <td>24044.0</td>\n",
       "      <td>24044.000000</td>\n",
       "      <td>24044.000000</td>\n",
       "    </tr>\n",
       "    <tr>\n",
       "      <th>mean</th>\n",
       "      <td>35434.304691</td>\n",
       "      <td>1.0</td>\n",
       "      <td>137.621070</td>\n",
       "      <td>2015.700882</td>\n",
       "      <td>31.566545</td>\n",
       "      <td>15.826027</td>\n",
       "      <td>0.809807</td>\n",
       "      <td>2.243678</td>\n",
       "      <td>1.864956</td>\n",
       "      <td>0.067127</td>\n",
       "      <td>0.00341</td>\n",
       "      <td>0.018591</td>\n",
       "      <td>0.322243</td>\n",
       "      <td>0.028614</td>\n",
       "      <td>0.083181</td>\n",
       "      <td>5.145026</td>\n",
       "      <td>0.0</td>\n",
       "      <td>0.259566</td>\n",
       "      <td>3.053485</td>\n",
       "    </tr>\n",
       "    <tr>\n",
       "      <th>std</th>\n",
       "      <td>17544.975634</td>\n",
       "      <td>0.0</td>\n",
       "      <td>105.403765</td>\n",
       "      <td>0.457881</td>\n",
       "      <td>12.826655</td>\n",
       "      <td>8.737868</td>\n",
       "      <td>0.851764</td>\n",
       "      <td>1.279435</td>\n",
       "      <td>0.439328</td>\n",
       "      <td>0.323597</td>\n",
       "      <td>0.05830</td>\n",
       "      <td>0.135078</td>\n",
       "      <td>1.516086</td>\n",
       "      <td>0.814754</td>\n",
       "      <td>0.427968</td>\n",
       "      <td>20.748514</td>\n",
       "      <td>0.0</td>\n",
       "      <td>0.594623</td>\n",
       "      <td>1.639025</td>\n",
       "    </tr>\n",
       "    <tr>\n",
       "      <th>min</th>\n",
       "      <td>4.000000</td>\n",
       "      <td>1.0</td>\n",
       "      <td>0.000000</td>\n",
       "      <td>2015.000000</td>\n",
       "      <td>1.000000</td>\n",
       "      <td>1.000000</td>\n",
       "      <td>0.000000</td>\n",
       "      <td>0.000000</td>\n",
       "      <td>0.000000</td>\n",
       "      <td>0.000000</td>\n",
       "      <td>0.00000</td>\n",
       "      <td>0.000000</td>\n",
       "      <td>0.000000</td>\n",
       "      <td>0.000000</td>\n",
       "      <td>0.000000</td>\n",
       "      <td>0.000000</td>\n",
       "      <td>0.0</td>\n",
       "      <td>0.000000</td>\n",
       "      <td>1.000000</td>\n",
       "    </tr>\n",
       "    <tr>\n",
       "      <th>25%</th>\n",
       "      <td>29400.750000</td>\n",
       "      <td>1.0</td>\n",
       "      <td>45.000000</td>\n",
       "      <td>2015.000000</td>\n",
       "      <td>22.000000</td>\n",
       "      <td>8.000000</td>\n",
       "      <td>0.000000</td>\n",
       "      <td>1.000000</td>\n",
       "      <td>2.000000</td>\n",
       "      <td>0.000000</td>\n",
       "      <td>0.00000</td>\n",
       "      <td>0.000000</td>\n",
       "      <td>0.000000</td>\n",
       "      <td>0.000000</td>\n",
       "      <td>0.000000</td>\n",
       "      <td>0.000000</td>\n",
       "      <td>0.0</td>\n",
       "      <td>0.000000</td>\n",
       "      <td>2.000000</td>\n",
       "    </tr>\n",
       "    <tr>\n",
       "      <th>50%</th>\n",
       "      <td>37583.500000</td>\n",
       "      <td>1.0</td>\n",
       "      <td>107.500000</td>\n",
       "      <td>2016.000000</td>\n",
       "      <td>34.000000</td>\n",
       "      <td>16.000000</td>\n",
       "      <td>1.000000</td>\n",
       "      <td>2.000000</td>\n",
       "      <td>2.000000</td>\n",
       "      <td>0.000000</td>\n",
       "      <td>0.00000</td>\n",
       "      <td>0.000000</td>\n",
       "      <td>0.000000</td>\n",
       "      <td>0.000000</td>\n",
       "      <td>0.000000</td>\n",
       "      <td>0.000000</td>\n",
       "      <td>0.0</td>\n",
       "      <td>0.000000</td>\n",
       "      <td>3.000000</td>\n",
       "    </tr>\n",
       "    <tr>\n",
       "      <th>75%</th>\n",
       "      <td>43764.250000</td>\n",
       "      <td>1.0</td>\n",
       "      <td>221.000000</td>\n",
       "      <td>2016.000000</td>\n",
       "      <td>42.000000</td>\n",
       "      <td>24.000000</td>\n",
       "      <td>2.000000</td>\n",
       "      <td>3.000000</td>\n",
       "      <td>2.000000</td>\n",
       "      <td>0.000000</td>\n",
       "      <td>0.00000</td>\n",
       "      <td>0.000000</td>\n",
       "      <td>0.000000</td>\n",
       "      <td>0.000000</td>\n",
       "      <td>0.000000</td>\n",
       "      <td>0.000000</td>\n",
       "      <td>0.0</td>\n",
       "      <td>0.000000</td>\n",
       "      <td>4.000000</td>\n",
       "    </tr>\n",
       "    <tr>\n",
       "      <th>max</th>\n",
       "      <td>79128.000000</td>\n",
       "      <td>1.0</td>\n",
       "      <td>374.000000</td>\n",
       "      <td>2016.000000</td>\n",
       "      <td>53.000000</td>\n",
       "      <td>31.000000</td>\n",
       "      <td>4.000000</td>\n",
       "      <td>6.000000</td>\n",
       "      <td>4.000000</td>\n",
       "      <td>3.000000</td>\n",
       "      <td>1.00000</td>\n",
       "      <td>1.000000</td>\n",
       "      <td>26.000000</td>\n",
       "      <td>58.000000</td>\n",
       "      <td>16.000000</td>\n",
       "      <td>236.000000</td>\n",
       "      <td>0.0</td>\n",
       "      <td>4.000000</td>\n",
       "      <td>10.000000</td>\n",
       "    </tr>\n",
       "  </tbody>\n",
       "</table>\n",
       "</div>"
      ],
      "text/plain": [
       "                 id  is_canceled     lead_time  arrival_date_year  \\\n",
       "count  24044.000000      24044.0  24044.000000       24044.000000   \n",
       "mean   35434.304691          1.0    137.621070        2015.700882   \n",
       "std    17544.975634          0.0    105.403765           0.457881   \n",
       "min        4.000000          1.0      0.000000        2015.000000   \n",
       "25%    29400.750000          1.0     45.000000        2015.000000   \n",
       "50%    37583.500000          1.0    107.500000        2016.000000   \n",
       "75%    43764.250000          1.0    221.000000        2016.000000   \n",
       "max    79128.000000          1.0    374.000000        2016.000000   \n",
       "\n",
       "       arrival_date_week_number  arrival_date_day_of_month  \\\n",
       "count              24044.000000               24044.000000   \n",
       "mean                  31.566545                  15.826027   \n",
       "std                   12.826655                   8.737868   \n",
       "min                    1.000000                   1.000000   \n",
       "25%                   22.000000                   8.000000   \n",
       "50%                   34.000000                  16.000000   \n",
       "75%                   42.000000                  24.000000   \n",
       "max                   53.000000                  31.000000   \n",
       "\n",
       "       stays_in_weekend_nights  stays_in_week_nights        adults  \\\n",
       "count             24044.000000          24044.000000  24044.000000   \n",
       "mean                  0.809807              2.243678      1.864956   \n",
       "std                   0.851764              1.279435      0.439328   \n",
       "min                   0.000000              0.000000      0.000000   \n",
       "25%                   0.000000              1.000000      2.000000   \n",
       "50%                   1.000000              2.000000      2.000000   \n",
       "75%                   2.000000              3.000000      2.000000   \n",
       "max                   4.000000              6.000000      4.000000   \n",
       "\n",
       "           children       babies  is_repeated_guest  previous_cancellations  \\\n",
       "count  24044.000000  24044.00000       24044.000000            24044.000000   \n",
       "mean       0.067127      0.00341           0.018591                0.322243   \n",
       "std        0.323597      0.05830           0.135078                1.516086   \n",
       "min        0.000000      0.00000           0.000000                0.000000   \n",
       "25%        0.000000      0.00000           0.000000                0.000000   \n",
       "50%        0.000000      0.00000           0.000000                0.000000   \n",
       "75%        0.000000      0.00000           0.000000                0.000000   \n",
       "max        3.000000      1.00000           1.000000               26.000000   \n",
       "\n",
       "       previous_bookings_not_canceled  booking_changes  days_in_waiting_list  \\\n",
       "count                    24044.000000     24044.000000          24044.000000   \n",
       "mean                         0.028614         0.083181              5.145026   \n",
       "std                          0.814754         0.427968             20.748514   \n",
       "min                          0.000000         0.000000              0.000000   \n",
       "25%                          0.000000         0.000000              0.000000   \n",
       "50%                          0.000000         0.000000              0.000000   \n",
       "75%                          0.000000         0.000000              0.000000   \n",
       "max                         58.000000        16.000000            236.000000   \n",
       "\n",
       "       required_car_parking_spaces  total_of_special_requests  total_nights  \n",
       "count                      24044.0               24044.000000  24044.000000  \n",
       "mean                           0.0                   0.259566      3.053485  \n",
       "std                            0.0                   0.594623      1.639025  \n",
       "min                            0.0                   0.000000      1.000000  \n",
       "25%                            0.0                   0.000000      2.000000  \n",
       "50%                            0.0                   0.000000      3.000000  \n",
       "75%                            0.0                   0.000000      4.000000  \n",
       "max                            0.0                   4.000000     10.000000  "
      ]
     },
     "execution_count": 29,
     "metadata": {},
     "output_type": "execute_result"
    }
   ],
   "source": [
    "train1.describe()"
   ]
  },
  {
   "cell_type": "code",
   "execution_count": 30,
   "metadata": {},
   "outputs": [
    {
     "data": {
      "text/html": [
       "<div>\n",
       "<style scoped>\n",
       "    .dataframe tbody tr th:only-of-type {\n",
       "        vertical-align: middle;\n",
       "    }\n",
       "\n",
       "    .dataframe tbody tr th {\n",
       "        vertical-align: top;\n",
       "    }\n",
       "\n",
       "    .dataframe thead th {\n",
       "        text-align: right;\n",
       "    }\n",
       "</style>\n",
       "<table border=\"1\" class=\"dataframe\">\n",
       "  <thead>\n",
       "    <tr style=\"text-align: right;\">\n",
       "      <th></th>\n",
       "      <th>id</th>\n",
       "      <th>is_canceled</th>\n",
       "      <th>lead_time</th>\n",
       "      <th>arrival_date_year</th>\n",
       "      <th>arrival_date_week_number</th>\n",
       "      <th>arrival_date_day_of_month</th>\n",
       "      <th>stays_in_weekend_nights</th>\n",
       "      <th>stays_in_week_nights</th>\n",
       "      <th>adults</th>\n",
       "      <th>children</th>\n",
       "      <th>babies</th>\n",
       "      <th>is_repeated_guest</th>\n",
       "      <th>previous_cancellations</th>\n",
       "      <th>previous_bookings_not_canceled</th>\n",
       "      <th>booking_changes</th>\n",
       "      <th>days_in_waiting_list</th>\n",
       "      <th>required_car_parking_spaces</th>\n",
       "      <th>total_of_special_requests</th>\n",
       "      <th>total_nights</th>\n",
       "    </tr>\n",
       "  </thead>\n",
       "  <tbody>\n",
       "    <tr>\n",
       "      <th>count</th>\n",
       "      <td>41185.000000</td>\n",
       "      <td>41185.0</td>\n",
       "      <td>41185.000000</td>\n",
       "      <td>41185.000000</td>\n",
       "      <td>41185.000000</td>\n",
       "      <td>41185.000000</td>\n",
       "      <td>41185.000000</td>\n",
       "      <td>41185.000000</td>\n",
       "      <td>41185.000000</td>\n",
       "      <td>41185.000000</td>\n",
       "      <td>41185.000000</td>\n",
       "      <td>41185.000000</td>\n",
       "      <td>41185.000000</td>\n",
       "      <td>41185.000000</td>\n",
       "      <td>41185.000000</td>\n",
       "      <td>41185.000000</td>\n",
       "      <td>41185.000000</td>\n",
       "      <td>41185.000000</td>\n",
       "      <td>41185.00000</td>\n",
       "    </tr>\n",
       "    <tr>\n",
       "      <th>mean</th>\n",
       "      <td>48278.588467</td>\n",
       "      <td>0.0</td>\n",
       "      <td>72.236615</td>\n",
       "      <td>2015.729610</td>\n",
       "      <td>31.207381</td>\n",
       "      <td>15.860532</td>\n",
       "      <td>0.834163</td>\n",
       "      <td>2.213767</td>\n",
       "      <td>1.820007</td>\n",
       "      <td>0.079422</td>\n",
       "      <td>0.009469</td>\n",
       "      <td>0.032148</td>\n",
       "      <td>0.016050</td>\n",
       "      <td>0.153891</td>\n",
       "      <td>0.259123</td>\n",
       "      <td>2.277383</td>\n",
       "      <td>0.089717</td>\n",
       "      <td>0.660580</td>\n",
       "      <td>3.04793</td>\n",
       "    </tr>\n",
       "    <tr>\n",
       "      <th>std</th>\n",
       "      <td>28260.513330</td>\n",
       "      <td>0.0</td>\n",
       "      <td>81.076915</td>\n",
       "      <td>0.444167</td>\n",
       "      <td>13.820976</td>\n",
       "      <td>8.754279</td>\n",
       "      <td>0.854358</td>\n",
       "      <td>1.397112</td>\n",
       "      <td>0.501859</td>\n",
       "      <td>0.340226</td>\n",
       "      <td>0.116014</td>\n",
       "      <td>0.176394</td>\n",
       "      <td>0.315382</td>\n",
       "      <td>1.547304</td>\n",
       "      <td>0.663465</td>\n",
       "      <td>16.509228</td>\n",
       "      <td>0.286967</td>\n",
       "      <td>0.794587</td>\n",
       "      <td>1.79344</td>\n",
       "    </tr>\n",
       "    <tr>\n",
       "      <th>min</th>\n",
       "      <td>0.000000</td>\n",
       "      <td>0.0</td>\n",
       "      <td>0.000000</td>\n",
       "      <td>2015.000000</td>\n",
       "      <td>1.000000</td>\n",
       "      <td>1.000000</td>\n",
       "      <td>0.000000</td>\n",
       "      <td>0.000000</td>\n",
       "      <td>0.000000</td>\n",
       "      <td>0.000000</td>\n",
       "      <td>0.000000</td>\n",
       "      <td>0.000000</td>\n",
       "      <td>0.000000</td>\n",
       "      <td>0.000000</td>\n",
       "      <td>0.000000</td>\n",
       "      <td>0.000000</td>\n",
       "      <td>0.000000</td>\n",
       "      <td>0.000000</td>\n",
       "      <td>1.00000</td>\n",
       "    </tr>\n",
       "    <tr>\n",
       "      <th>25%</th>\n",
       "      <td>17376.000000</td>\n",
       "      <td>0.0</td>\n",
       "      <td>8.000000</td>\n",
       "      <td>2015.000000</td>\n",
       "      <td>20.000000</td>\n",
       "      <td>8.000000</td>\n",
       "      <td>0.000000</td>\n",
       "      <td>1.000000</td>\n",
       "      <td>2.000000</td>\n",
       "      <td>0.000000</td>\n",
       "      <td>0.000000</td>\n",
       "      <td>0.000000</td>\n",
       "      <td>0.000000</td>\n",
       "      <td>0.000000</td>\n",
       "      <td>0.000000</td>\n",
       "      <td>0.000000</td>\n",
       "      <td>0.000000</td>\n",
       "      <td>0.000000</td>\n",
       "      <td>2.00000</td>\n",
       "    </tr>\n",
       "    <tr>\n",
       "      <th>50%</th>\n",
       "      <td>61964.000000</td>\n",
       "      <td>0.0</td>\n",
       "      <td>41.000000</td>\n",
       "      <td>2016.000000</td>\n",
       "      <td>34.000000</td>\n",
       "      <td>16.000000</td>\n",
       "      <td>1.000000</td>\n",
       "      <td>2.000000</td>\n",
       "      <td>2.000000</td>\n",
       "      <td>0.000000</td>\n",
       "      <td>0.000000</td>\n",
       "      <td>0.000000</td>\n",
       "      <td>0.000000</td>\n",
       "      <td>0.000000</td>\n",
       "      <td>0.000000</td>\n",
       "      <td>0.000000</td>\n",
       "      <td>0.000000</td>\n",
       "      <td>0.000000</td>\n",
       "      <td>3.00000</td>\n",
       "    </tr>\n",
       "    <tr>\n",
       "      <th>75%</th>\n",
       "      <td>73515.000000</td>\n",
       "      <td>0.0</td>\n",
       "      <td>110.000000</td>\n",
       "      <td>2016.000000</td>\n",
       "      <td>42.000000</td>\n",
       "      <td>23.000000</td>\n",
       "      <td>2.000000</td>\n",
       "      <td>3.000000</td>\n",
       "      <td>2.000000</td>\n",
       "      <td>0.000000</td>\n",
       "      <td>0.000000</td>\n",
       "      <td>0.000000</td>\n",
       "      <td>0.000000</td>\n",
       "      <td>0.000000</td>\n",
       "      <td>0.000000</td>\n",
       "      <td>0.000000</td>\n",
       "      <td>0.000000</td>\n",
       "      <td>1.000000</td>\n",
       "      <td>4.00000</td>\n",
       "    </tr>\n",
       "    <tr>\n",
       "      <th>max</th>\n",
       "      <td>84121.000000</td>\n",
       "      <td>0.0</td>\n",
       "      <td>373.000000</td>\n",
       "      <td>2016.000000</td>\n",
       "      <td>53.000000</td>\n",
       "      <td>31.000000</td>\n",
       "      <td>4.000000</td>\n",
       "      <td>6.000000</td>\n",
       "      <td>4.000000</td>\n",
       "      <td>3.000000</td>\n",
       "      <td>10.000000</td>\n",
       "      <td>1.000000</td>\n",
       "      <td>13.000000</td>\n",
       "      <td>57.000000</td>\n",
       "      <td>17.000000</td>\n",
       "      <td>259.000000</td>\n",
       "      <td>3.000000</td>\n",
       "      <td>5.000000</td>\n",
       "      <td>10.00000</td>\n",
       "    </tr>\n",
       "  </tbody>\n",
       "</table>\n",
       "</div>"
      ],
      "text/plain": [
       "                 id  is_canceled     lead_time  arrival_date_year  \\\n",
       "count  41185.000000      41185.0  41185.000000       41185.000000   \n",
       "mean   48278.588467          0.0     72.236615        2015.729610   \n",
       "std    28260.513330          0.0     81.076915           0.444167   \n",
       "min        0.000000          0.0      0.000000        2015.000000   \n",
       "25%    17376.000000          0.0      8.000000        2015.000000   \n",
       "50%    61964.000000          0.0     41.000000        2016.000000   \n",
       "75%    73515.000000          0.0    110.000000        2016.000000   \n",
       "max    84121.000000          0.0    373.000000        2016.000000   \n",
       "\n",
       "       arrival_date_week_number  arrival_date_day_of_month  \\\n",
       "count              41185.000000               41185.000000   \n",
       "mean                  31.207381                  15.860532   \n",
       "std                   13.820976                   8.754279   \n",
       "min                    1.000000                   1.000000   \n",
       "25%                   20.000000                   8.000000   \n",
       "50%                   34.000000                  16.000000   \n",
       "75%                   42.000000                  23.000000   \n",
       "max                   53.000000                  31.000000   \n",
       "\n",
       "       stays_in_weekend_nights  stays_in_week_nights        adults  \\\n",
       "count             41185.000000          41185.000000  41185.000000   \n",
       "mean                  0.834163              2.213767      1.820007   \n",
       "std                   0.854358              1.397112      0.501859   \n",
       "min                   0.000000              0.000000      0.000000   \n",
       "25%                   0.000000              1.000000      2.000000   \n",
       "50%                   1.000000              2.000000      2.000000   \n",
       "75%                   2.000000              3.000000      2.000000   \n",
       "max                   4.000000              6.000000      4.000000   \n",
       "\n",
       "           children        babies  is_repeated_guest  previous_cancellations  \\\n",
       "count  41185.000000  41185.000000       41185.000000            41185.000000   \n",
       "mean       0.079422      0.009469           0.032148                0.016050   \n",
       "std        0.340226      0.116014           0.176394                0.315382   \n",
       "min        0.000000      0.000000           0.000000                0.000000   \n",
       "25%        0.000000      0.000000           0.000000                0.000000   \n",
       "50%        0.000000      0.000000           0.000000                0.000000   \n",
       "75%        0.000000      0.000000           0.000000                0.000000   \n",
       "max        3.000000     10.000000           1.000000               13.000000   \n",
       "\n",
       "       previous_bookings_not_canceled  booking_changes  days_in_waiting_list  \\\n",
       "count                    41185.000000     41185.000000          41185.000000   \n",
       "mean                         0.153891         0.259123              2.277383   \n",
       "std                          1.547304         0.663465             16.509228   \n",
       "min                          0.000000         0.000000              0.000000   \n",
       "25%                          0.000000         0.000000              0.000000   \n",
       "50%                          0.000000         0.000000              0.000000   \n",
       "75%                          0.000000         0.000000              0.000000   \n",
       "max                         57.000000        17.000000            259.000000   \n",
       "\n",
       "       required_car_parking_spaces  total_of_special_requests  total_nights  \n",
       "count                 41185.000000               41185.000000   41185.00000  \n",
       "mean                      0.089717                   0.660580       3.04793  \n",
       "std                       0.286967                   0.794587       1.79344  \n",
       "min                       0.000000                   0.000000       1.00000  \n",
       "25%                       0.000000                   0.000000       2.00000  \n",
       "50%                       0.000000                   0.000000       3.00000  \n",
       "75%                       0.000000                   1.000000       4.00000  \n",
       "max                       3.000000                   5.000000      10.00000  "
      ]
     },
     "execution_count": 30,
     "metadata": {},
     "output_type": "execute_result"
    }
   ],
   "source": [
    "train0.describe()"
   ]
  },
  {
   "cell_type": "markdown",
   "metadata": {},
   "source": [
    "Что мы видим, а видим мы несогласованность групп, для данного случая будем использовать downsampling, так как количество образцов искомого целевого признака примерно в 2 раза меньше, чем группа потенциальных значений (0). Либо просто укажем в параметре модели, что модель имеет смещение в таргете в сторону 0,т.е параметры не сбалансированы. "
   ]
  },
  {
   "cell_type": "markdown",
   "metadata": {},
   "source": [
    "P.S. так  как ранее, мы выявили, что поле id является индексом строки в таблицы стоит проверить поля на дубликаты после сброса ID, вероятны явные дубликаты"
   ]
  },
  {
   "cell_type": "markdown",
   "metadata": {},
   "source": [
    "определим список интересующих полей для решения задачи проекта и немного порассуждаем"
   ]
  },
  {
   "cell_type": "markdown",
   "metadata": {},
   "source": [
    "В таблицах hotel_train и hotel_test содержатся одинаковые столбцы:\n",
    "\n",
    "\n",
    "`id` — номер записи; -дропаем, не представляет интереса\n",
    "\n",
    "\n",
    "`adults` — количество взрослых постояльцев; влияет на цену\n",
    "\n",
    "\n",
    "`arrival_date_year` — год заезда; - дропаем, но для визуализации посмотрим\n",
    "\n",
    "\n",
    "`arrival_date_month` — месяц заезда; влияет на цену\n",
    "\n",
    "\n",
    "`arrival_date_week_number` — неделя заезда; дропаем\n",
    "\n",
    "\n",
    "`arrival_date_day_of_month` — день заезда; влияет на цену\n",
    "\n",
    "\n",
    "`babies` — количество младенцев; влияет на цену\n",
    "\n",
    "\n",
    "`booking_changes` — количество изменений параметров заказа; -оставим данное поле\n",
    "\n",
    "\n",
    "`children` — количество детей от 3 до 14 лет; -влияет на цену\n",
    "\n",
    "\n",
    "`country` — гражданство постояльца; возможна зависимость от дохода, сезонности, удаленности региона проживания\n",
    "\n",
    "\n",
    "`customer_type` — тип заказчика:  - проверить данное поле так как вероятно, что это категория пользователя\n",
    "\n",
    "\n",
    "`Contract` — договор с юридическим лицом; - проверить данное поле так как вероятно, что это категория пользователя\n",
    "\n",
    "\n",
    "`Group` — групповой заезд; - проверить данное поле так как вероятно, что это категория пользователя\n",
    "\n",
    "\n",
    "`Transient` — не связано с договором или групповым заездом; - проверить данное поле так как вероятно, что это категория пользователя\n",
    "\n",
    "\n",
    "`Transient-party` — не связано с договором или групповым заездом, но связано с бронированием типа Transient.- проверить данное поле так как вероятно, что это категория пользователя\n",
    "\n",
    "\n",
    "\n",
    "`days_in_waiting_list` — сколько дней заказ ожидал подтверждения; важная метрика -  потенциально больше- хуже\n",
    "\n",
    "\n",
    "`distribution_channel` — канал дистрибуции заказа; категория заказа +- важный признак\n",
    "\n",
    "\n",
    "`is_canceled` — отмена заказа; - таргет\n",
    "\n",
    "\n",
    "`is_repeated_guest` — признак того, что гость бронирует номер второй раз; - важный признак\n",
    "\n",
    "\n",
    "`lead_time` — количество дней между датой бронирования и датой прибытия; - важный признак\n",
    "\n",
    "\n",
    "`meal` — опции заказа: - обед, влияет на стоимость\n",
    "\n",
    "\n",
    "`SC` — нет дополнительных опций;  категории обеда ?\n",
    "\n",
    "\n",
    "`BB` — включён завтрак; категории обеда ?\n",
    "\n",
    "\n",
    "`HB` — включён завтрак и обед; категории обеда ?\n",
    "\n",
    "\n",
    "`FB` — включён завтрак, обед и ужин. категории обеда ?\n",
    "\n",
    "\n",
    "`previous_bookings_not_canceled` — количество подтверждённых заказов у клиента; важный критерий\n",
    "\n",
    "\n",
    "`previous_cancellations` — количество отменённых заказов у клиента; -важный критерий\n",
    "\n",
    "\n",
    "`required_car_parking_spaces` — необходимость места для автомобиля; +- категория по доходу юзера\n",
    "\n",
    "\n",
    "`reserved_room_type` — тип забронированной комнаты; +- категория юзера + статистика по заказам номеров определенного типа\n",
    "\n",
    "\n",
    "`stays_in_weekend_nights` — количество ночей в выходные дни;  - требует дополнительного пояснения- низкое качество описания критерия\n",
    "\n",
    "\n",
    "`stays_in_week_nights` — количество ночей в будние дни;- требует дополнительного пояснения- низкое качество описания критерия\n",
    "\n",
    "\n",
    "`total_nights` — общее количество ночей; - критерий, влияющий на стоимость заказа\n",
    "\n",
    "\n",
    "`total_of_special_requests` — количество специальных отметок. - требует дополнительного пояснения- низкое качество описания критерия"
   ]
  },
  {
   "cell_type": "markdown",
   "metadata": {},
   "source": [
    "Стоимость номеров отеля:\n",
    "категория A: за ночь — 1 000, разовое обслуживание — 400;\n",
    "категория B: за ночь — 800, разовое обслуживание — 350;\n",
    "категория C: за ночь — 600, разовое обслуживание — 350;\n",
    "категория D: за ночь — 550, разовое обслуживание — 150;\n",
    "категория E: за ночь — 500, разовое обслуживание — 150;\n",
    "категория F: за ночь — 450, разовое обслуживание — 150;\n",
    "категория G: за ночь — 350, разовое обслуживание — 150."
   ]
  },
  {
   "cell_type": "markdown",
   "metadata": {},
   "source": [
    "Рассмотрим вариант, когда у нас в системе 3 объекта 1 клиент  2- номер 3- заказ"
   ]
  },
  {
   "cell_type": "markdown",
   "metadata": {},
   "source": [
    "Таки по количеству  атрибутов объектов, вероятнее всего  получается, что у нас  система из 2 х объектов (клиент и заказ)"
   ]
  },
  {
   "cell_type": "markdown",
   "metadata": {},
   "source": [
    "Включаем серое вещество 2 раз и переносим из объекта номер в заказ атрибут reserved_room_type\n",
    "\n",
    "Атрибуты клиента - country,is_repeated_guest,previous_bookings_not_canceled,previous_cancellations \n",
    "\n",
    "Атрибуты заказа - arrival_date_year,arrival_date_month,arrival_date_week_number,arrival_date_day_of_month,adults,\n",
    "\n",
    "children,babies,customer_type,previous_bookings_not_canceled,previous_cancellations,days_in_waiting_list,\n",
    "\n",
    "distribution_channel,is_canceled,lead_time,meal,required_car_parking_spaces,reserved_room_type,stays_in_weekend_nights,\n",
    "\n",
    "stays_in_week_nights,total_nights,total_of_special_requests"
   ]
  },
  {
   "cell_type": "markdown",
   "metadata": {},
   "source": [
    "Система из трех объектов (Клиент, номер, заказ) предоставляет несколько преимуществ:\n",
    "\n",
    "1. Качественное разделение атрибутов позволяет более точно выявить проблемы и разработать корректирующие меры. Например, если отток клиентов зависит от качества номера и его расположения, то мы сможем легко выделить эту зависимость, анализируя атрибуты номера.\n",
    "\n",
    "2. Разделение объектов позволяет избежать перегрузки модели лишними фичами. Каждый объект имеет свои уникальные атрибуты, и их разделение упрощает анализ и обработку данных.\n",
    "\n",
    "3. Система обеспечивает стандартизацию и упрощает функционал потенциальной системы управления. Каждый объект имеет свои характеристики, что упрощает автоматизацию проверки и управление данными.\n",
    "\n",
    "4. Система позволяет более точно учитывать различные аспекты задачи, такие как ревенью и стоимость уборки, которые связаны с атрибутами номера.\n",
    "\n",
    "Таким образом, разделение данных на три объекта улучшает качество анализа и обработки информации, делая модель более точной и эффективной для решения поставленных задач."
   ]
  },
  {
   "cell_type": "markdown",
   "metadata": {},
   "source": [
    "По результатам анализа атрибутов `arrival_date_year`, `arrival_date_month`, `arrival_date_week_number` и `arrival_date_day_of_month` было принято решение удалить атрибут `arrival_date_year`, так как он обычно имеет цикличный характер и не несет большой информации, особенно при наличии других атрибутов, связанных с месяцем и днем заезда.\n",
    "\n",
    "Оставление атрибута `arrival_date_week_number` или комбинации `arrival_date_month` и `arrival_date_day_of_month` зависит от конкретных целей анализа. Если важен сезонный характер данных и связь с неделями года, то `arrival_date_week_number` может быть полезным. Если более важны месяц и день в отношении стоимости и других аспектов заказа, то лучше оставить `arrival_date_month` и `arrival_date_day_of_month`.\n",
    "\n",
    "Таким образом, удаление года и выбор между `arrival_date_week_number` и `arrival_date_month` и `arrival_date_day_of_month` позволяют упростить модель и сосредоточиться на более информативных атрибутах."
   ]
  },
  {
   "cell_type": "code",
   "execution_count": 31,
   "metadata": {},
   "outputs": [],
   "source": [
    "#profile_train = train.profile_report(title='Train Profiling Report', progress_bar=False)\n",
    "#profile_train"
   ]
  },
  {
   "cell_type": "markdown",
   "metadata": {},
   "source": [
    "Группы алертов до сброса id для train и test"
   ]
  },
  {
   "cell_type": "markdown",
   "metadata": {},
   "source": [
    "Массив train\n",
    "\n",
    "\n",
    "Анализ массива train выявил следующие характеристики и проблемы в данных:\n",
    "\n",
    "1. `country` имеет высокую кардинальность с 155 различными значениями, что может усложнить обработку и моделирование. High cardinality.\n",
    "\n",
    "2. `id` сильно коррелирует с `is_canceled` и еще одним атрибутом, что может повлиять на модель. High correlation.\n",
    "\n",
    "3. `arrival_date_week_number` сильно коррелирует с `arrival_date_month`. High correlation.\n",
    "\n",
    "4. `stays_in_week_nights` сильно коррелирует с `total_nights`. High correlation.\n",
    "\n",
    "5. `total_nights` сильно коррелирует с `stays_in_week_nights` и еще одним атрибутом. High correlation.\n",
    "\n",
    "6. `is_canceled` сильно коррелирует с `id`. High correlation.\n",
    "\n",
    "7. `arrival_date_year` сильно коррелирует с `id`. High correlation.\n",
    "\n",
    "8. `arrival_date_month` сильно коррелирует с `arrival_date_week_number`. High correlation.\n",
    "\n",
    "9. `stays_in_weekend_nights` сильно коррелирует с `total_nights`. High correlation.\n",
    "\n",
    "10. `adults`, `children`, `babies`, `meal`, `country`, `distribution_channel`, `is_repeated_guest`, `reserved_room_type`, и `required_car_parking_spaces` имеют высокую несбалансированность. Imbalance.\n",
    "\n",
    "11. `previous_cancellations` и `previous_bookings_not_canceled` имеют высокую асимметрию (скошенность) данных. Skewed.\n",
    "\n",
    "12. `id` имеет уникальные значения. Unique.\n",
    "\n",
    "13. `lead_time`, `stays_in_week_nights`, `previous_cancellations`, `previous_bookings_not_canceled`, `booking_changes`, `days_in_waiting_list`, и `total_of_special_requests` содержат много нулевых значений. Zeros.\n",
    "\n",
    "Эти характеристики и проблемы данных важно учитывать при дальнейшей обработке и моделировании данных, а также при принятии решений о том, какие признаки использовать в модели."
   ]
  },
  {
   "cell_type": "code",
   "execution_count": 32,
   "metadata": {},
   "outputs": [],
   "source": [
    "#profile_test = test.profile_report(title='Test Profiling Report', progress_bar=False)\n",
    "#profile_test"
   ]
  },
  {
   "cell_type": "markdown",
   "metadata": {},
   "source": [
    "Анализ массива test выявил следующие характеристики и проблемы в данных:\n",
    "\n",
    "1. `arrival_date_year` имеет постоянное значение \"2017\", что делает этот атрибут неинформативным. Constant.\n",
    "\n",
    "2. `country` имеет высокую кардинальность с 143 различными значениями, что может усложнить обработку и моделирование. High cardinality.\n",
    "\n",
    "3. `id` сильно коррелирует с `is_canceled` и еще одним атрибутом, что может повлиять на модель. High correlation.\n",
    "\n",
    "4. `arrival_date_week_number` сильно коррелирует с `arrival_date_month`. High correlation.\n",
    "\n",
    "5. `stays_in_week_nights` сильно коррелирует с `total_nights`. High correlation.\n",
    "\n",
    "6. `total_nights` сильно коррелирует с `stays_in_week_nights` и еще одним атрибутом. High correlation.\n",
    "\n",
    "7. `is_canceled` сильно коррелирует с `id`. High correlation.\n",
    "\n",
    "8. `arrival_date_month` сильно коррелирует с `arrival_date_week_number`. High correlation.\n",
    "\n",
    "9. `stays_in_weekend_nights` сильно коррелирует с `total_nights`. High correlation.\n",
    "\n",
    "10. `is_repeated_guest` сильно коррелирует с `id`. High correlation.\n",
    "\n",
    "11. `adults`, `children`, `babies`, `meal`, `distribution_channel`, `reserved_room_type`, и `customer_type` имеют высокую несбалансированность. Imbalance.\n",
    "\n",
    "12. `previous_cancellations`, `previous_bookings_not_canceled`, и `days_in_waiting_list` имеют высокую асимметрию (скошенность) данных. Skewed.\n",
    "\n",
    "13. `id` имеет уникальные значения. Unique.\n",
    "\n",
    "14. `lead_time`, `stays_in_week_nights`, `previous_cancellations`, `previous_bookings_not_canceled`, `booking_changes`, `days_in_waiting_list`, и `total_of_special_requests` содержат много нулевых значений. Zeros.\n",
    "\n",
    "Эти характеристики и проблемы данных важно учитывать при дальнейшей обработке и моделировании данных, а также при принятии решений о том, какие признаки использовать в модели."
   ]
  },
  {
   "cell_type": "code",
   "execution_count": 33,
   "metadata": {},
   "outputs": [],
   "source": [
    "train=train.drop(['id'],axis=1)\n",
    "test=test.drop(['id'],axis=1)"
   ]
  },
  {
   "cell_type": "code",
   "execution_count": 34,
   "metadata": {},
   "outputs": [],
   "source": [
    "#profile_train = train.profile_report(title='Train Profiling Report', progress_bar=False)\n",
    "#profile_train"
   ]
  },
  {
   "cell_type": "markdown",
   "metadata": {},
   "source": [
    "Анализ массива train после удаления поля `id` выявил следующие характеристики и проблемы в данных:\n",
    "\n",
    "1. Датасет содержит 5006 (7.7%) дублирующихся строк. Это может потребовать дополнительной обработки данных. Duplicates.\n",
    "\n",
    "2. `country` имеет высокую кардинальность с 155 различными значениями, что может усложнить обработку и моделирование. High cardinality.\n",
    "\n",
    "3. `arrival_date_week_number` сильно коррелирует с `arrival_date_month`. High correlation.\n",
    "\n",
    "4. `stays_in_week_nights` сильно коррелирует с `total_nights`. High correlation.\n",
    "\n",
    "5. `total_nights` сильно коррелирует с `stays_in_week_nights` и еще одним атрибутом. High correlation.\n",
    "\n",
    "6. `arrival_date_month` сильно коррелирует с `arrival_date_week_number`. High correlation.\n",
    "\n",
    "7. `stays_in_weekend_nights` сильно коррелирует с `total_nights`. High correlation.\n",
    "\n",
    "8. `adults`, `children`, `babies`, `meal`, `country`, `distribution_channel`, `is_repeated_guest`, `reserved_room_type`, и `required_car_parking_spaces` имеют высокую несбалансированность. Imbalance.\n",
    "\n",
    "9. `previous_cancellations` и `previous_bookings_not_canceled` имеют высокую асимметрию (скошенность) данных. Skewed.\n",
    "\n",
    "10. `lead_time`, `stays_in_week_nights`, `previous_cancellations`, `previous_bookings_not_canceled`, `booking_changes`, `days_in_waiting_list`, и `total_of_special_requests` содержат много нулевых значений. Zeros.\n",
    "\n",
    "Эти характеристики и проблемы данных важно учитывать при дальнейшей обработке и моделировании данных, а также при принятии решений о том, какие признаки использовать в модели."
   ]
  },
  {
   "cell_type": "code",
   "execution_count": 35,
   "metadata": {},
   "outputs": [],
   "source": [
    "#profile_test = test.profile_report(title='Test Profiling Report', progress_bar=False)\n",
    "#profile_test"
   ]
  },
  {
   "cell_type": "markdown",
   "metadata": {},
   "source": [
    "Анализ массива test после удаления поля `id` выявил следующие характеристики и проблемы в данных:\n",
    "\n",
    "1. `arrival_date_year` имеет постоянное значение \"2017\", что означает отсутствие вариации в этом признаке. Constant.\n",
    "\n",
    "2. Датасет содержит 2398 (7.4%) дублирующихся строк. Это может потребовать дополнительной обработки данных. Duplicates.\n",
    "\n",
    "3. `country` имеет высокую кардинальность с 143 различными значениями, что может усложнить обработку и моделирование. High cardinality.\n",
    "\n",
    "4. `arrival_date_week_number` сильно коррелирует с `arrival_date_month`. High correlation.\n",
    "\n",
    "5. `stays_in_week_nights` сильно коррелирует с `total_nights`. High correlation.\n",
    "\n",
    "6. `total_nights` сильно коррелирует с `stays_in_week_nights` и еще одним атрибутом. High correlation.\n",
    "\n",
    "7. `arrival_date_month` сильно коррелирует с `arrival_date_week_number`. High correlation.\n",
    "\n",
    "8. `adults`, `children`, `babies`, `meal`, `distribution_channel`, `is_repeated_guest`, `reserved_room_type`, `customer_type`, и `required_car_parking_spaces` имеют высокую несбалансированность. Imbalance.\n",
    "\n",
    "9. `previous_cancellations` и `previous_bookings_not_canceled` имеют высокую асимметрию (скошенность) данных. Skewed.\n",
    "\n",
    "10. `lead_time`, `stays_in_week_nights`, `previous_cancellations`, `previous_bookings_not_canceled`, `booking_changes`, `days_in_waiting_list`, и `total_of_special_requests` содержат много нулевых значений. Zeros.\n",
    "\n",
    "Эти характеристики и проблемы данных также важно учитывать при дальнейшей обработке и моделировании данных, а также при принятии решений о том, какие признаки использовать в модели."
   ]
  },
  {
   "cell_type": "markdown",
   "metadata": {},
   "source": [
    "Дропаем дубликаты"
   ]
  },
  {
   "cell_type": "code",
   "execution_count": 36,
   "metadata": {},
   "outputs": [],
   "source": [
    "train=train.drop_duplicates()\n",
    "test=test.drop_duplicates()"
   ]
  },
  {
   "cell_type": "code",
   "execution_count": 37,
   "metadata": {},
   "outputs": [],
   "source": [
    "#profile_train = train.profile_report(title='Train Profiling Report', progress_bar=False)\n",
    "#profile_train"
   ]
  },
  {
   "cell_type": "code",
   "execution_count": 38,
   "metadata": {},
   "outputs": [],
   "source": [
    "#profile_test = test.profile_report(title='Test Profiling Report', progress_bar=False)\n",
    "#profile_test"
   ]
  },
  {
   "cell_type": "code",
   "execution_count": 39,
   "metadata": {},
   "outputs": [],
   "source": [
    "train=train.drop(['country'],axis=1)\n",
    "test=test.drop(['country'],axis=1)"
   ]
  },
  {
   "cell_type": "code",
   "execution_count": 40,
   "metadata": {},
   "outputs": [],
   "source": [
    "#profile_train = train.profile_report(title='Train Profiling Report', progress_bar=False)\n",
    "#profile_train"
   ]
  },
  {
   "cell_type": "code",
   "execution_count": 41,
   "metadata": {},
   "outputs": [],
   "source": [
    "#profile_test = test.profile_report(title='Test Profiling Report', progress_bar=False)\n",
    "#profile_test"
   ]
  },
  {
   "cell_type": "code",
   "execution_count": 42,
   "metadata": {},
   "outputs": [],
   "source": [
    "train=train.drop_duplicates()\n",
    "test=test.drop_duplicates()"
   ]
  },
  {
   "cell_type": "code",
   "execution_count": 43,
   "metadata": {},
   "outputs": [],
   "source": [
    "#profile_train = train.profile_report(title='Train Profiling Report', progress_bar=False)\n",
    "#profile_train"
   ]
  },
  {
   "cell_type": "code",
   "execution_count": 44,
   "metadata": {},
   "outputs": [],
   "source": [
    "#profile_test = test.profile_report(title='Test Profiling Report', progress_bar=False)\n",
    "#profile_test"
   ]
  },
  {
   "cell_type": "markdown",
   "metadata": {},
   "source": [
    "arrival_date_week_number is highly overall correlated with arrival_date_month\n",
    "\n",
    "Делаем следующее, оставляем arrival_date_week_number,"
   ]
  },
  {
   "cell_type": "code",
   "execution_count": 45,
   "metadata": {},
   "outputs": [],
   "source": [
    "#profile_train = train.profile_report(title='Train Profiling Report', progress_bar=False)\n",
    "#profile_train"
   ]
  },
  {
   "cell_type": "markdown",
   "metadata": {},
   "source": [
    "так-с, подождите, нам поле  arrival_month безразлично, так как у нас есть номер недели, который однозначно определяет коэффициент сезонности"
   ]
  },
  {
   "cell_type": "markdown",
   "metadata": {},
   "source": [
    "продолжим дропать поля"
   ]
  },
  {
   "cell_type": "code",
   "execution_count": 46,
   "metadata": {},
   "outputs": [
    {
     "data": {
      "text/plain": [
       "Index(['is_canceled', 'lead_time', 'arrival_date_year', 'arrival_date_month',\n",
       "       'arrival_date_week_number', 'arrival_date_day_of_month',\n",
       "       'stays_in_weekend_nights', 'stays_in_week_nights', 'adults', 'children',\n",
       "       'babies', 'meal', 'distribution_channel', 'is_repeated_guest',\n",
       "       'previous_cancellations', 'previous_bookings_not_canceled',\n",
       "       'reserved_room_type', 'booking_changes', 'days_in_waiting_list',\n",
       "       'customer_type', 'required_car_parking_spaces',\n",
       "       'total_of_special_requests', 'total_nights'],\n",
       "      dtype='object')"
      ]
     },
     "execution_count": 46,
     "metadata": {},
     "output_type": "execute_result"
    }
   ],
   "source": [
    "train.columns"
   ]
  },
  {
   "cell_type": "markdown",
   "metadata": {},
   "source": [
    "`stays_in_week_nights`,'`stays_in_weekend_nights`' - дропаем тк, дубликат поля `total_nights`"
   ]
  },
  {
   "cell_type": "code",
   "execution_count": 47,
   "metadata": {},
   "outputs": [],
   "source": [
    "train=train.drop(['stays_in_weekend_nights','stays_in_week_nights'],axis=1)\n",
    "test=test.drop(['stays_in_weekend_nights','stays_in_week_nights'],axis=1)"
   ]
  },
  {
   "cell_type": "markdown",
   "metadata": {},
   "source": [
    "'arrival_date_year' -дропаем, для модели, с учетом того, что у нас сезонность не важно какой год (наблюдается цикличность, то есть каждый год одно и то же)"
   ]
  },
  {
   "cell_type": "code",
   "execution_count": 48,
   "metadata": {},
   "outputs": [],
   "source": [
    "train=train.drop(['arrival_date_year'],axis=1)\n",
    "test=test.drop(['arrival_date_year'],axis=1)"
   ]
  },
  {
   "cell_type": "markdown",
   "metadata": {},
   "source": [
    "поля '`adults`', '`children`', '`babies`',  - тут немного интересней "
   ]
  },
  {
   "cell_type": "markdown",
   "metadata": {},
   "source": [
    "Есть лиу нас заказы, где нет взрослых ?"
   ]
  },
  {
   "cell_type": "code",
   "execution_count": 49,
   "metadata": {},
   "outputs": [
    {
     "data": {
      "text/plain": [
       "(163, 20)"
      ]
     },
     "execution_count": 49,
     "metadata": {},
     "output_type": "execute_result"
    }
   ],
   "source": [
    "train[train['adults']==0].shape"
   ]
  },
  {
   "cell_type": "markdown",
   "metadata": {},
   "source": [
    "Такие заказы есть 163 записи в train "
   ]
  },
  {
   "cell_type": "code",
   "execution_count": 50,
   "metadata": {},
   "outputs": [
    {
     "data": {
      "text/plain": [
       "(65, 20)"
      ]
     },
     "execution_count": 50,
     "metadata": {},
     "output_type": "execute_result"
    }
   ],
   "source": [
    "test[test['adults']==0].shape"
   ]
  },
  {
   "cell_type": "markdown",
   "metadata": {},
   "source": [
    "65 в test"
   ]
  },
  {
   "cell_type": "markdown",
   "metadata": {},
   "source": [
    "Что у них общего, наверное тип клиента будет корпо или будет совпадать канал дистрибуции или кастомер тайп. Сейчас узнаем"
   ]
  },
  {
   "cell_type": "code",
   "execution_count": 51,
   "metadata": {},
   "outputs": [],
   "source": [
    "#profile_train_zeroadults = train[train['adults']==0].profile_report(title='Train Zero adults', progress_bar=False)\n",
    "#profile_train_zeroadults"
   ]
  },
  {
   "cell_type": "code",
   "execution_count": 52,
   "metadata": {
    "scrolled": true
   },
   "outputs": [],
   "source": [
    "#profile_test_zeroadults = test[test['adults']==0].profile_report(title='Test Zero adults', progress_bar=False)\n",
    "#profile_test_zeroadults"
   ]
  },
  {
   "cell_type": "markdown",
   "metadata": {},
   "source": [
    "`Transient` - кастомер тайп, дело раскрыто. "
   ]
  },
  {
   "cell_type": "markdown",
   "metadata": {},
   "source": [
    "Ладно, время дорого дропаем записи(объем битых записей мал, поэтому дропаем), где adults==0. "
   ]
  },
  {
   "cell_type": "code",
   "execution_count": 53,
   "metadata": {},
   "outputs": [],
   "source": [
    "train=train[train['adults']!=0]\n",
    "test=test[test['adults']!=0]"
   ]
  },
  {
   "cell_type": "markdown",
   "metadata": {},
   "source": [
    "поле '`meal`' - дропаем "
   ]
  },
  {
   "cell_type": "code",
   "execution_count": 54,
   "metadata": {},
   "outputs": [],
   "source": [
    "train=train.drop(['meal'],axis=1)\n",
    "test=test.drop(['meal'],axis=1)"
   ]
  },
  {
   "cell_type": "markdown",
   "metadata": {},
   "source": [
    "`'meal','distribution_channel'`"
   ]
  },
  {
   "cell_type": "code",
   "execution_count": 1,
   "metadata": {},
   "outputs": [
    {
     "ename": "NameError",
     "evalue": "name 'train' is not defined",
     "output_type": "error",
     "traceback": [
      "\u001b[1;31m---------------------------------------------------------------------------\u001b[0m",
      "\u001b[1;31mNameError\u001b[0m                                 Traceback (most recent call last)",
      "\u001b[1;32m~\\AppData\\Local\\Temp/ipykernel_2408/4167172441.py\u001b[0m in \u001b[0;36m<module>\u001b[1;34m\u001b[0m\n\u001b[1;32m----> 1\u001b[1;33m \u001b[0mtrain\u001b[0m\u001b[1;33m.\u001b[0m\u001b[0mcolumns\u001b[0m\u001b[1;33m\u001b[0m\u001b[1;33m\u001b[0m\u001b[0m\n\u001b[0m",
      "\u001b[1;31mNameError\u001b[0m: name 'train' is not defined"
     ]
    }
   ],
   "source": [
    "train.columns"
   ]
  },
  {
   "cell_type": "markdown",
   "metadata": {},
   "source": [
    "`'distribution_channel'` и `'customer_type'` тоже отправляем в утиль ибо кому какое дело, откуда пришел клиент, главное, чтобы не отказался от заезда. Наша цель - точная модель и прибыль, поэтому дропаем. К тому же лишние категориальные переменные- лишние проблемы при моделировании"
   ]
  },
  {
   "cell_type": "code",
   "execution_count": 56,
   "metadata": {},
   "outputs": [],
   "source": [
    "train=train.drop(['distribution_channel','customer_type'],axis=1)\n",
    "test=test.drop(['distribution_channel','customer_type'],axis=1)"
   ]
  },
  {
   "cell_type": "code",
   "execution_count": 57,
   "metadata": {},
   "outputs": [
    {
     "name": "stdout",
     "output_type": "stream",
     "text": [
      "<class 'pandas.core.frame.DataFrame'>\n",
      "Int64Index: 42307 entries, 0 to 65228\n",
      "Data columns (total 17 columns):\n",
      " #   Column                          Non-Null Count  Dtype  \n",
      "---  ------                          --------------  -----  \n",
      " 0   is_canceled                     42307 non-null  int64  \n",
      " 1   lead_time                       42307 non-null  float64\n",
      " 2   arrival_date_month              42307 non-null  object \n",
      " 3   arrival_date_week_number        42307 non-null  int64  \n",
      " 4   arrival_date_day_of_month       42307 non-null  int64  \n",
      " 5   adults                          42307 non-null  float64\n",
      " 6   children                        42307 non-null  float64\n",
      " 7   babies                          42307 non-null  float64\n",
      " 8   is_repeated_guest               42307 non-null  int64  \n",
      " 9   previous_cancellations          42307 non-null  int64  \n",
      " 10  previous_bookings_not_canceled  42307 non-null  int64  \n",
      " 11  reserved_room_type              42307 non-null  object \n",
      " 12  booking_changes                 42307 non-null  int64  \n",
      " 13  days_in_waiting_list            42307 non-null  int64  \n",
      " 14  required_car_parking_spaces     42307 non-null  int64  \n",
      " 15  total_of_special_requests       42307 non-null  int64  \n",
      " 16  total_nights                    42307 non-null  int64  \n",
      "dtypes: float64(4), int64(11), object(2)\n",
      "memory usage: 5.8+ MB\n"
     ]
    }
   ],
   "source": [
    "train.info()"
   ]
  },
  {
   "cell_type": "markdown",
   "metadata": {},
   "source": [
    "Делаем ход конем,\n",
    "#Функция добавляет в категориальные: price_class, service, 'season_coeff' и 'revenue' и 'potential_loss' из условий задачи'\n",
    "#Функция кодирует 'arrival_date_month' путем замены на порядковый номер месяца по типу месяца"
   ]
  },
  {
   "cell_type": "code",
   "execution_count": 58,
   "metadata": {},
   "outputs": [],
   "source": [
    "#Функция добавляет в категориальные: price_class, service, 'season_coeff' и 'revenue' и 'potential_loss' из условий задачи'\n",
    "#Функция кодирует 'arrival_date_month' путем замены на порядковый номер месяца по типу месяца \n",
    "def price_class(df):\n",
    "    df.loc[df['reserved_room_type'].str.contains('A'), 'price_class'] = 1000\n",
    "    df.loc[df['reserved_room_type'].str.contains('A'), 'service'] = 400\n",
    "    \n",
    "    df.loc[df['reserved_room_type'].str.contains('B'), 'price_class'] = 800\n",
    "    df.loc[df['reserved_room_type'].str.contains('B'), 'service'] = 350\n",
    "    \n",
    "    df.loc[df['reserved_room_type'].str.contains('C'), 'price_class'] = 600\n",
    "    df.loc[df['reserved_room_type'].str.contains('C'), 'service'] = 350\n",
    "    \n",
    "    df.loc[df['reserved_room_type'].str.contains('D'), 'price_class'] = 550\n",
    "    df.loc[df['reserved_room_type'].str.contains('D'), 'service'] = 150\n",
    "    \n",
    "    df.loc[df['reserved_room_type'].str.contains('E'), 'price_class'] = 500\n",
    "    df.loc[df['reserved_room_type'].str.contains('E'), 'service'] = 150\n",
    "    \n",
    "    df.loc[df['reserved_room_type'].str.contains('F'), 'price_class'] = 450\n",
    "    df.loc[df['reserved_room_type'].str.contains('F'), 'service'] = 150\n",
    "    \n",
    "    df.loc[df['reserved_room_type'].str.contains('G'), 'price_class'] = 350\n",
    "    df.loc[df['reserved_room_type'].str.contains('G'), 'service'] = 150\n",
    "    \n",
    "    df.loc[df['reserved_room_type'].str.contains('G'), 'price_class'] = 350\n",
    "    df.loc[df['reserved_room_type'].str.contains('G'), 'service'] = 150\n",
    "    \n",
    "     \n",
    "    df.loc[df['arrival_date_month'].str.contains('June'), 'season_coeff'] = 1.4\n",
    "    df.loc[df['arrival_date_month'].str.contains('July'), 'season_coeff'] = 1.4\n",
    "    df.loc[df['arrival_date_month'].str.contains('August'), 'season_coeff'] = 1.4\n",
    "    \n",
    "    df.loc[df['arrival_date_month'].str.contains('September'), 'season_coeff'] = 1.2\n",
    "    df.loc[df['arrival_date_month'].str.contains('October'), 'season_coeff'] = 1.2\n",
    "    df.loc[df['arrival_date_month'].str.contains('November'), 'season_coeff'] = 1.2\n",
    "    \n",
    "    df.loc[df['arrival_date_month'].str.contains('December'), 'season_coeff'] = 1\n",
    "    df.loc[df['arrival_date_month'].str.contains('January'), 'season_coeff'] = 1\n",
    "    df.loc[df['arrival_date_month'].str.contains('February'), 'season_coeff'] = 1\n",
    "    \n",
    "    df.loc[df['arrival_date_month'].str.contains('March'), 'season_coeff'] = 1.2\n",
    "    df.loc[df['arrival_date_month'].str.contains('April'), 'season_coeff'] = 1.2\n",
    "    df.loc[df['arrival_date_month'].str.contains('May'), 'season_coeff'] = 1.2\n",
    "    \n",
    "    df.loc[df['arrival_date_month'].str.contains('June'), 'arrival_month'] = 6\n",
    "    df.loc[df['arrival_date_month'].str.contains('July'), 'arrival_month'] = 7\n",
    "    df.loc[df['arrival_date_month'].str.contains('August'), 'arrival_month'] = 8\n",
    "    \n",
    "    df.loc[df['arrival_date_month'].str.contains('September'), 'arrival_month'] = 9\n",
    "    df.loc[df['arrival_date_month'].str.contains('October'), 'arrival_month'] = 10\n",
    "    df.loc[df['arrival_date_month'].str.contains('November'), 'arrival_month'] = 11\n",
    "    \n",
    "    df.loc[df['arrival_date_month'].str.contains('December'), 'arrival_month'] = 12\n",
    "    df.loc[df['arrival_date_month'].str.contains('January'), 'arrival_month'] = 1\n",
    "    df.loc[df['arrival_date_month'].str.contains('February'), 'arrival_month'] = 2\n",
    "    \n",
    "    df.loc[df['arrival_date_month'].str.contains('March'), 'arrival_month'] = 3\n",
    "    df.loc[df['arrival_date_month'].str.contains('April'), 'arrival_month'] = 4\n",
    "    df.loc[df['arrival_date_month'].str.contains('May'), 'arrival_month'] = 5\n",
    "    \n",
    "    df=df.drop(['arrival_date_month'],axis=1)\n",
    "    df['revenue']=(df['total_nights']*df['price_class']*df['season_coeff']-(np.ceil(df['total_nights']/2))*df['service'])\n",
    "    df['potential_loss']=-(df['service']+df['price_class']*df['season_coeff'])\n",
    "    \n",
    "    \n",
    "    return df"
   ]
  },
  {
   "cell_type": "code",
   "execution_count": 59,
   "metadata": {},
   "outputs": [],
   "source": [
    "train=price_class(train)\n",
    "test=price_class(test)"
   ]
  },
  {
   "cell_type": "markdown",
   "metadata": {},
   "source": [
    "Дропаем reserved_room_type, у нас есть price_class"
   ]
  },
  {
   "cell_type": "code",
   "execution_count": 60,
   "metadata": {},
   "outputs": [],
   "source": [
    "train=train.drop(['reserved_room_type'],axis=1)\n",
    "test=test.drop(['reserved_room_type'],axis=1)"
   ]
  },
  {
   "cell_type": "markdown",
   "metadata": {},
   "source": [
    "Предварительно радуемся, избавились от фичей с типом object и как результат танцев с бубном. и заодно решили примерно 60 процентов задачи"
   ]
  },
  {
   "cell_type": "code",
   "execution_count": 61,
   "metadata": {},
   "outputs": [
    {
     "name": "stdout",
     "output_type": "stream",
     "text": [
      "<class 'pandas.core.frame.DataFrame'>\n",
      "Int64Index: 42307 entries, 0 to 65228\n",
      "Data columns (total 21 columns):\n",
      " #   Column                          Non-Null Count  Dtype  \n",
      "---  ------                          --------------  -----  \n",
      " 0   is_canceled                     42307 non-null  int64  \n",
      " 1   lead_time                       42307 non-null  float64\n",
      " 2   arrival_date_week_number        42307 non-null  int64  \n",
      " 3   arrival_date_day_of_month       42307 non-null  int64  \n",
      " 4   adults                          42307 non-null  float64\n",
      " 5   children                        42307 non-null  float64\n",
      " 6   babies                          42307 non-null  float64\n",
      " 7   is_repeated_guest               42307 non-null  int64  \n",
      " 8   previous_cancellations          42307 non-null  int64  \n",
      " 9   previous_bookings_not_canceled  42307 non-null  int64  \n",
      " 10  booking_changes                 42307 non-null  int64  \n",
      " 11  days_in_waiting_list            42307 non-null  int64  \n",
      " 12  required_car_parking_spaces     42307 non-null  int64  \n",
      " 13  total_of_special_requests       42307 non-null  int64  \n",
      " 14  total_nights                    42307 non-null  int64  \n",
      " 15  price_class                     42307 non-null  float64\n",
      " 16  service                         42307 non-null  float64\n",
      " 17  season_coeff                    42307 non-null  float64\n",
      " 18  arrival_month                   42307 non-null  float64\n",
      " 19  revenue                         42307 non-null  float64\n",
      " 20  potential_loss                  42307 non-null  float64\n",
      "dtypes: float64(10), int64(11)\n",
      "memory usage: 7.1 MB\n"
     ]
    }
   ],
   "source": [
    "train.info()"
   ]
  },
  {
   "cell_type": "code",
   "execution_count": 62,
   "metadata": {},
   "outputs": [
    {
     "name": "stdout",
     "output_type": "stream",
     "text": [
      "<class 'pandas.core.frame.DataFrame'>\n",
      "Int64Index: 24163 entries, 0 to 32411\n",
      "Data columns (total 21 columns):\n",
      " #   Column                          Non-Null Count  Dtype  \n",
      "---  ------                          --------------  -----  \n",
      " 0   is_canceled                     24163 non-null  int64  \n",
      " 1   lead_time                       24163 non-null  float64\n",
      " 2   arrival_date_week_number        24163 non-null  int64  \n",
      " 3   arrival_date_day_of_month       24163 non-null  int64  \n",
      " 4   adults                          24163 non-null  float64\n",
      " 5   children                        24163 non-null  float64\n",
      " 6   babies                          24163 non-null  float64\n",
      " 7   is_repeated_guest               24163 non-null  int64  \n",
      " 8   previous_cancellations          24163 non-null  int64  \n",
      " 9   previous_bookings_not_canceled  24163 non-null  int64  \n",
      " 10  booking_changes                 24163 non-null  int64  \n",
      " 11  days_in_waiting_list            24163 non-null  int64  \n",
      " 12  required_car_parking_spaces     24163 non-null  int64  \n",
      " 13  total_of_special_requests       24163 non-null  int64  \n",
      " 14  total_nights                    24163 non-null  int64  \n",
      " 15  price_class                     24163 non-null  float64\n",
      " 16  service                         24163 non-null  float64\n",
      " 17  season_coeff                    24163 non-null  float64\n",
      " 18  arrival_month                   24163 non-null  float64\n",
      " 19  revenue                         24163 non-null  float64\n",
      " 20  potential_loss                  24163 non-null  float64\n",
      "dtypes: float64(10), int64(11)\n",
      "memory usage: 4.1 MB\n"
     ]
    }
   ],
   "source": [
    "test.info()"
   ]
  },
  {
   "cell_type": "code",
   "execution_count": 63,
   "metadata": {},
   "outputs": [],
   "source": [
    "train=train.drop_duplicates()\n",
    "test=test.drop_duplicates()"
   ]
  },
  {
   "cell_type": "code",
   "execution_count": 64,
   "metadata": {},
   "outputs": [],
   "source": [
    "#profile_train = train.profile_report(title='Train Profiling Report', progress_bar=False)\n",
    "#profile_train"
   ]
  },
  {
   "cell_type": "code",
   "execution_count": 65,
   "metadata": {},
   "outputs": [],
   "source": [
    "#profile_test = test.profile_report(title='Test Profiling Report', progress_bar=False)\n",
    "#profile_test"
   ]
  },
  {
   "cell_type": "code",
   "execution_count": 66,
   "metadata": {},
   "outputs": [
    {
     "data": {
      "text/plain": [
       "Index(['is_canceled', 'lead_time', 'arrival_date_week_number',\n",
       "       'arrival_date_day_of_month', 'adults', 'children', 'babies',\n",
       "       'is_repeated_guest', 'previous_cancellations',\n",
       "       'previous_bookings_not_canceled', 'booking_changes',\n",
       "       'days_in_waiting_list', 'required_car_parking_spaces',\n",
       "       'total_of_special_requests', 'total_nights', 'price_class', 'service',\n",
       "       'season_coeff', 'arrival_month', 'revenue', 'potential_loss'],\n",
       "      dtype='object')"
      ]
     },
     "execution_count": 66,
     "metadata": {},
     "output_type": "execute_result"
    }
   ],
   "source": [
    "train.columns"
   ]
  },
  {
   "cell_type": "code",
   "execution_count": 67,
   "metadata": {},
   "outputs": [
    {
     "data": {
      "text/plain": [
       "count    41595.000000\n",
       "mean         0.685900\n",
       "std          0.807018\n",
       "min          0.000000\n",
       "25%          0.000000\n",
       "50%          0.000000\n",
       "75%          1.000000\n",
       "max          5.000000\n",
       "Name: total_of_special_requests, dtype: float64"
      ]
     },
     "execution_count": 67,
     "metadata": {},
     "output_type": "execute_result"
    }
   ],
   "source": [
    "train['total_of_special_requests'].describe()\n"
   ]
  },
  {
   "cell_type": "markdown",
   "metadata": {},
   "source": [
    "После проведенных преобразований и классификации признаков, получаем следующее разделение:\n",
    "\n",
    "- `is_canceled`: Таргет, бинарный признак (0 - не отменено, 1 - отменено).\n",
    "- `lead_time`: Настоящий числовой признак.\n",
    "- `arrival_date_week_number`: Категориальный признак.\n",
    "- `arrival_date_day_of_month`: Категориальный признак.\n",
    "- `adults`: Бинарный признак (0 - нет взрослых, 1 - есть взрослые).\n",
    "- `children`: Бинарный признак (0 - нет детей, 1 - есть дети).\n",
    "- `babies`: Бинарный признак (0 - нет младенцев, 1 - есть младенцы).\n",
    "- `is_repeated_guest`: Категориальный бинарный признак (0 - не повторный гость, 1 - повторный гость).\n",
    "- `previous_cancellations`: Настоящий числовой признак.\n",
    "- `previous_bookings_not_canceled`: Настоящий числовой признак.\n",
    "- `booking_changes`: Настоящий числовой признак.\n",
    "- `days_in_waiting_list`: Настоящий числовой признак.\n",
    "- `required_car_parking_spaces`: Категориальный бинарный признак (0 - не требуется место для автомобиля, 1 - требуется место для автомобиля).\n",
    "- `total_of_special_requests`: Категориальный признак.\n",
    "- `total_nights`: Настоящий числовой признак.\n",
    "- `arrival_month`: Категориальный признак.\n",
    "\n",
    "Таким образом, признаки были преобразованы и классифицированы в соответствии с их характером и целью использования в модели."
   ]
  },
  {
   "cell_type": "markdown",
   "metadata": {},
   "source": [
    "Исключим из признаков `'revenue'`, `'potential_loss'`, `'service'`, так как они представляют собой эрзац `'price_class'`, `'arrival_month'`, и `'season_coeff'` оставим, так как они были перекодированы и имеют информацию о ценовом классе, месяце прибытия и коэффициенте сезона."
   ]
  },
  {
   "cell_type": "code",
   "execution_count": 68,
   "metadata": {},
   "outputs": [
    {
     "data": {
      "text/plain": [
       "Index(['is_canceled', 'lead_time', 'arrival_date_week_number',\n",
       "       'arrival_date_day_of_month', 'adults', 'children', 'babies',\n",
       "       'is_repeated_guest', 'previous_cancellations',\n",
       "       'previous_bookings_not_canceled', 'booking_changes',\n",
       "       'days_in_waiting_list', 'required_car_parking_spaces',\n",
       "       'total_of_special_requests', 'total_nights', 'price_class', 'service',\n",
       "       'season_coeff', 'arrival_month', 'revenue', 'potential_loss'],\n",
       "      dtype='object')"
      ]
     },
     "execution_count": 68,
     "metadata": {},
     "output_type": "execute_result"
    }
   ],
   "source": [
    "train.columns"
   ]
  },
  {
   "cell_type": "code",
   "execution_count": 69,
   "metadata": {},
   "outputs": [],
   "source": [
    "#profile_train = train.profile_report(title='Train Profiling Report', progress_bar=False)\n",
    "#profile_train"
   ]
  },
  {
   "cell_type": "code",
   "execution_count": 70,
   "metadata": {},
   "outputs": [],
   "source": [
    "#profile_test = test.profile_report(title='Test Profiling Report', progress_bar=False)\n",
    "#profile_test"
   ]
  },
  {
   "cell_type": "markdown",
   "metadata": {},
   "source": [
    "`arrival_date_week_number, arrival_month` -убираем, "
   ]
  },
  {
   "cell_type": "code",
   "execution_count": 71,
   "metadata": {},
   "outputs": [],
   "source": [
    "train=train.drop(['arrival_date_week_number', 'arrival_month'],axis=1)\n",
    "test=test.drop(['arrival_date_week_number', 'arrival_month'],axis=1)"
   ]
  },
  {
   "cell_type": "code",
   "execution_count": 72,
   "metadata": {},
   "outputs": [],
   "source": [
    "#profile_train = train.profile_report(title='Train Profiling Report', progress_bar=False)\n",
    "#profile_train"
   ]
  },
  {
   "cell_type": "code",
   "execution_count": 73,
   "metadata": {},
   "outputs": [],
   "source": [
    "#profile_test = test.profile_report(title='Test Profiling Report', progress_bar=False)\n",
    "#profile_test"
   ]
  },
  {
   "cell_type": "markdown",
   "metadata": {},
   "source": [
    "Еще дропаем дубликаты"
   ]
  },
  {
   "cell_type": "code",
   "execution_count": 74,
   "metadata": {},
   "outputs": [],
   "source": [
    "train=train.drop_duplicates()\n",
    "test=test.drop_duplicates()"
   ]
  },
  {
   "cell_type": "code",
   "execution_count": 75,
   "metadata": {},
   "outputs": [],
   "source": [
    "#profile_train = train.profile_report(title='Train Profiling Report', progress_bar=False)\n",
    "#profile_train"
   ]
  },
  {
   "cell_type": "code",
   "execution_count": 76,
   "metadata": {},
   "outputs": [],
   "source": [
    "#profile_test = test.profile_report(title='Test Profiling Report', progress_bar=False)\n",
    "#profile_test"
   ]
  },
  {
   "cell_type": "markdown",
   "metadata": {},
   "source": [
    "Проведем быструю визуализацию полей"
   ]
  },
  {
   "cell_type": "code",
   "execution_count": 77,
   "metadata": {},
   "outputs": [],
   "source": [
    "# Функция вывода пределов для сброса по методу IQR принимает на вход массив.describe() из числовых значений\n",
    "# Рекомендация  использовать значения типа float | int \n",
    "# индекс- колонка с названием исходного столбца для нашего случая \n",
    "#'index','CreditScore','Age', 'Tenure', 'Balance', 'NumOfProducts','EstimatedSalary'\n",
    "def iqr(stat_df_describe):\n",
    "    stat_df_describe=pd.DataFrame(stat_df_describe.describe())\n",
    "    stat_df_describe=stat_df_describe.reset_index(drop=True)\n",
    "    top_limit=[]\n",
    "    bot_limit=[]\n",
    "    columns_lst=[]\n",
    "    for value in stat_df_describe.columns:\n",
    "        limit_up=stat_df_describe[value][6]+1.5*(stat_df_describe[value][6]-stat_df_describe[value][4])\n",
    "        limit_low=stat_df_describe[value][4]-1.5*(stat_df_describe[value][6]-stat_df_describe[value][4])\n",
    "        top_limit.append(limit_up)\n",
    "        bot_limit.append(limit_low)\n",
    "        columns_lst.append(value)\n",
    "        dictionary={'Columns':columns_lst, 'Top_limit':top_limit,'Bot_limit':bot_limit}\n",
    "        a=pd.DataFrame(dictionary)\n",
    "                \n",
    "        \n",
    "    return a"
   ]
  },
  {
   "cell_type": "code",
   "execution_count": 78,
   "metadata": {},
   "outputs": [
    {
     "data": {
      "text/html": [
       "<div>\n",
       "<style scoped>\n",
       "    .dataframe tbody tr th:only-of-type {\n",
       "        vertical-align: middle;\n",
       "    }\n",
       "\n",
       "    .dataframe tbody tr th {\n",
       "        vertical-align: top;\n",
       "    }\n",
       "\n",
       "    .dataframe thead th {\n",
       "        text-align: right;\n",
       "    }\n",
       "</style>\n",
       "<table border=\"1\" class=\"dataframe\">\n",
       "  <thead>\n",
       "    <tr style=\"text-align: right;\">\n",
       "      <th></th>\n",
       "      <th>Columns</th>\n",
       "      <th>Top_limit</th>\n",
       "      <th>Bot_limit</th>\n",
       "    </tr>\n",
       "  </thead>\n",
       "  <tbody>\n",
       "    <tr>\n",
       "      <th>0</th>\n",
       "      <td>is_canceled</td>\n",
       "      <td>2.5</td>\n",
       "      <td>-1.5</td>\n",
       "    </tr>\n",
       "    <tr>\n",
       "      <th>1</th>\n",
       "      <td>lead_time</td>\n",
       "      <td>243.5</td>\n",
       "      <td>-128.5</td>\n",
       "    </tr>\n",
       "    <tr>\n",
       "      <th>2</th>\n",
       "      <td>arrival_date_day_of_month</td>\n",
       "      <td>48.0</td>\n",
       "      <td>-16.0</td>\n",
       "    </tr>\n",
       "    <tr>\n",
       "      <th>3</th>\n",
       "      <td>adults</td>\n",
       "      <td>2.0</td>\n",
       "      <td>2.0</td>\n",
       "    </tr>\n",
       "    <tr>\n",
       "      <th>4</th>\n",
       "      <td>children</td>\n",
       "      <td>0.0</td>\n",
       "      <td>0.0</td>\n",
       "    </tr>\n",
       "    <tr>\n",
       "      <th>5</th>\n",
       "      <td>babies</td>\n",
       "      <td>0.0</td>\n",
       "      <td>0.0</td>\n",
       "    </tr>\n",
       "    <tr>\n",
       "      <th>6</th>\n",
       "      <td>is_repeated_guest</td>\n",
       "      <td>0.0</td>\n",
       "      <td>0.0</td>\n",
       "    </tr>\n",
       "    <tr>\n",
       "      <th>7</th>\n",
       "      <td>previous_cancellations</td>\n",
       "      <td>0.0</td>\n",
       "      <td>0.0</td>\n",
       "    </tr>\n",
       "    <tr>\n",
       "      <th>8</th>\n",
       "      <td>previous_bookings_not_canceled</td>\n",
       "      <td>0.0</td>\n",
       "      <td>0.0</td>\n",
       "    </tr>\n",
       "    <tr>\n",
       "      <th>9</th>\n",
       "      <td>booking_changes</td>\n",
       "      <td>0.0</td>\n",
       "      <td>0.0</td>\n",
       "    </tr>\n",
       "    <tr>\n",
       "      <th>10</th>\n",
       "      <td>days_in_waiting_list</td>\n",
       "      <td>0.0</td>\n",
       "      <td>0.0</td>\n",
       "    </tr>\n",
       "    <tr>\n",
       "      <th>11</th>\n",
       "      <td>required_car_parking_spaces</td>\n",
       "      <td>0.0</td>\n",
       "      <td>0.0</td>\n",
       "    </tr>\n",
       "    <tr>\n",
       "      <th>12</th>\n",
       "      <td>total_of_special_requests</td>\n",
       "      <td>2.5</td>\n",
       "      <td>-1.5</td>\n",
       "    </tr>\n",
       "    <tr>\n",
       "      <th>13</th>\n",
       "      <td>total_nights</td>\n",
       "      <td>7.0</td>\n",
       "      <td>-1.0</td>\n",
       "    </tr>\n",
       "    <tr>\n",
       "      <th>14</th>\n",
       "      <td>price_class</td>\n",
       "      <td>1675.0</td>\n",
       "      <td>-125.0</td>\n",
       "    </tr>\n",
       "    <tr>\n",
       "      <th>15</th>\n",
       "      <td>service</td>\n",
       "      <td>775.0</td>\n",
       "      <td>-225.0</td>\n",
       "    </tr>\n",
       "    <tr>\n",
       "      <th>16</th>\n",
       "      <td>season_coeff</td>\n",
       "      <td>1.7</td>\n",
       "      <td>0.9</td>\n",
       "    </tr>\n",
       "    <tr>\n",
       "      <th>17</th>\n",
       "      <td>revenue</td>\n",
       "      <td>7475.0</td>\n",
       "      <td>-2325.0</td>\n",
       "    </tr>\n",
       "    <tr>\n",
       "      <th>18</th>\n",
       "      <td>potential_loss</td>\n",
       "      <td>100.0</td>\n",
       "      <td>-2620.0</td>\n",
       "    </tr>\n",
       "  </tbody>\n",
       "</table>\n",
       "</div>"
      ],
      "text/plain": [
       "                           Columns  Top_limit  Bot_limit\n",
       "0                      is_canceled        2.5       -1.5\n",
       "1                        lead_time      243.5     -128.5\n",
       "2        arrival_date_day_of_month       48.0      -16.0\n",
       "3                           adults        2.0        2.0\n",
       "4                         children        0.0        0.0\n",
       "5                           babies        0.0        0.0\n",
       "6                is_repeated_guest        0.0        0.0\n",
       "7           previous_cancellations        0.0        0.0\n",
       "8   previous_bookings_not_canceled        0.0        0.0\n",
       "9                  booking_changes        0.0        0.0\n",
       "10            days_in_waiting_list        0.0        0.0\n",
       "11     required_car_parking_spaces        0.0        0.0\n",
       "12       total_of_special_requests        2.5       -1.5\n",
       "13                    total_nights        7.0       -1.0\n",
       "14                     price_class     1675.0     -125.0\n",
       "15                         service      775.0     -225.0\n",
       "16                    season_coeff        1.7        0.9\n",
       "17                         revenue     7475.0    -2325.0\n",
       "18                  potential_loss      100.0    -2620.0"
      ]
     },
     "execution_count": 78,
     "metadata": {},
     "output_type": "execute_result"
    }
   ],
   "source": [
    "train_lim=iqr(train)\n",
    "train_lim"
   ]
  },
  {
   "cell_type": "code",
   "execution_count": 79,
   "metadata": {},
   "outputs": [
    {
     "data": {
      "text/html": [
       "<div>\n",
       "<style scoped>\n",
       "    .dataframe tbody tr th:only-of-type {\n",
       "        vertical-align: middle;\n",
       "    }\n",
       "\n",
       "    .dataframe tbody tr th {\n",
       "        vertical-align: top;\n",
       "    }\n",
       "\n",
       "    .dataframe thead th {\n",
       "        text-align: right;\n",
       "    }\n",
       "</style>\n",
       "<table border=\"1\" class=\"dataframe\">\n",
       "  <thead>\n",
       "    <tr style=\"text-align: right;\">\n",
       "      <th></th>\n",
       "      <th>Columns</th>\n",
       "      <th>Top_limit</th>\n",
       "      <th>Bot_limit</th>\n",
       "    </tr>\n",
       "  </thead>\n",
       "  <tbody>\n",
       "    <tr>\n",
       "      <th>0</th>\n",
       "      <td>is_canceled</td>\n",
       "      <td>2.5</td>\n",
       "      <td>-1.5</td>\n",
       "    </tr>\n",
       "    <tr>\n",
       "      <th>1</th>\n",
       "      <td>lead_time</td>\n",
       "      <td>337.0</td>\n",
       "      <td>-175.0</td>\n",
       "    </tr>\n",
       "    <tr>\n",
       "      <th>2</th>\n",
       "      <td>arrival_date_day_of_month</td>\n",
       "      <td>45.5</td>\n",
       "      <td>-14.5</td>\n",
       "    </tr>\n",
       "    <tr>\n",
       "      <th>3</th>\n",
       "      <td>adults</td>\n",
       "      <td>2.0</td>\n",
       "      <td>2.0</td>\n",
       "    </tr>\n",
       "    <tr>\n",
       "      <th>4</th>\n",
       "      <td>children</td>\n",
       "      <td>0.0</td>\n",
       "      <td>0.0</td>\n",
       "    </tr>\n",
       "    <tr>\n",
       "      <th>5</th>\n",
       "      <td>babies</td>\n",
       "      <td>0.0</td>\n",
       "      <td>0.0</td>\n",
       "    </tr>\n",
       "    <tr>\n",
       "      <th>6</th>\n",
       "      <td>is_repeated_guest</td>\n",
       "      <td>0.0</td>\n",
       "      <td>0.0</td>\n",
       "    </tr>\n",
       "    <tr>\n",
       "      <th>7</th>\n",
       "      <td>previous_cancellations</td>\n",
       "      <td>0.0</td>\n",
       "      <td>0.0</td>\n",
       "    </tr>\n",
       "    <tr>\n",
       "      <th>8</th>\n",
       "      <td>previous_bookings_not_canceled</td>\n",
       "      <td>0.0</td>\n",
       "      <td>0.0</td>\n",
       "    </tr>\n",
       "    <tr>\n",
       "      <th>9</th>\n",
       "      <td>booking_changes</td>\n",
       "      <td>0.0</td>\n",
       "      <td>0.0</td>\n",
       "    </tr>\n",
       "    <tr>\n",
       "      <th>10</th>\n",
       "      <td>days_in_waiting_list</td>\n",
       "      <td>0.0</td>\n",
       "      <td>0.0</td>\n",
       "    </tr>\n",
       "    <tr>\n",
       "      <th>11</th>\n",
       "      <td>required_car_parking_spaces</td>\n",
       "      <td>0.0</td>\n",
       "      <td>0.0</td>\n",
       "    </tr>\n",
       "    <tr>\n",
       "      <th>12</th>\n",
       "      <td>total_of_special_requests</td>\n",
       "      <td>2.5</td>\n",
       "      <td>-1.5</td>\n",
       "    </tr>\n",
       "    <tr>\n",
       "      <th>13</th>\n",
       "      <td>total_nights</td>\n",
       "      <td>7.0</td>\n",
       "      <td>-1.0</td>\n",
       "    </tr>\n",
       "    <tr>\n",
       "      <th>14</th>\n",
       "      <td>price_class</td>\n",
       "      <td>1675.0</td>\n",
       "      <td>-125.0</td>\n",
       "    </tr>\n",
       "    <tr>\n",
       "      <th>15</th>\n",
       "      <td>service</td>\n",
       "      <td>775.0</td>\n",
       "      <td>-225.0</td>\n",
       "    </tr>\n",
       "    <tr>\n",
       "      <th>16</th>\n",
       "      <td>season_coeff</td>\n",
       "      <td>1.7</td>\n",
       "      <td>0.9</td>\n",
       "    </tr>\n",
       "    <tr>\n",
       "      <th>17</th>\n",
       "      <td>revenue</td>\n",
       "      <td>7250.0</td>\n",
       "      <td>-1950.0</td>\n",
       "    </tr>\n",
       "    <tr>\n",
       "      <th>18</th>\n",
       "      <td>potential_loss</td>\n",
       "      <td>400.0</td>\n",
       "      <td>-3120.0</td>\n",
       "    </tr>\n",
       "  </tbody>\n",
       "</table>\n",
       "</div>"
      ],
      "text/plain": [
       "                           Columns  Top_limit  Bot_limit\n",
       "0                      is_canceled        2.5       -1.5\n",
       "1                        lead_time      337.0     -175.0\n",
       "2        arrival_date_day_of_month       45.5      -14.5\n",
       "3                           adults        2.0        2.0\n",
       "4                         children        0.0        0.0\n",
       "5                           babies        0.0        0.0\n",
       "6                is_repeated_guest        0.0        0.0\n",
       "7           previous_cancellations        0.0        0.0\n",
       "8   previous_bookings_not_canceled        0.0        0.0\n",
       "9                  booking_changes        0.0        0.0\n",
       "10            days_in_waiting_list        0.0        0.0\n",
       "11     required_car_parking_spaces        0.0        0.0\n",
       "12       total_of_special_requests        2.5       -1.5\n",
       "13                    total_nights        7.0       -1.0\n",
       "14                     price_class     1675.0     -125.0\n",
       "15                         service      775.0     -225.0\n",
       "16                    season_coeff        1.7        0.9\n",
       "17                         revenue     7250.0    -1950.0\n",
       "18                  potential_loss      400.0    -3120.0"
      ]
     },
     "execution_count": 79,
     "metadata": {},
     "output_type": "execute_result"
    }
   ],
   "source": [
    "test_lim=iqr(test)\n",
    "test_lim"
   ]
  },
  {
   "cell_type": "markdown",
   "metadata": {},
   "source": [
    "Для фильтрации берем только поля типа тру нумерик, например total_nights"
   ]
  },
  {
   "cell_type": "code",
   "execution_count": 80,
   "metadata": {},
   "outputs": [
    {
     "data": {
      "text/plain": [
       "(40493, 19)"
      ]
     },
     "execution_count": 80,
     "metadata": {},
     "output_type": "execute_result"
    }
   ],
   "source": [
    "train.shape"
   ]
  },
  {
   "cell_type": "code",
   "execution_count": 81,
   "metadata": {},
   "outputs": [],
   "source": [
    "train=train[train['total_nights']<=7]"
   ]
  },
  {
   "cell_type": "code",
   "execution_count": 82,
   "metadata": {},
   "outputs": [
    {
     "data": {
      "text/plain": [
       "(39795, 19)"
      ]
     },
     "execution_count": 82,
     "metadata": {},
     "output_type": "execute_result"
    }
   ],
   "source": [
    "train.shape"
   ]
  },
  {
   "cell_type": "code",
   "execution_count": 83,
   "metadata": {},
   "outputs": [
    {
     "data": {
      "text/plain": [
       "(23742, 19)"
      ]
     },
     "execution_count": 83,
     "metadata": {},
     "output_type": "execute_result"
    }
   ],
   "source": [
    "test.shape"
   ]
  },
  {
   "cell_type": "code",
   "execution_count": 84,
   "metadata": {},
   "outputs": [],
   "source": [
    "test=test[test['total_nights']<=7]"
   ]
  },
  {
   "cell_type": "code",
   "execution_count": 85,
   "metadata": {},
   "outputs": [
    {
     "data": {
      "text/plain": [
       "(23438, 19)"
      ]
     },
     "execution_count": 85,
     "metadata": {},
     "output_type": "execute_result"
    }
   ],
   "source": [
    "test.shape"
   ]
  },
  {
   "cell_type": "code",
   "execution_count": 86,
   "metadata": {},
   "outputs": [],
   "source": [
    "#profile_train = train.profile_report(title='Train Profiling Report', progress_bar=False)\n",
    "#profile_train"
   ]
  },
  {
   "cell_type": "code",
   "execution_count": 87,
   "metadata": {},
   "outputs": [],
   "source": [
    "#profile_test = test.profile_report(title='Test Profiling Report', progress_bar=False)\n",
    "#profile_test"
   ]
  },
  {
   "cell_type": "markdown",
   "metadata": {},
   "source": [
    "Перейдем к лидтайму"
   ]
  },
  {
   "cell_type": "markdown",
   "metadata": {},
   "source": [
    "так-с, а в лидтайме то у нас нули и их много, выброс, видимо, ладно, давайте посмотрим что там не так"
   ]
  },
  {
   "cell_type": "markdown",
   "metadata": {},
   "source": [
    "`lead_time` — количество дней между датой бронирования и датой прибытия; - важный признак"
   ]
  },
  {
   "cell_type": "markdown",
   "metadata": {},
   "source": [
    "Юзеры бронируют день в день, таки это аномалия, в норме такое случается крайне редко - дропаем строки с lead_time =0"
   ]
  },
  {
   "cell_type": "code",
   "execution_count": 88,
   "metadata": {},
   "outputs": [],
   "source": [
    "train=train[train['lead_time']>0]\n",
    "test=test[test['lead_time']>0]"
   ]
  },
  {
   "cell_type": "code",
   "execution_count": 89,
   "metadata": {},
   "outputs": [],
   "source": [
    "train=train.dropna()\n",
    "test=test.dropna()"
   ]
  },
  {
   "cell_type": "code",
   "execution_count": 90,
   "metadata": {},
   "outputs": [],
   "source": [
    "#profile_train = train.profile_report(title='Train Profiling Report', progress_bar=False)\n",
    "#profile_train"
   ]
  },
  {
   "cell_type": "code",
   "execution_count": 91,
   "metadata": {},
   "outputs": [],
   "source": [
    "#profile_test = test.profile_report(title='Test Profiling Report', progress_bar=False)\n",
    "#profile_test"
   ]
  },
  {
   "cell_type": "markdown",
   "metadata": {},
   "source": []
  },
  {
   "cell_type": "code",
   "execution_count": 92,
   "metadata": {},
   "outputs": [],
   "source": [
    "#Дропаем синтетику\n",
    "#train=train.drop(['revenue', 'potential_loss', 'service'],axis=1)\n",
    "#test=test.drop(['revenue', 'potential_loss', 'service'],axis=1)"
   ]
  },
  {
   "cell_type": "code",
   "execution_count": 93,
   "metadata": {},
   "outputs": [
    {
     "name": "stdout",
     "output_type": "stream",
     "text": [
      "<class 'pandas.core.frame.DataFrame'>\n",
      "Int64Index: 37541 entries, 0 to 65228\n",
      "Data columns (total 19 columns):\n",
      " #   Column                          Non-Null Count  Dtype  \n",
      "---  ------                          --------------  -----  \n",
      " 0   is_canceled                     37541 non-null  int64  \n",
      " 1   lead_time                       37541 non-null  float64\n",
      " 2   arrival_date_day_of_month       37541 non-null  int64  \n",
      " 3   adults                          37541 non-null  float64\n",
      " 4   children                        37541 non-null  float64\n",
      " 5   babies                          37541 non-null  float64\n",
      " 6   is_repeated_guest               37541 non-null  int64  \n",
      " 7   previous_cancellations          37541 non-null  int64  \n",
      " 8   previous_bookings_not_canceled  37541 non-null  int64  \n",
      " 9   booking_changes                 37541 non-null  int64  \n",
      " 10  days_in_waiting_list            37541 non-null  int64  \n",
      " 11  required_car_parking_spaces     37541 non-null  int64  \n",
      " 12  total_of_special_requests       37541 non-null  int64  \n",
      " 13  total_nights                    37541 non-null  int64  \n",
      " 14  price_class                     37541 non-null  float64\n",
      " 15  service                         37541 non-null  float64\n",
      " 16  season_coeff                    37541 non-null  float64\n",
      " 17  revenue                         37541 non-null  float64\n",
      " 18  potential_loss                  37541 non-null  float64\n",
      "dtypes: float64(9), int64(10)\n",
      "memory usage: 5.7 MB\n"
     ]
    }
   ],
   "source": [
    "train.info()"
   ]
  },
  {
   "cell_type": "markdown",
   "metadata": {},
   "source": [
    "Рассмотрим оригинальный массив  и сравним с тем, что мы получили посредством вышеизложенных действий\n"
   ]
  },
  {
   "cell_type": "code",
   "execution_count": 94,
   "metadata": {},
   "outputs": [],
   "source": [
    "try:\n",
    "    train_alfa= pd.read_csv('/datasets/hotel_train.csv')\n",
    "    test_alfa= pd.read_csv('/datasets/hotel_test.csv')\n",
    "except:\n",
    "    train_alfa= pd.read_csv(r'C:\\Users\\Admin\\Desktop\\hotel PRoject\\hotel_train.csv')\n",
    "    test_alfa= pd.read_csv(r'C:\\Users\\Admin\\Desktop\\hotel PRoject\\hotel_test.csv')"
   ]
  },
  {
   "cell_type": "code",
   "execution_count": 95,
   "metadata": {},
   "outputs": [
    {
     "data": {
      "text/plain": [
       "(37541, 19)"
      ]
     },
     "execution_count": 95,
     "metadata": {},
     "output_type": "execute_result"
    }
   ],
   "source": [
    "train.shape"
   ]
  },
  {
   "cell_type": "code",
   "execution_count": 96,
   "metadata": {},
   "outputs": [
    {
     "data": {
      "text/plain": [
       "(65229, 25)"
      ]
     },
     "execution_count": 96,
     "metadata": {},
     "output_type": "execute_result"
    }
   ],
   "source": [
    "train_alfa.shape"
   ]
  },
  {
   "cell_type": "code",
   "execution_count": 97,
   "metadata": {},
   "outputs": [
    {
     "data": {
      "text/plain": [
       "(22326, 19)"
      ]
     },
     "execution_count": 97,
     "metadata": {},
     "output_type": "execute_result"
    }
   ],
   "source": [
    "test.shape"
   ]
  },
  {
   "cell_type": "code",
   "execution_count": 98,
   "metadata": {},
   "outputs": [
    {
     "data": {
      "text/plain": [
       "(32412, 25)"
      ]
     },
     "execution_count": 98,
     "metadata": {},
     "output_type": "execute_result"
    }
   ],
   "source": [
    "test_alfa.shape"
   ]
  },
  {
   "cell_type": "code",
   "execution_count": 99,
   "metadata": {},
   "outputs": [
    {
     "data": {
      "text/plain": [
       "Index(['is_canceled', 'lead_time', 'arrival_date_day_of_month', 'adults',\n",
       "       'children', 'babies', 'is_repeated_guest', 'previous_cancellations',\n",
       "       'previous_bookings_not_canceled', 'booking_changes',\n",
       "       'days_in_waiting_list', 'required_car_parking_spaces',\n",
       "       'total_of_special_requests', 'total_nights', 'price_class', 'service',\n",
       "       'season_coeff', 'revenue', 'potential_loss'],\n",
       "      dtype='object')"
      ]
     },
     "execution_count": 99,
     "metadata": {},
     "output_type": "execute_result"
    }
   ],
   "source": [
    "train.columns"
   ]
  },
  {
   "cell_type": "code",
   "execution_count": 100,
   "metadata": {},
   "outputs": [
    {
     "data": {
      "text/plain": [
       "Index(['id', 'is_canceled', 'lead_time', 'arrival_date_year',\n",
       "       'arrival_date_month', 'arrival_date_week_number',\n",
       "       'arrival_date_day_of_month', 'stays_in_weekend_nights',\n",
       "       'stays_in_week_nights', 'adults', 'children', 'babies', 'meal',\n",
       "       'country', 'distribution_channel', 'is_repeated_guest',\n",
       "       'previous_cancellations', 'previous_bookings_not_canceled',\n",
       "       'reserved_room_type', 'booking_changes', 'days_in_waiting_list',\n",
       "       'customer_type', 'required_car_parking_spaces',\n",
       "       'total_of_special_requests', 'total_nights'],\n",
       "      dtype='object')"
      ]
     },
     "execution_count": 100,
     "metadata": {},
     "output_type": "execute_result"
    }
   ],
   "source": [
    "train_alfa.columns"
   ]
  },
  {
   "cell_type": "code",
   "execution_count": 101,
   "metadata": {},
   "outputs": [],
   "source": [
    "#profile_train = train.profile_report(title='Train Profiling Report', progress_bar=False)\n",
    "#profile_train"
   ]
  },
  {
   "cell_type": "code",
   "execution_count": 102,
   "metadata": {},
   "outputs": [],
   "source": [
    "#profile_test = test.profile_report(title='Test Profiling Report', progress_bar=False)\n",
    "#profile_test"
   ]
  },
  {
   "cell_type": "code",
   "execution_count": 103,
   "metadata": {},
   "outputs": [
    {
     "data": {
      "text/html": [
       "<div>\n",
       "<style scoped>\n",
       "    .dataframe tbody tr th:only-of-type {\n",
       "        vertical-align: middle;\n",
       "    }\n",
       "\n",
       "    .dataframe tbody tr th {\n",
       "        vertical-align: top;\n",
       "    }\n",
       "\n",
       "    .dataframe thead th {\n",
       "        text-align: right;\n",
       "    }\n",
       "</style>\n",
       "<table border=\"1\" class=\"dataframe\">\n",
       "  <thead>\n",
       "    <tr style=\"text-align: right;\">\n",
       "      <th></th>\n",
       "      <th>is_canceled</th>\n",
       "      <th>lead_time</th>\n",
       "      <th>arrival_date_day_of_month</th>\n",
       "      <th>adults</th>\n",
       "      <th>children</th>\n",
       "      <th>babies</th>\n",
       "      <th>is_repeated_guest</th>\n",
       "      <th>previous_cancellations</th>\n",
       "      <th>previous_bookings_not_canceled</th>\n",
       "      <th>booking_changes</th>\n",
       "      <th>days_in_waiting_list</th>\n",
       "      <th>required_car_parking_spaces</th>\n",
       "      <th>total_of_special_requests</th>\n",
       "      <th>total_nights</th>\n",
       "      <th>price_class</th>\n",
       "      <th>service</th>\n",
       "      <th>season_coeff</th>\n",
       "      <th>revenue</th>\n",
       "      <th>potential_loss</th>\n",
       "    </tr>\n",
       "  </thead>\n",
       "  <tbody>\n",
       "    <tr>\n",
       "      <th>count</th>\n",
       "      <td>37541.000000</td>\n",
       "      <td>37541.000000</td>\n",
       "      <td>37541.000000</td>\n",
       "      <td>37541.000000</td>\n",
       "      <td>37541.000000</td>\n",
       "      <td>37541.000000</td>\n",
       "      <td>37541.000000</td>\n",
       "      <td>37541.000000</td>\n",
       "      <td>37541.000000</td>\n",
       "      <td>37541.000000</td>\n",
       "      <td>37541.000000</td>\n",
       "      <td>37541.000000</td>\n",
       "      <td>37541.000000</td>\n",
       "      <td>37541.000000</td>\n",
       "      <td>37541.000000</td>\n",
       "      <td>37541.000000</td>\n",
       "      <td>37541.000000</td>\n",
       "      <td>37541.000000</td>\n",
       "      <td>37541.000000</td>\n",
       "    </tr>\n",
       "    <tr>\n",
       "      <th>mean</th>\n",
       "      <td>0.280360</td>\n",
       "      <td>72.469140</td>\n",
       "      <td>15.948243</td>\n",
       "      <td>1.893823</td>\n",
       "      <td>0.109347</td>\n",
       "      <td>0.011534</td>\n",
       "      <td>0.026877</td>\n",
       "      <td>0.044485</td>\n",
       "      <td>0.143896</td>\n",
       "      <td>0.249834</td>\n",
       "      <td>0.764364</td>\n",
       "      <td>0.082923</td>\n",
       "      <td>0.714366</td>\n",
       "      <td>3.280680</td>\n",
       "      <td>851.507685</td>\n",
       "      <td>323.796649</td>\n",
       "      <td>1.219025</td>\n",
       "      <td>2746.898324</td>\n",
       "      <td>-1361.201087</td>\n",
       "    </tr>\n",
       "    <tr>\n",
       "      <th>std</th>\n",
       "      <td>0.449181</td>\n",
       "      <td>73.306561</td>\n",
       "      <td>8.887227</td>\n",
       "      <td>0.483306</td>\n",
       "      <td>0.395032</td>\n",
       "      <td>0.126002</td>\n",
       "      <td>0.161727</td>\n",
       "      <td>0.480901</td>\n",
       "      <td>1.578328</td>\n",
       "      <td>0.693255</td>\n",
       "      <td>9.437117</td>\n",
       "      <td>0.277022</td>\n",
       "      <td>0.815345</td>\n",
       "      <td>1.760829</td>\n",
       "      <td>220.399131</td>\n",
       "      <td>114.229806</td>\n",
       "      <td>0.132278</td>\n",
       "      <td>1732.679776</td>\n",
       "      <td>397.281973</td>\n",
       "    </tr>\n",
       "    <tr>\n",
       "      <th>min</th>\n",
       "      <td>0.000000</td>\n",
       "      <td>1.000000</td>\n",
       "      <td>1.000000</td>\n",
       "      <td>1.000000</td>\n",
       "      <td>0.000000</td>\n",
       "      <td>0.000000</td>\n",
       "      <td>0.000000</td>\n",
       "      <td>0.000000</td>\n",
       "      <td>0.000000</td>\n",
       "      <td>0.000000</td>\n",
       "      <td>0.000000</td>\n",
       "      <td>0.000000</td>\n",
       "      <td>0.000000</td>\n",
       "      <td>1.000000</td>\n",
       "      <td>350.000000</td>\n",
       "      <td>150.000000</td>\n",
       "      <td>1.000000</td>\n",
       "      <td>200.000000</td>\n",
       "      <td>-1800.000000</td>\n",
       "    </tr>\n",
       "    <tr>\n",
       "      <th>25%</th>\n",
       "      <td>0.000000</td>\n",
       "      <td>15.000000</td>\n",
       "      <td>8.000000</td>\n",
       "      <td>2.000000</td>\n",
       "      <td>0.000000</td>\n",
       "      <td>0.000000</td>\n",
       "      <td>0.000000</td>\n",
       "      <td>0.000000</td>\n",
       "      <td>0.000000</td>\n",
       "      <td>0.000000</td>\n",
       "      <td>0.000000</td>\n",
       "      <td>0.000000</td>\n",
       "      <td>0.000000</td>\n",
       "      <td>2.000000</td>\n",
       "      <td>550.000000</td>\n",
       "      <td>150.000000</td>\n",
       "      <td>1.200000</td>\n",
       "      <td>1500.000000</td>\n",
       "      <td>-1600.000000</td>\n",
       "    </tr>\n",
       "    <tr>\n",
       "      <th>50%</th>\n",
       "      <td>0.000000</td>\n",
       "      <td>48.000000</td>\n",
       "      <td>16.000000</td>\n",
       "      <td>2.000000</td>\n",
       "      <td>0.000000</td>\n",
       "      <td>0.000000</td>\n",
       "      <td>0.000000</td>\n",
       "      <td>0.000000</td>\n",
       "      <td>0.000000</td>\n",
       "      <td>0.000000</td>\n",
       "      <td>0.000000</td>\n",
       "      <td>0.000000</td>\n",
       "      <td>1.000000</td>\n",
       "      <td>3.000000</td>\n",
       "      <td>1000.000000</td>\n",
       "      <td>400.000000</td>\n",
       "      <td>1.200000</td>\n",
       "      <td>2400.000000</td>\n",
       "      <td>-1600.000000</td>\n",
       "    </tr>\n",
       "    <tr>\n",
       "      <th>75%</th>\n",
       "      <td>1.000000</td>\n",
       "      <td>108.000000</td>\n",
       "      <td>24.000000</td>\n",
       "      <td>2.000000</td>\n",
       "      <td>0.000000</td>\n",
       "      <td>0.000000</td>\n",
       "      <td>0.000000</td>\n",
       "      <td>0.000000</td>\n",
       "      <td>0.000000</td>\n",
       "      <td>0.000000</td>\n",
       "      <td>0.000000</td>\n",
       "      <td>0.000000</td>\n",
       "      <td>1.000000</td>\n",
       "      <td>4.000000</td>\n",
       "      <td>1000.000000</td>\n",
       "      <td>400.000000</td>\n",
       "      <td>1.400000</td>\n",
       "      <td>3800.000000</td>\n",
       "      <td>-920.000000</td>\n",
       "    </tr>\n",
       "    <tr>\n",
       "      <th>max</th>\n",
       "      <td>1.000000</td>\n",
       "      <td>374.000000</td>\n",
       "      <td>31.000000</td>\n",
       "      <td>4.000000</td>\n",
       "      <td>3.000000</td>\n",
       "      <td>10.000000</td>\n",
       "      <td>1.000000</td>\n",
       "      <td>26.000000</td>\n",
       "      <td>58.000000</td>\n",
       "      <td>17.000000</td>\n",
       "      <td>259.000000</td>\n",
       "      <td>3.000000</td>\n",
       "      <td>5.000000</td>\n",
       "      <td>7.000000</td>\n",
       "      <td>1000.000000</td>\n",
       "      <td>400.000000</td>\n",
       "      <td>1.400000</td>\n",
       "      <td>8200.000000</td>\n",
       "      <td>-500.000000</td>\n",
       "    </tr>\n",
       "  </tbody>\n",
       "</table>\n",
       "</div>"
      ],
      "text/plain": [
       "        is_canceled     lead_time  arrival_date_day_of_month        adults  \\\n",
       "count  37541.000000  37541.000000               37541.000000  37541.000000   \n",
       "mean       0.280360     72.469140                  15.948243      1.893823   \n",
       "std        0.449181     73.306561                   8.887227      0.483306   \n",
       "min        0.000000      1.000000                   1.000000      1.000000   \n",
       "25%        0.000000     15.000000                   8.000000      2.000000   \n",
       "50%        0.000000     48.000000                  16.000000      2.000000   \n",
       "75%        1.000000    108.000000                  24.000000      2.000000   \n",
       "max        1.000000    374.000000                  31.000000      4.000000   \n",
       "\n",
       "           children        babies  is_repeated_guest  previous_cancellations  \\\n",
       "count  37541.000000  37541.000000       37541.000000            37541.000000   \n",
       "mean       0.109347      0.011534           0.026877                0.044485   \n",
       "std        0.395032      0.126002           0.161727                0.480901   \n",
       "min        0.000000      0.000000           0.000000                0.000000   \n",
       "25%        0.000000      0.000000           0.000000                0.000000   \n",
       "50%        0.000000      0.000000           0.000000                0.000000   \n",
       "75%        0.000000      0.000000           0.000000                0.000000   \n",
       "max        3.000000     10.000000           1.000000               26.000000   \n",
       "\n",
       "       previous_bookings_not_canceled  booking_changes  days_in_waiting_list  \\\n",
       "count                    37541.000000     37541.000000          37541.000000   \n",
       "mean                         0.143896         0.249834              0.764364   \n",
       "std                          1.578328         0.693255              9.437117   \n",
       "min                          0.000000         0.000000              0.000000   \n",
       "25%                          0.000000         0.000000              0.000000   \n",
       "50%                          0.000000         0.000000              0.000000   \n",
       "75%                          0.000000         0.000000              0.000000   \n",
       "max                         58.000000        17.000000            259.000000   \n",
       "\n",
       "       required_car_parking_spaces  total_of_special_requests  total_nights  \\\n",
       "count                 37541.000000               37541.000000  37541.000000   \n",
       "mean                      0.082923                   0.714366      3.280680   \n",
       "std                       0.277022                   0.815345      1.760829   \n",
       "min                       0.000000                   0.000000      1.000000   \n",
       "25%                       0.000000                   0.000000      2.000000   \n",
       "50%                       0.000000                   1.000000      3.000000   \n",
       "75%                       0.000000                   1.000000      4.000000   \n",
       "max                       3.000000                   5.000000      7.000000   \n",
       "\n",
       "        price_class       service  season_coeff       revenue  potential_loss  \n",
       "count  37541.000000  37541.000000  37541.000000  37541.000000    37541.000000  \n",
       "mean     851.507685    323.796649      1.219025   2746.898324    -1361.201087  \n",
       "std      220.399131    114.229806      0.132278   1732.679776      397.281973  \n",
       "min      350.000000    150.000000      1.000000    200.000000    -1800.000000  \n",
       "25%      550.000000    150.000000      1.200000   1500.000000    -1600.000000  \n",
       "50%     1000.000000    400.000000      1.200000   2400.000000    -1600.000000  \n",
       "75%     1000.000000    400.000000      1.400000   3800.000000     -920.000000  \n",
       "max     1000.000000    400.000000      1.400000   8200.000000     -500.000000  "
      ]
     },
     "metadata": {},
     "output_type": "display_data"
    }
   ],
   "source": [
    "display(train.describe())"
   ]
  },
  {
   "cell_type": "code",
   "execution_count": 104,
   "metadata": {},
   "outputs": [],
   "source": [
    "train.loc[train['is_canceled']==1, 'true_revenue'] = train['potential_loss']\n",
    "train.loc[train['is_canceled']==0, 'true_revenue'] = train['revenue']"
   ]
  },
  {
   "cell_type": "code",
   "execution_count": 105,
   "metadata": {},
   "outputs": [],
   "source": [
    "test.loc[test['is_canceled']==1, 'true_revenue'] = test['potential_loss']\n",
    "test.loc[test['is_canceled']==0, 'true_revenue'] = test['revenue']"
   ]
  },
  {
   "cell_type": "code",
   "execution_count": 106,
   "metadata": {},
   "outputs": [
    {
     "name": "stdout",
     "output_type": "stream",
     "text": [
      "прибыль отеля до внедрения депозитов для train 59126.32 тыс.рублей\n"
     ]
    }
   ],
   "source": [
    "print('прибыль отеля до внедрения депозитов для train',train['true_revenue'].sum()/1000,'тыс.рублей')"
   ]
  },
  {
   "cell_type": "code",
   "execution_count": 107,
   "metadata": {},
   "outputs": [
    {
     "name": "stdout",
     "output_type": "stream",
     "text": [
      "прибыль отеля до внедрения депозитов для test 30827.09 тыс.рублей\n"
     ]
    }
   ],
   "source": [
    "print('прибыль отеля до внедрения депозитов для test',test['true_revenue'].sum()/1000,'тыс.рублей')"
   ]
  },
  {
   "cell_type": "code",
   "execution_count": 108,
   "metadata": {},
   "outputs": [],
   "source": [
    "train.loc[train['adults']>=1, 'adults'] = 1\n",
    "train.loc[train['adults']==0, 'adults'] = 0\n",
    "test.loc[test['adults']>=1, 'adults'] = 1\n",
    "test.loc[test['adults']==0, 'adults'] = 0"
   ]
  },
  {
   "cell_type": "code",
   "execution_count": 109,
   "metadata": {},
   "outputs": [],
   "source": [
    "train.loc[train['children']>=1, 'children'] = 1\n",
    "train.loc[train['children']==0, 'children'] = 0\n",
    "test.loc[test['children']>=1, 'children'] = 1\n",
    "test.loc[test['children']==0, 'children'] = 0"
   ]
  },
  {
   "cell_type": "code",
   "execution_count": 110,
   "metadata": {},
   "outputs": [],
   "source": [
    "train.loc[train['babies']>=1, 'babies'] = 1\n",
    "train.loc[train['babies']==0, 'babies'] = 0\n",
    "test.loc[test['babies']>=1, 'babies'] = 1\n",
    "test.loc[test['babies']==0, 'babies'] = 0"
   ]
  },
  {
   "cell_type": "code",
   "execution_count": 111,
   "metadata": {},
   "outputs": [],
   "source": [
    "train.loc[train['is_repeated_guest']>=1, 'is_repeated_guest'] = 1\n",
    "train.loc[train['is_repeated_guest']==0, 'is_repeated_guest'] = 0\n",
    "test.loc[test['is_repeated_guest']>=1, 'is_repeated_guest'] = 1\n",
    "test.loc[test['is_repeated_guest']==0, 'is_repeated_guest'] = 0"
   ]
  },
  {
   "cell_type": "code",
   "execution_count": 112,
   "metadata": {},
   "outputs": [],
   "source": [
    "train.loc[train['required_car_parking_spaces']>=1, 'required_car_parking_spaces'] = 1\n",
    "train.loc[train['required_car_parking_spaces']==0, 'required_car_parking_spaces'] = 0\n",
    "test.loc[test['required_car_parking_spaces']>=1, 'required_car_parking_spaces'] = 1\n",
    "test.loc[test['required_car_parking_spaces']==0, 'required_car_parking_spaces'] = 0"
   ]
  },
  {
   "cell_type": "code",
   "execution_count": 113,
   "metadata": {},
   "outputs": [],
   "source": [
    "train.loc[train['previous_cancellations']>=1, 'previous_cancellations'] = 1\n",
    "train.loc[train['previous_cancellations']==0, 'previous_cancellations'] = 0\n",
    "test.loc[test['previous_cancellations']>=1, 'previous_cancellations'] = 1\n",
    "test.loc[test['previous_cancellations']==0, 'previous_cancellations'] = 0"
   ]
  },
  {
   "cell_type": "code",
   "execution_count": 114,
   "metadata": {},
   "outputs": [],
   "source": [
    "train.loc[train['previous_bookings_not_canceled']>=1, 'previous_bookings_not_canceled'] = 1\n",
    "train.loc[train['previous_bookings_not_canceled']==0, 'previous_bookings_not_canceled'] = 0\n",
    "test.loc[test['previous_bookings_not_canceled']>=1, 'previous_bookings_not_canceled'] = 1\n",
    "test.loc[test['previous_bookings_not_canceled']==0, 'previous_bookings_not_canceled'] = 0"
   ]
  },
  {
   "cell_type": "code",
   "execution_count": 115,
   "metadata": {},
   "outputs": [],
   "source": [
    "train.loc[train['days_in_waiting_list']>=1, 'days_in_waiting_list'] = 1\n",
    "train.loc[train['days_in_waiting_list']==0, 'days_in_waiting_list'] = 0\n",
    "test.loc[test['days_in_waiting_list']>=1, 'days_in_waiting_list'] = 1\n",
    "test.loc[test['days_in_waiting_list']==0, 'days_in_waiting_list'] = 0"
   ]
  },
  {
   "cell_type": "code",
   "execution_count": 116,
   "metadata": {},
   "outputs": [],
   "source": [
    "train.loc[train['booking_changes']>=1, 'booking_changes'] = 1\n",
    "train.loc[train['booking_changes']==0, 'booking_changes'] = 0\n",
    "test.loc[test['booking_changes']>=1, 'booking_changes'] = 1\n",
    "test.loc[test['booking_changes']==0, 'booking_changes'] = 0"
   ]
  },
  {
   "cell_type": "code",
   "execution_count": 117,
   "metadata": {},
   "outputs": [],
   "source": [
    "train.loc[train['total_of_special_requests']>=1, 'total_of_special_requests'] = 1\n",
    "train.loc[train['total_of_special_requests']==0, 'total_of_special_requests'] = 0\n",
    "test.loc[test['total_of_special_requests']>=1, 'total_of_special_requests'] = 1\n",
    "test.loc[test['total_of_special_requests']==0, 'total_of_special_requests'] = 0"
   ]
  },
  {
   "cell_type": "code",
   "execution_count": 118,
   "metadata": {},
   "outputs": [],
   "source": [
    "train['adults']=train['adults'].astype('bool')\n",
    "train['children']=train['children'].astype('bool')\n",
    "train['babies']=train['babies'].astype('bool')\n",
    "train['is_repeated_guest']=train['is_repeated_guest'].astype('bool')\n",
    "train['required_car_parking_spaces']=train['required_car_parking_spaces'].astype('bool')\n",
    "train['previous_cancellations']=train['previous_cancellations'].astype('bool')\n",
    "train['previous_bookings_not_canceled']=train['previous_bookings_not_canceled'].astype('bool')\n",
    "train['days_in_waiting_list']=train['days_in_waiting_list'].astype('bool')\n",
    "train['booking_changes']=train['booking_changes'].astype('bool')\n",
    "train['total_of_special_requests']=train['total_of_special_requests'].astype('bool')\n",
    "\n",
    "test['adults']=test['adults'].astype('bool')\n",
    "test['children']=test['children'].astype('bool')\n",
    "test['babies']=test['babies'].astype('bool')\n",
    "test['is_repeated_guest']=test['is_repeated_guest'].astype('bool')\n",
    "test['required_car_parking_spaces']=test['required_car_parking_spaces'].astype('bool')\n",
    "test['previous_cancellations']=test['previous_cancellations'].astype('bool')\n",
    "test['previous_bookings_not_canceled']=test['previous_bookings_not_canceled'].astype('bool')\n",
    "test['booking_changes']=test['booking_changes'].astype('bool')\n",
    "test['days_in_waiting_list']=test['days_in_waiting_list'].astype('bool')\n",
    "\n",
    "test['total_of_special_requests']=test['total_of_special_requests'].astype('bool')\n",
    "\n",
    "\n",
    "       \n"
   ]
  },
  {
   "cell_type": "code",
   "execution_count": null,
   "metadata": {},
   "outputs": [],
   "source": []
  },
  {
   "cell_type": "code",
   "execution_count": 119,
   "metadata": {},
   "outputs": [
    {
     "name": "stdout",
     "output_type": "stream",
     "text": [
      "<class 'pandas.core.frame.DataFrame'>\n",
      "Int64Index: 37541 entries, 0 to 65228\n",
      "Data columns (total 20 columns):\n",
      " #   Column                          Non-Null Count  Dtype  \n",
      "---  ------                          --------------  -----  \n",
      " 0   is_canceled                     37541 non-null  int64  \n",
      " 1   lead_time                       37541 non-null  float64\n",
      " 2   arrival_date_day_of_month       37541 non-null  int64  \n",
      " 3   adults                          37541 non-null  bool   \n",
      " 4   children                        37541 non-null  bool   \n",
      " 5   babies                          37541 non-null  bool   \n",
      " 6   is_repeated_guest               37541 non-null  bool   \n",
      " 7   previous_cancellations          37541 non-null  bool   \n",
      " 8   previous_bookings_not_canceled  37541 non-null  bool   \n",
      " 9   booking_changes                 37541 non-null  bool   \n",
      " 10  days_in_waiting_list            37541 non-null  bool   \n",
      " 11  required_car_parking_spaces     37541 non-null  bool   \n",
      " 12  total_of_special_requests       37541 non-null  bool   \n",
      " 13  total_nights                    37541 non-null  int64  \n",
      " 14  price_class                     37541 non-null  float64\n",
      " 15  service                         37541 non-null  float64\n",
      " 16  season_coeff                    37541 non-null  float64\n",
      " 17  revenue                         37541 non-null  float64\n",
      " 18  potential_loss                  37541 non-null  float64\n",
      " 19  true_revenue                    37541 non-null  float64\n",
      "dtypes: bool(10), float64(7), int64(3)\n",
      "memory usage: 4.5 MB\n"
     ]
    }
   ],
   "source": [
    "train.info()"
   ]
  },
  {
   "cell_type": "code",
   "execution_count": 120,
   "metadata": {},
   "outputs": [],
   "source": [
    "numerical_features = train.select_dtypes(include=['int64', 'float64']).columns.to_list()\n",
    "numerical_features.remove('is_canceled')\n",
    "numerical_features.remove('service')\n",
    "numerical_features.remove('season_coeff')\n",
    "numerical_features.remove('revenue')\n",
    "numerical_features.remove('potential_loss')\n",
    "categorical_features = train.select_dtypes(include=['object', 'bool']).columns.to_list()"
   ]
  },
  {
   "cell_type": "code",
   "execution_count": 121,
   "metadata": {},
   "outputs": [],
   "source": [
    "train_feature=train.drop(['is_canceled'],axis=1)\n",
    "train_target=train['is_canceled']\n"
   ]
  },
  {
   "cell_type": "code",
   "execution_count": 122,
   "metadata": {},
   "outputs": [],
   "source": [
    "test_feature=test.drop(['is_canceled'],axis=1)\n",
    "test_target=test['is_canceled']"
   ]
  },
  {
   "cell_type": "code",
   "execution_count": 123,
   "metadata": {},
   "outputs": [],
   "source": [
    "train_feature=train.drop(['is_canceled'],axis=1)\n",
    "train_target=train['is_canceled']\n",
    "test_feature=test.drop(['is_canceled'],axis=1)\n",
    "test_target=test['is_canceled']"
   ]
  },
  {
   "cell_type": "code",
   "execution_count": 124,
   "metadata": {},
   "outputs": [
    {
     "data": {
      "text/html": [
       "<div>\n",
       "<style scoped>\n",
       "    .dataframe tbody tr th:only-of-type {\n",
       "        vertical-align: middle;\n",
       "    }\n",
       "\n",
       "    .dataframe tbody tr th {\n",
       "        vertical-align: top;\n",
       "    }\n",
       "\n",
       "    .dataframe thead th {\n",
       "        text-align: right;\n",
       "    }\n",
       "</style>\n",
       "<table border=\"1\" class=\"dataframe\">\n",
       "  <thead>\n",
       "    <tr style=\"text-align: right;\">\n",
       "      <th></th>\n",
       "      <th>id</th>\n",
       "      <th>is_canceled</th>\n",
       "      <th>lead_time</th>\n",
       "      <th>arrival_date_year</th>\n",
       "      <th>arrival_date_month</th>\n",
       "      <th>arrival_date_week_number</th>\n",
       "      <th>arrival_date_day_of_month</th>\n",
       "      <th>stays_in_weekend_nights</th>\n",
       "      <th>stays_in_week_nights</th>\n",
       "      <th>adults</th>\n",
       "      <th>...</th>\n",
       "      <th>is_repeated_guest</th>\n",
       "      <th>previous_cancellations</th>\n",
       "      <th>previous_bookings_not_canceled</th>\n",
       "      <th>reserved_room_type</th>\n",
       "      <th>booking_changes</th>\n",
       "      <th>days_in_waiting_list</th>\n",
       "      <th>customer_type</th>\n",
       "      <th>required_car_parking_spaces</th>\n",
       "      <th>total_of_special_requests</th>\n",
       "      <th>total_nights</th>\n",
       "    </tr>\n",
       "  </thead>\n",
       "  <tbody>\n",
       "    <tr>\n",
       "      <th>0</th>\n",
       "      <td>0</td>\n",
       "      <td>0</td>\n",
       "      <td>7.0</td>\n",
       "      <td>2015</td>\n",
       "      <td>July</td>\n",
       "      <td>27</td>\n",
       "      <td>1</td>\n",
       "      <td>0</td>\n",
       "      <td>1</td>\n",
       "      <td>1.0</td>\n",
       "      <td>...</td>\n",
       "      <td>0</td>\n",
       "      <td>0</td>\n",
       "      <td>0</td>\n",
       "      <td>A</td>\n",
       "      <td>0</td>\n",
       "      <td>0</td>\n",
       "      <td>Transient</td>\n",
       "      <td>0</td>\n",
       "      <td>0</td>\n",
       "      <td>1</td>\n",
       "    </tr>\n",
       "    <tr>\n",
       "      <th>1</th>\n",
       "      <td>1</td>\n",
       "      <td>0</td>\n",
       "      <td>14.0</td>\n",
       "      <td>2015</td>\n",
       "      <td>July</td>\n",
       "      <td>27</td>\n",
       "      <td>1</td>\n",
       "      <td>0</td>\n",
       "      <td>2</td>\n",
       "      <td>2.0</td>\n",
       "      <td>...</td>\n",
       "      <td>0</td>\n",
       "      <td>0</td>\n",
       "      <td>0</td>\n",
       "      <td>A</td>\n",
       "      <td>0</td>\n",
       "      <td>0</td>\n",
       "      <td>Transient</td>\n",
       "      <td>0</td>\n",
       "      <td>1</td>\n",
       "      <td>2</td>\n",
       "    </tr>\n",
       "    <tr>\n",
       "      <th>2</th>\n",
       "      <td>2</td>\n",
       "      <td>0</td>\n",
       "      <td>0.0</td>\n",
       "      <td>2015</td>\n",
       "      <td>July</td>\n",
       "      <td>27</td>\n",
       "      <td>1</td>\n",
       "      <td>0</td>\n",
       "      <td>2</td>\n",
       "      <td>2.0</td>\n",
       "      <td>...</td>\n",
       "      <td>0</td>\n",
       "      <td>0</td>\n",
       "      <td>0</td>\n",
       "      <td>C</td>\n",
       "      <td>0</td>\n",
       "      <td>0</td>\n",
       "      <td>Transient</td>\n",
       "      <td>0</td>\n",
       "      <td>0</td>\n",
       "      <td>2</td>\n",
       "    </tr>\n",
       "    <tr>\n",
       "      <th>3</th>\n",
       "      <td>3</td>\n",
       "      <td>0</td>\n",
       "      <td>9.0</td>\n",
       "      <td>2015</td>\n",
       "      <td>July</td>\n",
       "      <td>27</td>\n",
       "      <td>1</td>\n",
       "      <td>0</td>\n",
       "      <td>2</td>\n",
       "      <td>2.0</td>\n",
       "      <td>...</td>\n",
       "      <td>0</td>\n",
       "      <td>0</td>\n",
       "      <td>0</td>\n",
       "      <td>C</td>\n",
       "      <td>0</td>\n",
       "      <td>0</td>\n",
       "      <td>Transient</td>\n",
       "      <td>0</td>\n",
       "      <td>1</td>\n",
       "      <td>2</td>\n",
       "    </tr>\n",
       "    <tr>\n",
       "      <th>4</th>\n",
       "      <td>4</td>\n",
       "      <td>1</td>\n",
       "      <td>85.0</td>\n",
       "      <td>2015</td>\n",
       "      <td>July</td>\n",
       "      <td>27</td>\n",
       "      <td>1</td>\n",
       "      <td>0</td>\n",
       "      <td>3</td>\n",
       "      <td>2.0</td>\n",
       "      <td>...</td>\n",
       "      <td>0</td>\n",
       "      <td>0</td>\n",
       "      <td>0</td>\n",
       "      <td>A</td>\n",
       "      <td>0</td>\n",
       "      <td>0</td>\n",
       "      <td>Transient</td>\n",
       "      <td>0</td>\n",
       "      <td>1</td>\n",
       "      <td>3</td>\n",
       "    </tr>\n",
       "    <tr>\n",
       "      <th>...</th>\n",
       "      <td>...</td>\n",
       "      <td>...</td>\n",
       "      <td>...</td>\n",
       "      <td>...</td>\n",
       "      <td>...</td>\n",
       "      <td>...</td>\n",
       "      <td>...</td>\n",
       "      <td>...</td>\n",
       "      <td>...</td>\n",
       "      <td>...</td>\n",
       "      <td>...</td>\n",
       "      <td>...</td>\n",
       "      <td>...</td>\n",
       "      <td>...</td>\n",
       "      <td>...</td>\n",
       "      <td>...</td>\n",
       "      <td>...</td>\n",
       "      <td>...</td>\n",
       "      <td>...</td>\n",
       "      <td>...</td>\n",
       "      <td>...</td>\n",
       "    </tr>\n",
       "    <tr>\n",
       "      <th>65224</th>\n",
       "      <td>84057</td>\n",
       "      <td>0</td>\n",
       "      <td>23.0</td>\n",
       "      <td>2016</td>\n",
       "      <td>December</td>\n",
       "      <td>53</td>\n",
       "      <td>30</td>\n",
       "      <td>2</td>\n",
       "      <td>4</td>\n",
       "      <td>2.0</td>\n",
       "      <td>...</td>\n",
       "      <td>0</td>\n",
       "      <td>0</td>\n",
       "      <td>0</td>\n",
       "      <td>D</td>\n",
       "      <td>0</td>\n",
       "      <td>0</td>\n",
       "      <td>Transient</td>\n",
       "      <td>0</td>\n",
       "      <td>2</td>\n",
       "      <td>6</td>\n",
       "    </tr>\n",
       "    <tr>\n",
       "      <th>65225</th>\n",
       "      <td>84063</td>\n",
       "      <td>0</td>\n",
       "      <td>53.0</td>\n",
       "      <td>2016</td>\n",
       "      <td>December</td>\n",
       "      <td>53</td>\n",
       "      <td>31</td>\n",
       "      <td>2</td>\n",
       "      <td>3</td>\n",
       "      <td>2.0</td>\n",
       "      <td>...</td>\n",
       "      <td>0</td>\n",
       "      <td>0</td>\n",
       "      <td>0</td>\n",
       "      <td>D</td>\n",
       "      <td>0</td>\n",
       "      <td>0</td>\n",
       "      <td>Transient</td>\n",
       "      <td>0</td>\n",
       "      <td>3</td>\n",
       "      <td>5</td>\n",
       "    </tr>\n",
       "    <tr>\n",
       "      <th>65226</th>\n",
       "      <td>84094</td>\n",
       "      <td>0</td>\n",
       "      <td>7.0</td>\n",
       "      <td>2016</td>\n",
       "      <td>December</td>\n",
       "      <td>53</td>\n",
       "      <td>31</td>\n",
       "      <td>2</td>\n",
       "      <td>4</td>\n",
       "      <td>2.0</td>\n",
       "      <td>...</td>\n",
       "      <td>0</td>\n",
       "      <td>0</td>\n",
       "      <td>0</td>\n",
       "      <td>D</td>\n",
       "      <td>0</td>\n",
       "      <td>0</td>\n",
       "      <td>Transient</td>\n",
       "      <td>0</td>\n",
       "      <td>1</td>\n",
       "      <td>6</td>\n",
       "    </tr>\n",
       "    <tr>\n",
       "      <th>65227</th>\n",
       "      <td>84117</td>\n",
       "      <td>0</td>\n",
       "      <td>17.0</td>\n",
       "      <td>2016</td>\n",
       "      <td>December</td>\n",
       "      <td>53</td>\n",
       "      <td>30</td>\n",
       "      <td>2</td>\n",
       "      <td>5</td>\n",
       "      <td>2.0</td>\n",
       "      <td>...</td>\n",
       "      <td>0</td>\n",
       "      <td>0</td>\n",
       "      <td>0</td>\n",
       "      <td>A</td>\n",
       "      <td>0</td>\n",
       "      <td>0</td>\n",
       "      <td>Transient</td>\n",
       "      <td>0</td>\n",
       "      <td>1</td>\n",
       "      <td>7</td>\n",
       "    </tr>\n",
       "    <tr>\n",
       "      <th>65228</th>\n",
       "      <td>84121</td>\n",
       "      <td>0</td>\n",
       "      <td>107.0</td>\n",
       "      <td>2016</td>\n",
       "      <td>December</td>\n",
       "      <td>53</td>\n",
       "      <td>31</td>\n",
       "      <td>2</td>\n",
       "      <td>5</td>\n",
       "      <td>2.0</td>\n",
       "      <td>...</td>\n",
       "      <td>0</td>\n",
       "      <td>0</td>\n",
       "      <td>0</td>\n",
       "      <td>A</td>\n",
       "      <td>0</td>\n",
       "      <td>0</td>\n",
       "      <td>Transient</td>\n",
       "      <td>0</td>\n",
       "      <td>0</td>\n",
       "      <td>7</td>\n",
       "    </tr>\n",
       "  </tbody>\n",
       "</table>\n",
       "<p>65229 rows × 25 columns</p>\n",
       "</div>"
      ],
      "text/plain": [
       "          id  is_canceled  lead_time  arrival_date_year arrival_date_month  \\\n",
       "0          0            0        7.0               2015               July   \n",
       "1          1            0       14.0               2015               July   \n",
       "2          2            0        0.0               2015               July   \n",
       "3          3            0        9.0               2015               July   \n",
       "4          4            1       85.0               2015               July   \n",
       "...      ...          ...        ...                ...                ...   \n",
       "65224  84057            0       23.0               2016           December   \n",
       "65225  84063            0       53.0               2016           December   \n",
       "65226  84094            0        7.0               2016           December   \n",
       "65227  84117            0       17.0               2016           December   \n",
       "65228  84121            0      107.0               2016           December   \n",
       "\n",
       "       arrival_date_week_number  arrival_date_day_of_month  \\\n",
       "0                            27                          1   \n",
       "1                            27                          1   \n",
       "2                            27                          1   \n",
       "3                            27                          1   \n",
       "4                            27                          1   \n",
       "...                         ...                        ...   \n",
       "65224                        53                         30   \n",
       "65225                        53                         31   \n",
       "65226                        53                         31   \n",
       "65227                        53                         30   \n",
       "65228                        53                         31   \n",
       "\n",
       "       stays_in_weekend_nights  stays_in_week_nights  adults  ...  \\\n",
       "0                            0                     1     1.0  ...   \n",
       "1                            0                     2     2.0  ...   \n",
       "2                            0                     2     2.0  ...   \n",
       "3                            0                     2     2.0  ...   \n",
       "4                            0                     3     2.0  ...   \n",
       "...                        ...                   ...     ...  ...   \n",
       "65224                        2                     4     2.0  ...   \n",
       "65225                        2                     3     2.0  ...   \n",
       "65226                        2                     4     2.0  ...   \n",
       "65227                        2                     5     2.0  ...   \n",
       "65228                        2                     5     2.0  ...   \n",
       "\n",
       "       is_repeated_guest  previous_cancellations  \\\n",
       "0                      0                       0   \n",
       "1                      0                       0   \n",
       "2                      0                       0   \n",
       "3                      0                       0   \n",
       "4                      0                       0   \n",
       "...                  ...                     ...   \n",
       "65224                  0                       0   \n",
       "65225                  0                       0   \n",
       "65226                  0                       0   \n",
       "65227                  0                       0   \n",
       "65228                  0                       0   \n",
       "\n",
       "      previous_bookings_not_canceled reserved_room_type booking_changes  \\\n",
       "0                                  0   A                              0   \n",
       "1                                  0   A                              0   \n",
       "2                                  0   C                              0   \n",
       "3                                  0   C                              0   \n",
       "4                                  0   A                              0   \n",
       "...                              ...                ...             ...   \n",
       "65224                              0   D                              0   \n",
       "65225                              0   D                              0   \n",
       "65226                              0   D                              0   \n",
       "65227                              0   A                              0   \n",
       "65228                              0   A                              0   \n",
       "\n",
       "       days_in_waiting_list  customer_type  required_car_parking_spaces  \\\n",
       "0                         0      Transient                            0   \n",
       "1                         0      Transient                            0   \n",
       "2                         0      Transient                            0   \n",
       "3                         0      Transient                            0   \n",
       "4                         0      Transient                            0   \n",
       "...                     ...            ...                          ...   \n",
       "65224                     0      Transient                            0   \n",
       "65225                     0      Transient                            0   \n",
       "65226                     0      Transient                            0   \n",
       "65227                     0      Transient                            0   \n",
       "65228                     0      Transient                            0   \n",
       "\n",
       "      total_of_special_requests  total_nights  \n",
       "0                             0             1  \n",
       "1                             1             2  \n",
       "2                             0             2  \n",
       "3                             1             2  \n",
       "4                             1             3  \n",
       "...                         ...           ...  \n",
       "65224                         2             6  \n",
       "65225                         3             5  \n",
       "65226                         1             6  \n",
       "65227                         1             7  \n",
       "65228                         0             7  \n",
       "\n",
       "[65229 rows x 25 columns]"
      ]
     },
     "execution_count": 124,
     "metadata": {},
     "output_type": "execute_result"
    }
   ],
   "source": [
    "train_alfa"
   ]
  },
  {
   "cell_type": "markdown",
   "metadata": {},
   "source": [
    "Повторно проводить анализ мы не будем. делаем сброс id"
   ]
  },
  {
   "cell_type": "code",
   "execution_count": 125,
   "metadata": {},
   "outputs": [],
   "source": [
    "train=train_alfa"
   ]
  },
  {
   "cell_type": "code",
   "execution_count": 126,
   "metadata": {},
   "outputs": [],
   "source": [
    "test=test_alfa"
   ]
  },
  {
   "cell_type": "code",
   "execution_count": 127,
   "metadata": {},
   "outputs": [],
   "source": [
    "#дропаем id\n",
    "train=train.drop(['id'],axis=1)\n",
    "test=test.drop(['id'],axis=1)"
   ]
  },
  {
   "cell_type": "code",
   "execution_count": 128,
   "metadata": {},
   "outputs": [
    {
     "data": {
      "text/plain": [
       "21377"
      ]
     },
     "execution_count": 128,
     "metadata": {},
     "output_type": "execute_result"
    }
   ],
   "source": [
    "train.duplicated().sum()"
   ]
  },
  {
   "cell_type": "code",
   "execution_count": 129,
   "metadata": {},
   "outputs": [
    {
     "data": {
      "text/plain": [
       "7717"
      ]
     },
     "execution_count": 129,
     "metadata": {},
     "output_type": "execute_result"
    }
   ],
   "source": [
    "test.duplicated().sum()"
   ]
  },
  {
   "cell_type": "code",
   "execution_count": 130,
   "metadata": {},
   "outputs": [],
   "source": [
    "#дропаем дубликаты\n",
    "train=train.drop_duplicates()\n",
    "test=test.drop_duplicates()"
   ]
  },
  {
   "cell_type": "code",
   "execution_count": 131,
   "metadata": {},
   "outputs": [
    {
     "data": {
      "text/plain": [
       "Index(['is_canceled', 'lead_time', 'arrival_date_year', 'arrival_date_month',\n",
       "       'arrival_date_week_number', 'arrival_date_day_of_month',\n",
       "       'stays_in_weekend_nights', 'stays_in_week_nights', 'adults', 'children',\n",
       "       'babies', 'meal', 'country', 'distribution_channel',\n",
       "       'is_repeated_guest', 'previous_cancellations',\n",
       "       'previous_bookings_not_canceled', 'reserved_room_type',\n",
       "       'booking_changes', 'days_in_waiting_list', 'customer_type',\n",
       "       'required_car_parking_spaces', 'total_of_special_requests',\n",
       "       'total_nights'],\n",
       "      dtype='object')"
      ]
     },
     "execution_count": 131,
     "metadata": {},
     "output_type": "execute_result"
    }
   ],
   "source": [
    "train.columns"
   ]
  },
  {
   "cell_type": "code",
   "execution_count": 132,
   "metadata": {},
   "outputs": [],
   "source": [
    "top_20=pd.DataFrame(train['country'].value_counts().head(20))"
   ]
  },
  {
   "cell_type": "code",
   "execution_count": 133,
   "metadata": {},
   "outputs": [],
   "source": [
    "top_20=pd.DataFrame(train['country'].value_counts().head(20))\n",
    "top_20=top_20.reset_index()"
   ]
  },
  {
   "cell_type": "code",
   "execution_count": 134,
   "metadata": {},
   "outputs": [
    {
     "data": {
      "text/html": [
       "<div>\n",
       "<style scoped>\n",
       "    .dataframe tbody tr th:only-of-type {\n",
       "        vertical-align: middle;\n",
       "    }\n",
       "\n",
       "    .dataframe tbody tr th {\n",
       "        vertical-align: top;\n",
       "    }\n",
       "\n",
       "    .dataframe thead th {\n",
       "        text-align: right;\n",
       "    }\n",
       "</style>\n",
       "<table border=\"1\" class=\"dataframe\">\n",
       "  <thead>\n",
       "    <tr style=\"text-align: right;\">\n",
       "      <th></th>\n",
       "      <th>index</th>\n",
       "    </tr>\n",
       "  </thead>\n",
       "  <tbody>\n",
       "    <tr>\n",
       "      <th>0</th>\n",
       "      <td>PRT</td>\n",
       "    </tr>\n",
       "    <tr>\n",
       "      <th>1</th>\n",
       "      <td>FRA</td>\n",
       "    </tr>\n",
       "    <tr>\n",
       "      <th>2</th>\n",
       "      <td>GBR</td>\n",
       "    </tr>\n",
       "    <tr>\n",
       "      <th>3</th>\n",
       "      <td>ESP</td>\n",
       "    </tr>\n",
       "    <tr>\n",
       "      <th>4</th>\n",
       "      <td>DEU</td>\n",
       "    </tr>\n",
       "    <tr>\n",
       "      <th>5</th>\n",
       "      <td>ITA</td>\n",
       "    </tr>\n",
       "    <tr>\n",
       "      <th>6</th>\n",
       "      <td>IRL</td>\n",
       "    </tr>\n",
       "    <tr>\n",
       "      <th>7</th>\n",
       "      <td>BEL</td>\n",
       "    </tr>\n",
       "    <tr>\n",
       "      <th>8</th>\n",
       "      <td>NLD</td>\n",
       "    </tr>\n",
       "    <tr>\n",
       "      <th>9</th>\n",
       "      <td>BRA</td>\n",
       "    </tr>\n",
       "    <tr>\n",
       "      <th>10</th>\n",
       "      <td>USA</td>\n",
       "    </tr>\n",
       "    <tr>\n",
       "      <th>11</th>\n",
       "      <td>CHE</td>\n",
       "    </tr>\n",
       "    <tr>\n",
       "      <th>12</th>\n",
       "      <td>AUT</td>\n",
       "    </tr>\n",
       "    <tr>\n",
       "      <th>13</th>\n",
       "      <td>CHN</td>\n",
       "    </tr>\n",
       "    <tr>\n",
       "      <th>14</th>\n",
       "      <td>CN</td>\n",
       "    </tr>\n",
       "    <tr>\n",
       "      <th>15</th>\n",
       "      <td>POL</td>\n",
       "    </tr>\n",
       "    <tr>\n",
       "      <th>16</th>\n",
       "      <td>SWE</td>\n",
       "    </tr>\n",
       "    <tr>\n",
       "      <th>17</th>\n",
       "      <td>RUS</td>\n",
       "    </tr>\n",
       "    <tr>\n",
       "      <th>18</th>\n",
       "      <td>FIN</td>\n",
       "    </tr>\n",
       "    <tr>\n",
       "      <th>19</th>\n",
       "      <td>ROU</td>\n",
       "    </tr>\n",
       "  </tbody>\n",
       "</table>\n",
       "</div>"
      ],
      "text/plain": [
       "   index\n",
       "0    PRT\n",
       "1    FRA\n",
       "2    GBR\n",
       "3    ESP\n",
       "4    DEU\n",
       "5    ITA\n",
       "6    IRL\n",
       "7    BEL\n",
       "8    NLD\n",
       "9    BRA\n",
       "10   USA\n",
       "11   CHE\n",
       "12   AUT\n",
       "13   CHN\n",
       "14    CN\n",
       "15   POL\n",
       "16   SWE\n",
       "17   RUS\n",
       "18   FIN\n",
       "19   ROU"
      ]
     },
     "execution_count": 134,
     "metadata": {},
     "output_type": "execute_result"
    }
   ],
   "source": [
    "top_20=pd.DataFrame(train['country'].value_counts().head(20))\n",
    "top_20=top_20.reset_index()\n",
    "top_20.drop(['country'],axis=1)"
   ]
  },
  {
   "cell_type": "code",
   "execution_count": 135,
   "metadata": {},
   "outputs": [
    {
     "data": {
      "text/plain": [
       "['PRT',\n",
       " 'FRA',\n",
       " 'GBR',\n",
       " 'ESP',\n",
       " 'DEU',\n",
       " 'ITA',\n",
       " 'IRL',\n",
       " 'BEL',\n",
       " 'NLD',\n",
       " 'BRA',\n",
       " 'USA',\n",
       " 'CHE',\n",
       " 'AUT',\n",
       " 'CHN',\n",
       " 'CN',\n",
       " 'POL',\n",
       " 'SWE',\n",
       " 'RUS',\n",
       " 'FIN',\n",
       " 'ROU']"
      ]
     },
     "execution_count": 135,
     "metadata": {},
     "output_type": "execute_result"
    }
   ],
   "source": [
    "top_20=pd.DataFrame(train['country'].value_counts().head(20))\n",
    "top_20=top_20.reset_index()\n",
    "top_20.drop(['country'],axis=1)\n",
    "top_20['index'].to_list()"
   ]
  },
  {
   "cell_type": "code",
   "execution_count": 136,
   "metadata": {},
   "outputs": [],
   "source": [
    "top_20=pd.DataFrame(train['country'].value_counts().head(20))\n",
    "top_20=top_20.reset_index()\n",
    "top_20.drop(['country'],axis=1)\n",
    "top_20['index'].to_list()\n",
    "test.loc[(test['country'] .isin(top_20['index'].to_list()))==False, 'country'] = 'OTHER'\n",
    "train.loc[(train['country'] .isin(top_20['index'].to_list()))==False, 'country'] = 'OTHER'"
   ]
  },
  {
   "cell_type": "code",
   "execution_count": 137,
   "metadata": {},
   "outputs": [
    {
     "data": {
      "text/plain": [
       "array(['PRT', 'AUT', 'BEL', 'DEU', 'BRA', 'GBR', 'ESP', 'FRA', 'ITA',\n",
       "       'OTHER', 'CHE', 'IRL', 'CN', 'POL', 'NLD', 'ROU', 'USA', 'FIN',\n",
       "       'RUS', 'SWE', 'CHN'], dtype=object)"
      ]
     },
     "execution_count": 137,
     "metadata": {},
     "output_type": "execute_result"
    }
   ],
   "source": [
    "test['country'].unique()"
   ]
  },
  {
   "cell_type": "markdown",
   "metadata": {},
   "source": [
    "Уже лучше, а не +100500 категорий стран"
   ]
  },
  {
   "cell_type": "markdown",
   "metadata": {},
   "source": [
    "Продолжим фиксить это "
   ]
  },
  {
   "cell_type": "code",
   "execution_count": 138,
   "metadata": {},
   "outputs": [
    {
     "data": {
      "text/plain": [
       "Index(['is_canceled', 'lead_time', 'arrival_date_year', 'arrival_date_month',\n",
       "       'arrival_date_week_number', 'arrival_date_day_of_month',\n",
       "       'stays_in_weekend_nights', 'stays_in_week_nights', 'adults', 'children',\n",
       "       'babies', 'meal', 'country', 'distribution_channel',\n",
       "       'is_repeated_guest', 'previous_cancellations',\n",
       "       'previous_bookings_not_canceled', 'reserved_room_type',\n",
       "       'booking_changes', 'days_in_waiting_list', 'customer_type',\n",
       "       'required_car_parking_spaces', 'total_of_special_requests',\n",
       "       'total_nights'],\n",
       "      dtype='object')"
      ]
     },
     "execution_count": 138,
     "metadata": {},
     "output_type": "execute_result"
    }
   ],
   "source": [
    "test.columns"
   ]
  },
  {
   "cell_type": "code",
   "execution_count": 139,
   "metadata": {},
   "outputs": [
    {
     "data": {
      "text/plain": [
       "TA/TO        35185\n",
       "Direct        5822\n",
       "Corporate     2755\n",
       "GDS             90\n",
       "Name: distribution_channel, dtype: int64"
      ]
     },
     "execution_count": 139,
     "metadata": {},
     "output_type": "execute_result"
    }
   ],
   "source": [
    "train['distribution_channel'].value_counts()"
   ]
  },
  {
   "cell_type": "code",
   "execution_count": 140,
   "metadata": {},
   "outputs": [
    {
     "name": "stdout",
     "output_type": "stream",
     "text": [
      "<class 'pandas.core.frame.DataFrame'>\n",
      "Int64Index: 24695 entries, 0 to 32411\n",
      "Data columns (total 24 columns):\n",
      " #   Column                          Non-Null Count  Dtype  \n",
      "---  ------                          --------------  -----  \n",
      " 0   is_canceled                     24695 non-null  int64  \n",
      " 1   lead_time                       24695 non-null  float64\n",
      " 2   arrival_date_year               24695 non-null  int64  \n",
      " 3   arrival_date_month              24695 non-null  object \n",
      " 4   arrival_date_week_number        24695 non-null  int64  \n",
      " 5   arrival_date_day_of_month       24695 non-null  int64  \n",
      " 6   stays_in_weekend_nights         24695 non-null  int64  \n",
      " 7   stays_in_week_nights            24695 non-null  int64  \n",
      " 8   adults                          24695 non-null  float64\n",
      " 9   children                        24695 non-null  float64\n",
      " 10  babies                          24695 non-null  float64\n",
      " 11  meal                            24695 non-null  object \n",
      " 12  country                         24695 non-null  object \n",
      " 13  distribution_channel            24695 non-null  object \n",
      " 14  is_repeated_guest               24695 non-null  int64  \n",
      " 15  previous_cancellations          24695 non-null  int64  \n",
      " 16  previous_bookings_not_canceled  24695 non-null  int64  \n",
      " 17  reserved_room_type              24695 non-null  object \n",
      " 18  booking_changes                 24695 non-null  int64  \n",
      " 19  days_in_waiting_list            24695 non-null  int64  \n",
      " 20  customer_type                   24695 non-null  object \n",
      " 21  required_car_parking_spaces     24695 non-null  int64  \n",
      " 22  total_of_special_requests       24695 non-null  int64  \n",
      " 23  total_nights                    24695 non-null  int64  \n",
      "dtypes: float64(4), int64(14), object(6)\n",
      "memory usage: 4.7+ MB\n"
     ]
    }
   ],
   "source": [
    "test.info()\n"
   ]
  },
  {
   "cell_type": "code",
   "execution_count": 141,
   "metadata": {},
   "outputs": [],
   "source": [
    "def stripp(df):\n",
    "    df['arrival_date_month']=df['arrival_date_month'].str.strip()\n",
    "    df['meal']=df['meal'].str.strip()\n",
    "    df['country']=df['country'].str.strip()\n",
    "    df['distribution_channel']=df['distribution_channel'].str.strip()\n",
    "    df['reserved_room_type']=df['reserved_room_type'].str.strip()\n",
    "    df['customer_type']=df['customer_type'].str.strip()\n",
    "    \n",
    "    return df\n",
    "    \n",
    "    \n",
    "    \n"
   ]
  },
  {
   "cell_type": "code",
   "execution_count": 142,
   "metadata": {},
   "outputs": [],
   "source": [
    "#Исключаем пробелы из категорий\n",
    "train=stripp(train)\n",
    "test=stripp(test)"
   ]
  },
  {
   "cell_type": "code",
   "execution_count": 143,
   "metadata": {},
   "outputs": [],
   "source": [
    "train=train.drop([ 'arrival_date_week_number','stays_in_week_nights','stays_in_weekend_nights','arrival_date_year'],axis=1)\n",
    "test=test.drop(['arrival_date_week_number','stays_in_week_nights','stays_in_weekend_nights','arrival_date_year'],axis=1)"
   ]
  },
  {
   "cell_type": "code",
   "execution_count": 144,
   "metadata": {},
   "outputs": [],
   "source": [
    "train=train.drop_duplicates()\n",
    "test=test.drop_duplicates()"
   ]
  },
  {
   "cell_type": "code",
   "execution_count": 145,
   "metadata": {},
   "outputs": [
    {
     "data": {
      "text/html": [
       "<div>\n",
       "<style scoped>\n",
       "    .dataframe tbody tr th:only-of-type {\n",
       "        vertical-align: middle;\n",
       "    }\n",
       "\n",
       "    .dataframe tbody tr th {\n",
       "        vertical-align: top;\n",
       "    }\n",
       "\n",
       "    .dataframe thead th {\n",
       "        text-align: right;\n",
       "    }\n",
       "</style>\n",
       "<table border=\"1\" class=\"dataframe\">\n",
       "  <thead>\n",
       "    <tr style=\"text-align: right;\">\n",
       "      <th></th>\n",
       "      <th>Columns</th>\n",
       "      <th>Top_limit</th>\n",
       "      <th>Bot_limit</th>\n",
       "    </tr>\n",
       "  </thead>\n",
       "  <tbody>\n",
       "    <tr>\n",
       "      <th>0</th>\n",
       "      <td>is_canceled</td>\n",
       "      <td>2.5</td>\n",
       "      <td>-1.5</td>\n",
       "    </tr>\n",
       "    <tr>\n",
       "      <th>1</th>\n",
       "      <td>lead_time</td>\n",
       "      <td>241.5</td>\n",
       "      <td>-130.5</td>\n",
       "    </tr>\n",
       "    <tr>\n",
       "      <th>2</th>\n",
       "      <td>arrival_date_day_of_month</td>\n",
       "      <td>48.0</td>\n",
       "      <td>-16.0</td>\n",
       "    </tr>\n",
       "    <tr>\n",
       "      <th>3</th>\n",
       "      <td>adults</td>\n",
       "      <td>2.0</td>\n",
       "      <td>2.0</td>\n",
       "    </tr>\n",
       "    <tr>\n",
       "      <th>4</th>\n",
       "      <td>children</td>\n",
       "      <td>0.0</td>\n",
       "      <td>0.0</td>\n",
       "    </tr>\n",
       "    <tr>\n",
       "      <th>5</th>\n",
       "      <td>babies</td>\n",
       "      <td>0.0</td>\n",
       "      <td>0.0</td>\n",
       "    </tr>\n",
       "    <tr>\n",
       "      <th>6</th>\n",
       "      <td>is_repeated_guest</td>\n",
       "      <td>0.0</td>\n",
       "      <td>0.0</td>\n",
       "    </tr>\n",
       "    <tr>\n",
       "      <th>7</th>\n",
       "      <td>previous_cancellations</td>\n",
       "      <td>0.0</td>\n",
       "      <td>0.0</td>\n",
       "    </tr>\n",
       "    <tr>\n",
       "      <th>8</th>\n",
       "      <td>previous_bookings_not_canceled</td>\n",
       "      <td>0.0</td>\n",
       "      <td>0.0</td>\n",
       "    </tr>\n",
       "    <tr>\n",
       "      <th>9</th>\n",
       "      <td>booking_changes</td>\n",
       "      <td>0.0</td>\n",
       "      <td>0.0</td>\n",
       "    </tr>\n",
       "    <tr>\n",
       "      <th>10</th>\n",
       "      <td>days_in_waiting_list</td>\n",
       "      <td>0.0</td>\n",
       "      <td>0.0</td>\n",
       "    </tr>\n",
       "    <tr>\n",
       "      <th>11</th>\n",
       "      <td>required_car_parking_spaces</td>\n",
       "      <td>0.0</td>\n",
       "      <td>0.0</td>\n",
       "    </tr>\n",
       "    <tr>\n",
       "      <th>12</th>\n",
       "      <td>total_of_special_requests</td>\n",
       "      <td>2.5</td>\n",
       "      <td>-1.5</td>\n",
       "    </tr>\n",
       "    <tr>\n",
       "      <th>13</th>\n",
       "      <td>total_nights</td>\n",
       "      <td>7.0</td>\n",
       "      <td>-1.0</td>\n",
       "    </tr>\n",
       "  </tbody>\n",
       "</table>\n",
       "</div>"
      ],
      "text/plain": [
       "                           Columns  Top_limit  Bot_limit\n",
       "0                      is_canceled        2.5       -1.5\n",
       "1                        lead_time      241.5     -130.5\n",
       "2        arrival_date_day_of_month       48.0      -16.0\n",
       "3                           adults        2.0        2.0\n",
       "4                         children        0.0        0.0\n",
       "5                           babies        0.0        0.0\n",
       "6                is_repeated_guest        0.0        0.0\n",
       "7           previous_cancellations        0.0        0.0\n",
       "8   previous_bookings_not_canceled        0.0        0.0\n",
       "9                  booking_changes        0.0        0.0\n",
       "10            days_in_waiting_list        0.0        0.0\n",
       "11     required_car_parking_spaces        0.0        0.0\n",
       "12       total_of_special_requests        2.5       -1.5\n",
       "13                    total_nights        7.0       -1.0"
      ]
     },
     "execution_count": 145,
     "metadata": {},
     "output_type": "execute_result"
    }
   ],
   "source": [
    "train_lim=iqr(train)\n",
    "train_lim"
   ]
  },
  {
   "cell_type": "code",
   "execution_count": 146,
   "metadata": {},
   "outputs": [
    {
     "name": "stdout",
     "output_type": "stream",
     "text": [
      "<class 'pandas.core.frame.DataFrame'>\n",
      "Int64Index: 43749 entries, 0 to 65228\n",
      "Data columns (total 20 columns):\n",
      " #   Column                          Non-Null Count  Dtype  \n",
      "---  ------                          --------------  -----  \n",
      " 0   is_canceled                     43749 non-null  int64  \n",
      " 1   lead_time                       43749 non-null  float64\n",
      " 2   arrival_date_month              43749 non-null  object \n",
      " 3   arrival_date_day_of_month       43749 non-null  int64  \n",
      " 4   adults                          43749 non-null  float64\n",
      " 5   children                        43749 non-null  float64\n",
      " 6   babies                          43749 non-null  float64\n",
      " 7   meal                            43749 non-null  object \n",
      " 8   country                         43749 non-null  object \n",
      " 9   distribution_channel            43749 non-null  object \n",
      " 10  is_repeated_guest               43749 non-null  int64  \n",
      " 11  previous_cancellations          43749 non-null  int64  \n",
      " 12  previous_bookings_not_canceled  43749 non-null  int64  \n",
      " 13  reserved_room_type              43749 non-null  object \n",
      " 14  booking_changes                 43749 non-null  int64  \n",
      " 15  days_in_waiting_list            43749 non-null  int64  \n",
      " 16  customer_type                   43749 non-null  object \n",
      " 17  required_car_parking_spaces     43749 non-null  int64  \n",
      " 18  total_of_special_requests       43749 non-null  int64  \n",
      " 19  total_nights                    43749 non-null  int64  \n",
      "dtypes: float64(4), int64(10), object(6)\n",
      "memory usage: 7.0+ MB\n"
     ]
    }
   ],
   "source": [
    "train.info()"
   ]
  },
  {
   "cell_type": "markdown",
   "metadata": {},
   "source": [
    "### Шаг 3. Формулировка ML-задачи на основе бизнес-задачи"
   ]
  },
  {
   "cell_type": "markdown",
   "metadata": {},
   "source": [
    "Перед нами задача классификации с несбалансированными классами. Таргет is_canceled"
   ]
  },
  {
   "cell_type": "markdown",
   "metadata": {},
   "source": [
    "Для решения задачи классификации с несбалансированными классами, где важны и точность, и полнота предсказаний, можно использовать F1-меру (F1-score). F1-мера является гармоническим средним между точностью (precision) и полнотой (recall). Эта метрика позволяет балансировать компромисс между предсказаниями и избегать слишком большого количества ложных срабатываний или ложных отказов.\n",
    "\n",
    "F1-мера вычисляется по следующей формуле:\n",
    "\n",
    "F1 = 2 * (precision * recall) / (precision + recall)\n",
    "\n",
    "Где:\n",
    "\n",
    "Precision (точность) - это отношение правильно предсказанных положительных классов к общему числу предсказанных положительных классов.\n",
    "Recall (полнота) - это отношение правильно предсказанных положительных классов к общему числу истинных положительных классов.\n",
    "Оптимизируя F1-меру, мы сможем достичь баланса между минимизацией ложных срабатываний и ложных отказов, что поможет вам максимизировать прибыль и рейтинг отеля.\n",
    "\n",
    "Таким образом, при оценке и выборе моделей, а также при настройке гиперпараметров, вы можете использовать F1-меру в качестве основной метрики для оценки качества вашей классификационной модели."
   ]
  },
  {
   "cell_type": "code",
   "execution_count": 147,
   "metadata": {},
   "outputs": [],
   "source": [
    "numerical_features = train.select_dtypes(include=['int64', 'float64']).columns.to_list()\n",
    "numerical_features.remove('is_canceled')\n",
    "\n",
    "categorical_features = train.select_dtypes(include=['object', 'bool']).columns.to_list()\n",
    "\n",
    "train_features=train.drop(['is_canceled'],axis=1)\n",
    "train_target=train['is_canceled']\n",
    "test_features=test.drop(['is_canceled'],axis=1)\n",
    "test_target=test['is_canceled']\n",
    "\n",
    "encoder = OneHotEncoder(drop='first', sparse=False)\n",
    "encoder.fit(train_features[categorical_features])\n",
    "#добавляем закодированные признаки в features,возвращаем названия features\n",
    "train_features[encoder.get_feature_names_out()] = encoder.transform(train_features[categorical_features])\n",
    "test_features[encoder.get_feature_names_out()] = encoder.transform(test_features[categorical_features])\n",
    "\n",
    "#Масштабируем данные\n",
    "# создаём скелер\n",
    "scaler = StandardScaler()\n",
    "\n",
    "# обучаем его на численных признаках тренировочной выборки, трансформируем её же\n",
    "train_features[numerical_features] = scaler.fit_transform(train_features[numerical_features])\n",
    "\n",
    "# скелером, который обучен на ТРЕНИРОВОЧНОЙ ВЫБОРКЕ, масштабируем тестовую\n",
    "test_features[numerical_features] = scaler.transform(test_features[numerical_features])\n",
    "\n",
    "#удаляем незакодированные категориальные признаки (изначальные колонки)\n",
    "train_features = train_features.drop(categorical_features, axis=1)\n",
    "test_features = test_features.drop(categorical_features, axis=1)"
   ]
  },
  {
   "cell_type": "code",
   "execution_count": 148,
   "metadata": {},
   "outputs": [
    {
     "data": {
      "text/html": [
       "<div>\n",
       "<style scoped>\n",
       "    .dataframe tbody tr th:only-of-type {\n",
       "        vertical-align: middle;\n",
       "    }\n",
       "\n",
       "    .dataframe tbody tr th {\n",
       "        vertical-align: top;\n",
       "    }\n",
       "\n",
       "    .dataframe thead th {\n",
       "        text-align: right;\n",
       "    }\n",
       "</style>\n",
       "<table border=\"1\" class=\"dataframe\">\n",
       "  <thead>\n",
       "    <tr style=\"text-align: right;\">\n",
       "      <th></th>\n",
       "      <th>lead_time</th>\n",
       "      <th>arrival_date_day_of_month</th>\n",
       "      <th>adults</th>\n",
       "      <th>children</th>\n",
       "      <th>babies</th>\n",
       "      <th>is_repeated_guest</th>\n",
       "      <th>previous_cancellations</th>\n",
       "      <th>previous_bookings_not_canceled</th>\n",
       "      <th>booking_changes</th>\n",
       "      <th>days_in_waiting_list</th>\n",
       "      <th>...</th>\n",
       "      <th>distribution_channel_TA/TO</th>\n",
       "      <th>reserved_room_type_B</th>\n",
       "      <th>reserved_room_type_C</th>\n",
       "      <th>reserved_room_type_D</th>\n",
       "      <th>reserved_room_type_E</th>\n",
       "      <th>reserved_room_type_F</th>\n",
       "      <th>reserved_room_type_G</th>\n",
       "      <th>customer_type_Group</th>\n",
       "      <th>customer_type_Transient</th>\n",
       "      <th>customer_type_Transient-Party</th>\n",
       "    </tr>\n",
       "  </thead>\n",
       "  <tbody>\n",
       "    <tr>\n",
       "      <th>0</th>\n",
       "      <td>-0.822280</td>\n",
       "      <td>-1.682444</td>\n",
       "      <td>-1.700925</td>\n",
       "      <td>-0.271209</td>\n",
       "      <td>-0.089195</td>\n",
       "      <td>-0.184751</td>\n",
       "      <td>-0.090762</td>\n",
       "      <td>-0.097818</td>\n",
       "      <td>-0.36646</td>\n",
       "      <td>-0.082255</td>\n",
       "      <td>...</td>\n",
       "      <td>0.0</td>\n",
       "      <td>0.0</td>\n",
       "      <td>0.0</td>\n",
       "      <td>0.0</td>\n",
       "      <td>0.0</td>\n",
       "      <td>0.0</td>\n",
       "      <td>0.0</td>\n",
       "      <td>0.0</td>\n",
       "      <td>1.0</td>\n",
       "      <td>0.0</td>\n",
       "    </tr>\n",
       "    <tr>\n",
       "      <th>1</th>\n",
       "      <td>-0.727654</td>\n",
       "      <td>-1.682444</td>\n",
       "      <td>0.282384</td>\n",
       "      <td>-0.271209</td>\n",
       "      <td>-0.089195</td>\n",
       "      <td>-0.184751</td>\n",
       "      <td>-0.090762</td>\n",
       "      <td>-0.097818</td>\n",
       "      <td>-0.36646</td>\n",
       "      <td>-0.082255</td>\n",
       "      <td>...</td>\n",
       "      <td>1.0</td>\n",
       "      <td>0.0</td>\n",
       "      <td>0.0</td>\n",
       "      <td>0.0</td>\n",
       "      <td>0.0</td>\n",
       "      <td>0.0</td>\n",
       "      <td>0.0</td>\n",
       "      <td>0.0</td>\n",
       "      <td>1.0</td>\n",
       "      <td>0.0</td>\n",
       "    </tr>\n",
       "    <tr>\n",
       "      <th>2</th>\n",
       "      <td>-0.916905</td>\n",
       "      <td>-1.682444</td>\n",
       "      <td>0.282384</td>\n",
       "      <td>-0.271209</td>\n",
       "      <td>-0.089195</td>\n",
       "      <td>-0.184751</td>\n",
       "      <td>-0.090762</td>\n",
       "      <td>-0.097818</td>\n",
       "      <td>-0.36646</td>\n",
       "      <td>-0.082255</td>\n",
       "      <td>...</td>\n",
       "      <td>0.0</td>\n",
       "      <td>0.0</td>\n",
       "      <td>1.0</td>\n",
       "      <td>0.0</td>\n",
       "      <td>0.0</td>\n",
       "      <td>0.0</td>\n",
       "      <td>0.0</td>\n",
       "      <td>0.0</td>\n",
       "      <td>1.0</td>\n",
       "      <td>0.0</td>\n",
       "    </tr>\n",
       "    <tr>\n",
       "      <th>3</th>\n",
       "      <td>-0.795244</td>\n",
       "      <td>-1.682444</td>\n",
       "      <td>0.282384</td>\n",
       "      <td>-0.271209</td>\n",
       "      <td>-0.089195</td>\n",
       "      <td>-0.184751</td>\n",
       "      <td>-0.090762</td>\n",
       "      <td>-0.097818</td>\n",
       "      <td>-0.36646</td>\n",
       "      <td>-0.082255</td>\n",
       "      <td>...</td>\n",
       "      <td>0.0</td>\n",
       "      <td>0.0</td>\n",
       "      <td>1.0</td>\n",
       "      <td>0.0</td>\n",
       "      <td>0.0</td>\n",
       "      <td>0.0</td>\n",
       "      <td>0.0</td>\n",
       "      <td>0.0</td>\n",
       "      <td>1.0</td>\n",
       "      <td>0.0</td>\n",
       "    </tr>\n",
       "    <tr>\n",
       "      <th>4</th>\n",
       "      <td>0.232117</td>\n",
       "      <td>-1.682444</td>\n",
       "      <td>0.282384</td>\n",
       "      <td>-0.271209</td>\n",
       "      <td>-0.089195</td>\n",
       "      <td>-0.184751</td>\n",
       "      <td>-0.090762</td>\n",
       "      <td>-0.097818</td>\n",
       "      <td>-0.36646</td>\n",
       "      <td>-0.082255</td>\n",
       "      <td>...</td>\n",
       "      <td>1.0</td>\n",
       "      <td>0.0</td>\n",
       "      <td>0.0</td>\n",
       "      <td>0.0</td>\n",
       "      <td>0.0</td>\n",
       "      <td>0.0</td>\n",
       "      <td>0.0</td>\n",
       "      <td>0.0</td>\n",
       "      <td>1.0</td>\n",
       "      <td>0.0</td>\n",
       "    </tr>\n",
       "    <tr>\n",
       "      <th>...</th>\n",
       "      <td>...</td>\n",
       "      <td>...</td>\n",
       "      <td>...</td>\n",
       "      <td>...</td>\n",
       "      <td>...</td>\n",
       "      <td>...</td>\n",
       "      <td>...</td>\n",
       "      <td>...</td>\n",
       "      <td>...</td>\n",
       "      <td>...</td>\n",
       "      <td>...</td>\n",
       "      <td>...</td>\n",
       "      <td>...</td>\n",
       "      <td>...</td>\n",
       "      <td>...</td>\n",
       "      <td>...</td>\n",
       "      <td>...</td>\n",
       "      <td>...</td>\n",
       "      <td>...</td>\n",
       "      <td>...</td>\n",
       "      <td>...</td>\n",
       "    </tr>\n",
       "    <tr>\n",
       "      <th>65224</th>\n",
       "      <td>-0.605993</td>\n",
       "      <td>1.589753</td>\n",
       "      <td>0.282384</td>\n",
       "      <td>-0.271209</td>\n",
       "      <td>-0.089195</td>\n",
       "      <td>-0.184751</td>\n",
       "      <td>-0.090762</td>\n",
       "      <td>-0.097818</td>\n",
       "      <td>-0.36646</td>\n",
       "      <td>-0.082255</td>\n",
       "      <td>...</td>\n",
       "      <td>1.0</td>\n",
       "      <td>0.0</td>\n",
       "      <td>0.0</td>\n",
       "      <td>1.0</td>\n",
       "      <td>0.0</td>\n",
       "      <td>0.0</td>\n",
       "      <td>0.0</td>\n",
       "      <td>0.0</td>\n",
       "      <td>1.0</td>\n",
       "      <td>0.0</td>\n",
       "    </tr>\n",
       "    <tr>\n",
       "      <th>65225</th>\n",
       "      <td>-0.200456</td>\n",
       "      <td>1.702587</td>\n",
       "      <td>0.282384</td>\n",
       "      <td>-0.271209</td>\n",
       "      <td>-0.089195</td>\n",
       "      <td>-0.184751</td>\n",
       "      <td>-0.090762</td>\n",
       "      <td>-0.097818</td>\n",
       "      <td>-0.36646</td>\n",
       "      <td>-0.082255</td>\n",
       "      <td>...</td>\n",
       "      <td>1.0</td>\n",
       "      <td>0.0</td>\n",
       "      <td>0.0</td>\n",
       "      <td>1.0</td>\n",
       "      <td>0.0</td>\n",
       "      <td>0.0</td>\n",
       "      <td>0.0</td>\n",
       "      <td>0.0</td>\n",
       "      <td>1.0</td>\n",
       "      <td>0.0</td>\n",
       "    </tr>\n",
       "    <tr>\n",
       "      <th>65226</th>\n",
       "      <td>-0.822280</td>\n",
       "      <td>1.702587</td>\n",
       "      <td>0.282384</td>\n",
       "      <td>-0.271209</td>\n",
       "      <td>-0.089195</td>\n",
       "      <td>-0.184751</td>\n",
       "      <td>-0.090762</td>\n",
       "      <td>-0.097818</td>\n",
       "      <td>-0.36646</td>\n",
       "      <td>-0.082255</td>\n",
       "      <td>...</td>\n",
       "      <td>1.0</td>\n",
       "      <td>0.0</td>\n",
       "      <td>0.0</td>\n",
       "      <td>1.0</td>\n",
       "      <td>0.0</td>\n",
       "      <td>0.0</td>\n",
       "      <td>0.0</td>\n",
       "      <td>0.0</td>\n",
       "      <td>1.0</td>\n",
       "      <td>0.0</td>\n",
       "    </tr>\n",
       "    <tr>\n",
       "      <th>65227</th>\n",
       "      <td>-0.687101</td>\n",
       "      <td>1.589753</td>\n",
       "      <td>0.282384</td>\n",
       "      <td>-0.271209</td>\n",
       "      <td>-0.089195</td>\n",
       "      <td>-0.184751</td>\n",
       "      <td>-0.090762</td>\n",
       "      <td>-0.097818</td>\n",
       "      <td>-0.36646</td>\n",
       "      <td>-0.082255</td>\n",
       "      <td>...</td>\n",
       "      <td>1.0</td>\n",
       "      <td>0.0</td>\n",
       "      <td>0.0</td>\n",
       "      <td>0.0</td>\n",
       "      <td>0.0</td>\n",
       "      <td>0.0</td>\n",
       "      <td>0.0</td>\n",
       "      <td>0.0</td>\n",
       "      <td>1.0</td>\n",
       "      <td>0.0</td>\n",
       "    </tr>\n",
       "    <tr>\n",
       "      <th>65228</th>\n",
       "      <td>0.529511</td>\n",
       "      <td>1.702587</td>\n",
       "      <td>0.282384</td>\n",
       "      <td>-0.271209</td>\n",
       "      <td>-0.089195</td>\n",
       "      <td>-0.184751</td>\n",
       "      <td>-0.090762</td>\n",
       "      <td>-0.097818</td>\n",
       "      <td>-0.36646</td>\n",
       "      <td>-0.082255</td>\n",
       "      <td>...</td>\n",
       "      <td>1.0</td>\n",
       "      <td>0.0</td>\n",
       "      <td>0.0</td>\n",
       "      <td>0.0</td>\n",
       "      <td>0.0</td>\n",
       "      <td>0.0</td>\n",
       "      <td>0.0</td>\n",
       "      <td>0.0</td>\n",
       "      <td>1.0</td>\n",
       "      <td>0.0</td>\n",
       "    </tr>\n",
       "  </tbody>\n",
       "</table>\n",
       "<p>43749 rows × 59 columns</p>\n",
       "</div>"
      ],
      "text/plain": [
       "       lead_time  arrival_date_day_of_month    adults  children    babies  \\\n",
       "0      -0.822280                  -1.682444 -1.700925 -0.271209 -0.089195   \n",
       "1      -0.727654                  -1.682444  0.282384 -0.271209 -0.089195   \n",
       "2      -0.916905                  -1.682444  0.282384 -0.271209 -0.089195   \n",
       "3      -0.795244                  -1.682444  0.282384 -0.271209 -0.089195   \n",
       "4       0.232117                  -1.682444  0.282384 -0.271209 -0.089195   \n",
       "...          ...                        ...       ...       ...       ...   \n",
       "65224  -0.605993                   1.589753  0.282384 -0.271209 -0.089195   \n",
       "65225  -0.200456                   1.702587  0.282384 -0.271209 -0.089195   \n",
       "65226  -0.822280                   1.702587  0.282384 -0.271209 -0.089195   \n",
       "65227  -0.687101                   1.589753  0.282384 -0.271209 -0.089195   \n",
       "65228   0.529511                   1.702587  0.282384 -0.271209 -0.089195   \n",
       "\n",
       "       is_repeated_guest  previous_cancellations  \\\n",
       "0              -0.184751               -0.090762   \n",
       "1              -0.184751               -0.090762   \n",
       "2              -0.184751               -0.090762   \n",
       "3              -0.184751               -0.090762   \n",
       "4              -0.184751               -0.090762   \n",
       "...                  ...                     ...   \n",
       "65224          -0.184751               -0.090762   \n",
       "65225          -0.184751               -0.090762   \n",
       "65226          -0.184751               -0.090762   \n",
       "65227          -0.184751               -0.090762   \n",
       "65228          -0.184751               -0.090762   \n",
       "\n",
       "       previous_bookings_not_canceled  booking_changes  days_in_waiting_list  \\\n",
       "0                           -0.097818         -0.36646             -0.082255   \n",
       "1                           -0.097818         -0.36646             -0.082255   \n",
       "2                           -0.097818         -0.36646             -0.082255   \n",
       "3                           -0.097818         -0.36646             -0.082255   \n",
       "4                           -0.097818         -0.36646             -0.082255   \n",
       "...                               ...              ...                   ...   \n",
       "65224                       -0.097818         -0.36646             -0.082255   \n",
       "65225                       -0.097818         -0.36646             -0.082255   \n",
       "65226                       -0.097818         -0.36646             -0.082255   \n",
       "65227                       -0.097818         -0.36646             -0.082255   \n",
       "65228                       -0.097818         -0.36646             -0.082255   \n",
       "\n",
       "       ...  distribution_channel_TA/TO  reserved_room_type_B  \\\n",
       "0      ...                         0.0                   0.0   \n",
       "1      ...                         1.0                   0.0   \n",
       "2      ...                         0.0                   0.0   \n",
       "3      ...                         0.0                   0.0   \n",
       "4      ...                         1.0                   0.0   \n",
       "...    ...                         ...                   ...   \n",
       "65224  ...                         1.0                   0.0   \n",
       "65225  ...                         1.0                   0.0   \n",
       "65226  ...                         1.0                   0.0   \n",
       "65227  ...                         1.0                   0.0   \n",
       "65228  ...                         1.0                   0.0   \n",
       "\n",
       "       reserved_room_type_C  reserved_room_type_D  reserved_room_type_E  \\\n",
       "0                       0.0                   0.0                   0.0   \n",
       "1                       0.0                   0.0                   0.0   \n",
       "2                       1.0                   0.0                   0.0   \n",
       "3                       1.0                   0.0                   0.0   \n",
       "4                       0.0                   0.0                   0.0   \n",
       "...                     ...                   ...                   ...   \n",
       "65224                   0.0                   1.0                   0.0   \n",
       "65225                   0.0                   1.0                   0.0   \n",
       "65226                   0.0                   1.0                   0.0   \n",
       "65227                   0.0                   0.0                   0.0   \n",
       "65228                   0.0                   0.0                   0.0   \n",
       "\n",
       "       reserved_room_type_F  reserved_room_type_G  customer_type_Group  \\\n",
       "0                       0.0                   0.0                  0.0   \n",
       "1                       0.0                   0.0                  0.0   \n",
       "2                       0.0                   0.0                  0.0   \n",
       "3                       0.0                   0.0                  0.0   \n",
       "4                       0.0                   0.0                  0.0   \n",
       "...                     ...                   ...                  ...   \n",
       "65224                   0.0                   0.0                  0.0   \n",
       "65225                   0.0                   0.0                  0.0   \n",
       "65226                   0.0                   0.0                  0.0   \n",
       "65227                   0.0                   0.0                  0.0   \n",
       "65228                   0.0                   0.0                  0.0   \n",
       "\n",
       "       customer_type_Transient  customer_type_Transient-Party  \n",
       "0                          1.0                            0.0  \n",
       "1                          1.0                            0.0  \n",
       "2                          1.0                            0.0  \n",
       "3                          1.0                            0.0  \n",
       "4                          1.0                            0.0  \n",
       "...                        ...                            ...  \n",
       "65224                      1.0                            0.0  \n",
       "65225                      1.0                            0.0  \n",
       "65226                      1.0                            0.0  \n",
       "65227                      1.0                            0.0  \n",
       "65228                      1.0                            0.0  \n",
       "\n",
       "[43749 rows x 59 columns]"
      ]
     },
     "execution_count": 148,
     "metadata": {},
     "output_type": "execute_result"
    }
   ],
   "source": [
    "train_features"
   ]
  },
  {
   "cell_type": "markdown",
   "metadata": {},
   "source": [
    "Закроем вопрос с дисбалансом классов "
   ]
  },
  {
   "cell_type": "code",
   "execution_count": 149,
   "metadata": {},
   "outputs": [],
   "source": [
    "#sampler = ADASYN(random_state=RANDOM_STATE)\n",
    "#train_features, train_target = sampler.fit_resample(train_features, train_target)"
   ]
  },
  {
   "cell_type": "code",
   "execution_count": 150,
   "metadata": {},
   "outputs": [
    {
     "data": {
      "text/plain": [
       "array([0.40776699, 0.24209208, 0.29021403])"
      ]
     },
     "execution_count": 150,
     "metadata": {},
     "output_type": "execute_result"
    }
   ],
   "source": [
    "imba_pipeline = make_pipeline(ADASYN(random_state=RANDOM_STATE), \n",
    "                              RandomForestClassifier(random_state=RANDOM_STATE))\n",
    "cross_val_score(imba_pipeline, train_features, train_target, scoring='f1', cv=3)"
   ]
  },
  {
   "cell_type": "markdown",
   "metadata": {},
   "source": [
    "Хорошо это или плохо сказать не могу, так как не знаю, отрабатывает ли нормально ADASYN в примере с пайплайном, так как не понимаю как вообще пайплайн должен работать"
   ]
  },
  {
   "cell_type": "code",
   "execution_count": 151,
   "metadata": {},
   "outputs": [
    {
     "data": {
      "text/plain": [
       "0.3354994916453284"
      ]
     },
     "execution_count": 151,
     "metadata": {},
     "output_type": "execute_result"
    }
   ],
   "source": [
    "imba_pipeline = make_pipeline(ADASYN(random_state=RANDOM_STATE), \n",
    "                              DecisionTreeClassifier(random_state=RANDOM_STATE))\n",
    "cross_val_score(imba_pipeline, train_features, train_target, scoring='f1', cv=3).mean()"
   ]
  },
  {
   "cell_type": "code",
   "execution_count": 152,
   "metadata": {},
   "outputs": [
    {
     "data": {
      "text/plain": [
       "0.3354994916453284"
      ]
     },
     "execution_count": 152,
     "metadata": {},
     "output_type": "execute_result"
    }
   ],
   "source": [
    "imba_pipeline = make_pipeline(ADASYN(random_state=RANDOM_STATE), \n",
    "                              DecisionTreeClassifier(random_state=RANDOM_STATE))\n",
    "cross_val_score(imba_pipeline, train_features, train_target, scoring='f1', cv=3).mean()"
   ]
  },
  {
   "cell_type": "code",
   "execution_count": 153,
   "metadata": {},
   "outputs": [
    {
     "data": {
      "text/plain": [
       "0.40316498013085894"
      ]
     },
     "execution_count": 153,
     "metadata": {},
     "output_type": "execute_result"
    }
   ],
   "source": [
    "imba_pipeline = make_pipeline(ADASYN(random_state=RANDOM_STATE), \n",
    "                              LogisticRegression(random_state=RANDOM_STATE))\n",
    "cross_val_score(imba_pipeline, train_features, train_target, scoring='f1', cv=3).mean()\n"
   ]
  },
  {
   "cell_type": "code",
   "execution_count": 154,
   "metadata": {},
   "outputs": [],
   "source": [
    "#sampler = ADASYN(random_state=RANDOM_STATE)\n",
    "#train_features, train_target = sampler.fit_resample(train_features, train_target)"
   ]
  },
  {
   "cell_type": "code",
   "execution_count": 155,
   "metadata": {},
   "outputs": [
    {
     "name": "stdout",
     "output_type": "stream",
     "text": [
      "Строк в массиве с фичами: 43749\n",
      "Строк в массиве с таргетами: 43749\n",
      "Соотношение классов в таргете: \n",
      " 0    32601\n",
      "1    11148\n",
      "Name: is_canceled, dtype: int64\n"
     ]
    }
   ],
   "source": [
    "print(\"Строк в массиве с фичами:\", len(train_target))\n",
    "print(\"Строк в массиве с таргетами:\", len(train_features))\n",
    "print(\"Соотношение классов в таргете:\", \"\\n\", train_target.value_counts())"
   ]
  },
  {
   "cell_type": "code",
   "execution_count": 156,
   "metadata": {},
   "outputs": [
    {
     "name": "stderr",
     "output_type": "stream",
     "text": [
      "[I 2023-09-11 00:10:16,635] A new study created in memory with name: no-name-7f4658a9-8344-4bcd-830c-3123c014cbf8\n"
     ]
    },
    {
     "name": "stdout",
     "output_type": "stream",
     "text": [
      "Wall time: 0 ns\n"
     ]
    },
    {
     "name": "stderr",
     "output_type": "stream",
     "text": [
      "[I 2023-09-11 00:10:21,356] Trial 0 finished with value: 0.2939659485383734 and parameters: {'criterion': 'gini', 'n_estimators': 80}. Best is trial 0 with value: 0.2939659485383734.\n",
      "[I 2023-09-11 00:10:24,879] Trial 1 finished with value: 0.29484277128663233 and parameters: {'criterion': 'gini', 'n_estimators': 70}. Best is trial 1 with value: 0.29484277128663233.\n",
      "[I 2023-09-11 00:10:28,202] Trial 2 finished with value: 0.2937126021755847 and parameters: {'criterion': 'gini', 'n_estimators': 60}. Best is trial 1 with value: 0.29484277128663233.\n",
      "[I 2023-09-11 00:10:33,042] Trial 3 finished with value: 0.2938867615977188 and parameters: {'criterion': 'entropy', 'n_estimators': 100}. Best is trial 1 with value: 0.29484277128663233.\n",
      "[I 2023-09-11 00:10:36,290] Trial 4 finished with value: 0.29948861852385045 and parameters: {'criterion': 'log_loss', 'n_estimators': 60}. Best is trial 4 with value: 0.29948861852385045.\n",
      "[I 2023-09-11 00:10:41,341] Trial 5 finished with value: 0.2938867615977188 and parameters: {'criterion': 'entropy', 'n_estimators': 100}. Best is trial 4 with value: 0.29948861852385045.\n",
      "[I 2023-09-11 00:10:43,632] Trial 6 finished with value: 0.29487657325030225 and parameters: {'criterion': 'gini', 'n_estimators': 50}. Best is trial 4 with value: 0.29948861852385045.\n",
      "[I 2023-09-11 00:10:47,346] Trial 7 finished with value: 0.29446786570402744 and parameters: {'criterion': 'gini', 'n_estimators': 90}. Best is trial 4 with value: 0.29948861852385045.\n",
      "[I 2023-09-11 00:10:51,911] Trial 8 finished with value: 0.2944307616949322 and parameters: {'criterion': 'gini', 'n_estimators': 100}. Best is trial 4 with value: 0.29948861852385045.\n",
      "[I 2023-09-11 00:10:56,380] Trial 9 finished with value: 0.2956487495451802 and parameters: {'criterion': 'entropy', 'n_estimators': 90}. Best is trial 4 with value: 0.29948861852385045.\n",
      "[I 2023-09-11 00:10:58,977] Trial 10 finished with value: 0.30159678937891116 and parameters: {'criterion': 'log_loss', 'n_estimators': 50}. Best is trial 10 with value: 0.30159678937891116.\n",
      "[I 2023-09-11 00:11:01,181] Trial 11 finished with value: 0.30159678937891116 and parameters: {'criterion': 'log_loss', 'n_estimators': 50}. Best is trial 10 with value: 0.30159678937891116.\n",
      "[I 2023-09-11 00:11:03,419] Trial 12 finished with value: 0.30159678937891116 and parameters: {'criterion': 'log_loss', 'n_estimators': 50}. Best is trial 10 with value: 0.30159678937891116.\n",
      "[I 2023-09-11 00:11:06,198] Trial 13 finished with value: 0.29948861852385045 and parameters: {'criterion': 'log_loss', 'n_estimators': 60}. Best is trial 10 with value: 0.30159678937891116.\n",
      "[I 2023-09-11 00:11:08,471] Trial 14 finished with value: 0.30159678937891116 and parameters: {'criterion': 'log_loss', 'n_estimators': 50}. Best is trial 10 with value: 0.30159678937891116.\n"
     ]
    }
   ],
   "source": [
    "%time\n",
    "def objective_random_forest(trial):\n",
    "  criterion = trial.suggest_categorical(\"criterion\", [\"log_loss\", \"gini\", \"entropy\"])\n",
    "  n_estimators = trial.suggest_int(\"n_estimators\", 50, 100, 10)\n",
    "\n",
    "  score = cross_val_score(RandomForestClassifier(n_estimators=n_estimators,\n",
    "                                                 criterion=criterion, random_state=RANDOM_STATE),\n",
    "                          train_features, train_target, cv=3, scoring=\"f1\", n_jobs=-1).mean()\n",
    "  return score\n",
    "\n",
    "study = optuna.create_study(direction=\"maximize\")\n",
    "study.optimize(objective_random_forest, n_trials=15)"
   ]
  },
  {
   "cell_type": "code",
   "execution_count": 157,
   "metadata": {},
   "outputs": [],
   "source": [
    "best_results = {}"
   ]
  },
  {
   "cell_type": "code",
   "execution_count": 158,
   "metadata": {},
   "outputs": [],
   "source": [
    "best_results[\"random_forest\"] = {\n",
    "    \"params\": study.best_trial.params,\n",
    "    \"score\": study.best_trial.value\n",
    "}"
   ]
  },
  {
   "cell_type": "code",
   "execution_count": 159,
   "metadata": {},
   "outputs": [
    {
     "name": "stderr",
     "output_type": "stream",
     "text": [
      "[I 2023-09-11 00:11:08,534] A new study created in memory with name: no-name-ccefae1c-d84a-414b-a1e4-72a0cc6d0247\n",
      "[I 2023-09-11 00:11:08,784] Trial 0 finished with value: 0.3739776705217017 and parameters: {'splitter': 'best', 'criterion': 'entropy', 'max_depth': 6}. Best is trial 0 with value: 0.3739776705217017.\n",
      "[I 2023-09-11 00:11:09,099] Trial 1 finished with value: 0.3263505744442896 and parameters: {'splitter': 'best', 'criterion': 'gini', 'max_depth': 14}. Best is trial 0 with value: 0.3739776705217017.\n",
      "[I 2023-09-11 00:11:09,439] Trial 2 finished with value: 0.3216094667188469 and parameters: {'splitter': 'best', 'criterion': 'entropy', 'max_depth': 18}. Best is trial 0 with value: 0.3739776705217017.\n",
      "[I 2023-09-11 00:11:09,658] Trial 3 finished with value: 0.036888849533933725 and parameters: {'splitter': 'random', 'criterion': 'log_loss', 'max_depth': 4}. Best is trial 0 with value: 0.3739776705217017.\n",
      "[I 2023-09-11 00:11:09,894] Trial 4 finished with value: 0.2757541053859794 and parameters: {'splitter': 'random', 'criterion': 'gini', 'max_depth': 7}. Best is trial 0 with value: 0.3739776705217017.\n",
      "[I 2023-09-11 00:11:10,238] Trial 5 finished with value: 0.33093423888803614 and parameters: {'splitter': 'best', 'criterion': 'gini', 'max_depth': 18}. Best is trial 0 with value: 0.3739776705217017.\n",
      "[I 2023-09-11 00:11:10,470] Trial 6 finished with value: 0.14047020791945544 and parameters: {'splitter': 'random', 'criterion': 'gini', 'max_depth': 5}. Best is trial 0 with value: 0.3739776705217017.\n",
      "[I 2023-09-11 00:11:10,794] Trial 7 finished with value: 0.3239835920347463 and parameters: {'splitter': 'best', 'criterion': 'gini', 'max_depth': 15}. Best is trial 0 with value: 0.3739776705217017.\n",
      "[I 2023-09-11 00:11:11,011] Trial 8 finished with value: 0.07669428510728701 and parameters: {'splitter': 'random', 'criterion': 'entropy', 'max_depth': 3}. Best is trial 0 with value: 0.3739776705217017.\n",
      "[I 2023-09-11 00:11:11,321] Trial 9 finished with value: 0.2876379449755407 and parameters: {'splitter': 'best', 'criterion': 'log_loss', 'max_depth': 15}. Best is trial 0 with value: 0.3739776705217017.\n",
      "[I 2023-09-11 00:11:11,603] Trial 10 finished with value: 0.3334464212405949 and parameters: {'splitter': 'best', 'criterion': 'entropy', 'max_depth': 9}. Best is trial 0 with value: 0.3739776705217017.\n",
      "[I 2023-09-11 00:11:11,882] Trial 11 finished with value: 0.3334464212405949 and parameters: {'splitter': 'best', 'criterion': 'entropy', 'max_depth': 9}. Best is trial 0 with value: 0.3739776705217017.\n",
      "[I 2023-09-11 00:11:12,272] Trial 12 finished with value: 0.3275386551455307 and parameters: {'splitter': 'best', 'criterion': 'entropy', 'max_depth': 11}. Best is trial 0 with value: 0.3739776705217017.\n",
      "[I 2023-09-11 00:11:12,550] Trial 13 finished with value: 0.3266650540826253 and parameters: {'splitter': 'best', 'criterion': 'entropy', 'max_depth': 10}. Best is trial 0 with value: 0.3739776705217017.\n",
      "[I 2023-09-11 00:11:12,814] Trial 14 finished with value: 0.3031581451956619 and parameters: {'splitter': 'best', 'criterion': 'entropy', 'max_depth': 7}. Best is trial 0 with value: 0.3739776705217017.\n",
      "[I 2023-09-11 00:11:13,112] Trial 15 finished with value: 0.32170789239911357 and parameters: {'splitter': 'best', 'criterion': 'entropy', 'max_depth': 12}. Best is trial 0 with value: 0.3739776705217017.\n",
      "[I 2023-09-11 00:11:13,329] Trial 16 finished with value: 0.0 and parameters: {'splitter': 'best', 'criterion': 'entropy', 'max_depth': 2}. Best is trial 0 with value: 0.3739776705217017.\n",
      "[I 2023-09-11 00:11:13,595] Trial 17 finished with value: 0.3031581451956619 and parameters: {'splitter': 'best', 'criterion': 'log_loss', 'max_depth': 7}. Best is trial 0 with value: 0.3739776705217017.\n",
      "[I 2023-09-11 00:11:13,828] Trial 18 finished with value: 0.23536825577161777 and parameters: {'splitter': 'random', 'criterion': 'entropy', 'max_depth': 6}. Best is trial 0 with value: 0.3739776705217017.\n",
      "[I 2023-09-11 00:11:14,060] Trial 19 finished with value: 0.0 and parameters: {'splitter': 'best', 'criterion': 'entropy', 'max_depth': 1}. Best is trial 0 with value: 0.3739776705217017.\n",
      "[I 2023-09-11 00:11:14,340] Trial 20 finished with value: 0.3334464212405949 and parameters: {'splitter': 'best', 'criterion': 'log_loss', 'max_depth': 9}. Best is trial 0 with value: 0.3739776705217017.\n",
      "[I 2023-09-11 00:11:14,634] Trial 21 finished with value: 0.3334464212405949 and parameters: {'splitter': 'best', 'criterion': 'entropy', 'max_depth': 9}. Best is trial 0 with value: 0.3739776705217017.\n",
      "[I 2023-09-11 00:11:14,929] Trial 22 finished with value: 0.32170789239911357 and parameters: {'splitter': 'best', 'criterion': 'entropy', 'max_depth': 12}. Best is trial 0 with value: 0.3739776705217017.\n",
      "[I 2023-09-11 00:11:15,210] Trial 23 finished with value: 0.3334464212405949 and parameters: {'splitter': 'best', 'criterion': 'entropy', 'max_depth': 9}. Best is trial 0 with value: 0.3739776705217017.\n",
      "[I 2023-09-11 00:11:15,474] Trial 24 finished with value: 0.35757481722167467 and parameters: {'splitter': 'best', 'criterion': 'entropy', 'max_depth': 8}. Best is trial 0 with value: 0.3739776705217017.\n",
      "[I 2023-09-11 00:11:15,723] Trial 25 finished with value: 0.2810130200121326 and parameters: {'splitter': 'best', 'criterion': 'entropy', 'max_depth': 5}. Best is trial 0 with value: 0.3739776705217017.\n",
      "[I 2023-09-11 00:11:15,956] Trial 26 finished with value: 0.22859335171798092 and parameters: {'splitter': 'random', 'criterion': 'entropy', 'max_depth': 7}. Best is trial 0 with value: 0.3739776705217017.\n",
      "[I 2023-09-11 00:11:16,189] Trial 27 finished with value: 0.3058753033433156 and parameters: {'splitter': 'best', 'criterion': 'entropy', 'max_depth': 4}. Best is trial 0 with value: 0.3739776705217017.\n",
      "[I 2023-09-11 00:11:16,489] Trial 28 finished with value: 0.3420260096217238 and parameters: {'splitter': 'best', 'criterion': 'log_loss', 'max_depth': 13}. Best is trial 0 with value: 0.3739776705217017.\n",
      "[I 2023-09-11 00:11:16,836] Trial 29 finished with value: 0.33551425520399425 and parameters: {'splitter': 'best', 'criterion': 'log_loss', 'max_depth': 20}. Best is trial 0 with value: 0.3739776705217017.\n",
      "[I 2023-09-11 00:11:17,171] Trial 30 finished with value: 0.322906698334416 and parameters: {'splitter': 'best', 'criterion': 'log_loss', 'max_depth': 14}. Best is trial 0 with value: 0.3739776705217017.\n",
      "[I 2023-09-11 00:11:17,548] Trial 31 finished with value: 0.33551425520399425 and parameters: {'splitter': 'best', 'criterion': 'log_loss', 'max_depth': 20}. Best is trial 0 with value: 0.3739776705217017.\n",
      "[I 2023-09-11 00:11:17,913] Trial 32 finished with value: 0.3216094667188469 and parameters: {'splitter': 'best', 'criterion': 'log_loss', 'max_depth': 18}. Best is trial 0 with value: 0.3739776705217017.\n",
      "[I 2023-09-11 00:11:18,274] Trial 33 finished with value: 0.33551425520399425 and parameters: {'splitter': 'best', 'criterion': 'log_loss', 'max_depth': 20}. Best is trial 0 with value: 0.3739776705217017.\n",
      "[I 2023-09-11 00:11:18,590] Trial 34 finished with value: 0.322906698334416 and parameters: {'splitter': 'best', 'criterion': 'log_loss', 'max_depth': 14}. Best is trial 0 with value: 0.3739776705217017.\n",
      "[I 2023-09-11 00:11:18,938] Trial 35 finished with value: 0.33161473637320854 and parameters: {'splitter': 'random', 'criterion': 'log_loss', 'max_depth': 17}. Best is trial 0 with value: 0.3739776705217017.\n",
      "[I 2023-09-11 00:11:19,252] Trial 36 finished with value: 0.32170789239911357 and parameters: {'splitter': 'best', 'criterion': 'log_loss', 'max_depth': 12}. Best is trial 0 with value: 0.3739776705217017.\n",
      "[I 2023-09-11 00:11:19,598] Trial 37 finished with value: 0.30156869385948987 and parameters: {'splitter': 'best', 'criterion': 'gini', 'max_depth': 17}. Best is trial 0 with value: 0.3739776705217017.\n",
      "[I 2023-09-11 00:11:19,850] Trial 38 finished with value: 0.22192239912399336 and parameters: {'splitter': 'random', 'criterion': 'gini', 'max_depth': 6}. Best is trial 0 with value: 0.3739776705217017.\n",
      "[I 2023-09-11 00:11:20,129] Trial 39 finished with value: 0.35757481722167467 and parameters: {'splitter': 'best', 'criterion': 'log_loss', 'max_depth': 8}. Best is trial 0 with value: 0.3739776705217017.\n",
      "[I 2023-09-11 00:11:20,365] Trial 40 finished with value: 0.24955727115305934 and parameters: {'splitter': 'random', 'criterion': 'log_loss', 'max_depth': 8}. Best is trial 0 with value: 0.3739776705217017.\n",
      "[I 2023-09-11 00:11:20,618] Trial 41 finished with value: 0.2810130200121326 and parameters: {'splitter': 'best', 'criterion': 'log_loss', 'max_depth': 5}. Best is trial 0 with value: 0.3739776705217017.\n",
      "[I 2023-09-11 00:11:20,913] Trial 42 finished with value: 0.3275386551455307 and parameters: {'splitter': 'best', 'criterion': 'log_loss', 'max_depth': 11}. Best is trial 0 with value: 0.3739776705217017.\n",
      "[I 2023-09-11 00:11:21,229] Trial 43 finished with value: 0.3420260096217238 and parameters: {'splitter': 'best', 'criterion': 'log_loss', 'max_depth': 13}. Best is trial 0 with value: 0.3739776705217017.\n",
      "[I 2023-09-11 00:11:21,556] Trial 44 finished with value: 0.3420260096217238 and parameters: {'splitter': 'best', 'criterion': 'log_loss', 'max_depth': 13}. Best is trial 0 with value: 0.3739776705217017.\n",
      "[I 2023-09-11 00:11:21,886] Trial 45 finished with value: 0.3239835920347463 and parameters: {'splitter': 'best', 'criterion': 'gini', 'max_depth': 15}. Best is trial 0 with value: 0.3739776705217017.\n",
      "[I 2023-09-11 00:11:22,280] Trial 46 finished with value: 0.3266650540826253 and parameters: {'splitter': 'best', 'criterion': 'log_loss', 'max_depth': 10}. Best is trial 0 with value: 0.3739776705217017.\n",
      "[I 2023-09-11 00:11:22,556] Trial 47 finished with value: 0.35757481722167467 and parameters: {'splitter': 'best', 'criterion': 'log_loss', 'max_depth': 8}. Best is trial 0 with value: 0.3739776705217017.\n",
      "[I 2023-09-11 00:11:22,823] Trial 48 finished with value: 0.3262017009391901 and parameters: {'splitter': 'best', 'criterion': 'gini', 'max_depth': 8}. Best is trial 0 with value: 0.3739776705217017.\n",
      "[I 2023-09-11 00:11:23,091] Trial 49 finished with value: 0.35757481722167467 and parameters: {'splitter': 'best', 'criterion': 'log_loss', 'max_depth': 8}. Best is trial 0 with value: 0.3739776705217017.\n",
      "[I 2023-09-11 00:11:23,369] Trial 50 finished with value: 0.35757481722167467 and parameters: {'splitter': 'best', 'criterion': 'entropy', 'max_depth': 8}. Best is trial 0 with value: 0.3739776705217017.\n",
      "[I 2023-09-11 00:11:23,657] Trial 51 finished with value: 0.35757481722167467 and parameters: {'splitter': 'best', 'criterion': 'entropy', 'max_depth': 8}. Best is trial 0 with value: 0.3739776705217017.\n",
      "[I 2023-09-11 00:11:23,909] Trial 52 finished with value: 0.3739776705217017 and parameters: {'splitter': 'best', 'criterion': 'entropy', 'max_depth': 6}. Best is trial 0 with value: 0.3739776705217017.\n",
      "[I 2023-09-11 00:11:24,164] Trial 53 finished with value: 0.3739776705217017 and parameters: {'splitter': 'best', 'criterion': 'entropy', 'max_depth': 6}. Best is trial 0 with value: 0.3739776705217017.\n",
      "[I 2023-09-11 00:11:24,559] Trial 54 finished with value: 0.3739776705217017 and parameters: {'splitter': 'best', 'criterion': 'entropy', 'max_depth': 6}. Best is trial 0 with value: 0.3739776705217017.\n",
      "[I 2023-09-11 00:11:24,805] Trial 55 finished with value: 0.3739776705217017 and parameters: {'splitter': 'best', 'criterion': 'entropy', 'max_depth': 6}. Best is trial 0 with value: 0.3739776705217017.\n",
      "[I 2023-09-11 00:11:25,134] Trial 56 finished with value: 0.15360802388529385 and parameters: {'splitter': 'best', 'criterion': 'entropy', 'max_depth': 3}. Best is trial 0 with value: 0.3739776705217017.\n",
      "[I 2023-09-11 00:11:25,367] Trial 57 finished with value: 0.23536825577161777 and parameters: {'splitter': 'random', 'criterion': 'entropy', 'max_depth': 6}. Best is trial 0 with value: 0.3739776705217017.\n",
      "[I 2023-09-11 00:11:25,619] Trial 58 finished with value: 0.3058753033433156 and parameters: {'splitter': 'best', 'criterion': 'entropy', 'max_depth': 4}. Best is trial 0 with value: 0.3739776705217017.\n",
      "[I 2023-09-11 00:11:25,851] Trial 59 finished with value: 0.3058753033433156 and parameters: {'splitter': 'best', 'criterion': 'entropy', 'max_depth': 4}. Best is trial 0 with value: 0.3739776705217017.\n",
      "[I 2023-09-11 00:11:26,100] Trial 60 finished with value: 0.3739776705217017 and parameters: {'splitter': 'best', 'criterion': 'entropy', 'max_depth': 6}. Best is trial 0 with value: 0.3739776705217017.\n",
      "[I 2023-09-11 00:11:26,354] Trial 61 finished with value: 0.3739776705217017 and parameters: {'splitter': 'best', 'criterion': 'entropy', 'max_depth': 6}. Best is trial 0 with value: 0.3739776705217017.\n",
      "[I 2023-09-11 00:11:26,607] Trial 62 finished with value: 0.2810130200121326 and parameters: {'splitter': 'best', 'criterion': 'entropy', 'max_depth': 5}. Best is trial 0 with value: 0.3739776705217017.\n",
      "[I 2023-09-11 00:11:26,860] Trial 63 finished with value: 0.3739776705217017 and parameters: {'splitter': 'best', 'criterion': 'entropy', 'max_depth': 6}. Best is trial 0 with value: 0.3739776705217017.\n",
      "[I 2023-09-11 00:11:27,144] Trial 64 finished with value: 0.3031581451956619 and parameters: {'splitter': 'best', 'criterion': 'entropy', 'max_depth': 7}. Best is trial 0 with value: 0.3739776705217017.\n",
      "[I 2023-09-11 00:11:27,380] Trial 65 finished with value: 0.15360802388529385 and parameters: {'splitter': 'best', 'criterion': 'entropy', 'max_depth': 3}. Best is trial 0 with value: 0.3739776705217017.\n",
      "[W 2023-09-11 00:11:27,802] Trial 66 failed with parameters: {'splitter': 'best', 'criterion': 'entropy', 'max_depth': 7} because of the following error: KeyboardInterrupt().\n",
      "Traceback (most recent call last):\n",
      "  File \"C:\\Users\\Admin\\anaconda3\\lib\\site-packages\\optuna\\study\\_optimize.py\", line 200, in _run_trial\n",
      "    value_or_values = func(trial)\n",
      "  File \"C:\\Users\\Admin\\AppData\\Local\\Temp/ipykernel_15488/292729447.py\", line 6, in objective_decision_tree\n",
      "    score = cross_val_score(DecisionTreeClassifier(splitter=splitter, criterion=criterion,\n",
      "  File \"C:\\Users\\Admin\\anaconda3\\lib\\site-packages\\sklearn\\model_selection\\_validation.py\", line 562, in cross_val_score\n",
      "    cv_results = cross_validate(\n",
      "  File \"C:\\Users\\Admin\\anaconda3\\lib\\site-packages\\sklearn\\utils\\_param_validation.py\", line 211, in wrapper\n",
      "    return func(*args, **kwargs)\n",
      "  File \"C:\\Users\\Admin\\anaconda3\\lib\\site-packages\\sklearn\\model_selection\\_validation.py\", line 309, in cross_validate\n",
      "    results = parallel(\n",
      "  File \"C:\\Users\\Admin\\anaconda3\\lib\\site-packages\\sklearn\\utils\\parallel.py\", line 65, in __call__\n",
      "    return super().__call__(iterable_with_config)\n",
      "  File \"C:\\Users\\Admin\\anaconda3\\lib\\site-packages\\joblib\\parallel.py\", line 1952, in __call__\n",
      "    return output if self.return_generator else list(output)\n",
      "  File \"C:\\Users\\Admin\\anaconda3\\lib\\site-packages\\joblib\\parallel.py\", line 1595, in _get_outputs\n",
      "    yield from self._retrieve()\n",
      "  File \"C:\\Users\\Admin\\anaconda3\\lib\\site-packages\\joblib\\parallel.py\", line 1707, in _retrieve\n",
      "    time.sleep(0.01)\n",
      "KeyboardInterrupt\n",
      "[W 2023-09-11 00:11:27,804] Trial 66 failed with value None.\n"
     ]
    },
    {
     "ename": "KeyboardInterrupt",
     "evalue": "",
     "output_type": "error",
     "traceback": [
      "\u001b[1;31m---------------------------------------------------------------------------\u001b[0m",
      "\u001b[1;31mKeyboardInterrupt\u001b[0m                         Traceback (most recent call last)",
      "\u001b[1;32m~\\AppData\\Local\\Temp/ipykernel_15488/292729447.py\u001b[0m in \u001b[0;36m<module>\u001b[1;34m\u001b[0m\n\u001b[0;32m     10\u001b[0m \u001b[1;33m\u001b[0m\u001b[0m\n\u001b[0;32m     11\u001b[0m \u001b[0mstudy\u001b[0m \u001b[1;33m=\u001b[0m \u001b[0moptuna\u001b[0m\u001b[1;33m.\u001b[0m\u001b[0mcreate_study\u001b[0m\u001b[1;33m(\u001b[0m\u001b[0mdirection\u001b[0m\u001b[1;33m=\u001b[0m\u001b[1;34m\"maximize\"\u001b[0m\u001b[1;33m)\u001b[0m\u001b[1;33m\u001b[0m\u001b[1;33m\u001b[0m\u001b[0m\n\u001b[1;32m---> 12\u001b[1;33m \u001b[0mstudy\u001b[0m\u001b[1;33m.\u001b[0m\u001b[0moptimize\u001b[0m\u001b[1;33m(\u001b[0m\u001b[0mobjective_decision_tree\u001b[0m\u001b[1;33m,\u001b[0m \u001b[0mn_trials\u001b[0m\u001b[1;33m=\u001b[0m\u001b[1;36m100\u001b[0m\u001b[1;33m)\u001b[0m\u001b[1;33m\u001b[0m\u001b[1;33m\u001b[0m\u001b[0m\n\u001b[0m",
      "\u001b[1;32m~\\anaconda3\\lib\\site-packages\\optuna\\study\\study.py\u001b[0m in \u001b[0;36moptimize\u001b[1;34m(self, func, n_trials, timeout, n_jobs, catch, callbacks, gc_after_trial, show_progress_bar)\u001b[0m\n\u001b[0;32m    440\u001b[0m                 \u001b[0mIf\u001b[0m \u001b[0mnested\u001b[0m \u001b[0minvocation\u001b[0m \u001b[0mof\u001b[0m \u001b[0mthis\u001b[0m \u001b[0mmethod\u001b[0m \u001b[0moccurs\u001b[0m\u001b[1;33m.\u001b[0m\u001b[1;33m\u001b[0m\u001b[1;33m\u001b[0m\u001b[0m\n\u001b[0;32m    441\u001b[0m         \"\"\"\n\u001b[1;32m--> 442\u001b[1;33m         _optimize(\n\u001b[0m\u001b[0;32m    443\u001b[0m             \u001b[0mstudy\u001b[0m\u001b[1;33m=\u001b[0m\u001b[0mself\u001b[0m\u001b[1;33m,\u001b[0m\u001b[1;33m\u001b[0m\u001b[1;33m\u001b[0m\u001b[0m\n\u001b[0;32m    444\u001b[0m             \u001b[0mfunc\u001b[0m\u001b[1;33m=\u001b[0m\u001b[0mfunc\u001b[0m\u001b[1;33m,\u001b[0m\u001b[1;33m\u001b[0m\u001b[1;33m\u001b[0m\u001b[0m\n",
      "\u001b[1;32m~\\anaconda3\\lib\\site-packages\\optuna\\study\\_optimize.py\u001b[0m in \u001b[0;36m_optimize\u001b[1;34m(study, func, n_trials, timeout, n_jobs, catch, callbacks, gc_after_trial, show_progress_bar)\u001b[0m\n\u001b[0;32m     64\u001b[0m     \u001b[1;32mtry\u001b[0m\u001b[1;33m:\u001b[0m\u001b[1;33m\u001b[0m\u001b[1;33m\u001b[0m\u001b[0m\n\u001b[0;32m     65\u001b[0m         \u001b[1;32mif\u001b[0m \u001b[0mn_jobs\u001b[0m \u001b[1;33m==\u001b[0m \u001b[1;36m1\u001b[0m\u001b[1;33m:\u001b[0m\u001b[1;33m\u001b[0m\u001b[1;33m\u001b[0m\u001b[0m\n\u001b[1;32m---> 66\u001b[1;33m             _optimize_sequential(\n\u001b[0m\u001b[0;32m     67\u001b[0m                 \u001b[0mstudy\u001b[0m\u001b[1;33m,\u001b[0m\u001b[1;33m\u001b[0m\u001b[1;33m\u001b[0m\u001b[0m\n\u001b[0;32m     68\u001b[0m                 \u001b[0mfunc\u001b[0m\u001b[1;33m,\u001b[0m\u001b[1;33m\u001b[0m\u001b[1;33m\u001b[0m\u001b[0m\n",
      "\u001b[1;32m~\\anaconda3\\lib\\site-packages\\optuna\\study\\_optimize.py\u001b[0m in \u001b[0;36m_optimize_sequential\u001b[1;34m(study, func, n_trials, timeout, catch, callbacks, gc_after_trial, reseed_sampler_rng, time_start, progress_bar)\u001b[0m\n\u001b[0;32m    161\u001b[0m \u001b[1;33m\u001b[0m\u001b[0m\n\u001b[0;32m    162\u001b[0m         \u001b[1;32mtry\u001b[0m\u001b[1;33m:\u001b[0m\u001b[1;33m\u001b[0m\u001b[1;33m\u001b[0m\u001b[0m\n\u001b[1;32m--> 163\u001b[1;33m             \u001b[0mfrozen_trial\u001b[0m \u001b[1;33m=\u001b[0m \u001b[0m_run_trial\u001b[0m\u001b[1;33m(\u001b[0m\u001b[0mstudy\u001b[0m\u001b[1;33m,\u001b[0m \u001b[0mfunc\u001b[0m\u001b[1;33m,\u001b[0m \u001b[0mcatch\u001b[0m\u001b[1;33m)\u001b[0m\u001b[1;33m\u001b[0m\u001b[1;33m\u001b[0m\u001b[0m\n\u001b[0m\u001b[0;32m    164\u001b[0m         \u001b[1;32mfinally\u001b[0m\u001b[1;33m:\u001b[0m\u001b[1;33m\u001b[0m\u001b[1;33m\u001b[0m\u001b[0m\n\u001b[0;32m    165\u001b[0m             \u001b[1;31m# The following line mitigates memory problems that can be occurred in some\u001b[0m\u001b[1;33m\u001b[0m\u001b[1;33m\u001b[0m\u001b[0m\n",
      "\u001b[1;32m~\\anaconda3\\lib\\site-packages\\optuna\\study\\_optimize.py\u001b[0m in \u001b[0;36m_run_trial\u001b[1;34m(study, func, catch)\u001b[0m\n\u001b[0;32m    249\u001b[0m         \u001b[1;32mand\u001b[0m \u001b[1;32mnot\u001b[0m \u001b[0misinstance\u001b[0m\u001b[1;33m(\u001b[0m\u001b[0mfunc_err\u001b[0m\u001b[1;33m,\u001b[0m \u001b[0mcatch\u001b[0m\u001b[1;33m)\u001b[0m\u001b[1;33m\u001b[0m\u001b[1;33m\u001b[0m\u001b[0m\n\u001b[0;32m    250\u001b[0m     ):\n\u001b[1;32m--> 251\u001b[1;33m         \u001b[1;32mraise\u001b[0m \u001b[0mfunc_err\u001b[0m\u001b[1;33m\u001b[0m\u001b[1;33m\u001b[0m\u001b[0m\n\u001b[0m\u001b[0;32m    252\u001b[0m     \u001b[1;32mreturn\u001b[0m \u001b[0mfrozen_trial\u001b[0m\u001b[1;33m\u001b[0m\u001b[1;33m\u001b[0m\u001b[0m\n\u001b[0;32m    253\u001b[0m \u001b[1;33m\u001b[0m\u001b[0m\n",
      "\u001b[1;32m~\\anaconda3\\lib\\site-packages\\optuna\\study\\_optimize.py\u001b[0m in \u001b[0;36m_run_trial\u001b[1;34m(study, func, catch)\u001b[0m\n\u001b[0;32m    198\u001b[0m     \u001b[1;32mwith\u001b[0m \u001b[0mget_heartbeat_thread\u001b[0m\u001b[1;33m(\u001b[0m\u001b[0mtrial\u001b[0m\u001b[1;33m.\u001b[0m\u001b[0m_trial_id\u001b[0m\u001b[1;33m,\u001b[0m \u001b[0mstudy\u001b[0m\u001b[1;33m.\u001b[0m\u001b[0m_storage\u001b[0m\u001b[1;33m)\u001b[0m\u001b[1;33m:\u001b[0m\u001b[1;33m\u001b[0m\u001b[1;33m\u001b[0m\u001b[0m\n\u001b[0;32m    199\u001b[0m         \u001b[1;32mtry\u001b[0m\u001b[1;33m:\u001b[0m\u001b[1;33m\u001b[0m\u001b[1;33m\u001b[0m\u001b[0m\n\u001b[1;32m--> 200\u001b[1;33m             \u001b[0mvalue_or_values\u001b[0m \u001b[1;33m=\u001b[0m \u001b[0mfunc\u001b[0m\u001b[1;33m(\u001b[0m\u001b[0mtrial\u001b[0m\u001b[1;33m)\u001b[0m\u001b[1;33m\u001b[0m\u001b[1;33m\u001b[0m\u001b[0m\n\u001b[0m\u001b[0;32m    201\u001b[0m         \u001b[1;32mexcept\u001b[0m \u001b[0mexceptions\u001b[0m\u001b[1;33m.\u001b[0m\u001b[0mTrialPruned\u001b[0m \u001b[1;32mas\u001b[0m \u001b[0me\u001b[0m\u001b[1;33m:\u001b[0m\u001b[1;33m\u001b[0m\u001b[1;33m\u001b[0m\u001b[0m\n\u001b[0;32m    202\u001b[0m             \u001b[1;31m# TODO(mamu): Handle multi-objective cases.\u001b[0m\u001b[1;33m\u001b[0m\u001b[1;33m\u001b[0m\u001b[0m\n",
      "\u001b[1;32m~\\AppData\\Local\\Temp/ipykernel_15488/292729447.py\u001b[0m in \u001b[0;36mobjective_decision_tree\u001b[1;34m(trial)\u001b[0m\n\u001b[0;32m      4\u001b[0m   \u001b[0mmax_depth\u001b[0m \u001b[1;33m=\u001b[0m \u001b[0mtrial\u001b[0m\u001b[1;33m.\u001b[0m\u001b[0msuggest_int\u001b[0m\u001b[1;33m(\u001b[0m\u001b[1;34m\"max_depth\"\u001b[0m\u001b[1;33m,\u001b[0m \u001b[1;36m1\u001b[0m\u001b[1;33m,\u001b[0m \u001b[1;36m20\u001b[0m\u001b[1;33m)\u001b[0m\u001b[1;33m\u001b[0m\u001b[1;33m\u001b[0m\u001b[0m\n\u001b[0;32m      5\u001b[0m \u001b[1;33m\u001b[0m\u001b[0m\n\u001b[1;32m----> 6\u001b[1;33m   score = cross_val_score(DecisionTreeClassifier(splitter=splitter, criterion=criterion, \n\u001b[0m\u001b[0;32m      7\u001b[0m                                                  max_depth=max_depth, random_state=RANDOM_STATE) ,\n\u001b[0;32m      8\u001b[0m                           train_features, train_target, cv=3, scoring=\"f1\", n_jobs=-1).mean()\n",
      "\u001b[1;32m~\\anaconda3\\lib\\site-packages\\sklearn\\model_selection\\_validation.py\u001b[0m in \u001b[0;36mcross_val_score\u001b[1;34m(estimator, X, y, groups, scoring, cv, n_jobs, verbose, fit_params, pre_dispatch, error_score)\u001b[0m\n\u001b[0;32m    560\u001b[0m     \u001b[0mscorer\u001b[0m \u001b[1;33m=\u001b[0m \u001b[0mcheck_scoring\u001b[0m\u001b[1;33m(\u001b[0m\u001b[0mestimator\u001b[0m\u001b[1;33m,\u001b[0m \u001b[0mscoring\u001b[0m\u001b[1;33m=\u001b[0m\u001b[0mscoring\u001b[0m\u001b[1;33m)\u001b[0m\u001b[1;33m\u001b[0m\u001b[1;33m\u001b[0m\u001b[0m\n\u001b[0;32m    561\u001b[0m \u001b[1;33m\u001b[0m\u001b[0m\n\u001b[1;32m--> 562\u001b[1;33m     cv_results = cross_validate(\n\u001b[0m\u001b[0;32m    563\u001b[0m         \u001b[0mestimator\u001b[0m\u001b[1;33m=\u001b[0m\u001b[0mestimator\u001b[0m\u001b[1;33m,\u001b[0m\u001b[1;33m\u001b[0m\u001b[1;33m\u001b[0m\u001b[0m\n\u001b[0;32m    564\u001b[0m         \u001b[0mX\u001b[0m\u001b[1;33m=\u001b[0m\u001b[0mX\u001b[0m\u001b[1;33m,\u001b[0m\u001b[1;33m\u001b[0m\u001b[1;33m\u001b[0m\u001b[0m\n",
      "\u001b[1;32m~\\anaconda3\\lib\\site-packages\\sklearn\\utils\\_param_validation.py\u001b[0m in \u001b[0;36mwrapper\u001b[1;34m(*args, **kwargs)\u001b[0m\n\u001b[0;32m    209\u001b[0m                     )\n\u001b[0;32m    210\u001b[0m                 ):\n\u001b[1;32m--> 211\u001b[1;33m                     \u001b[1;32mreturn\u001b[0m \u001b[0mfunc\u001b[0m\u001b[1;33m(\u001b[0m\u001b[1;33m*\u001b[0m\u001b[0margs\u001b[0m\u001b[1;33m,\u001b[0m \u001b[1;33m**\u001b[0m\u001b[0mkwargs\u001b[0m\u001b[1;33m)\u001b[0m\u001b[1;33m\u001b[0m\u001b[1;33m\u001b[0m\u001b[0m\n\u001b[0m\u001b[0;32m    212\u001b[0m             \u001b[1;32mexcept\u001b[0m \u001b[0mInvalidParameterError\u001b[0m \u001b[1;32mas\u001b[0m \u001b[0me\u001b[0m\u001b[1;33m:\u001b[0m\u001b[1;33m\u001b[0m\u001b[1;33m\u001b[0m\u001b[0m\n\u001b[0;32m    213\u001b[0m                 \u001b[1;31m# When the function is just a wrapper around an estimator, we allow\u001b[0m\u001b[1;33m\u001b[0m\u001b[1;33m\u001b[0m\u001b[0m\n",
      "\u001b[1;32m~\\anaconda3\\lib\\site-packages\\sklearn\\model_selection\\_validation.py\u001b[0m in \u001b[0;36mcross_validate\u001b[1;34m(estimator, X, y, groups, scoring, cv, n_jobs, verbose, fit_params, pre_dispatch, return_train_score, return_estimator, return_indices, error_score)\u001b[0m\n\u001b[0;32m    307\u001b[0m     \u001b[1;31m# independent, and that it is pickle-able.\u001b[0m\u001b[1;33m\u001b[0m\u001b[1;33m\u001b[0m\u001b[0m\n\u001b[0;32m    308\u001b[0m     \u001b[0mparallel\u001b[0m \u001b[1;33m=\u001b[0m \u001b[0mParallel\u001b[0m\u001b[1;33m(\u001b[0m\u001b[0mn_jobs\u001b[0m\u001b[1;33m=\u001b[0m\u001b[0mn_jobs\u001b[0m\u001b[1;33m,\u001b[0m \u001b[0mverbose\u001b[0m\u001b[1;33m=\u001b[0m\u001b[0mverbose\u001b[0m\u001b[1;33m,\u001b[0m \u001b[0mpre_dispatch\u001b[0m\u001b[1;33m=\u001b[0m\u001b[0mpre_dispatch\u001b[0m\u001b[1;33m)\u001b[0m\u001b[1;33m\u001b[0m\u001b[1;33m\u001b[0m\u001b[0m\n\u001b[1;32m--> 309\u001b[1;33m     results = parallel(\n\u001b[0m\u001b[0;32m    310\u001b[0m         delayed(_fit_and_score)(\n\u001b[0;32m    311\u001b[0m             \u001b[0mclone\u001b[0m\u001b[1;33m(\u001b[0m\u001b[0mestimator\u001b[0m\u001b[1;33m)\u001b[0m\u001b[1;33m,\u001b[0m\u001b[1;33m\u001b[0m\u001b[1;33m\u001b[0m\u001b[0m\n",
      "\u001b[1;32m~\\anaconda3\\lib\\site-packages\\sklearn\\utils\\parallel.py\u001b[0m in \u001b[0;36m__call__\u001b[1;34m(self, iterable)\u001b[0m\n\u001b[0;32m     63\u001b[0m             \u001b[1;32mfor\u001b[0m \u001b[0mdelayed_func\u001b[0m\u001b[1;33m,\u001b[0m \u001b[0margs\u001b[0m\u001b[1;33m,\u001b[0m \u001b[0mkwargs\u001b[0m \u001b[1;32min\u001b[0m \u001b[0miterable\u001b[0m\u001b[1;33m\u001b[0m\u001b[1;33m\u001b[0m\u001b[0m\n\u001b[0;32m     64\u001b[0m         )\n\u001b[1;32m---> 65\u001b[1;33m         \u001b[1;32mreturn\u001b[0m \u001b[0msuper\u001b[0m\u001b[1;33m(\u001b[0m\u001b[1;33m)\u001b[0m\u001b[1;33m.\u001b[0m\u001b[0m__call__\u001b[0m\u001b[1;33m(\u001b[0m\u001b[0miterable_with_config\u001b[0m\u001b[1;33m)\u001b[0m\u001b[1;33m\u001b[0m\u001b[1;33m\u001b[0m\u001b[0m\n\u001b[0m\u001b[0;32m     66\u001b[0m \u001b[1;33m\u001b[0m\u001b[0m\n\u001b[0;32m     67\u001b[0m \u001b[1;33m\u001b[0m\u001b[0m\n",
      "\u001b[1;32m~\\anaconda3\\lib\\site-packages\\joblib\\parallel.py\u001b[0m in \u001b[0;36m__call__\u001b[1;34m(self, iterable)\u001b[0m\n\u001b[0;32m   1950\u001b[0m         \u001b[0mnext\u001b[0m\u001b[1;33m(\u001b[0m\u001b[0moutput\u001b[0m\u001b[1;33m)\u001b[0m\u001b[1;33m\u001b[0m\u001b[1;33m\u001b[0m\u001b[0m\n\u001b[0;32m   1951\u001b[0m \u001b[1;33m\u001b[0m\u001b[0m\n\u001b[1;32m-> 1952\u001b[1;33m         \u001b[1;32mreturn\u001b[0m \u001b[0moutput\u001b[0m \u001b[1;32mif\u001b[0m \u001b[0mself\u001b[0m\u001b[1;33m.\u001b[0m\u001b[0mreturn_generator\u001b[0m \u001b[1;32melse\u001b[0m \u001b[0mlist\u001b[0m\u001b[1;33m(\u001b[0m\u001b[0moutput\u001b[0m\u001b[1;33m)\u001b[0m\u001b[1;33m\u001b[0m\u001b[1;33m\u001b[0m\u001b[0m\n\u001b[0m\u001b[0;32m   1953\u001b[0m \u001b[1;33m\u001b[0m\u001b[0m\n\u001b[0;32m   1954\u001b[0m     \u001b[1;32mdef\u001b[0m \u001b[0m__repr__\u001b[0m\u001b[1;33m(\u001b[0m\u001b[0mself\u001b[0m\u001b[1;33m)\u001b[0m\u001b[1;33m:\u001b[0m\u001b[1;33m\u001b[0m\u001b[1;33m\u001b[0m\u001b[0m\n",
      "\u001b[1;32m~\\anaconda3\\lib\\site-packages\\joblib\\parallel.py\u001b[0m in \u001b[0;36m_get_outputs\u001b[1;34m(self, iterator, pre_dispatch)\u001b[0m\n\u001b[0;32m   1593\u001b[0m \u001b[1;33m\u001b[0m\u001b[0m\n\u001b[0;32m   1594\u001b[0m             \u001b[1;32mwith\u001b[0m \u001b[0mself\u001b[0m\u001b[1;33m.\u001b[0m\u001b[0m_backend\u001b[0m\u001b[1;33m.\u001b[0m\u001b[0mretrieval_context\u001b[0m\u001b[1;33m(\u001b[0m\u001b[1;33m)\u001b[0m\u001b[1;33m:\u001b[0m\u001b[1;33m\u001b[0m\u001b[1;33m\u001b[0m\u001b[0m\n\u001b[1;32m-> 1595\u001b[1;33m                 \u001b[1;32myield\u001b[0m \u001b[1;32mfrom\u001b[0m \u001b[0mself\u001b[0m\u001b[1;33m.\u001b[0m\u001b[0m_retrieve\u001b[0m\u001b[1;33m(\u001b[0m\u001b[1;33m)\u001b[0m\u001b[1;33m\u001b[0m\u001b[1;33m\u001b[0m\u001b[0m\n\u001b[0m\u001b[0;32m   1596\u001b[0m \u001b[1;33m\u001b[0m\u001b[0m\n\u001b[0;32m   1597\u001b[0m         \u001b[1;32mexcept\u001b[0m \u001b[0mGeneratorExit\u001b[0m\u001b[1;33m:\u001b[0m\u001b[1;33m\u001b[0m\u001b[1;33m\u001b[0m\u001b[0m\n",
      "\u001b[1;32m~\\anaconda3\\lib\\site-packages\\joblib\\parallel.py\u001b[0m in \u001b[0;36m_retrieve\u001b[1;34m(self)\u001b[0m\n\u001b[0;32m   1705\u001b[0m                 (self._jobs[0].get_status(\n\u001b[0;32m   1706\u001b[0m                     timeout=self.timeout) == TASK_PENDING)):\n\u001b[1;32m-> 1707\u001b[1;33m                 \u001b[0mtime\u001b[0m\u001b[1;33m.\u001b[0m\u001b[0msleep\u001b[0m\u001b[1;33m(\u001b[0m\u001b[1;36m0.01\u001b[0m\u001b[1;33m)\u001b[0m\u001b[1;33m\u001b[0m\u001b[1;33m\u001b[0m\u001b[0m\n\u001b[0m\u001b[0;32m   1708\u001b[0m                 \u001b[1;32mcontinue\u001b[0m\u001b[1;33m\u001b[0m\u001b[1;33m\u001b[0m\u001b[0m\n\u001b[0;32m   1709\u001b[0m \u001b[1;33m\u001b[0m\u001b[0m\n",
      "\u001b[1;31mKeyboardInterrupt\u001b[0m: "
     ]
    }
   ],
   "source": [
    "def objective_decision_tree(trial):\n",
    "  splitter = trial.suggest_categorical(\"splitter\", [\"best\", \"random\"])\n",
    "  criterion = trial.suggest_categorical(\"criterion\", [\"gini\", \"entropy\", \"log_loss\"])\n",
    "  max_depth = trial.suggest_int(\"max_depth\", 1, 20)\n",
    "\n",
    "  score = cross_val_score(DecisionTreeClassifier(splitter=splitter, criterion=criterion, \n",
    "                                                 max_depth=max_depth, random_state=RANDOM_STATE) ,\n",
    "                          train_features, train_target, cv=3, scoring=\"f1\", n_jobs=-1).mean()\n",
    "  return score\n",
    "\n",
    "study = optuna.create_study(direction=\"maximize\")\n",
    "study.optimize(objective_decision_tree, n_trials=100)"
   ]
  },
  {
   "cell_type": "code",
   "execution_count": null,
   "metadata": {},
   "outputs": [],
   "source": [
    "best_results[\"decision_tree\"] = {\n",
    "    \"params\": study.best_trial.params,\n",
    "    \"score\": study.best_trial.value\n",
    "}"
   ]
  },
  {
   "cell_type": "code",
   "execution_count": null,
   "metadata": {},
   "outputs": [],
   "source": [
    "def objective_logistic_regresstion(trial):\n",
    "  penalty = trial.suggest_categorical(\"penalty\", [\"l2\", None])\n",
    "  solver = trial.suggest_categorical(\"solver\", [\"saga\", \"sag\", \"newton-cholesky\", \"newton-cg\", \"lbfgs\"])\n",
    "\n",
    "\n",
    "  score = cross_val_score(LogisticRegression(penalty=penalty, solver=solver, random_state=RANDOM_STATE) ,\n",
    "                          train_features, train_target, cv=3, scoring=\"f1\", n_jobs=-1).mean()\n",
    "  return score\n",
    "\n",
    "study = optuna.create_study(direction=\"maximize\")\n",
    "study.optimize(objective_logistic_regresstion, n_trials=15)"
   ]
  },
  {
   "cell_type": "code",
   "execution_count": null,
   "metadata": {},
   "outputs": [],
   "source": [
    "best_results[\"logistic_regression\"] = {\n",
    "    \"params\": study.best_trial.params,\n",
    "    \"score\": study.best_trial.value\n",
    "}"
   ]
  },
  {
   "cell_type": "markdown",
   "metadata": {},
   "source": [
    "\n",
    "\n"
   ]
  },
  {
   "cell_type": "markdown",
   "metadata": {},
   "source": [
    "Лучшие результаты"
   ]
  },
  {
   "cell_type": "code",
   "execution_count": null,
   "metadata": {},
   "outputs": [],
   "source": [
    "best_results\n",
    "\n"
   ]
  },
  {
   "cell_type": "markdown",
   "metadata": {},
   "source": [
    "победил рандом форест  с параметрами \n",
    "    \n",
    "    \n",
    "        'random_forest': {'params': {'criterion': 'log_loss', 'n_estimators': 80},\n",
    "  'score': 0.7937547597344684}"
   ]
  },
  {
   "cell_type": "code",
   "execution_count": null,
   "metadata": {},
   "outputs": [],
   "source": [
    "#Проверка модели на test-dataset\n",
    "\n",
    "BestModel = RandomForestClassifier(n_estimators=80,\n",
    "                                                 criterion='log_loss', random_state=RANDOM_STATE)\n",
    "\n",
    "BestModel.fit(train_features, train_target)\n",
    "\n",
    "predicted = BestModel.predict(test_features)\n",
    "\n",
    "fbeta_score(test_target, predicted, beta=1.1)"
   ]
  },
  {
   "cell_type": "code",
   "execution_count": null,
   "metadata": {},
   "outputs": [],
   "source": [
    "test['forecast'] = pd.DataFrame(predicted, columns=['forecast'])"
   ]
  },
  {
   "cell_type": "markdown",
   "metadata": {},
   "source": [
    "получили столбец с предсказаниями для test"
   ]
  },
  {
   "cell_type": "code",
   "execution_count": null,
   "metadata": {},
   "outputs": [],
   "source": [
    "display(test['forecast'].value_counts())"
   ]
  },
  {
   "cell_type": "code",
   "execution_count": null,
   "metadata": {},
   "outputs": [],
   "source": [
    "test[test['forecast']==1]"
   ]
  },
  {
   "cell_type": "code",
   "execution_count": null,
   "metadata": {},
   "outputs": [],
   "source": [
    "#Функция добавляет в категориальные: price_class, service, 'season_coeff' и 'revenue' и 'potential_loss' из условий задачи'\n",
    "#Функция кодирует 'arrival_date_month' путем замены на порядковый номер месяца по типу месяца \n",
    "def price_class(df):\n",
    "    df.loc[df['reserved_room_type'].str.contains('A'), 'price_class'] = 1000\n",
    "    df.loc[df['reserved_room_type'].str.contains('A'), 'service'] = 400\n",
    "    \n",
    "    df.loc[df['reserved_room_type'].str.contains('B'), 'price_class'] = 800\n",
    "    df.loc[df['reserved_room_type'].str.contains('B'), 'service'] = 350\n",
    "    \n",
    "    df.loc[df['reserved_room_type'].str.contains('C'), 'price_class'] = 600\n",
    "    df.loc[df['reserved_room_type'].str.contains('C'), 'service'] = 350\n",
    "    \n",
    "    df.loc[df['reserved_room_type'].str.contains('D'), 'price_class'] = 550\n",
    "    df.loc[df['reserved_room_type'].str.contains('D'), 'service'] = 150\n",
    "    \n",
    "    df.loc[df['reserved_room_type'].str.contains('E'), 'price_class'] = 500\n",
    "    df.loc[df['reserved_room_type'].str.contains('E'), 'service'] = 150\n",
    "    \n",
    "    df.loc[df['reserved_room_type'].str.contains('F'), 'price_class'] = 450\n",
    "    df.loc[df['reserved_room_type'].str.contains('F'), 'service'] = 150\n",
    "    \n",
    "    df.loc[df['reserved_room_type'].str.contains('G'), 'price_class'] = 350\n",
    "    df.loc[df['reserved_room_type'].str.contains('G'), 'service'] = 150\n",
    "    \n",
    "    df.loc[df['reserved_room_type'].str.contains('G'), 'price_class'] = 350\n",
    "    df.loc[df['reserved_room_type'].str.contains('G'), 'service'] = 150\n",
    "    \n",
    "     \n",
    "    df.loc[df['arrival_date_month'].str.contains('June'), 'season_coeff'] = 1.4\n",
    "    df.loc[df['arrival_date_month'].str.contains('July'), 'season_coeff'] = 1.4\n",
    "    df.loc[df['arrival_date_month'].str.contains('August'), 'season_coeff'] = 1.4\n",
    "    \n",
    "    df.loc[df['arrival_date_month'].str.contains('September'), 'season_coeff'] = 1.2\n",
    "    df.loc[df['arrival_date_month'].str.contains('October'), 'season_coeff'] = 1.2\n",
    "    df.loc[df['arrival_date_month'].str.contains('November'), 'season_coeff'] = 1.2\n",
    "    \n",
    "    df.loc[df['arrival_date_month'].str.contains('December'), 'season_coeff'] = 1\n",
    "    df.loc[df['arrival_date_month'].str.contains('January'), 'season_coeff'] = 1\n",
    "    df.loc[df['arrival_date_month'].str.contains('February'), 'season_coeff'] = 1\n",
    "    \n",
    "    df.loc[df['arrival_date_month'].str.contains('March'), 'season_coeff'] = 1.2\n",
    "    df.loc[df['arrival_date_month'].str.contains('April'), 'season_coeff'] = 1.2\n",
    "    df.loc[df['arrival_date_month'].str.contains('May'), 'season_coeff'] = 1.2\n",
    "    \n",
    "    df.loc[df['arrival_date_month'].str.contains('June'), 'arrival_month'] = 6\n",
    "    df.loc[df['arrival_date_month'].str.contains('July'), 'arrival_month'] = 7\n",
    "    df.loc[df['arrival_date_month'].str.contains('August'), 'arrival_month'] = 8\n",
    "    \n",
    "    df.loc[df['arrival_date_month'].str.contains('September'), 'arrival_month'] = 9\n",
    "    df.loc[df['arrival_date_month'].str.contains('October'), 'arrival_month'] = 10\n",
    "    df.loc[df['arrival_date_month'].str.contains('November'), 'arrival_month'] = 11\n",
    "    \n",
    "    df.loc[df['arrival_date_month'].str.contains('December'), 'arrival_month'] = 12\n",
    "    df.loc[df['arrival_date_month'].str.contains('January'), 'arrival_month'] = 1\n",
    "    df.loc[df['arrival_date_month'].str.contains('February'), 'arrival_month'] = 2\n",
    "    \n",
    "    df.loc[df['arrival_date_month'].str.contains('March'), 'arrival_month'] = 3\n",
    "    df.loc[df['arrival_date_month'].str.contains('April'), 'arrival_month'] = 4\n",
    "    df.loc[df['arrival_date_month'].str.contains('May'), 'arrival_month'] = 5\n",
    "    \n",
    "    \n",
    "    df['revenue']=(df['total_nights']*df['price_class']-(np.ceil(df['total_nights']/2))*df['service'])*df['season_coeff']\n",
    "    df['potential_loss']=-(df['service']+df['price_class'])*df['season_coeff']\n",
    "    df['deposit']=0.8*(df['price_class']*df['season_coeff']+df['service'])\n",
    "    #Размер депозита — 80% от стоимости номера за одни сутки и затрат на разовую уборку.\n",
    "    \n",
    "    return df"
   ]
  },
  {
   "cell_type": "code",
   "execution_count": null,
   "metadata": {},
   "outputs": [],
   "source": [
    "price_class(test)"
   ]
  },
  {
   "cell_type": "code",
   "execution_count": null,
   "metadata": {},
   "outputs": [],
   "source": [
    "test"
   ]
  },
  {
   "cell_type": "code",
   "execution_count": null,
   "metadata": {},
   "outputs": [],
   "source": [
    "# forecast 1/ is_canceled 1\n",
    "test.loc[(test['is_canceled']==1)&(test['forecast']==1), 'true_revenue'] = test['potential_loss'] \n",
    "# forecast 0/ is_canceled 0\n",
    "test.loc[(test['is_canceled']==0)&(test['forecast']==0), 'true_revenue'] = test['revenue']\n",
    "#forecast 1/ is_canceled 0\n",
    "test.loc[(test['is_canceled']==0)&(test['forecast']==1), 'true_revenue'] = test['revenue']\n",
    "\n",
    "#forecast 0/ is_canceled 1\n",
    "test.loc[(test['is_canceled']==1)&(test['forecast']==0), 'true_revenue'] = test['potential_loss']\n",
    "\n"
   ]
  },
  {
   "cell_type": "code",
   "execution_count": null,
   "metadata": {},
   "outputs": [],
   "source": [
    "test['true_revenue'].hist()"
   ]
  },
  {
   "cell_type": "markdown",
   "metadata": {},
   "source": [
    "Без системы депозитов, наблюдается смещение в сторону убытка на массиве test, добавим еще один столбец со сценарием для депозита"
   ]
  },
  {
   "cell_type": "code",
   "execution_count": null,
   "metadata": {},
   "outputs": [],
   "source": [
    "# forecast 1/ is_canceled 1\n",
    "test.loc[(test['is_canceled']==1)&(test['forecast']==1), 'true_revenue_depo'] = test['deposit'] \n",
    "# forecast 0/ is_canceled 0\n",
    "test.loc[(test['is_canceled']==0)&(test['forecast']==0), 'true_revenue_depo'] = test['revenue']\n",
    "#forecast 1/ is_canceled 0\n",
    "test.loc[(test['is_canceled']==0)&(test['forecast']==1), 'true_revenue_depo'] = test['revenue']\n",
    "\n",
    "#forecast 0/ is_canceled 1\n",
    "test.loc[(test['is_canceled']==1)&(test['forecast']==0), 'true_revenue_depo'] = test['deposit']"
   ]
  },
  {
   "cell_type": "markdown",
   "metadata": {},
   "source": [
    "Перед тем, как приступать к разработке модели расчитаем прибыль отеля за тестовый период без учета депозита\n",
    "\n",
    "Расчет прибыли стоит проводить для тестовых данных. Чтобы можно было объектично сравнить результат для тестового периода до и после разработки модели и получения предсказаний для тестовых данных."
   ]
  },
  {
   "cell_type": "code",
   "execution_count": null,
   "metadata": {},
   "outputs": [],
   "source": [
    "test['true_revenue'].describe()\n"
   ]
  },
  {
   "cell_type": "code",
   "execution_count": null,
   "metadata": {},
   "outputs": [],
   "source": [
    "test['true_revenue_depo'].describe()"
   ]
  },
  {
   "cell_type": "code",
   "execution_count": null,
   "metadata": {},
   "outputs": [],
   "source": [
    "\n",
    "plt.figure(figsize=[12,9])\n",
    "plt.hist(test['true_revenue'],bins=100,color =('blue'), label = 'true_revenue без депозита', alpha=.5)\n",
    "plt.hist(test['true_revenue_depo'], bins=100,color =('red'), label = 'true_revenue с депозитом', alpha=.5)\n",
    "plt.xlabel(\"Прибыль\")\n",
    "plt.ylabel(\"Количество заездов\")\n",
    "plt.legend(loc='best', fontsize='x-large')\n",
    "plt.title(\"Гистограмма распределения количества заездов по прибыли \")\n",
    "plt.show()"
   ]
  },
  {
   "cell_type": "markdown",
   "metadata": {},
   "source": [
    "медиана по прибыли  возросла с 490 рублей до 1320"
   ]
  },
  {
   "cell_type": "markdown",
   "metadata": {},
   "source": [
    "Такс с депозитами намного лучше, то есть наша моделька позволила выйти в плюс \n"
   ]
  },
  {
   "cell_type": "markdown",
   "metadata": {},
   "source": [
    "### Шаг 5. Опишите портрет «ненадёжного» клиента"
   ]
  },
  {
   "cell_type": "markdown",
   "metadata": {},
   "source": [
    "Количество дней между датой бронирования и датой заезда от 0 до 50, заезжает преимущественно на 1 ночь чаще всего в будний день, нет специальных отметок, имел отмененные заказы в диапазоне от 0 до 6 или более 11 отмен заказа, имеет от 0 до 20 подтвержденных заказов, в основном не требуется парковочное место, бронирует повторно, ожидал подтверждения 0, дней, не имеет детей 3-14 лет,в основном менял параметры заказов от 0 до 4 раз, также в основном бронирует на 1 - 10 неделе и с 20 по 30 неделю и в основном останавливается в номере класса 1000, то есть категории A"
   ]
  },
  {
   "cell_type": "code",
   "execution_count": null,
   "metadata": {},
   "outputs": [],
   "source": [
    "model = BestModel\n",
    "model_imp = pd.Series(model.feature_importances_,\n",
    "                         test_features.columns)\n",
    "\n",
    "fig, ax = plt.subplots(figsize=(16,14))\n",
    "model_imp.plot.bar(ax=ax)\n",
    "ax.set_title(\"Вес признаков для определения надежности клиента\")\n",
    "ax.set_ylabel('Вес признака')\n",
    "fig.tight_layout()"
   ]
  },
  {
   "cell_type": "code",
   "execution_count": null,
   "metadata": {},
   "outputs": [],
   "source": [
    "def visio(df):\n",
    "    plt.figure(figsize=[12,9])\n",
    "    plt.hist(df['lead_time'][df['forecast']==1], bins=100,color =('red'), \n",
    "             label = 'lead_time is_canceled', alpha=.5)\n",
    "    \n",
    "    plt.xlabel(\"Количество дней между датой бронирования и датой прибытия\")\n",
    "    plt.ylabel(\"Количество заездов\")\n",
    "    plt.legend(loc='best', fontsize='x-large')\n",
    "    plt.title(\"Гистограмма распределения количества дней между датой бронирования и датой прибытия\")\n",
    "    plt.show()\n",
    "    \n",
    "       \n",
    "    \n",
    "    \n",
    "    plt.figure(figsize=[12,9])\n",
    "    plt.hist(df['arrival_date_day_of_month'][df['forecast']==1], \n",
    "    bins=100,color =('red'), label = 'arrival_date_day_of_month is_canceled', alpha=.5)\n",
    "    \n",
    "    plt.xlabel(\"День в месяце\")\n",
    "    plt.ylabel(\"Количество заездов\")\n",
    "    plt.legend(loc='best', fontsize='x-large')\n",
    "    plt.title(\"Гистограмма распределения количества заездов по дням месяца\")\n",
    "    plt.show()\n",
    "    \n",
    "    plt.figure(figsize=[12,9])\n",
    "    plt.hist(df['babies'][df['forecast']==1], \n",
    "             bins=100,color =('red'), label = 'babies is_canceled', alpha=.5)\n",
    "    plt.xlabel(\"babies\")\n",
    "    plt.ylabel(\"Количество заездов\")\n",
    "    plt.legend(loc='best', fontsize='x-large')\n",
    "    plt.title(\"Гистограмма распределения количества заездов по наличию младенцев\")\n",
    "    plt.show()\n",
    "    \n",
    "    plt.figure(figsize=[12,9])\n",
    "    plt.hist(df['booking_changes'][df['forecast']==1], \n",
    "             bins=100,color =('red'), label = 'booking_changes is_canceled', alpha=.5)\n",
    "    \n",
    "    plt.xlabel(\"booking_changes\")\n",
    "    plt.ylabel(\"Количество заездов\")\n",
    "    plt.legend(loc='best', fontsize='x-large')\n",
    "    plt.title(\"Гистограмма распределения количества заездов по количеству изменений параметров заказа\")\n",
    "    plt.show()\n",
    "    \n",
    "    plt.figure(figsize=[12,9])\n",
    "    plt.hist(df['children'][df['forecast']==1], \n",
    "             bins=100,color =('red'), label = 'children is_canceled', alpha=.5)\n",
    "    \n",
    "    plt.xlabel(\"children\")\n",
    "    plt.ylabel(\"Количество заездов\")\n",
    "    plt.legend(loc='best', fontsize='x-large')\n",
    "    plt.title(\"Гистограмма распределения количества заездов по наличию детей 3-14 лет\")\n",
    "    plt.show()\n",
    "    \n",
    "        \n",
    "    \n",
    "    plt.figure(figsize=[12,9])\n",
    "    plt.hist(df['days_in_waiting_list'][df['forecast']==1], \n",
    "             bins=100,color =('red'), label = 'days_in_waiting_list is_canceled', alpha=.5)\n",
    "    \n",
    "    plt.xlabel(\"Дней ожидания\")\n",
    "    plt.ylabel(\"Количество заездов\")\n",
    "    plt.legend(loc='best', fontsize='x-large')\n",
    "    plt.title(\"Гистограмма распределения количества заездов по дням ожидания подтверждения\")\n",
    "    plt.show()\n",
    "    \n",
    "       \n",
    "        \n",
    "    \n",
    "    plt.figure(figsize=[12,9])\n",
    "    plt.hist(df['is_repeated_guest'][df['forecast']==1], \n",
    "             bins=100,color =('red'), label = 'is_repeated_guest is_canceled', alpha=.5)\n",
    "    \n",
    "    plt.xlabel(\"Признак повторного бронирования\")\n",
    "    plt.ylabel(\"Количество заездов\")\n",
    "    plt.legend(loc='best', fontsize='x-large')\n",
    "    plt.title(\"Гистограмма распределения количества заездов по признаку повторного бронирования\")\n",
    "    plt.show()\n",
    "    \n",
    "    \n",
    "    plt.figure(figsize=[12,9])\n",
    "    plt.hist(df['lead_time'][df['forecast']==1], \n",
    "             bins=100,color =('red'), label = 'lead_time is_canceled', alpha=.5)\n",
    "    \n",
    "    plt.xlabel(\"Количество дней между датой бронирования и датой прибытия\")\n",
    "    plt.ylabel(\"Количество заездов\")\n",
    "    plt.legend(loc='best', fontsize='x-large')\n",
    "    plt.title(\"Гистограмма распределения количества заездов по числу дней между датой бронирования и датой прибытия\")\n",
    "    plt.show()\n",
    "    \n",
    "    \n",
    "    \n",
    "    \n",
    "    \n",
    "    \n",
    "    plt.figure(figsize=[12,9])\n",
    "    plt.hist(df['previous_bookings_not_canceled'][df['forecast']==1], \n",
    "             bins=100,color =('red'), label = 'previous_bookings_not_canceled is_canceled', alpha=.5)\n",
    "    \n",
    "    plt.xlabel(\"Количество подтверждённых заказов у клиента\")\n",
    "    plt.ylabel(\"Количество заездов\")\n",
    "    plt.legend(loc='best', fontsize='x-large')\n",
    "    plt.title(\"Гистограмма распределения количества заездов количеству подтверждённых заказов у клиента\")\n",
    "    plt.show()\n",
    "    \n",
    "    \n",
    "    plt.figure(figsize=[12,9])\n",
    "    plt.hist(df['previous_cancellations'][df['forecast']==1], \n",
    "             bins=100,color =('red'), label = 'previous_cancellations is_canceled', alpha=.5)\n",
    "    \n",
    "    plt.xlabel(\"Количество отменённых заказов у клиента\")\n",
    "    plt.ylabel(\"Количество заездов\")\n",
    "    plt.legend(loc='best', fontsize='x-large')\n",
    "    plt.title(\"Гистограмма распределения количества заездов по количеству отменённых заказов у клиента\")\n",
    "    plt.show()\n",
    "    \n",
    "    \n",
    "    plt.figure(figsize=[12,9])\n",
    "    plt.hist(df['required_car_parking_spaces'][df['forecast']==1], \n",
    "             bins=100,color =('red'), label = 'required_car_parking_spaces is_canceled', alpha=.5)\n",
    "    \n",
    "    plt.xlabel(\"Необходимость места для автомобиля\")\n",
    "    plt.ylabel(\"Количество заездов\")\n",
    "    plt.legend(loc='best', fontsize='x-large')\n",
    "    plt.title(\"Гистограмма распределения количества заездов по необходимости места для автомобиля\")\n",
    "    plt.show()\n",
    "    \n",
    "    \n",
    "    \n",
    "    \n",
    "      \n",
    "    \n",
    "    \n",
    "    \n",
    "    \n",
    "    plt.figure(figsize=[12,9])\n",
    "    plt.hist(df['total_nights'][df['forecast']==1], \n",
    "             bins=100,color =('red'), label = 'total_nights is_canceled', alpha=.5)\n",
    "    \n",
    "    plt.xlabel(\"Общее количество ночей\")\n",
    "    plt.ylabel(\"Количество заездов\")\n",
    "    plt.legend(loc='best', fontsize='x-large')\n",
    "    plt.title(\"Гистограмма распределения количества заездов по общему количество ночей\")\n",
    "    plt.show()\n",
    "    \n",
    "    \n",
    "    \n",
    "    \n",
    "    plt.figure(figsize=[12,9])\n",
    "    \n",
    "    \n",
    "    \n",
    "    \n",
    "    \n",
    "\n",
    "     "
   ]
  },
  {
   "cell_type": "markdown",
   "metadata": {},
   "source": [
    "Визуализация фичей ненадежного клиента"
   ]
  },
  {
   "cell_type": "code",
   "execution_count": null,
   "metadata": {
    "scrolled": false
   },
   "outputs": [],
   "source": [
    "visio(test)"
   ]
  },
  {
   "cell_type": "code",
   "execution_count": null,
   "metadata": {},
   "outputs": [],
   "source": [
    "BestModel"
   ]
  },
  {
   "cell_type": "code",
   "execution_count": null,
   "metadata": {},
   "outputs": [],
   "source": [
    "best_results[\"random_forest\"]"
   ]
  },
  {
   "cell_type": "markdown",
   "metadata": {},
   "source": [
    "### Актуальный код и блоки "
   ]
  },
  {
   "cell_type": "markdown",
   "metadata": {},
   "source": [
    "#### Импорт"
   ]
  },
  {
   "cell_type": "code",
   "execution_count": 160,
   "metadata": {},
   "outputs": [],
   "source": [
    "#C:\\Users\\Admin\\Desktop\\hotel PRoject\n",
    "import pandas as pd\n",
    "import datetime as dt\n",
    "import plotly.express as px\n",
    "import seaborn as sns\n",
    "import matplotlib.pyplot as plt\n",
    "import numpy as np\n",
    "from sklearn.model_selection import train_test_split\n",
    "from sklearn.preprocessing import StandardScaler\n",
    "from sklearn.linear_model import LinearRegression\n",
    "from sklearn.tree import DecisionTreeRegressor\n",
    "from sklearn.ensemble import RandomForestRegressor\n",
    "from sklearn.metrics import  r2_score\n",
    "from sklearn.metrics import mean_absolute_error\n",
    "import warnings\n",
    "warnings.filterwarnings('ignore')\n",
    "from sklearn.tree import DecisionTreeClassifier\n",
    "from sklearn.metrics import confusion_matrix\n",
    "import scipy.stats as st\n",
    "from sklearn.tree import DecisionTreeClassifier \n",
    "from sklearn.metrics import accuracy_score\n",
    "from sklearn.ensemble import RandomForestClassifier\n",
    "from sklearn.metrics import mean_squared_error\n",
    "from sklearn.linear_model import LogisticRegression\n",
    "from scipy import stats as st\n",
    "from sklearn.metrics import precision_score\n",
    "from sklearn.metrics import recall_score\n",
    "from sklearn.metrics import f1_score\n",
    "from sklearn.metrics import classification_report\n",
    "from sklearn.utils import shuffle\n",
    "from sklearn.preprocessing import OneHotEncoder\n",
    "\n",
    "from imblearn.over_sampling import ADASYN\n",
    "from sklearn.metrics import roc_curve \n",
    "from sklearn.metrics import precision_recall_curve\n",
    "\n",
    "from sklearn.metrics import roc_auc_score\n",
    "\n",
    "from sklearn.metrics import roc_auc_score\n",
    "\n",
    "import pip\n",
    "\n",
    "from imblearn.over_sampling import SMOTE\n",
    "\n",
    "RANDOM_STATE=12345\n",
    "\n",
    "from category_encoders.leave_one_out import LeaveOneOutEncoder\n",
    "from imblearn.over_sampling import ADASYN\n",
    "from sklearn.preprocessing import RobustScaler\n",
    "\n",
    "import optuna\n",
    "\n",
    "from sklearn.model_selection import cross_val_score\n",
    "\n",
    "from sklearn.metrics import fbeta_score\n",
    "\n",
    "\n",
    "\n",
    "from imblearn.pipeline import Pipeline, make_pipeline\n",
    "from sklearn.metrics import f1_score\n",
    "from sklearn.preprocessing import OrdinalEncoder\n",
    "from sklearn.compose import ColumnTransformer\n",
    "from sklearn.impute import SimpleImputer\n",
    "from optuna import Trial\n",
    "from sklearn.model_selection import (\n",
    "    GridSearchCV, \n",
    "    RandomizedSearchCV,\n",
    "    train_test_split\n",
    ")\n",
    "\n",
    "from sklearn.preprocessing import StandardScaler, OneHotEncoder\n",
    "from sklearn.compose import make_column_transformer\n",
    "\n",
    "from sklearn.pipeline import Pipeline\n",
    "from sklearn.impute import SimpleImputer"
   ]
  },
  {
   "cell_type": "markdown",
   "metadata": {},
   "source": [
    "#### Загрузка данных"
   ]
  },
  {
   "cell_type": "code",
   "execution_count": 161,
   "metadata": {},
   "outputs": [],
   "source": [
    "try:\n",
    "    train= pd.read_csv('/datasets/hotel_train.csv')\n",
    "    test= pd.read_csv('/datasets/hotel_test.csv')\n",
    "except:\n",
    "    train= pd.read_csv(r'C:\\Users\\Admin\\Desktop\\hotel PRoject\\hotel_train.csv')\n",
    "    test= pd.read_csv(r'C:\\Users\\Admin\\Desktop\\hotel PRoject\\hotel_test.csv')"
   ]
  },
  {
   "cell_type": "markdown",
   "metadata": {},
   "source": [
    "#### Предобработка данных"
   ]
  },
  {
   "cell_type": "code",
   "execution_count": 162,
   "metadata": {},
   "outputs": [],
   "source": [
    "#дропаем id\n",
    "train=train.drop(['id'],axis=1)\n",
    "test=test.drop(['id'],axis=1)"
   ]
  },
  {
   "cell_type": "code",
   "execution_count": 163,
   "metadata": {},
   "outputs": [],
   "source": [
    "#дропаем дубликаты\n",
    "train=train.drop_duplicates()\n",
    "test=test.drop_duplicates()"
   ]
  },
  {
   "cell_type": "code",
   "execution_count": 164,
   "metadata": {},
   "outputs": [],
   "source": [
    "#фиксим страны\n",
    "top_20=pd.DataFrame(train['country'].value_counts().head(20))\n",
    "top_20=top_20.reset_index()\n",
    "top_20.drop(['country'],axis=1)\n",
    "top_20['index'].to_list()\n",
    "test.loc[(test['country'] .isin(top_20['index'].to_list()))==False, 'country'] = 'OTHER'\n",
    "train.loc[(train['country'] .isin(top_20['index'].to_list()))==False, 'country'] = 'OTHER'"
   ]
  },
  {
   "cell_type": "code",
   "execution_count": 165,
   "metadata": {},
   "outputs": [],
   "source": [
    "def stripp(df):\n",
    "    df['arrival_date_month']=df['arrival_date_month'].str.strip()\n",
    "    df['meal']=df['meal'].str.strip()\n",
    "    df['country']=df['country'].str.strip()\n",
    "    df['distribution_channel']=df['distribution_channel'].str.strip()\n",
    "    df['reserved_room_type']=df['reserved_room_type'].str.strip()\n",
    "    df['customer_type']=df['customer_type'].str.strip()\n",
    "    \n",
    "    return df"
   ]
  },
  {
   "cell_type": "code",
   "execution_count": 166,
   "metadata": {},
   "outputs": [],
   "source": [
    "#Исключаем пробелы из категорий\n",
    "train=stripp(train)\n",
    "test=stripp(test)"
   ]
  },
  {
   "cell_type": "markdown",
   "metadata": {},
   "source": [
    "#### Формирование X_train,X_valid,y_train,y_valid"
   ]
  },
  {
   "cell_type": "code",
   "execution_count": 167,
   "metadata": {},
   "outputs": [],
   "source": [
    "X_train=train.drop('is_canceled',axis=1)\n",
    "X_valid=test.drop('is_canceled',axis=1)"
   ]
  },
  {
   "cell_type": "code",
   "execution_count": 168,
   "metadata": {},
   "outputs": [],
   "source": [
    "y_train=train['is_canceled']\n",
    "y_valid=test['is_canceled']"
   ]
  },
  {
   "cell_type": "code",
   "execution_count": 169,
   "metadata": {},
   "outputs": [
    {
     "name": "stdout",
     "output_type": "stream",
     "text": [
      "Категориальные переменные:\n",
      "['arrival_date_month', 'meal', 'country', 'distribution_channel', 'reserved_room_type', 'customer_type']\n"
     ]
    }
   ],
   "source": [
    "# Выводим список категориальных переменных\n",
    "s = (X_train.dtypes == 'object')\n",
    "object_cols = list(s[s].index)\n",
    "\n",
    "print(\"Категориальные переменные:\")\n",
    "print(object_cols)"
   ]
  },
  {
   "cell_type": "code",
   "execution_count": 170,
   "metadata": {},
   "outputs": [
    {
     "data": {
      "text/plain": [
       "[('meal', 4),\n",
       " ('distribution_channel', 4),\n",
       " ('customer_type', 4),\n",
       " ('reserved_room_type', 7),\n",
       " ('arrival_date_month', 12),\n",
       " ('country', 21)]"
      ]
     },
     "execution_count": 170,
     "metadata": {},
     "output_type": "execute_result"
    }
   ],
   "source": [
    "#формируем число уникальных категорий в каждой колонке категориальной переменной\n",
    "object_nunique = list(map(lambda col: X_train[col].nunique(), object_cols))\n",
    "d = dict(zip(object_cols, object_nunique))\n",
    "\n",
    "# Выводим количество уникальных категорий в каждой колонке в порядке возрастания\n",
    "sorted(d.items(), key=lambda x: x[1])"
   ]
  },
  {
   "cell_type": "markdown",
   "metadata": {},
   "source": [
    "В качестве примера возьмем RFС, для выбора энкодера"
   ]
  },
  {
   "cell_type": "code",
   "execution_count": 171,
   "metadata": {},
   "outputs": [],
   "source": [
    "# функция проверки качества моделек по f1\n",
    "def score_dataset(X_train, X_valid, y_train, y_valid):\n",
    "    model = RandomForestClassifier(n_estimators=100, random_state=RANDOM_STATE)\n",
    "    model.fit(X_train, y_train)\n",
    "    preds = model.predict(X_valid)\n",
    "    return f1_score(y_valid, preds)"
   ]
  },
  {
   "cell_type": "code",
   "execution_count": 172,
   "metadata": {},
   "outputs": [
    {
     "name": "stdout",
     "output_type": "stream",
     "text": [
      "f1, когда все категории в утиль:\n",
      "0.3425537381176672\n"
     ]
    }
   ],
   "source": [
    "drop_X_train = X_train.select_dtypes(exclude=['object'])\n",
    "drop_X_valid = X_valid.select_dtypes(exclude=['object'])\n",
    "\n",
    "print(\"f1, когда все категории в утиль:\")\n",
    "print(score_dataset(drop_X_train, drop_X_valid, y_train, y_valid))"
   ]
  },
  {
   "cell_type": "code",
   "execution_count": 173,
   "metadata": {},
   "outputs": [
    {
     "name": "stdout",
     "output_type": "stream",
     "text": [
      "f1, когда все категории закодированы порядковым энкодером:\n",
      "0.4248589502479057\n"
     ]
    }
   ],
   "source": [
    "\n",
    "\n",
    "# 2. оценим вариант, когда все категории закодированы порядковым энкодером по f1\n",
    "# делаем копии, чтобы не повредить оригинальные данные \n",
    "label_X_train = X_train.copy()\n",
    "label_X_valid = X_valid.copy()\n",
    "\n",
    "# Порядковое кодирование\n",
    "ordinal_encoder = OrdinalEncoder()\n",
    "label_X_train[object_cols] = ordinal_encoder.fit_transform(X_train[object_cols])\n",
    "label_X_valid[object_cols] = ordinal_encoder.transform(X_valid[object_cols])\n",
    "\n",
    "print(\"f1, когда все категории закодированы порядковым энкодером:\") \n",
    "print(score_dataset(label_X_train, label_X_valid, y_train, y_valid))"
   ]
  },
  {
   "cell_type": "code",
   "execution_count": 174,
   "metadata": {},
   "outputs": [
    {
     "name": "stdout",
     "output_type": "stream",
     "text": [
      "f1, когда все категории закодированы One-Hot Encoding:\n",
      "0.43525701133748196\n"
     ]
    }
   ],
   "source": [
    "# кодим категории\n",
    "OH_encoder = OneHotEncoder(handle_unknown='ignore', sparse=False)\n",
    "OH_cols_train = pd.DataFrame(OH_encoder.fit_transform(X_train[object_cols]))\n",
    "OH_cols_valid = pd.DataFrame(OH_encoder.transform(X_valid[object_cols]))\n",
    "\n",
    "# возвращаем индексы\n",
    "OH_cols_train.index = X_train.index\n",
    "OH_cols_valid.index = X_valid.index\n",
    "\n",
    "# заменяем на кодированные\n",
    "num_X_train = X_train.drop(object_cols, axis=1)\n",
    "num_X_valid = X_valid.drop(object_cols, axis=1)\n",
    "\n",
    "# добавляем кодированные колонки к нумерик\n",
    "OH_X_train = pd.concat([num_X_train, OH_cols_train], axis=1)\n",
    "OH_X_valid = pd.concat([num_X_valid, OH_cols_valid], axis=1)\n",
    "\n",
    "# чекаем, что у всех кат калонок формат string\n",
    "OH_X_train.columns = OH_X_train.columns.astype(str)\n",
    "OH_X_valid.columns = OH_X_valid.columns.astype(str)\n",
    "\n",
    "print(\"f1, когда все категории закодированы One-Hot Encoding:\") \n",
    "print(score_dataset(OH_X_train, OH_X_valid, y_train, y_valid))"
   ]
  },
  {
   "cell_type": "markdown",
   "metadata": {},
   "source": [
    "#### Вывод по выбору Encoder:\n",
    "Ohe таки хорошо для нашего случая"
   ]
  },
  {
   "cell_type": "code",
   "execution_count": 175,
   "metadata": {},
   "outputs": [],
   "source": [
    "numerical_cols = X_train.select_dtypes(include=['int64', 'float64']).columns.to_list()\n",
    "categorical_cols = X_train.select_dtypes(include=['object', 'bool']).columns.to_list()"
   ]
  },
  {
   "cell_type": "code",
   "execution_count": null,
   "metadata": {},
   "outputs": [],
   "source": []
  },
  {
   "cell_type": "code",
   "execution_count": 176,
   "metadata": {},
   "outputs": [],
   "source": [
    "# пайплайн предобработка количественных переменных\n",
    "numerical_transformer =  StandardScaler()\n",
    "\n",
    "# пайплайн  предобработка категориальных переменных\n",
    "categorical_transformer = Pipeline(steps=[\n",
    "    ('onehot', OneHotEncoder(drop='first', handle_unknown='ignore'))\n",
    "])\n",
    "\n",
    "# собираем общий пайплайн с помощью ColumnTransformer для качественных и количественных данных\n",
    "preprocessor = ColumnTransformer(\n",
    "    transformers=[\n",
    "        ('num', numerical_transformer, numerical_cols),\n",
    "        ('cat', categorical_transformer, categorical_cols)\n",
    "    ])\n",
    "\n",
    "\n",
    "# Определяем модель \n",
    "#model = RandomForestClassifier(n_estimators=100, random_state=RANDOM_STATE)\n",
    "#sampler=ADASYN(random_state=RANDOM_STATE)\n",
    "\n",
    "\n",
    "#clf = make_pipeline(preprocessor, sampler,model)\n",
    "# собираем вместе предобработку и модель\n",
    "\n",
    "\n",
    "# Preprocessing of training data, fit model \n",
    "#clf.fit(X_train, y_train)\n",
    "\n",
    "# Preprocessing of validation data, get predictions\n",
    "#preds = clf.predict(X_valid)\n",
    "\n",
    "#print('f1:', f1_score(y_valid, preds))"
   ]
  },
  {
   "cell_type": "code",
   "execution_count": 177,
   "metadata": {},
   "outputs": [
    {
     "data": {
      "text/html": [
       "<div>\n",
       "<style scoped>\n",
       "    .dataframe tbody tr th:only-of-type {\n",
       "        vertical-align: middle;\n",
       "    }\n",
       "\n",
       "    .dataframe tbody tr th {\n",
       "        vertical-align: top;\n",
       "    }\n",
       "\n",
       "    .dataframe thead th {\n",
       "        text-align: right;\n",
       "    }\n",
       "</style>\n",
       "<table border=\"1\" class=\"dataframe\">\n",
       "  <thead>\n",
       "    <tr style=\"text-align: right;\">\n",
       "      <th></th>\n",
       "      <th>lead_time</th>\n",
       "      <th>arrival_date_year</th>\n",
       "      <th>arrival_date_month</th>\n",
       "      <th>arrival_date_week_number</th>\n",
       "      <th>arrival_date_day_of_month</th>\n",
       "      <th>stays_in_weekend_nights</th>\n",
       "      <th>stays_in_week_nights</th>\n",
       "      <th>adults</th>\n",
       "      <th>children</th>\n",
       "      <th>babies</th>\n",
       "      <th>...</th>\n",
       "      <th>is_repeated_guest</th>\n",
       "      <th>previous_cancellations</th>\n",
       "      <th>previous_bookings_not_canceled</th>\n",
       "      <th>reserved_room_type</th>\n",
       "      <th>booking_changes</th>\n",
       "      <th>days_in_waiting_list</th>\n",
       "      <th>customer_type</th>\n",
       "      <th>required_car_parking_spaces</th>\n",
       "      <th>total_of_special_requests</th>\n",
       "      <th>total_nights</th>\n",
       "    </tr>\n",
       "  </thead>\n",
       "  <tbody>\n",
       "    <tr>\n",
       "      <th>0</th>\n",
       "      <td>7.0</td>\n",
       "      <td>2015</td>\n",
       "      <td>July</td>\n",
       "      <td>27</td>\n",
       "      <td>1</td>\n",
       "      <td>0</td>\n",
       "      <td>1</td>\n",
       "      <td>1.0</td>\n",
       "      <td>0.0</td>\n",
       "      <td>0.0</td>\n",
       "      <td>...</td>\n",
       "      <td>0</td>\n",
       "      <td>0</td>\n",
       "      <td>0</td>\n",
       "      <td>A</td>\n",
       "      <td>0</td>\n",
       "      <td>0</td>\n",
       "      <td>Transient</td>\n",
       "      <td>0</td>\n",
       "      <td>0</td>\n",
       "      <td>1</td>\n",
       "    </tr>\n",
       "    <tr>\n",
       "      <th>1</th>\n",
       "      <td>14.0</td>\n",
       "      <td>2015</td>\n",
       "      <td>July</td>\n",
       "      <td>27</td>\n",
       "      <td>1</td>\n",
       "      <td>0</td>\n",
       "      <td>2</td>\n",
       "      <td>2.0</td>\n",
       "      <td>0.0</td>\n",
       "      <td>0.0</td>\n",
       "      <td>...</td>\n",
       "      <td>0</td>\n",
       "      <td>0</td>\n",
       "      <td>0</td>\n",
       "      <td>A</td>\n",
       "      <td>0</td>\n",
       "      <td>0</td>\n",
       "      <td>Transient</td>\n",
       "      <td>0</td>\n",
       "      <td>1</td>\n",
       "      <td>2</td>\n",
       "    </tr>\n",
       "    <tr>\n",
       "      <th>2</th>\n",
       "      <td>0.0</td>\n",
       "      <td>2015</td>\n",
       "      <td>July</td>\n",
       "      <td>27</td>\n",
       "      <td>1</td>\n",
       "      <td>0</td>\n",
       "      <td>2</td>\n",
       "      <td>2.0</td>\n",
       "      <td>0.0</td>\n",
       "      <td>0.0</td>\n",
       "      <td>...</td>\n",
       "      <td>0</td>\n",
       "      <td>0</td>\n",
       "      <td>0</td>\n",
       "      <td>C</td>\n",
       "      <td>0</td>\n",
       "      <td>0</td>\n",
       "      <td>Transient</td>\n",
       "      <td>0</td>\n",
       "      <td>0</td>\n",
       "      <td>2</td>\n",
       "    </tr>\n",
       "    <tr>\n",
       "      <th>3</th>\n",
       "      <td>9.0</td>\n",
       "      <td>2015</td>\n",
       "      <td>July</td>\n",
       "      <td>27</td>\n",
       "      <td>1</td>\n",
       "      <td>0</td>\n",
       "      <td>2</td>\n",
       "      <td>2.0</td>\n",
       "      <td>0.0</td>\n",
       "      <td>0.0</td>\n",
       "      <td>...</td>\n",
       "      <td>0</td>\n",
       "      <td>0</td>\n",
       "      <td>0</td>\n",
       "      <td>C</td>\n",
       "      <td>0</td>\n",
       "      <td>0</td>\n",
       "      <td>Transient</td>\n",
       "      <td>0</td>\n",
       "      <td>1</td>\n",
       "      <td>2</td>\n",
       "    </tr>\n",
       "    <tr>\n",
       "      <th>4</th>\n",
       "      <td>85.0</td>\n",
       "      <td>2015</td>\n",
       "      <td>July</td>\n",
       "      <td>27</td>\n",
       "      <td>1</td>\n",
       "      <td>0</td>\n",
       "      <td>3</td>\n",
       "      <td>2.0</td>\n",
       "      <td>0.0</td>\n",
       "      <td>0.0</td>\n",
       "      <td>...</td>\n",
       "      <td>0</td>\n",
       "      <td>0</td>\n",
       "      <td>0</td>\n",
       "      <td>A</td>\n",
       "      <td>0</td>\n",
       "      <td>0</td>\n",
       "      <td>Transient</td>\n",
       "      <td>0</td>\n",
       "      <td>1</td>\n",
       "      <td>3</td>\n",
       "    </tr>\n",
       "    <tr>\n",
       "      <th>...</th>\n",
       "      <td>...</td>\n",
       "      <td>...</td>\n",
       "      <td>...</td>\n",
       "      <td>...</td>\n",
       "      <td>...</td>\n",
       "      <td>...</td>\n",
       "      <td>...</td>\n",
       "      <td>...</td>\n",
       "      <td>...</td>\n",
       "      <td>...</td>\n",
       "      <td>...</td>\n",
       "      <td>...</td>\n",
       "      <td>...</td>\n",
       "      <td>...</td>\n",
       "      <td>...</td>\n",
       "      <td>...</td>\n",
       "      <td>...</td>\n",
       "      <td>...</td>\n",
       "      <td>...</td>\n",
       "      <td>...</td>\n",
       "      <td>...</td>\n",
       "    </tr>\n",
       "    <tr>\n",
       "      <th>65224</th>\n",
       "      <td>23.0</td>\n",
       "      <td>2016</td>\n",
       "      <td>December</td>\n",
       "      <td>53</td>\n",
       "      <td>30</td>\n",
       "      <td>2</td>\n",
       "      <td>4</td>\n",
       "      <td>2.0</td>\n",
       "      <td>0.0</td>\n",
       "      <td>0.0</td>\n",
       "      <td>...</td>\n",
       "      <td>0</td>\n",
       "      <td>0</td>\n",
       "      <td>0</td>\n",
       "      <td>D</td>\n",
       "      <td>0</td>\n",
       "      <td>0</td>\n",
       "      <td>Transient</td>\n",
       "      <td>0</td>\n",
       "      <td>2</td>\n",
       "      <td>6</td>\n",
       "    </tr>\n",
       "    <tr>\n",
       "      <th>65225</th>\n",
       "      <td>53.0</td>\n",
       "      <td>2016</td>\n",
       "      <td>December</td>\n",
       "      <td>53</td>\n",
       "      <td>31</td>\n",
       "      <td>2</td>\n",
       "      <td>3</td>\n",
       "      <td>2.0</td>\n",
       "      <td>0.0</td>\n",
       "      <td>0.0</td>\n",
       "      <td>...</td>\n",
       "      <td>0</td>\n",
       "      <td>0</td>\n",
       "      <td>0</td>\n",
       "      <td>D</td>\n",
       "      <td>0</td>\n",
       "      <td>0</td>\n",
       "      <td>Transient</td>\n",
       "      <td>0</td>\n",
       "      <td>3</td>\n",
       "      <td>5</td>\n",
       "    </tr>\n",
       "    <tr>\n",
       "      <th>65226</th>\n",
       "      <td>7.0</td>\n",
       "      <td>2016</td>\n",
       "      <td>December</td>\n",
       "      <td>53</td>\n",
       "      <td>31</td>\n",
       "      <td>2</td>\n",
       "      <td>4</td>\n",
       "      <td>2.0</td>\n",
       "      <td>0.0</td>\n",
       "      <td>0.0</td>\n",
       "      <td>...</td>\n",
       "      <td>0</td>\n",
       "      <td>0</td>\n",
       "      <td>0</td>\n",
       "      <td>D</td>\n",
       "      <td>0</td>\n",
       "      <td>0</td>\n",
       "      <td>Transient</td>\n",
       "      <td>0</td>\n",
       "      <td>1</td>\n",
       "      <td>6</td>\n",
       "    </tr>\n",
       "    <tr>\n",
       "      <th>65227</th>\n",
       "      <td>17.0</td>\n",
       "      <td>2016</td>\n",
       "      <td>December</td>\n",
       "      <td>53</td>\n",
       "      <td>30</td>\n",
       "      <td>2</td>\n",
       "      <td>5</td>\n",
       "      <td>2.0</td>\n",
       "      <td>0.0</td>\n",
       "      <td>0.0</td>\n",
       "      <td>...</td>\n",
       "      <td>0</td>\n",
       "      <td>0</td>\n",
       "      <td>0</td>\n",
       "      <td>A</td>\n",
       "      <td>0</td>\n",
       "      <td>0</td>\n",
       "      <td>Transient</td>\n",
       "      <td>0</td>\n",
       "      <td>1</td>\n",
       "      <td>7</td>\n",
       "    </tr>\n",
       "    <tr>\n",
       "      <th>65228</th>\n",
       "      <td>107.0</td>\n",
       "      <td>2016</td>\n",
       "      <td>December</td>\n",
       "      <td>53</td>\n",
       "      <td>31</td>\n",
       "      <td>2</td>\n",
       "      <td>5</td>\n",
       "      <td>2.0</td>\n",
       "      <td>0.0</td>\n",
       "      <td>0.0</td>\n",
       "      <td>...</td>\n",
       "      <td>0</td>\n",
       "      <td>0</td>\n",
       "      <td>0</td>\n",
       "      <td>A</td>\n",
       "      <td>0</td>\n",
       "      <td>0</td>\n",
       "      <td>Transient</td>\n",
       "      <td>0</td>\n",
       "      <td>0</td>\n",
       "      <td>7</td>\n",
       "    </tr>\n",
       "  </tbody>\n",
       "</table>\n",
       "<p>43852 rows × 23 columns</p>\n",
       "</div>"
      ],
      "text/plain": [
       "       lead_time  arrival_date_year arrival_date_month  \\\n",
       "0            7.0               2015               July   \n",
       "1           14.0               2015               July   \n",
       "2            0.0               2015               July   \n",
       "3            9.0               2015               July   \n",
       "4           85.0               2015               July   \n",
       "...          ...                ...                ...   \n",
       "65224       23.0               2016           December   \n",
       "65225       53.0               2016           December   \n",
       "65226        7.0               2016           December   \n",
       "65227       17.0               2016           December   \n",
       "65228      107.0               2016           December   \n",
       "\n",
       "       arrival_date_week_number  arrival_date_day_of_month  \\\n",
       "0                            27                          1   \n",
       "1                            27                          1   \n",
       "2                            27                          1   \n",
       "3                            27                          1   \n",
       "4                            27                          1   \n",
       "...                         ...                        ...   \n",
       "65224                        53                         30   \n",
       "65225                        53                         31   \n",
       "65226                        53                         31   \n",
       "65227                        53                         30   \n",
       "65228                        53                         31   \n",
       "\n",
       "       stays_in_weekend_nights  stays_in_week_nights  adults  children  \\\n",
       "0                            0                     1     1.0       0.0   \n",
       "1                            0                     2     2.0       0.0   \n",
       "2                            0                     2     2.0       0.0   \n",
       "3                            0                     2     2.0       0.0   \n",
       "4                            0                     3     2.0       0.0   \n",
       "...                        ...                   ...     ...       ...   \n",
       "65224                        2                     4     2.0       0.0   \n",
       "65225                        2                     3     2.0       0.0   \n",
       "65226                        2                     4     2.0       0.0   \n",
       "65227                        2                     5     2.0       0.0   \n",
       "65228                        2                     5     2.0       0.0   \n",
       "\n",
       "       babies  ... is_repeated_guest previous_cancellations  \\\n",
       "0         0.0  ...                 0                      0   \n",
       "1         0.0  ...                 0                      0   \n",
       "2         0.0  ...                 0                      0   \n",
       "3         0.0  ...                 0                      0   \n",
       "4         0.0  ...                 0                      0   \n",
       "...       ...  ...               ...                    ...   \n",
       "65224     0.0  ...                 0                      0   \n",
       "65225     0.0  ...                 0                      0   \n",
       "65226     0.0  ...                 0                      0   \n",
       "65227     0.0  ...                 0                      0   \n",
       "65228     0.0  ...                 0                      0   \n",
       "\n",
       "      previous_bookings_not_canceled  reserved_room_type  booking_changes  \\\n",
       "0                                  0                   A                0   \n",
       "1                                  0                   A                0   \n",
       "2                                  0                   C                0   \n",
       "3                                  0                   C                0   \n",
       "4                                  0                   A                0   \n",
       "...                              ...                 ...              ...   \n",
       "65224                              0                   D                0   \n",
       "65225                              0                   D                0   \n",
       "65226                              0                   D                0   \n",
       "65227                              0                   A                0   \n",
       "65228                              0                   A                0   \n",
       "\n",
       "       days_in_waiting_list customer_type  required_car_parking_spaces  \\\n",
       "0                         0     Transient                            0   \n",
       "1                         0     Transient                            0   \n",
       "2                         0     Transient                            0   \n",
       "3                         0     Transient                            0   \n",
       "4                         0     Transient                            0   \n",
       "...                     ...           ...                          ...   \n",
       "65224                     0     Transient                            0   \n",
       "65225                     0     Transient                            0   \n",
       "65226                     0     Transient                            0   \n",
       "65227                     0     Transient                            0   \n",
       "65228                     0     Transient                            0   \n",
       "\n",
       "       total_of_special_requests total_nights  \n",
       "0                              0            1  \n",
       "1                              1            2  \n",
       "2                              0            2  \n",
       "3                              1            2  \n",
       "4                              1            3  \n",
       "...                          ...          ...  \n",
       "65224                          2            6  \n",
       "65225                          3            5  \n",
       "65226                          1            6  \n",
       "65227                          1            7  \n",
       "65228                          0            7  \n",
       "\n",
       "[43852 rows x 23 columns]"
      ]
     },
     "execution_count": 177,
     "metadata": {},
     "output_type": "execute_result"
    }
   ],
   "source": [
    "X_train"
   ]
  },
  {
   "cell_type": "markdown",
   "metadata": {},
   "source": [
    "#### Optuna+Pipeline и кросс-валидация"
   ]
  },
  {
   "cell_type": "code",
   "execution_count": 178,
   "metadata": {},
   "outputs": [
    {
     "name": "stderr",
     "output_type": "stream",
     "text": [
      "[I 2023-09-11 00:11:56,440] A new study created in memory with name: no-name-c7349854-a2d3-4aec-b081-206438a1b0b1\n",
      "[I 2023-09-11 00:12:04,343] Trial 0 finished with value: 0.3012386602814808 and parameters: {'criterion': 'entropy', 'n_estimators': 60}. Best is trial 0 with value: 0.3012386602814808.\n",
      "[I 2023-09-11 00:12:13,669] Trial 1 finished with value: 0.2988965380527842 and parameters: {'criterion': 'gini', 'n_estimators': 90}. Best is trial 0 with value: 0.3012386602814808.\n",
      "[I 2023-09-11 00:12:24,120] Trial 2 finished with value: 0.29833718735020526 and parameters: {'criterion': 'gini', 'n_estimators': 100}. Best is trial 0 with value: 0.3012386602814808.\n",
      "[I 2023-09-11 00:12:31,478] Trial 3 finished with value: 0.3012386602814808 and parameters: {'criterion': 'log_loss', 'n_estimators': 60}. Best is trial 0 with value: 0.3012386602814808.\n",
      "[I 2023-09-11 00:12:41,658] Trial 4 finished with value: 0.2988965380527842 and parameters: {'criterion': 'gini', 'n_estimators': 90}. Best is trial 0 with value: 0.3012386602814808.\n",
      "[I 2023-09-11 00:12:53,222] Trial 5 finished with value: 0.29833718735020526 and parameters: {'criterion': 'gini', 'n_estimators': 100}. Best is trial 0 with value: 0.3012386602814808.\n",
      "[I 2023-09-11 00:13:03,151] Trial 6 finished with value: 0.30278345823369723 and parameters: {'criterion': 'log_loss', 'n_estimators': 90}. Best is trial 6 with value: 0.30278345823369723.\n",
      "[I 2023-09-11 00:13:12,264] Trial 7 finished with value: 0.2988965380527842 and parameters: {'criterion': 'gini', 'n_estimators': 90}. Best is trial 6 with value: 0.30278345823369723.\n",
      "[I 2023-09-11 00:13:19,869] Trial 8 finished with value: 0.29645970016791817 and parameters: {'criterion': 'gini', 'n_estimators': 70}. Best is trial 6 with value: 0.30278345823369723.\n",
      "[I 2023-09-11 00:13:28,333] Trial 9 finished with value: 0.2976158848796591 and parameters: {'criterion': 'gini', 'n_estimators': 80}. Best is trial 6 with value: 0.30278345823369723.\n",
      "[I 2023-09-11 00:13:34,599] Trial 10 finished with value: 0.2980281276280144 and parameters: {'criterion': 'log_loss', 'n_estimators': 50}. Best is trial 6 with value: 0.30278345823369723.\n",
      "[I 2023-09-11 00:13:42,954] Trial 11 finished with value: 0.3027511419433644 and parameters: {'criterion': 'entropy', 'n_estimators': 70}. Best is trial 6 with value: 0.30278345823369723.\n",
      "[I 2023-09-11 00:13:52,488] Trial 12 finished with value: 0.3019410770412487 and parameters: {'criterion': 'entropy', 'n_estimators': 80}. Best is trial 6 with value: 0.30278345823369723.\n",
      "[I 2023-09-11 00:14:00,700] Trial 13 finished with value: 0.3027511419433644 and parameters: {'criterion': 'entropy', 'n_estimators': 70}. Best is trial 6 with value: 0.30278345823369723.\n",
      "[I 2023-09-11 00:14:09,811] Trial 14 finished with value: 0.3019410770412487 and parameters: {'criterion': 'log_loss', 'n_estimators': 80}. Best is trial 6 with value: 0.30278345823369723.\n"
     ]
    }
   ],
   "source": [
    "def objective_random_forest(trial):\n",
    "    criterion = trial.suggest_categorical(\"criterion\", [\"log_loss\", \"gini\", \"entropy\"])\n",
    "    n_estimators = trial.suggest_int(\"n_estimators\", 50, 100, 10)\n",
    "     \n",
    "        # Определяю модель машинного обучения, которой передаются гиперпараметры\n",
    "    model = RandomForestClassifier(n_estimators=n_estimators,\n",
    "                                                 criterion=criterion, random_state=RANDOM_STATE)\n",
    "    # пайплайн предобработка количественных переменных\n",
    "    numerical_transformer =  StandardScaler()\n",
    "    # пайплайн  предобработка категориальных переменных\n",
    "    categorical_transformer = Pipeline(steps=[\n",
    "        ('onehot', OneHotEncoder(drop='first', handle_unknown='ignore'))])\n",
    "    # собираем общий пайплайн с помощью ColumnTransformer для качественных и количественных данных\n",
    "    preprocessor = ColumnTransformer(\n",
    "        transformers=[\n",
    "            ('num', numerical_transformer, numerical_cols),\n",
    "            ('cat', categorical_transformer, categorical_cols)\n",
    "        ])\n",
    "      \n",
    "    sampler=ADASYN(random_state=RANDOM_STATE)\n",
    "    clf = make_pipeline(preprocessor, sampler,model)\n",
    "    \n",
    "\n",
    "    \n",
    "    score = cross_val_score(clf,\n",
    "                          X_train, y_train, cv=3, scoring=\"f1\", n_jobs=-1).mean()\n",
    "    return score\n",
    "\n",
    "study = optuna.create_study(direction=\"maximize\")\n",
    "study.optimize(objective_random_forest, n_trials=15)"
   ]
  },
  {
   "cell_type": "code",
   "execution_count": 179,
   "metadata": {},
   "outputs": [],
   "source": [
    "best_results = {}"
   ]
  },
  {
   "cell_type": "code",
   "execution_count": 180,
   "metadata": {},
   "outputs": [],
   "source": [
    "best_results = {}\n",
    "best_results[\"random_forest\"] = {\n",
    "    \"params\": study.best_trial.params,\n",
    "    \"score\": study.best_trial.value\n",
    "}"
   ]
  },
  {
   "cell_type": "code",
   "execution_count": 181,
   "metadata": {},
   "outputs": [
    {
     "name": "stderr",
     "output_type": "stream",
     "text": [
      "[I 2023-09-11 00:14:09,863] A new study created in memory with name: no-name-dfaf6fea-2829-4c1b-87c1-c34a1bda5852\n",
      "[I 2023-09-11 00:14:11,596] Trial 0 finished with value: 0.4543852147836634 and parameters: {'splitter': 'random', 'criterion': 'entropy', 'max_depth': 1}. Best is trial 0 with value: 0.4543852147836634.\n",
      "[I 2023-09-11 00:14:13,617] Trial 1 finished with value: 0.3435422765443766 and parameters: {'splitter': 'best', 'criterion': 'gini', 'max_depth': 12}. Best is trial 0 with value: 0.4543852147836634.\n",
      "[I 2023-09-11 00:14:15,417] Trial 2 finished with value: 0.3346672622933245 and parameters: {'splitter': 'best', 'criterion': 'entropy', 'max_depth': 3}. Best is trial 0 with value: 0.4543852147836634.\n",
      "[I 2023-09-11 00:14:17,386] Trial 3 finished with value: 0.37454582814433285 and parameters: {'splitter': 'best', 'criterion': 'log_loss', 'max_depth': 9}. Best is trial 0 with value: 0.4543852147836634.\n",
      "[I 2023-09-11 00:14:19,511] Trial 4 finished with value: 0.34030577736375384 and parameters: {'splitter': 'best', 'criterion': 'entropy', 'max_depth': 17}. Best is trial 0 with value: 0.4543852147836634.\n",
      "[I 2023-09-11 00:14:21,174] Trial 5 finished with value: 0.44800925939433345 and parameters: {'splitter': 'random', 'criterion': 'entropy', 'max_depth': 2}. Best is trial 0 with value: 0.4543852147836634.\n",
      "[I 2023-09-11 00:14:23,323] Trial 6 finished with value: 0.3423186870950449 and parameters: {'splitter': 'best', 'criterion': 'gini', 'max_depth': 18}. Best is trial 0 with value: 0.4543852147836634.\n",
      "[I 2023-09-11 00:14:25,102] Trial 7 finished with value: 0.36700673668234796 and parameters: {'splitter': 'random', 'criterion': 'gini', 'max_depth': 8}. Best is trial 0 with value: 0.4543852147836634.\n",
      "[I 2023-09-11 00:14:26,975] Trial 8 finished with value: 0.374041263305402 and parameters: {'splitter': 'best', 'criterion': 'gini', 'max_depth': 8}. Best is trial 0 with value: 0.4543852147836634.\n",
      "[I 2023-09-11 00:14:29,060] Trial 9 finished with value: 0.3437991530069519 and parameters: {'splitter': 'best', 'criterion': 'log_loss', 'max_depth': 16}. Best is trial 0 with value: 0.4543852147836634.\n",
      "[I 2023-09-11 00:14:30,750] Trial 10 finished with value: 0.4063596057005472 and parameters: {'splitter': 'random', 'criterion': 'entropy', 'max_depth': 5}. Best is trial 0 with value: 0.4543852147836634.\n",
      "[I 2023-09-11 00:14:32,448] Trial 11 finished with value: 0.4543852147836634 and parameters: {'splitter': 'random', 'criterion': 'entropy', 'max_depth': 1}. Best is trial 0 with value: 0.4543852147836634.\n",
      "[I 2023-09-11 00:14:34,155] Trial 12 finished with value: 0.44800925939433345 and parameters: {'splitter': 'random', 'criterion': 'entropy', 'max_depth': 2}. Best is trial 0 with value: 0.4543852147836634.\n",
      "[I 2023-09-11 00:14:35,874] Trial 13 finished with value: 0.4063596057005472 and parameters: {'splitter': 'random', 'criterion': 'entropy', 'max_depth': 5}. Best is trial 0 with value: 0.4543852147836634.\n",
      "[I 2023-09-11 00:14:37,553] Trial 14 finished with value: 0.4543852147836634 and parameters: {'splitter': 'random', 'criterion': 'entropy', 'max_depth': 1}. Best is trial 0 with value: 0.4543852147836634.\n",
      "[I 2023-09-11 00:14:39,222] Trial 15 finished with value: 0.4063596057005472 and parameters: {'splitter': 'random', 'criterion': 'entropy', 'max_depth': 5}. Best is trial 0 with value: 0.4543852147836634.\n",
      "[I 2023-09-11 00:14:41,118] Trial 16 finished with value: 0.3663523617144853 and parameters: {'splitter': 'random', 'criterion': 'log_loss', 'max_depth': 13}. Best is trial 0 with value: 0.4543852147836634.\n",
      "[I 2023-09-11 00:14:42,972] Trial 17 finished with value: 0.3569002094068767 and parameters: {'splitter': 'random', 'criterion': 'entropy', 'max_depth': 20}. Best is trial 0 with value: 0.4543852147836634.\n",
      "[I 2023-09-11 00:14:44,679] Trial 18 finished with value: 0.35198429129114994 and parameters: {'splitter': 'random', 'criterion': 'entropy', 'max_depth': 4}. Best is trial 0 with value: 0.4543852147836634.\n",
      "[I 2023-09-11 00:14:46,446] Trial 19 finished with value: 0.39461333165173157 and parameters: {'splitter': 'random', 'criterion': 'log_loss', 'max_depth': 7}. Best is trial 0 with value: 0.4543852147836634.\n",
      "[I 2023-09-11 00:14:48,148] Trial 20 finished with value: 0.4543852147836634 and parameters: {'splitter': 'random', 'criterion': 'entropy', 'max_depth': 1}. Best is trial 0 with value: 0.4543852147836634.\n",
      "[I 2023-09-11 00:14:49,867] Trial 21 finished with value: 0.4543852147836634 and parameters: {'splitter': 'random', 'criterion': 'entropy', 'max_depth': 1}. Best is trial 0 with value: 0.4543852147836634.\n",
      "[I 2023-09-11 00:14:51,595] Trial 22 finished with value: 0.4050760823947514 and parameters: {'splitter': 'random', 'criterion': 'entropy', 'max_depth': 3}. Best is trial 0 with value: 0.4543852147836634.\n",
      "[I 2023-09-11 00:14:53,266] Trial 23 finished with value: 0.4543852147836634 and parameters: {'splitter': 'random', 'criterion': 'entropy', 'max_depth': 1}. Best is trial 0 with value: 0.4543852147836634.\n",
      "[I 2023-09-11 00:14:55,060] Trial 24 finished with value: 0.35198429129114994 and parameters: {'splitter': 'random', 'criterion': 'entropy', 'max_depth': 4}. Best is trial 0 with value: 0.4543852147836634.\n",
      "[I 2023-09-11 00:14:56,774] Trial 25 finished with value: 0.4352703296787386 and parameters: {'splitter': 'random', 'criterion': 'entropy', 'max_depth': 6}. Best is trial 0 with value: 0.4543852147836634.\n",
      "[I 2023-09-11 00:14:58,442] Trial 26 finished with value: 0.4050760823947514 and parameters: {'splitter': 'random', 'criterion': 'entropy', 'max_depth': 3}. Best is trial 0 with value: 0.4543852147836634.\n",
      "[I 2023-09-11 00:15:00,166] Trial 27 finished with value: 0.39647283065142375 and parameters: {'splitter': 'random', 'criterion': 'entropy', 'max_depth': 10}. Best is trial 0 with value: 0.4543852147836634.\n",
      "[I 2023-09-11 00:15:02,229] Trial 28 finished with value: 0.3663523617144853 and parameters: {'splitter': 'random', 'criterion': 'log_loss', 'max_depth': 13}. Best is trial 0 with value: 0.4543852147836634.\n",
      "[I 2023-09-11 00:15:04,000] Trial 29 finished with value: 0.3728250313521733 and parameters: {'splitter': 'random', 'criterion': 'gini', 'max_depth': 11}. Best is trial 0 with value: 0.4543852147836634.\n",
      "[I 2023-09-11 00:15:05,672] Trial 30 finished with value: 0.4543852147836634 and parameters: {'splitter': 'random', 'criterion': 'gini', 'max_depth': 1}. Best is trial 0 with value: 0.4543852147836634.\n",
      "[I 2023-09-11 00:15:07,402] Trial 31 finished with value: 0.44800925939433345 and parameters: {'splitter': 'random', 'criterion': 'entropy', 'max_depth': 2}. Best is trial 0 with value: 0.4543852147836634.\n",
      "[I 2023-09-11 00:15:09,148] Trial 32 finished with value: 0.4543852147836634 and parameters: {'splitter': 'random', 'criterion': 'entropy', 'max_depth': 1}. Best is trial 0 with value: 0.4543852147836634.\n",
      "[I 2023-09-11 00:15:10,816] Trial 33 finished with value: 0.4050760823947514 and parameters: {'splitter': 'random', 'criterion': 'entropy', 'max_depth': 3}. Best is trial 0 with value: 0.4543852147836634.\n",
      "[I 2023-09-11 00:15:12,645] Trial 34 finished with value: 0.36035501492532557 and parameters: {'splitter': 'best', 'criterion': 'entropy', 'max_depth': 4}. Best is trial 0 with value: 0.4543852147836634.\n",
      "[I 2023-09-11 00:15:14,358] Trial 35 finished with value: 0.44800925939433345 and parameters: {'splitter': 'random', 'criterion': 'entropy', 'max_depth': 2}. Best is trial 0 with value: 0.4543852147836634.\n",
      "[I 2023-09-11 00:15:16,172] Trial 36 finished with value: 0.3346672622933245 and parameters: {'splitter': 'best', 'criterion': 'entropy', 'max_depth': 3}. Best is trial 0 with value: 0.4543852147836634.\n",
      "[I 2023-09-11 00:15:17,979] Trial 37 finished with value: 0.4352703296787386 and parameters: {'splitter': 'random', 'criterion': 'entropy', 'max_depth': 6}. Best is trial 0 with value: 0.4543852147836634.\n",
      "[I 2023-09-11 00:15:19,896] Trial 38 finished with value: 0.43916298385463864 and parameters: {'splitter': 'best', 'criterion': 'log_loss', 'max_depth': 1}. Best is trial 0 with value: 0.4543852147836634.\n",
      "[I 2023-09-11 00:15:21,980] Trial 39 finished with value: 0.37749306896173157 and parameters: {'splitter': 'random', 'criterion': 'gini', 'max_depth': 15}. Best is trial 0 with value: 0.4543852147836634.\n",
      "[I 2023-09-11 00:15:23,753] Trial 40 finished with value: 0.3645589460901763 and parameters: {'splitter': 'best', 'criterion': 'entropy', 'max_depth': 2}. Best is trial 0 with value: 0.4543852147836634.\n",
      "[I 2023-09-11 00:15:25,412] Trial 41 finished with value: 0.4543852147836634 and parameters: {'splitter': 'random', 'criterion': 'entropy', 'max_depth': 1}. Best is trial 0 with value: 0.4543852147836634.\n",
      "[I 2023-09-11 00:15:27,109] Trial 42 finished with value: 0.44800925939433345 and parameters: {'splitter': 'random', 'criterion': 'entropy', 'max_depth': 2}. Best is trial 0 with value: 0.4543852147836634.\n",
      "[I 2023-09-11 00:15:28,862] Trial 43 finished with value: 0.35198429129114994 and parameters: {'splitter': 'random', 'criterion': 'entropy', 'max_depth': 4}. Best is trial 0 with value: 0.4543852147836634.\n",
      "[I 2023-09-11 00:15:30,514] Trial 44 finished with value: 0.4543852147836634 and parameters: {'splitter': 'random', 'criterion': 'entropy', 'max_depth': 1}. Best is trial 0 with value: 0.4543852147836634.\n",
      "[I 2023-09-11 00:15:32,475] Trial 45 finished with value: 0.4050760823947514 and parameters: {'splitter': 'random', 'criterion': 'entropy', 'max_depth': 3}. Best is trial 0 with value: 0.4543852147836634.\n",
      "[I 2023-09-11 00:15:34,241] Trial 46 finished with value: 0.4352703296787386 and parameters: {'splitter': 'random', 'criterion': 'entropy', 'max_depth': 6}. Best is trial 0 with value: 0.4543852147836634.\n",
      "[I 2023-09-11 00:15:36,089] Trial 47 finished with value: 0.44800925939433345 and parameters: {'splitter': 'random', 'criterion': 'gini', 'max_depth': 2}. Best is trial 0 with value: 0.4543852147836634.\n",
      "[I 2023-09-11 00:15:37,820] Trial 48 finished with value: 0.4063596057005472 and parameters: {'splitter': 'random', 'criterion': 'entropy', 'max_depth': 5}. Best is trial 0 with value: 0.4543852147836634.\n",
      "[I 2023-09-11 00:15:39,780] Trial 49 finished with value: 0.3669853942687779 and parameters: {'splitter': 'best', 'criterion': 'log_loss', 'max_depth': 8}. Best is trial 0 with value: 0.4543852147836634.\n",
      "[I 2023-09-11 00:15:41,415] Trial 50 finished with value: 0.44800925939433345 and parameters: {'splitter': 'random', 'criterion': 'entropy', 'max_depth': 2}. Best is trial 0 with value: 0.4543852147836634.\n",
      "[I 2023-09-11 00:15:43,062] Trial 51 finished with value: 0.4543852147836634 and parameters: {'splitter': 'random', 'criterion': 'entropy', 'max_depth': 1}. Best is trial 0 with value: 0.4543852147836634.\n",
      "[I 2023-09-11 00:15:44,850] Trial 52 finished with value: 0.4543852147836634 and parameters: {'splitter': 'random', 'criterion': 'entropy', 'max_depth': 1}. Best is trial 0 with value: 0.4543852147836634.\n",
      "[I 2023-09-11 00:15:46,594] Trial 53 finished with value: 0.4050760823947514 and parameters: {'splitter': 'random', 'criterion': 'entropy', 'max_depth': 3}. Best is trial 0 with value: 0.4543852147836634.\n",
      "[I 2023-09-11 00:15:48,339] Trial 54 finished with value: 0.35198429129114994 and parameters: {'splitter': 'random', 'criterion': 'entropy', 'max_depth': 4}. Best is trial 0 with value: 0.4543852147836634.\n",
      "[I 2023-09-11 00:15:50,040] Trial 55 finished with value: 0.4543852147836634 and parameters: {'splitter': 'random', 'criterion': 'entropy', 'max_depth': 1}. Best is trial 0 with value: 0.4543852147836634.\n",
      "[I 2023-09-11 00:15:51,747] Trial 56 finished with value: 0.44800925939433345 and parameters: {'splitter': 'random', 'criterion': 'entropy', 'max_depth': 2}. Best is trial 0 with value: 0.4543852147836634.\n",
      "[I 2023-09-11 00:15:53,476] Trial 57 finished with value: 0.4050760823947514 and parameters: {'splitter': 'random', 'criterion': 'entropy', 'max_depth': 3}. Best is trial 0 with value: 0.4543852147836634.\n",
      "[I 2023-09-11 00:15:55,198] Trial 58 finished with value: 0.44800925939433345 and parameters: {'splitter': 'random', 'criterion': 'log_loss', 'max_depth': 2}. Best is trial 0 with value: 0.4543852147836634.\n",
      "[I 2023-09-11 00:15:57,106] Trial 59 finished with value: 0.3464733929550734 and parameters: {'splitter': 'random', 'criterion': 'gini', 'max_depth': 20}. Best is trial 0 with value: 0.4543852147836634.\n",
      "[I 2023-09-11 00:15:58,753] Trial 60 finished with value: 0.35198429129114994 and parameters: {'splitter': 'random', 'criterion': 'entropy', 'max_depth': 4}. Best is trial 0 with value: 0.4543852147836634.\n",
      "[I 2023-09-11 00:16:00,425] Trial 61 finished with value: 0.4543852147836634 and parameters: {'splitter': 'random', 'criterion': 'gini', 'max_depth': 1}. Best is trial 0 with value: 0.4543852147836634.\n",
      "[I 2023-09-11 00:16:02,101] Trial 62 finished with value: 0.4543852147836634 and parameters: {'splitter': 'random', 'criterion': 'gini', 'max_depth': 1}. Best is trial 0 with value: 0.4543852147836634.\n",
      "[I 2023-09-11 00:16:03,927] Trial 63 finished with value: 0.44800925939433345 and parameters: {'splitter': 'random', 'criterion': 'gini', 'max_depth': 2}. Best is trial 0 with value: 0.4543852147836634.\n",
      "[I 2023-09-11 00:16:05,737] Trial 64 finished with value: 0.3504418076063016 and parameters: {'splitter': 'random', 'criterion': 'gini', 'max_depth': 18}. Best is trial 0 with value: 0.4543852147836634.\n",
      "[I 2023-09-11 00:16:07,415] Trial 65 finished with value: 0.4050760823947514 and parameters: {'splitter': 'random', 'criterion': 'gini', 'max_depth': 3}. Best is trial 0 with value: 0.4543852147836634.\n",
      "[I 2023-09-11 00:16:09,037] Trial 66 finished with value: 0.4543852147836634 and parameters: {'splitter': 'random', 'criterion': 'entropy', 'max_depth': 1}. Best is trial 0 with value: 0.4543852147836634.\n",
      "[I 2023-09-11 00:16:10,845] Trial 67 finished with value: 0.39220446716054286 and parameters: {'splitter': 'best', 'criterion': 'entropy', 'max_depth': 5}. Best is trial 0 with value: 0.4543852147836634.\n",
      "[I 2023-09-11 00:16:12,551] Trial 68 finished with value: 0.3852204892300362 and parameters: {'splitter': 'random', 'criterion': 'entropy', 'max_depth': 9}. Best is trial 0 with value: 0.4543852147836634.\n",
      "[I 2023-09-11 00:16:14,258] Trial 69 finished with value: 0.4050760823947514 and parameters: {'splitter': 'random', 'criterion': 'log_loss', 'max_depth': 3}. Best is trial 0 with value: 0.4543852147836634.\n",
      "[I 2023-09-11 00:16:15,894] Trial 70 finished with value: 0.44800925939433345 and parameters: {'splitter': 'random', 'criterion': 'entropy', 'max_depth': 2}. Best is trial 0 with value: 0.4543852147836634.\n",
      "[I 2023-09-11 00:16:17,556] Trial 71 finished with value: 0.4543852147836634 and parameters: {'splitter': 'random', 'criterion': 'entropy', 'max_depth': 1}. Best is trial 0 with value: 0.4543852147836634.\n",
      "[I 2023-09-11 00:16:19,161] Trial 72 finished with value: 0.4543852147836634 and parameters: {'splitter': 'random', 'criterion': 'entropy', 'max_depth': 1}. Best is trial 0 with value: 0.4543852147836634.\n",
      "[I 2023-09-11 00:16:20,824] Trial 73 finished with value: 0.44800925939433345 and parameters: {'splitter': 'random', 'criterion': 'entropy', 'max_depth': 2}. Best is trial 0 with value: 0.4543852147836634.\n",
      "[I 2023-09-11 00:16:22,419] Trial 74 finished with value: 0.4543852147836634 and parameters: {'splitter': 'random', 'criterion': 'entropy', 'max_depth': 1}. Best is trial 0 with value: 0.4543852147836634.\n",
      "[I 2023-09-11 00:16:24,060] Trial 75 finished with value: 0.44800925939433345 and parameters: {'splitter': 'random', 'criterion': 'entropy', 'max_depth': 2}. Best is trial 0 with value: 0.4543852147836634.\n",
      "[I 2023-09-11 00:16:25,819] Trial 76 finished with value: 0.3346672622933245 and parameters: {'splitter': 'best', 'criterion': 'entropy', 'max_depth': 3}. Best is trial 0 with value: 0.4543852147836634.\n",
      "[I 2023-09-11 00:16:27,580] Trial 77 finished with value: 0.4543852147836634 and parameters: {'splitter': 'random', 'criterion': 'gini', 'max_depth': 1}. Best is trial 0 with value: 0.4543852147836634.\n",
      "[I 2023-09-11 00:16:29,313] Trial 78 finished with value: 0.35198429129114994 and parameters: {'splitter': 'random', 'criterion': 'entropy', 'max_depth': 4}. Best is trial 0 with value: 0.4543852147836634.\n",
      "[I 2023-09-11 00:16:31,087] Trial 79 finished with value: 0.3989401720397236 and parameters: {'splitter': 'random', 'criterion': 'entropy', 'max_depth': 14}. Best is trial 0 with value: 0.4543852147836634.\n",
      "[I 2023-09-11 00:16:32,800] Trial 80 finished with value: 0.4050760823947514 and parameters: {'splitter': 'random', 'criterion': 'entropy', 'max_depth': 3}. Best is trial 0 with value: 0.4543852147836634.\n",
      "[I 2023-09-11 00:16:34,454] Trial 81 finished with value: 0.4543852147836634 and parameters: {'splitter': 'random', 'criterion': 'entropy', 'max_depth': 1}. Best is trial 0 with value: 0.4543852147836634.\n",
      "[I 2023-09-11 00:16:36,102] Trial 82 finished with value: 0.44800925939433345 and parameters: {'splitter': 'random', 'criterion': 'entropy', 'max_depth': 2}. Best is trial 0 with value: 0.4543852147836634.\n",
      "[I 2023-09-11 00:16:37,722] Trial 83 finished with value: 0.4543852147836634 and parameters: {'splitter': 'random', 'criterion': 'entropy', 'max_depth': 1}. Best is trial 0 with value: 0.4543852147836634.\n",
      "[I 2023-09-11 00:16:39,412] Trial 84 finished with value: 0.4543852147836634 and parameters: {'splitter': 'random', 'criterion': 'entropy', 'max_depth': 1}. Best is trial 0 with value: 0.4543852147836634.\n",
      "[I 2023-09-11 00:16:41,060] Trial 85 finished with value: 0.44800925939433345 and parameters: {'splitter': 'random', 'criterion': 'entropy', 'max_depth': 2}. Best is trial 0 with value: 0.4543852147836634.\n",
      "[I 2023-09-11 00:16:42,769] Trial 86 finished with value: 0.44800925939433345 and parameters: {'splitter': 'random', 'criterion': 'entropy', 'max_depth': 2}. Best is trial 0 with value: 0.4543852147836634.\n",
      "[I 2023-09-11 00:16:44,492] Trial 87 finished with value: 0.4543852147836634 and parameters: {'splitter': 'random', 'criterion': 'log_loss', 'max_depth': 1}. Best is trial 0 with value: 0.4543852147836634.\n",
      "[I 2023-09-11 00:16:46,209] Trial 88 finished with value: 0.43916298385463864 and parameters: {'splitter': 'best', 'criterion': 'entropy', 'max_depth': 1}. Best is trial 0 with value: 0.4543852147836634.\n",
      "[I 2023-09-11 00:16:47,954] Trial 89 finished with value: 0.4050760823947514 and parameters: {'splitter': 'random', 'criterion': 'entropy', 'max_depth': 3}. Best is trial 0 with value: 0.4543852147836634.\n",
      "[I 2023-09-11 00:16:49,799] Trial 90 finished with value: 0.4345598947303715 and parameters: {'splitter': 'random', 'criterion': 'gini', 'max_depth': 12}. Best is trial 0 with value: 0.4543852147836634.\n",
      "[I 2023-09-11 00:16:51,589] Trial 91 finished with value: 0.44800925939433345 and parameters: {'splitter': 'random', 'criterion': 'entropy', 'max_depth': 2}. Best is trial 0 with value: 0.4543852147836634.\n",
      "[I 2023-09-11 00:16:53,269] Trial 92 finished with value: 0.4543852147836634 and parameters: {'splitter': 'random', 'criterion': 'entropy', 'max_depth': 1}. Best is trial 0 with value: 0.4543852147836634.\n",
      "[I 2023-09-11 00:16:54,977] Trial 93 finished with value: 0.44800925939433345 and parameters: {'splitter': 'random', 'criterion': 'entropy', 'max_depth': 2}. Best is trial 0 with value: 0.4543852147836634.\n",
      "[I 2023-09-11 00:16:56,615] Trial 94 finished with value: 0.4543852147836634 and parameters: {'splitter': 'random', 'criterion': 'entropy', 'max_depth': 1}. Best is trial 0 with value: 0.4543852147836634.\n",
      "[I 2023-09-11 00:16:58,301] Trial 95 finished with value: 0.4050760823947514 and parameters: {'splitter': 'random', 'criterion': 'entropy', 'max_depth': 3}. Best is trial 0 with value: 0.4543852147836634.\n",
      "[I 2023-09-11 00:16:59,990] Trial 96 finished with value: 0.4543852147836634 and parameters: {'splitter': 'random', 'criterion': 'entropy', 'max_depth': 1}. Best is trial 0 with value: 0.4543852147836634.\n",
      "[I 2023-09-11 00:17:01,763] Trial 97 finished with value: 0.44800925939433345 and parameters: {'splitter': 'random', 'criterion': 'entropy', 'max_depth': 2}. Best is trial 0 with value: 0.4543852147836634.\n",
      "[I 2023-09-11 00:17:03,515] Trial 98 finished with value: 0.44800925939433345 and parameters: {'splitter': 'random', 'criterion': 'gini', 'max_depth': 2}. Best is trial 0 with value: 0.4543852147836634.\n",
      "[I 2023-09-11 00:17:05,237] Trial 99 finished with value: 0.4543852147836634 and parameters: {'splitter': 'random', 'criterion': 'entropy', 'max_depth': 1}. Best is trial 0 with value: 0.4543852147836634.\n"
     ]
    }
   ],
   "source": [
    "def objective_decision_tree(trial):\n",
    "    splitter = trial.suggest_categorical(\"splitter\", [\"best\", \"random\"])\n",
    "    criterion = trial.suggest_categorical(\"criterion\", [\"gini\", \"entropy\", \"log_loss\"])\n",
    "    max_depth = trial.suggest_int(\"max_depth\", 1, 20)\n",
    "\n",
    "        # Определяю модель машинного обучения, которой передаются гиперпараметры\n",
    "    model = DecisionTreeClassifier(splitter=splitter, criterion=criterion, \n",
    "                                                 max_depth=max_depth, random_state=RANDOM_STATE)\n",
    "    # пайплайн предобработка количественных переменных\n",
    "    numerical_transformer =  StandardScaler()\n",
    "    # пайплайн  предобработка категориальных переменных\n",
    "    categorical_transformer = Pipeline(steps=[\n",
    "        ('onehot', OneHotEncoder(drop='first', handle_unknown='ignore'))])\n",
    "    # собираем общий пайплайн с помощью ColumnTransformer для качественных и количественных данных\n",
    "    preprocessor = ColumnTransformer(\n",
    "        transformers=[\n",
    "            ('num', numerical_transformer, numerical_cols),\n",
    "            ('cat', categorical_transformer, categorical_cols)\n",
    "        ])\n",
    "      \n",
    "    sampler=ADASYN(random_state=RANDOM_STATE)\n",
    "    clf = make_pipeline(preprocessor, sampler,model)\n",
    "    \n",
    "\n",
    "    \n",
    "    score = cross_val_score(clf,\n",
    "                          X_train, y_train, cv=3, scoring=\"f1\", n_jobs=-1).mean()\n",
    "    return score\n",
    "\n",
    "study = optuna.create_study(direction=\"maximize\")\n",
    "study.optimize(objective_decision_tree, n_trials=100)"
   ]
  },
  {
   "cell_type": "code",
   "execution_count": 182,
   "metadata": {},
   "outputs": [],
   "source": [
    "best_results[\"decision_tree\"] = {\n",
    "    \"params\": study.best_trial.params,\n",
    "    \"score\": study.best_trial.value\n",
    "}"
   ]
  },
  {
   "cell_type": "code",
   "execution_count": 183,
   "metadata": {},
   "outputs": [
    {
     "name": "stderr",
     "output_type": "stream",
     "text": [
      "[I 2023-09-11 00:17:05,273] A new study created in memory with name: no-name-7640e73d-e40f-47d4-9f53-9fafa873b08e\n",
      "[I 2023-09-11 00:17:07,358] Trial 0 finished with value: 0.39265689113418817 and parameters: {'penalty': 'l2', 'solver': 'lbfgs'}. Best is trial 0 with value: 0.39265689113418817.\n",
      "[I 2023-09-11 00:17:09,477] Trial 1 finished with value: 0.3925349734656211 and parameters: {'penalty': None, 'solver': 'lbfgs'}. Best is trial 0 with value: 0.39265689113418817.\n",
      "[I 2023-09-11 00:17:11,573] Trial 2 finished with value: 0.3925349734656211 and parameters: {'penalty': None, 'solver': 'lbfgs'}. Best is trial 0 with value: 0.39265689113418817.\n",
      "[I 2023-09-11 00:17:13,614] Trial 3 finished with value: 0.39265689113418817 and parameters: {'penalty': 'l2', 'solver': 'lbfgs'}. Best is trial 0 with value: 0.39265689113418817.\n",
      "[I 2023-09-11 00:17:15,657] Trial 4 finished with value: 0.3941963492546163 and parameters: {'penalty': None, 'solver': 'newton-cholesky'}. Best is trial 4 with value: 0.3941963492546163.\n",
      "[I 2023-09-11 00:17:20,607] Trial 5 finished with value: 0.3938486231049971 and parameters: {'penalty': None, 'solver': 'saga'}. Best is trial 4 with value: 0.3941963492546163.\n",
      "[I 2023-09-11 00:17:25,452] Trial 6 finished with value: 0.3938486231049971 and parameters: {'penalty': None, 'solver': 'saga'}. Best is trial 4 with value: 0.3941963492546163.\n",
      "[I 2023-09-11 00:17:30,139] Trial 7 finished with value: 0.39410529973752895 and parameters: {'penalty': 'l2', 'solver': 'saga'}. Best is trial 4 with value: 0.3941963492546163.\n",
      "[I 2023-09-11 00:17:34,661] Trial 8 finished with value: 0.3945767389949215 and parameters: {'penalty': None, 'solver': 'sag'}. Best is trial 8 with value: 0.3945767389949215.\n",
      "[I 2023-09-11 00:17:39,264] Trial 9 finished with value: 0.3938486231049971 and parameters: {'penalty': None, 'solver': 'saga'}. Best is trial 8 with value: 0.3945767389949215.\n",
      "[I 2023-09-11 00:17:43,950] Trial 10 finished with value: 0.39451407336033345 and parameters: {'penalty': 'l2', 'solver': 'sag'}. Best is trial 8 with value: 0.3945767389949215.\n",
      "[I 2023-09-11 00:17:48,386] Trial 11 finished with value: 0.39451407336033345 and parameters: {'penalty': 'l2', 'solver': 'sag'}. Best is trial 8 with value: 0.3945767389949215.\n",
      "[I 2023-09-11 00:17:52,947] Trial 12 finished with value: 0.39451407336033345 and parameters: {'penalty': 'l2', 'solver': 'sag'}. Best is trial 8 with value: 0.3945767389949215.\n",
      "[I 2023-09-11 00:17:56,426] Trial 13 finished with value: 0.39399915697906 and parameters: {'penalty': 'l2', 'solver': 'newton-cg'}. Best is trial 8 with value: 0.3945767389949215.\n",
      "[I 2023-09-11 00:18:00,770] Trial 14 finished with value: 0.3945767389949215 and parameters: {'penalty': None, 'solver': 'sag'}. Best is trial 8 with value: 0.3945767389949215.\n"
     ]
    }
   ],
   "source": [
    "def objective_logistic_regresstion(trial):\n",
    "    penalty = trial.suggest_categorical(\"penalty\", [\"l2\", None])\n",
    "    solver = trial.suggest_categorical(\"solver\", [\"saga\", \"sag\", \"newton-cholesky\", \"newton-cg\", \"lbfgs\"])\n",
    "        # Определяю модель машинного обучения, которой передаются гиперпараметры\n",
    "    model = LogisticRegression(penalty=penalty, solver=solver, random_state=RANDOM_STATE)\n",
    "        # пайплайн предобработка количественных переменных\n",
    "    numerical_transformer =  StandardScaler()\n",
    "    # пайплайн  предобработка категориальных переменных\n",
    "    categorical_transformer = Pipeline(steps=[\n",
    "        ('onehot', OneHotEncoder(drop='first', handle_unknown='ignore'))])\n",
    "    # собираем общий пайплайн с помощью ColumnTransformer для качественных и количественных данных\n",
    "    preprocessor = ColumnTransformer(\n",
    "        transformers=[\n",
    "            ('num', numerical_transformer, numerical_cols),\n",
    "            ('cat', categorical_transformer, categorical_cols)\n",
    "        ])\n",
    "      \n",
    "    sampler=ADASYN(random_state=RANDOM_STATE)\n",
    "    clf = make_pipeline(preprocessor, sampler,model)\n",
    "    \n",
    "    \n",
    "    \n",
    "    \n",
    "    \n",
    "    score = cross_val_score(clf,\n",
    "                          X_train, y_train, cv=3, scoring=\"f1\", n_jobs=-1).mean()\n",
    "    return score\n",
    "\n",
    "study = optuna.create_study(direction=\"maximize\")\n",
    "study.optimize(objective_logistic_regresstion, n_trials=15)"
   ]
  },
  {
   "cell_type": "code",
   "execution_count": 184,
   "metadata": {},
   "outputs": [],
   "source": [
    "best_results[\"logistic_regression\"] = {\n",
    "    \"params\": study.best_trial.params,\n",
    "    \"score\": study.best_trial.value\n",
    "}"
   ]
  },
  {
   "cell_type": "markdown",
   "metadata": {},
   "source": [
    "#### Лучшие модели"
   ]
  },
  {
   "cell_type": "markdown",
   "metadata": {},
   "source": [
    "Лучшие результаты "
   ]
  },
  {
   "cell_type": "code",
   "execution_count": 185,
   "metadata": {},
   "outputs": [
    {
     "data": {
      "text/plain": [
       "{'random_forest': {'params': {'criterion': 'log_loss', 'n_estimators': 90},\n",
       "  'score': 0.30278345823369723},\n",
       " 'decision_tree': {'params': {'splitter': 'random',\n",
       "   'criterion': 'entropy',\n",
       "   'max_depth': 1},\n",
       "  'score': 0.4543852147836634},\n",
       " 'logistic_regression': {'params': {'penalty': None, 'solver': 'sag'},\n",
       "  'score': 0.3945767389949215}}"
      ]
     },
     "execution_count": 185,
     "metadata": {},
     "output_type": "execute_result"
    }
   ],
   "source": [
    "best_results"
   ]
  },
  {
   "cell_type": "markdown",
   "metadata": {},
   "source": [
    "А теперь магия. Мы не просто возьмем forecast,мы возьмем forecast для всех трех моделей и сделаем голосование по большинству с помощью mode. Так будет точнее, намного точнеее"
   ]
  },
  {
   "cell_type": "markdown",
   "metadata": {},
   "source": [
    "#### Результаты f1 на тесте"
   ]
  },
  {
   "cell_type": "code",
   "execution_count": 186,
   "metadata": {},
   "outputs": [
    {
     "name": "stdout",
     "output_type": "stream",
     "text": [
      "Результат f1 на тесте для BestModel_rfc \n"
     ]
    },
    {
     "data": {
      "text/plain": [
       "0.4656964656964657"
      ]
     },
     "execution_count": 186,
     "metadata": {},
     "output_type": "execute_result"
    }
   ],
   "source": [
    "BestModel_rfc = RandomForestClassifier(n_estimators=90,\n",
    "                                                 criterion='entropy', random_state=RANDOM_STATE)\n",
    "# пайплайн предобработка количественных переменных\n",
    "numerical_transformer =  StandardScaler()\n",
    "# пайплайн  предобработка категориальных переменных\n",
    "categorical_transformer = Pipeline(steps=[('onehot', OneHotEncoder(drop='first', handle_unknown='ignore'))\n",
    "                                         ])\n",
    "# собираем общий пайплайн с помощью ColumnTransformer для качественных и количественных данных\n",
    "preprocessor = ColumnTransformer(transformers=[('num', numerical_transformer, numerical_cols),\n",
    "            ('cat', categorical_transformer, categorical_cols)\n",
    "        ])\n",
    "sampler=ADASYN(random_state=RANDOM_STATE)\n",
    "clf = make_pipeline(preprocessor, sampler,BestModel_rfc)\n",
    "\n",
    "\n",
    "clf.fit(X_train, y_train)\n",
    "\n",
    "predicted_rfc = clf.predict(X_valid)\n",
    "print('Результат f1 на тесте для BestModel_rfc ')\n",
    "f1_score(y_valid, predicted_rfc)\n",
    "\n"
   ]
  },
  {
   "cell_type": "code",
   "execution_count": 187,
   "metadata": {},
   "outputs": [
    {
     "name": "stdout",
     "output_type": "stream",
     "text": [
      "Результат f1 на тесте для BestModel_dtc \n"
     ]
    },
    {
     "data": {
      "text/plain": [
       "0.5868747956848642"
      ]
     },
     "execution_count": 187,
     "metadata": {},
     "output_type": "execute_result"
    }
   ],
   "source": [
    "BestModel_dtc = DecisionTreeClassifier(splitter='random', criterion='gini', \n",
    "                                                 max_depth=6, random_state=RANDOM_STATE)\n",
    "# пайплайн предобработка количественных переменных\n",
    "numerical_transformer =  StandardScaler()\n",
    "# пайплайн  предобработка категориальных переменных\n",
    "categorical_transformer = Pipeline(steps=[('onehot', OneHotEncoder(drop='first', handle_unknown='ignore'))\n",
    "                                         ])\n",
    "# собираем общий пайплайн с помощью ColumnTransformer для качественных и количественных данных\n",
    "preprocessor = ColumnTransformer(transformers=[('num', numerical_transformer, numerical_cols),\n",
    "            ('cat', categorical_transformer, categorical_cols)\n",
    "        ])\n",
    "sampler=ADASYN(random_state=RANDOM_STATE)\n",
    "clf = make_pipeline(preprocessor, sampler,BestModel_dtc)\n",
    "\n",
    "\n",
    "clf.fit(X_train, y_train)\n",
    "\n",
    "predicted_dtc = clf.predict(X_valid)\n",
    "print('Результат f1 на тесте для BestModel_dtc ')\n",
    "\n",
    "f1_score(y_valid, predicted_dtc)\n"
   ]
  },
  {
   "cell_type": "code",
   "execution_count": 188,
   "metadata": {},
   "outputs": [
    {
     "name": "stdout",
     "output_type": "stream",
     "text": [
      "Результат f1 на тесте для BestModel_lrg \n"
     ]
    },
    {
     "data": {
      "text/plain": [
       "0.5546844679034386"
      ]
     },
     "execution_count": 188,
     "metadata": {},
     "output_type": "execute_result"
    }
   ],
   "source": [
    "BestModel_lrg = LogisticRegression(penalty=None, solver='sag', random_state=RANDOM_STATE)\n",
    "# пайплайн предобработка количественных переменных\n",
    "numerical_transformer =  StandardScaler()\n",
    "# пайплайн  предобработка категориальных переменных\n",
    "categorical_transformer = Pipeline(steps=[('onehot', OneHotEncoder(drop='first', handle_unknown='ignore'))\n",
    "                                         ])\n",
    "# собираем общий пайплайн с помощью ColumnTransformer для качественных и количественных данных\n",
    "preprocessor = ColumnTransformer(transformers=[('num', numerical_transformer, numerical_cols),\n",
    "            ('cat', categorical_transformer, categorical_cols)\n",
    "        ])\n",
    "sampler=ADASYN(random_state=RANDOM_STATE)\n",
    "clf = make_pipeline(preprocessor, sampler,BestModel_lrg)\n",
    "\n",
    "\n",
    "clf.fit(X_train, y_train)\n",
    "\n",
    "predicted_lrg = clf.predict(X_valid)\n",
    "print('Результат f1 на тесте для BestModel_lrg ')\n",
    "\n",
    "f1_score(y_valid, predicted_lrg)"
   ]
  },
  {
   "cell_type": "code",
   "execution_count": 189,
   "metadata": {},
   "outputs": [],
   "source": [
    "test['forecast_rfc'] = pd.DataFrame(predicted_rfc, columns=['forecast_rfc'])"
   ]
  },
  {
   "cell_type": "code",
   "execution_count": 190,
   "metadata": {},
   "outputs": [],
   "source": [
    "test['forecast_dtc'] = pd.DataFrame(predicted_dtc, columns=['forecast_dtc'])"
   ]
  },
  {
   "cell_type": "code",
   "execution_count": 191,
   "metadata": {},
   "outputs": [],
   "source": [
    "test['forecast_lrg'] = pd.DataFrame(predicted_lrg, columns=['forecast_lrg'])"
   ]
  },
  {
   "cell_type": "code",
   "execution_count": 192,
   "metadata": {},
   "outputs": [],
   "source": [
    "#Функция добавляет в категориальные: price_class, service, 'season_coeff' и 'revenue' и 'potential_loss' из условий задачи'\n",
    "#Функция кодирует 'arrival_date_month' путем замены на порядковый номер месяца по типу месяца \n",
    "def price_class(df):\n",
    "    df.loc[df['reserved_room_type'].str.contains('A'), 'price_class'] = 1000\n",
    "    df.loc[df['reserved_room_type'].str.contains('A'), 'service'] = 400\n",
    "    \n",
    "    df.loc[df['reserved_room_type'].str.contains('B'), 'price_class'] = 800\n",
    "    df.loc[df['reserved_room_type'].str.contains('B'), 'service'] = 350\n",
    "    \n",
    "    df.loc[df['reserved_room_type'].str.contains('C'), 'price_class'] = 600\n",
    "    df.loc[df['reserved_room_type'].str.contains('C'), 'service'] = 350\n",
    "    \n",
    "    df.loc[df['reserved_room_type'].str.contains('D'), 'price_class'] = 550\n",
    "    df.loc[df['reserved_room_type'].str.contains('D'), 'service'] = 150\n",
    "    \n",
    "    df.loc[df['reserved_room_type'].str.contains('E'), 'price_class'] = 500\n",
    "    df.loc[df['reserved_room_type'].str.contains('E'), 'service'] = 150\n",
    "    \n",
    "    df.loc[df['reserved_room_type'].str.contains('F'), 'price_class'] = 450\n",
    "    df.loc[df['reserved_room_type'].str.contains('F'), 'service'] = 150\n",
    "    \n",
    "    df.loc[df['reserved_room_type'].str.contains('G'), 'price_class'] = 350\n",
    "    df.loc[df['reserved_room_type'].str.contains('G'), 'service'] = 150\n",
    "    \n",
    "    df.loc[df['reserved_room_type'].str.contains('G'), 'price_class'] = 350\n",
    "    df.loc[df['reserved_room_type'].str.contains('G'), 'service'] = 150\n",
    "    \n",
    "     \n",
    "    df.loc[df['arrival_date_month'].str.contains('June'), 'season_coeff'] = 1.4\n",
    "    df.loc[df['arrival_date_month'].str.contains('July'), 'season_coeff'] = 1.4\n",
    "    df.loc[df['arrival_date_month'].str.contains('August'), 'season_coeff'] = 1.4\n",
    "    \n",
    "    df.loc[df['arrival_date_month'].str.contains('September'), 'season_coeff'] = 1.2\n",
    "    df.loc[df['arrival_date_month'].str.contains('October'), 'season_coeff'] = 1.2\n",
    "    df.loc[df['arrival_date_month'].str.contains('November'), 'season_coeff'] = 1.2\n",
    "    \n",
    "    df.loc[df['arrival_date_month'].str.contains('December'), 'season_coeff'] = 1\n",
    "    df.loc[df['arrival_date_month'].str.contains('January'), 'season_coeff'] = 1\n",
    "    df.loc[df['arrival_date_month'].str.contains('February'), 'season_coeff'] = 1\n",
    "    \n",
    "    df.loc[df['arrival_date_month'].str.contains('March'), 'season_coeff'] = 1.2\n",
    "    df.loc[df['arrival_date_month'].str.contains('April'), 'season_coeff'] = 1.2\n",
    "    df.loc[df['arrival_date_month'].str.contains('May'), 'season_coeff'] = 1.2\n",
    "    \n",
    "    df.loc[df['arrival_date_month'].str.contains('June'), 'arrival_month'] = 6\n",
    "    df.loc[df['arrival_date_month'].str.contains('July'), 'arrival_month'] = 7\n",
    "    df.loc[df['arrival_date_month'].str.contains('August'), 'arrival_month'] = 8\n",
    "    \n",
    "    df.loc[df['arrival_date_month'].str.contains('September'), 'arrival_month'] = 9\n",
    "    df.loc[df['arrival_date_month'].str.contains('October'), 'arrival_month'] = 10\n",
    "    df.loc[df['arrival_date_month'].str.contains('November'), 'arrival_month'] = 11\n",
    "    \n",
    "    df.loc[df['arrival_date_month'].str.contains('December'), 'arrival_month'] = 12\n",
    "    df.loc[df['arrival_date_month'].str.contains('January'), 'arrival_month'] = 1\n",
    "    df.loc[df['arrival_date_month'].str.contains('February'), 'arrival_month'] = 2\n",
    "    \n",
    "    df.loc[df['arrival_date_month'].str.contains('March'), 'arrival_month'] = 3\n",
    "    df.loc[df['arrival_date_month'].str.contains('April'), 'arrival_month'] = 4\n",
    "    df.loc[df['arrival_date_month'].str.contains('May'), 'arrival_month'] = 5\n",
    "    \n",
    "    \n",
    "    df['revenue']=(df['total_nights']*df['price_class']-(np.ceil(df['total_nights']/2))*df['service'])*df['season_coeff']\n",
    "    df['potential_loss']=-(df['service']+df['price_class'])*df['season_coeff']\n",
    "    df['deposit']=0.8*(df['price_class']*df['season_coeff']+df['service'])\n",
    "    #Размер депозита — 80% от стоимости номера за одни сутки и затрат на разовую уборку.\n",
    "    \n",
    "    return df"
   ]
  },
  {
   "cell_type": "code",
   "execution_count": 193,
   "metadata": {},
   "outputs": [
    {
     "data": {
      "text/html": [
       "<div>\n",
       "<style scoped>\n",
       "    .dataframe tbody tr th:only-of-type {\n",
       "        vertical-align: middle;\n",
       "    }\n",
       "\n",
       "    .dataframe tbody tr th {\n",
       "        vertical-align: top;\n",
       "    }\n",
       "\n",
       "    .dataframe thead th {\n",
       "        text-align: right;\n",
       "    }\n",
       "</style>\n",
       "<table border=\"1\" class=\"dataframe\">\n",
       "  <thead>\n",
       "    <tr style=\"text-align: right;\">\n",
       "      <th></th>\n",
       "      <th>is_canceled</th>\n",
       "      <th>lead_time</th>\n",
       "      <th>arrival_date_year</th>\n",
       "      <th>arrival_date_month</th>\n",
       "      <th>arrival_date_week_number</th>\n",
       "      <th>arrival_date_day_of_month</th>\n",
       "      <th>stays_in_weekend_nights</th>\n",
       "      <th>stays_in_week_nights</th>\n",
       "      <th>adults</th>\n",
       "      <th>children</th>\n",
       "      <th>...</th>\n",
       "      <th>forecast_rfc</th>\n",
       "      <th>forecast_dtc</th>\n",
       "      <th>forecast_lrg</th>\n",
       "      <th>price_class</th>\n",
       "      <th>service</th>\n",
       "      <th>season_coeff</th>\n",
       "      <th>arrival_month</th>\n",
       "      <th>revenue</th>\n",
       "      <th>potential_loss</th>\n",
       "      <th>deposit</th>\n",
       "    </tr>\n",
       "  </thead>\n",
       "  <tbody>\n",
       "    <tr>\n",
       "      <th>0</th>\n",
       "      <td>1</td>\n",
       "      <td>74.0</td>\n",
       "      <td>2017</td>\n",
       "      <td>January</td>\n",
       "      <td>1</td>\n",
       "      <td>1</td>\n",
       "      <td>1</td>\n",
       "      <td>0</td>\n",
       "      <td>2.0</td>\n",
       "      <td>0.0</td>\n",
       "      <td>...</td>\n",
       "      <td>0.0</td>\n",
       "      <td>1.0</td>\n",
       "      <td>1.0</td>\n",
       "      <td>1000.0</td>\n",
       "      <td>400.0</td>\n",
       "      <td>1.0</td>\n",
       "      <td>1.0</td>\n",
       "      <td>600.0</td>\n",
       "      <td>-1400.0</td>\n",
       "      <td>1120.0</td>\n",
       "    </tr>\n",
       "    <tr>\n",
       "      <th>1</th>\n",
       "      <td>1</td>\n",
       "      <td>62.0</td>\n",
       "      <td>2017</td>\n",
       "      <td>January</td>\n",
       "      <td>1</td>\n",
       "      <td>1</td>\n",
       "      <td>2</td>\n",
       "      <td>2</td>\n",
       "      <td>2.0</td>\n",
       "      <td>0.0</td>\n",
       "      <td>...</td>\n",
       "      <td>0.0</td>\n",
       "      <td>1.0</td>\n",
       "      <td>0.0</td>\n",
       "      <td>1000.0</td>\n",
       "      <td>400.0</td>\n",
       "      <td>1.0</td>\n",
       "      <td>1.0</td>\n",
       "      <td>3200.0</td>\n",
       "      <td>-1400.0</td>\n",
       "      <td>1120.0</td>\n",
       "    </tr>\n",
       "    <tr>\n",
       "      <th>3</th>\n",
       "      <td>1</td>\n",
       "      <td>71.0</td>\n",
       "      <td>2017</td>\n",
       "      <td>January</td>\n",
       "      <td>1</td>\n",
       "      <td>1</td>\n",
       "      <td>2</td>\n",
       "      <td>2</td>\n",
       "      <td>1.0</td>\n",
       "      <td>0.0</td>\n",
       "      <td>...</td>\n",
       "      <td>0.0</td>\n",
       "      <td>1.0</td>\n",
       "      <td>1.0</td>\n",
       "      <td>1000.0</td>\n",
       "      <td>400.0</td>\n",
       "      <td>1.0</td>\n",
       "      <td>1.0</td>\n",
       "      <td>3200.0</td>\n",
       "      <td>-1400.0</td>\n",
       "      <td>1120.0</td>\n",
       "    </tr>\n",
       "    <tr>\n",
       "      <th>4</th>\n",
       "      <td>1</td>\n",
       "      <td>172.0</td>\n",
       "      <td>2017</td>\n",
       "      <td>January</td>\n",
       "      <td>1</td>\n",
       "      <td>1</td>\n",
       "      <td>2</td>\n",
       "      <td>5</td>\n",
       "      <td>2.0</td>\n",
       "      <td>0.0</td>\n",
       "      <td>...</td>\n",
       "      <td>0.0</td>\n",
       "      <td>1.0</td>\n",
       "      <td>0.0</td>\n",
       "      <td>1000.0</td>\n",
       "      <td>400.0</td>\n",
       "      <td>1.0</td>\n",
       "      <td>1.0</td>\n",
       "      <td>5400.0</td>\n",
       "      <td>-1400.0</td>\n",
       "      <td>1120.0</td>\n",
       "    </tr>\n",
       "    <tr>\n",
       "      <th>5</th>\n",
       "      <td>1</td>\n",
       "      <td>52.0</td>\n",
       "      <td>2017</td>\n",
       "      <td>January</td>\n",
       "      <td>1</td>\n",
       "      <td>1</td>\n",
       "      <td>2</td>\n",
       "      <td>5</td>\n",
       "      <td>1.0</td>\n",
       "      <td>0.0</td>\n",
       "      <td>...</td>\n",
       "      <td>0.0</td>\n",
       "      <td>0.0</td>\n",
       "      <td>0.0</td>\n",
       "      <td>1000.0</td>\n",
       "      <td>400.0</td>\n",
       "      <td>1.0</td>\n",
       "      <td>1.0</td>\n",
       "      <td>5400.0</td>\n",
       "      <td>-1400.0</td>\n",
       "      <td>1120.0</td>\n",
       "    </tr>\n",
       "    <tr>\n",
       "      <th>...</th>\n",
       "      <td>...</td>\n",
       "      <td>...</td>\n",
       "      <td>...</td>\n",
       "      <td>...</td>\n",
       "      <td>...</td>\n",
       "      <td>...</td>\n",
       "      <td>...</td>\n",
       "      <td>...</td>\n",
       "      <td>...</td>\n",
       "      <td>...</td>\n",
       "      <td>...</td>\n",
       "      <td>...</td>\n",
       "      <td>...</td>\n",
       "      <td>...</td>\n",
       "      <td>...</td>\n",
       "      <td>...</td>\n",
       "      <td>...</td>\n",
       "      <td>...</td>\n",
       "      <td>...</td>\n",
       "      <td>...</td>\n",
       "      <td>...</td>\n",
       "    </tr>\n",
       "    <tr>\n",
       "      <th>32407</th>\n",
       "      <td>0</td>\n",
       "      <td>164.0</td>\n",
       "      <td>2017</td>\n",
       "      <td>August</td>\n",
       "      <td>35</td>\n",
       "      <td>31</td>\n",
       "      <td>2</td>\n",
       "      <td>4</td>\n",
       "      <td>2.0</td>\n",
       "      <td>0.0</td>\n",
       "      <td>...</td>\n",
       "      <td>NaN</td>\n",
       "      <td>NaN</td>\n",
       "      <td>NaN</td>\n",
       "      <td>1000.0</td>\n",
       "      <td>400.0</td>\n",
       "      <td>1.4</td>\n",
       "      <td>8.0</td>\n",
       "      <td>6720.0</td>\n",
       "      <td>-1960.0</td>\n",
       "      <td>1440.0</td>\n",
       "    </tr>\n",
       "    <tr>\n",
       "      <th>32408</th>\n",
       "      <td>0</td>\n",
       "      <td>21.0</td>\n",
       "      <td>2017</td>\n",
       "      <td>August</td>\n",
       "      <td>35</td>\n",
       "      <td>30</td>\n",
       "      <td>2</td>\n",
       "      <td>5</td>\n",
       "      <td>2.0</td>\n",
       "      <td>0.0</td>\n",
       "      <td>...</td>\n",
       "      <td>NaN</td>\n",
       "      <td>NaN</td>\n",
       "      <td>NaN</td>\n",
       "      <td>1000.0</td>\n",
       "      <td>400.0</td>\n",
       "      <td>1.4</td>\n",
       "      <td>8.0</td>\n",
       "      <td>7560.0</td>\n",
       "      <td>-1960.0</td>\n",
       "      <td>1440.0</td>\n",
       "    </tr>\n",
       "    <tr>\n",
       "      <th>32409</th>\n",
       "      <td>0</td>\n",
       "      <td>23.0</td>\n",
       "      <td>2017</td>\n",
       "      <td>August</td>\n",
       "      <td>35</td>\n",
       "      <td>30</td>\n",
       "      <td>2</td>\n",
       "      <td>5</td>\n",
       "      <td>2.0</td>\n",
       "      <td>0.0</td>\n",
       "      <td>...</td>\n",
       "      <td>NaN</td>\n",
       "      <td>NaN</td>\n",
       "      <td>NaN</td>\n",
       "      <td>1000.0</td>\n",
       "      <td>400.0</td>\n",
       "      <td>1.4</td>\n",
       "      <td>8.0</td>\n",
       "      <td>7560.0</td>\n",
       "      <td>-1960.0</td>\n",
       "      <td>1440.0</td>\n",
       "    </tr>\n",
       "    <tr>\n",
       "      <th>32410</th>\n",
       "      <td>0</td>\n",
       "      <td>34.0</td>\n",
       "      <td>2017</td>\n",
       "      <td>August</td>\n",
       "      <td>35</td>\n",
       "      <td>31</td>\n",
       "      <td>2</td>\n",
       "      <td>5</td>\n",
       "      <td>2.0</td>\n",
       "      <td>0.0</td>\n",
       "      <td>...</td>\n",
       "      <td>NaN</td>\n",
       "      <td>NaN</td>\n",
       "      <td>NaN</td>\n",
       "      <td>550.0</td>\n",
       "      <td>150.0</td>\n",
       "      <td>1.4</td>\n",
       "      <td>8.0</td>\n",
       "      <td>4550.0</td>\n",
       "      <td>-980.0</td>\n",
       "      <td>736.0</td>\n",
       "    </tr>\n",
       "    <tr>\n",
       "      <th>32411</th>\n",
       "      <td>0</td>\n",
       "      <td>109.0</td>\n",
       "      <td>2017</td>\n",
       "      <td>August</td>\n",
       "      <td>35</td>\n",
       "      <td>31</td>\n",
       "      <td>2</td>\n",
       "      <td>5</td>\n",
       "      <td>2.0</td>\n",
       "      <td>0.0</td>\n",
       "      <td>...</td>\n",
       "      <td>NaN</td>\n",
       "      <td>NaN</td>\n",
       "      <td>NaN</td>\n",
       "      <td>1000.0</td>\n",
       "      <td>400.0</td>\n",
       "      <td>1.4</td>\n",
       "      <td>8.0</td>\n",
       "      <td>7560.0</td>\n",
       "      <td>-1960.0</td>\n",
       "      <td>1440.0</td>\n",
       "    </tr>\n",
       "  </tbody>\n",
       "</table>\n",
       "<p>24695 rows × 34 columns</p>\n",
       "</div>"
      ],
      "text/plain": [
       "       is_canceled  lead_time  arrival_date_year arrival_date_month  \\\n",
       "0                1       74.0               2017            January   \n",
       "1                1       62.0               2017            January   \n",
       "3                1       71.0               2017            January   \n",
       "4                1      172.0               2017            January   \n",
       "5                1       52.0               2017            January   \n",
       "...            ...        ...                ...                ...   \n",
       "32407            0      164.0               2017             August   \n",
       "32408            0       21.0               2017             August   \n",
       "32409            0       23.0               2017             August   \n",
       "32410            0       34.0               2017             August   \n",
       "32411            0      109.0               2017             August   \n",
       "\n",
       "       arrival_date_week_number  arrival_date_day_of_month  \\\n",
       "0                             1                          1   \n",
       "1                             1                          1   \n",
       "3                             1                          1   \n",
       "4                             1                          1   \n",
       "5                             1                          1   \n",
       "...                         ...                        ...   \n",
       "32407                        35                         31   \n",
       "32408                        35                         30   \n",
       "32409                        35                         30   \n",
       "32410                        35                         31   \n",
       "32411                        35                         31   \n",
       "\n",
       "       stays_in_weekend_nights  stays_in_week_nights  adults  children  ...  \\\n",
       "0                            1                     0     2.0       0.0  ...   \n",
       "1                            2                     2     2.0       0.0  ...   \n",
       "3                            2                     2     1.0       0.0  ...   \n",
       "4                            2                     5     2.0       0.0  ...   \n",
       "5                            2                     5     1.0       0.0  ...   \n",
       "...                        ...                   ...     ...       ...  ...   \n",
       "32407                        2                     4     2.0       0.0  ...   \n",
       "32408                        2                     5     2.0       0.0  ...   \n",
       "32409                        2                     5     2.0       0.0  ...   \n",
       "32410                        2                     5     2.0       0.0  ...   \n",
       "32411                        2                     5     2.0       0.0  ...   \n",
       "\n",
       "       forecast_rfc forecast_dtc forecast_lrg price_class  service  \\\n",
       "0               0.0          1.0          1.0      1000.0    400.0   \n",
       "1               0.0          1.0          0.0      1000.0    400.0   \n",
       "3               0.0          1.0          1.0      1000.0    400.0   \n",
       "4               0.0          1.0          0.0      1000.0    400.0   \n",
       "5               0.0          0.0          0.0      1000.0    400.0   \n",
       "...             ...          ...          ...         ...      ...   \n",
       "32407           NaN          NaN          NaN      1000.0    400.0   \n",
       "32408           NaN          NaN          NaN      1000.0    400.0   \n",
       "32409           NaN          NaN          NaN      1000.0    400.0   \n",
       "32410           NaN          NaN          NaN       550.0    150.0   \n",
       "32411           NaN          NaN          NaN      1000.0    400.0   \n",
       "\n",
       "       season_coeff  arrival_month revenue  potential_loss  deposit  \n",
       "0               1.0            1.0   600.0         -1400.0   1120.0  \n",
       "1               1.0            1.0  3200.0         -1400.0   1120.0  \n",
       "3               1.0            1.0  3200.0         -1400.0   1120.0  \n",
       "4               1.0            1.0  5400.0         -1400.0   1120.0  \n",
       "5               1.0            1.0  5400.0         -1400.0   1120.0  \n",
       "...             ...            ...     ...             ...      ...  \n",
       "32407           1.4            8.0  6720.0         -1960.0   1440.0  \n",
       "32408           1.4            8.0  7560.0         -1960.0   1440.0  \n",
       "32409           1.4            8.0  7560.0         -1960.0   1440.0  \n",
       "32410           1.4            8.0  4550.0          -980.0    736.0  \n",
       "32411           1.4            8.0  7560.0         -1960.0   1440.0  \n",
       "\n",
       "[24695 rows x 34 columns]"
      ]
     },
     "execution_count": 193,
     "metadata": {},
     "output_type": "execute_result"
    }
   ],
   "source": [
    "price_class(test)"
   ]
  },
  {
   "cell_type": "markdown",
   "metadata": {},
   "source": [
    "#### Голосование по большинству"
   ]
  },
  {
   "cell_type": "markdown",
   "metadata": {},
   "source": [
    "Реализуем Голосование по большинству "
   ]
  },
  {
   "cell_type": "code",
   "execution_count": 194,
   "metadata": {},
   "outputs": [],
   "source": [
    "labels = test.loc[:,['forecast_rfc','forecast_dtc','forecast_lrg']]\n",
    "true_label = labels.mode(axis=1)[0]\n",
    "\n",
    "test['forecast_mode'] = true_label\n"
   ]
  },
  {
   "cell_type": "code",
   "execution_count": 195,
   "metadata": {},
   "outputs": [
    {
     "data": {
      "text/html": [
       "<div>\n",
       "<style scoped>\n",
       "    .dataframe tbody tr th:only-of-type {\n",
       "        vertical-align: middle;\n",
       "    }\n",
       "\n",
       "    .dataframe tbody tr th {\n",
       "        vertical-align: top;\n",
       "    }\n",
       "\n",
       "    .dataframe thead th {\n",
       "        text-align: right;\n",
       "    }\n",
       "</style>\n",
       "<table border=\"1\" class=\"dataframe\">\n",
       "  <thead>\n",
       "    <tr style=\"text-align: right;\">\n",
       "      <th></th>\n",
       "      <th>is_canceled</th>\n",
       "      <th>lead_time</th>\n",
       "      <th>arrival_date_year</th>\n",
       "      <th>arrival_date_month</th>\n",
       "      <th>arrival_date_week_number</th>\n",
       "      <th>arrival_date_day_of_month</th>\n",
       "      <th>stays_in_weekend_nights</th>\n",
       "      <th>stays_in_week_nights</th>\n",
       "      <th>adults</th>\n",
       "      <th>children</th>\n",
       "      <th>...</th>\n",
       "      <th>forecast_dtc</th>\n",
       "      <th>forecast_lrg</th>\n",
       "      <th>price_class</th>\n",
       "      <th>service</th>\n",
       "      <th>season_coeff</th>\n",
       "      <th>arrival_month</th>\n",
       "      <th>revenue</th>\n",
       "      <th>potential_loss</th>\n",
       "      <th>deposit</th>\n",
       "      <th>forecast_mode</th>\n",
       "    </tr>\n",
       "  </thead>\n",
       "  <tbody>\n",
       "    <tr>\n",
       "      <th>0</th>\n",
       "      <td>1</td>\n",
       "      <td>74.0</td>\n",
       "      <td>2017</td>\n",
       "      <td>January</td>\n",
       "      <td>1</td>\n",
       "      <td>1</td>\n",
       "      <td>1</td>\n",
       "      <td>0</td>\n",
       "      <td>2.0</td>\n",
       "      <td>0.0</td>\n",
       "      <td>...</td>\n",
       "      <td>1.0</td>\n",
       "      <td>1.0</td>\n",
       "      <td>1000.0</td>\n",
       "      <td>400.0</td>\n",
       "      <td>1.0</td>\n",
       "      <td>1.0</td>\n",
       "      <td>600.0</td>\n",
       "      <td>-1400.0</td>\n",
       "      <td>1120.0</td>\n",
       "      <td>1.0</td>\n",
       "    </tr>\n",
       "    <tr>\n",
       "      <th>1</th>\n",
       "      <td>1</td>\n",
       "      <td>62.0</td>\n",
       "      <td>2017</td>\n",
       "      <td>January</td>\n",
       "      <td>1</td>\n",
       "      <td>1</td>\n",
       "      <td>2</td>\n",
       "      <td>2</td>\n",
       "      <td>2.0</td>\n",
       "      <td>0.0</td>\n",
       "      <td>...</td>\n",
       "      <td>1.0</td>\n",
       "      <td>0.0</td>\n",
       "      <td>1000.0</td>\n",
       "      <td>400.0</td>\n",
       "      <td>1.0</td>\n",
       "      <td>1.0</td>\n",
       "      <td>3200.0</td>\n",
       "      <td>-1400.0</td>\n",
       "      <td>1120.0</td>\n",
       "      <td>0.0</td>\n",
       "    </tr>\n",
       "    <tr>\n",
       "      <th>3</th>\n",
       "      <td>1</td>\n",
       "      <td>71.0</td>\n",
       "      <td>2017</td>\n",
       "      <td>January</td>\n",
       "      <td>1</td>\n",
       "      <td>1</td>\n",
       "      <td>2</td>\n",
       "      <td>2</td>\n",
       "      <td>1.0</td>\n",
       "      <td>0.0</td>\n",
       "      <td>...</td>\n",
       "      <td>1.0</td>\n",
       "      <td>1.0</td>\n",
       "      <td>1000.0</td>\n",
       "      <td>400.0</td>\n",
       "      <td>1.0</td>\n",
       "      <td>1.0</td>\n",
       "      <td>3200.0</td>\n",
       "      <td>-1400.0</td>\n",
       "      <td>1120.0</td>\n",
       "      <td>1.0</td>\n",
       "    </tr>\n",
       "    <tr>\n",
       "      <th>4</th>\n",
       "      <td>1</td>\n",
       "      <td>172.0</td>\n",
       "      <td>2017</td>\n",
       "      <td>January</td>\n",
       "      <td>1</td>\n",
       "      <td>1</td>\n",
       "      <td>2</td>\n",
       "      <td>5</td>\n",
       "      <td>2.0</td>\n",
       "      <td>0.0</td>\n",
       "      <td>...</td>\n",
       "      <td>1.0</td>\n",
       "      <td>0.0</td>\n",
       "      <td>1000.0</td>\n",
       "      <td>400.0</td>\n",
       "      <td>1.0</td>\n",
       "      <td>1.0</td>\n",
       "      <td>5400.0</td>\n",
       "      <td>-1400.0</td>\n",
       "      <td>1120.0</td>\n",
       "      <td>0.0</td>\n",
       "    </tr>\n",
       "    <tr>\n",
       "      <th>5</th>\n",
       "      <td>1</td>\n",
       "      <td>52.0</td>\n",
       "      <td>2017</td>\n",
       "      <td>January</td>\n",
       "      <td>1</td>\n",
       "      <td>1</td>\n",
       "      <td>2</td>\n",
       "      <td>5</td>\n",
       "      <td>1.0</td>\n",
       "      <td>0.0</td>\n",
       "      <td>...</td>\n",
       "      <td>0.0</td>\n",
       "      <td>0.0</td>\n",
       "      <td>1000.0</td>\n",
       "      <td>400.0</td>\n",
       "      <td>1.0</td>\n",
       "      <td>1.0</td>\n",
       "      <td>5400.0</td>\n",
       "      <td>-1400.0</td>\n",
       "      <td>1120.0</td>\n",
       "      <td>0.0</td>\n",
       "    </tr>\n",
       "    <tr>\n",
       "      <th>...</th>\n",
       "      <td>...</td>\n",
       "      <td>...</td>\n",
       "      <td>...</td>\n",
       "      <td>...</td>\n",
       "      <td>...</td>\n",
       "      <td>...</td>\n",
       "      <td>...</td>\n",
       "      <td>...</td>\n",
       "      <td>...</td>\n",
       "      <td>...</td>\n",
       "      <td>...</td>\n",
       "      <td>...</td>\n",
       "      <td>...</td>\n",
       "      <td>...</td>\n",
       "      <td>...</td>\n",
       "      <td>...</td>\n",
       "      <td>...</td>\n",
       "      <td>...</td>\n",
       "      <td>...</td>\n",
       "      <td>...</td>\n",
       "      <td>...</td>\n",
       "    </tr>\n",
       "    <tr>\n",
       "      <th>32407</th>\n",
       "      <td>0</td>\n",
       "      <td>164.0</td>\n",
       "      <td>2017</td>\n",
       "      <td>August</td>\n",
       "      <td>35</td>\n",
       "      <td>31</td>\n",
       "      <td>2</td>\n",
       "      <td>4</td>\n",
       "      <td>2.0</td>\n",
       "      <td>0.0</td>\n",
       "      <td>...</td>\n",
       "      <td>NaN</td>\n",
       "      <td>NaN</td>\n",
       "      <td>1000.0</td>\n",
       "      <td>400.0</td>\n",
       "      <td>1.4</td>\n",
       "      <td>8.0</td>\n",
       "      <td>6720.0</td>\n",
       "      <td>-1960.0</td>\n",
       "      <td>1440.0</td>\n",
       "      <td>NaN</td>\n",
       "    </tr>\n",
       "    <tr>\n",
       "      <th>32408</th>\n",
       "      <td>0</td>\n",
       "      <td>21.0</td>\n",
       "      <td>2017</td>\n",
       "      <td>August</td>\n",
       "      <td>35</td>\n",
       "      <td>30</td>\n",
       "      <td>2</td>\n",
       "      <td>5</td>\n",
       "      <td>2.0</td>\n",
       "      <td>0.0</td>\n",
       "      <td>...</td>\n",
       "      <td>NaN</td>\n",
       "      <td>NaN</td>\n",
       "      <td>1000.0</td>\n",
       "      <td>400.0</td>\n",
       "      <td>1.4</td>\n",
       "      <td>8.0</td>\n",
       "      <td>7560.0</td>\n",
       "      <td>-1960.0</td>\n",
       "      <td>1440.0</td>\n",
       "      <td>NaN</td>\n",
       "    </tr>\n",
       "    <tr>\n",
       "      <th>32409</th>\n",
       "      <td>0</td>\n",
       "      <td>23.0</td>\n",
       "      <td>2017</td>\n",
       "      <td>August</td>\n",
       "      <td>35</td>\n",
       "      <td>30</td>\n",
       "      <td>2</td>\n",
       "      <td>5</td>\n",
       "      <td>2.0</td>\n",
       "      <td>0.0</td>\n",
       "      <td>...</td>\n",
       "      <td>NaN</td>\n",
       "      <td>NaN</td>\n",
       "      <td>1000.0</td>\n",
       "      <td>400.0</td>\n",
       "      <td>1.4</td>\n",
       "      <td>8.0</td>\n",
       "      <td>7560.0</td>\n",
       "      <td>-1960.0</td>\n",
       "      <td>1440.0</td>\n",
       "      <td>NaN</td>\n",
       "    </tr>\n",
       "    <tr>\n",
       "      <th>32410</th>\n",
       "      <td>0</td>\n",
       "      <td>34.0</td>\n",
       "      <td>2017</td>\n",
       "      <td>August</td>\n",
       "      <td>35</td>\n",
       "      <td>31</td>\n",
       "      <td>2</td>\n",
       "      <td>5</td>\n",
       "      <td>2.0</td>\n",
       "      <td>0.0</td>\n",
       "      <td>...</td>\n",
       "      <td>NaN</td>\n",
       "      <td>NaN</td>\n",
       "      <td>550.0</td>\n",
       "      <td>150.0</td>\n",
       "      <td>1.4</td>\n",
       "      <td>8.0</td>\n",
       "      <td>4550.0</td>\n",
       "      <td>-980.0</td>\n",
       "      <td>736.0</td>\n",
       "      <td>NaN</td>\n",
       "    </tr>\n",
       "    <tr>\n",
       "      <th>32411</th>\n",
       "      <td>0</td>\n",
       "      <td>109.0</td>\n",
       "      <td>2017</td>\n",
       "      <td>August</td>\n",
       "      <td>35</td>\n",
       "      <td>31</td>\n",
       "      <td>2</td>\n",
       "      <td>5</td>\n",
       "      <td>2.0</td>\n",
       "      <td>0.0</td>\n",
       "      <td>...</td>\n",
       "      <td>NaN</td>\n",
       "      <td>NaN</td>\n",
       "      <td>1000.0</td>\n",
       "      <td>400.0</td>\n",
       "      <td>1.4</td>\n",
       "      <td>8.0</td>\n",
       "      <td>7560.0</td>\n",
       "      <td>-1960.0</td>\n",
       "      <td>1440.0</td>\n",
       "      <td>NaN</td>\n",
       "    </tr>\n",
       "  </tbody>\n",
       "</table>\n",
       "<p>24695 rows × 35 columns</p>\n",
       "</div>"
      ],
      "text/plain": [
       "       is_canceled  lead_time  arrival_date_year arrival_date_month  \\\n",
       "0                1       74.0               2017            January   \n",
       "1                1       62.0               2017            January   \n",
       "3                1       71.0               2017            January   \n",
       "4                1      172.0               2017            January   \n",
       "5                1       52.0               2017            January   \n",
       "...            ...        ...                ...                ...   \n",
       "32407            0      164.0               2017             August   \n",
       "32408            0       21.0               2017             August   \n",
       "32409            0       23.0               2017             August   \n",
       "32410            0       34.0               2017             August   \n",
       "32411            0      109.0               2017             August   \n",
       "\n",
       "       arrival_date_week_number  arrival_date_day_of_month  \\\n",
       "0                             1                          1   \n",
       "1                             1                          1   \n",
       "3                             1                          1   \n",
       "4                             1                          1   \n",
       "5                             1                          1   \n",
       "...                         ...                        ...   \n",
       "32407                        35                         31   \n",
       "32408                        35                         30   \n",
       "32409                        35                         30   \n",
       "32410                        35                         31   \n",
       "32411                        35                         31   \n",
       "\n",
       "       stays_in_weekend_nights  stays_in_week_nights  adults  children  ...  \\\n",
       "0                            1                     0     2.0       0.0  ...   \n",
       "1                            2                     2     2.0       0.0  ...   \n",
       "3                            2                     2     1.0       0.0  ...   \n",
       "4                            2                     5     2.0       0.0  ...   \n",
       "5                            2                     5     1.0       0.0  ...   \n",
       "...                        ...                   ...     ...       ...  ...   \n",
       "32407                        2                     4     2.0       0.0  ...   \n",
       "32408                        2                     5     2.0       0.0  ...   \n",
       "32409                        2                     5     2.0       0.0  ...   \n",
       "32410                        2                     5     2.0       0.0  ...   \n",
       "32411                        2                     5     2.0       0.0  ...   \n",
       "\n",
       "       forecast_dtc forecast_lrg price_class service  season_coeff  \\\n",
       "0               1.0          1.0      1000.0   400.0           1.0   \n",
       "1               1.0          0.0      1000.0   400.0           1.0   \n",
       "3               1.0          1.0      1000.0   400.0           1.0   \n",
       "4               1.0          0.0      1000.0   400.0           1.0   \n",
       "5               0.0          0.0      1000.0   400.0           1.0   \n",
       "...             ...          ...         ...     ...           ...   \n",
       "32407           NaN          NaN      1000.0   400.0           1.4   \n",
       "32408           NaN          NaN      1000.0   400.0           1.4   \n",
       "32409           NaN          NaN      1000.0   400.0           1.4   \n",
       "32410           NaN          NaN       550.0   150.0           1.4   \n",
       "32411           NaN          NaN      1000.0   400.0           1.4   \n",
       "\n",
       "       arrival_month  revenue potential_loss  deposit  forecast_mode  \n",
       "0                1.0    600.0        -1400.0   1120.0            1.0  \n",
       "1                1.0   3200.0        -1400.0   1120.0            0.0  \n",
       "3                1.0   3200.0        -1400.0   1120.0            1.0  \n",
       "4                1.0   5400.0        -1400.0   1120.0            0.0  \n",
       "5                1.0   5400.0        -1400.0   1120.0            0.0  \n",
       "...              ...      ...            ...      ...            ...  \n",
       "32407            8.0   6720.0        -1960.0   1440.0            NaN  \n",
       "32408            8.0   7560.0        -1960.0   1440.0            NaN  \n",
       "32409            8.0   7560.0        -1960.0   1440.0            NaN  \n",
       "32410            8.0   4550.0         -980.0    736.0            NaN  \n",
       "32411            8.0   7560.0        -1960.0   1440.0            NaN  \n",
       "\n",
       "[24695 rows x 35 columns]"
      ]
     },
     "execution_count": 195,
     "metadata": {},
     "output_type": "execute_result"
    }
   ],
   "source": [
    "test"
   ]
  },
  {
   "cell_type": "code",
   "execution_count": 196,
   "metadata": {},
   "outputs": [
    {
     "data": {
      "text/plain": [
       "1.0    10543\n",
       "0.0     7547\n",
       "Name: forecast_mode, dtype: int64"
      ]
     },
     "execution_count": 196,
     "metadata": {},
     "output_type": "execute_result"
    }
   ],
   "source": [
    "test['forecast_mode'].value_counts()"
   ]
  },
  {
   "cell_type": "markdown",
   "metadata": {},
   "source": [
    "Без системы депозитов"
   ]
  },
  {
   "cell_type": "code",
   "execution_count": 197,
   "metadata": {},
   "outputs": [],
   "source": [
    "# forecast 1/ is_canceled 1\n",
    "test.loc[(test['is_canceled']==1)&(test['forecast_mode']==1), 'true_revenue'] = test['potential_loss'] \n",
    "# forecast 0/ is_canceled 0\n",
    "test.loc[(test['is_canceled']==0)&(test['forecast_mode']==0), 'true_revenue'] = test['revenue']\n",
    "#forecast 1/ is_canceled 0\n",
    "test.loc[(test['is_canceled']==0)&(test['forecast_mode']==1), 'true_revenue'] = test['revenue']\n",
    "\n",
    "#forecast 0/ is_canceled 1\n",
    "test.loc[(test['is_canceled']==1)&(test['forecast_mode']==0), 'true_revenue'] = test['potential_loss']"
   ]
  },
  {
   "cell_type": "markdown",
   "metadata": {},
   "source": [
    "С системой депозитов"
   ]
  },
  {
   "cell_type": "code",
   "execution_count": 198,
   "metadata": {},
   "outputs": [],
   "source": [
    "# forecast 1/ is_canceled 1\n",
    "test.loc[(test['is_canceled']==1)&(test['forecast_mode']==1), 'true_revenue_depo'] = test['deposit']+test['potential_loss'] \n",
    "# forecast 0/ is_canceled 0\n",
    "test.loc[(test['is_canceled']==0)&(test['forecast_mode']==0), 'true_revenue_depo'] = test['revenue']\n",
    "#forecast 1/ is_canceled 0\n",
    "test.loc[(test['is_canceled']==0)&(test['forecast_mode']==1), 'true_revenue_depo'] = test['revenue']\n",
    "\n",
    "#forecast 0/ is_canceled 1\n",
    "test.loc[(test['is_canceled']==1)&(test['forecast_mode']==0), 'true_revenue_depo'] = test['potential_loss']"
   ]
  },
  {
   "cell_type": "markdown",
   "metadata": {},
   "source": [
    "<div class=\"alert alert-info\">\n",
    "    <b>Комментарий студента 10.09.23:</b> Пофиксил по совету\n",
    "</div>"
   ]
  },
  {
   "cell_type": "markdown",
   "metadata": {},
   "source": [
    "Расчет прибыли стоит проводить для тестовых данных. Чтобы можно было объектично сравнить результат для тестового периода до и после разработки модели и получения предсказаний для тестовых данных.\n"
   ]
  },
  {
   "cell_type": "code",
   "execution_count": 206,
   "metadata": {},
   "outputs": [
    {
     "data": {
      "text/plain": [
       "count    18090.000000\n",
       "mean       759.875069\n",
       "std       2316.974420\n",
       "min      -1960.000000\n",
       "25%      -1400.000000\n",
       "50%        600.000000\n",
       "75%       2240.000000\n",
       "max      11200.000000\n",
       "Name: true_revenue, dtype: float64"
      ]
     },
     "execution_count": 206,
     "metadata": {},
     "output_type": "execute_result"
    }
   ],
   "source": [
    "test['true_revenue'].describe()"
   ]
  },
  {
   "cell_type": "code",
   "execution_count": 207,
   "metadata": {},
   "outputs": [
    {
     "data": {
      "text/plain": [
       "count    18090.000000\n",
       "mean      1073.115091\n",
       "std       2047.704819\n",
       "min      -1960.000000\n",
       "25%       -400.000000\n",
       "50%        600.000000\n",
       "75%       2240.000000\n",
       "max      11200.000000\n",
       "Name: true_revenue_depo, dtype: float64"
      ]
     },
     "execution_count": 207,
     "metadata": {},
     "output_type": "execute_result"
    }
   ],
   "source": [
    "test['true_revenue_depo'].describe()"
   ]
  },
  {
   "cell_type": "markdown",
   "metadata": {},
   "source": [
    "#### Вывод по комбинированной системе forecast модель + депозит"
   ]
  },
  {
   "cell_type": "markdown",
   "metadata": {},
   "source": [
    "Комбинированная система депозит + прогноз позволит увеличить среднюю прибыль на 313 рублей. но для меня  все-еще загадка- зачем отелю уходить в минуса"
   ]
  },
  {
   "cell_type": "code",
   "execution_count": 208,
   "metadata": {},
   "outputs": [
    {
     "data": {
      "text/plain": [
       "313.24002211166396"
      ]
     },
     "execution_count": 208,
     "metadata": {},
     "output_type": "execute_result"
    }
   ],
   "source": [
    "test['true_revenue_depo'].mean()-test['true_revenue'].mean()"
   ]
  },
  {
   "cell_type": "code",
   "execution_count": 200,
   "metadata": {},
   "outputs": [
    {
     "data": {
      "image/png": "[encoded data removed]",
      "text/plain": [
       "<Figure size 864x648 with 1 Axes>"
      ]
     },
     "metadata": {
      "needs_background": "light"
     },
     "output_type": "display_data"
    }
   ],
   "source": [
    "\n",
    "\n",
    "\n",
    "plt.figure(figsize=[12,9])\n",
    "\n",
    "plt.hist(test['true_revenue'],bins=100,color =('blue'), label = 'true_revenue без депозита', alpha=.5)\n",
    "\n",
    "plt.hist(test['true_revenue_depo'], bins=100,color =('red'), label = 'true_revenue с депозитом', alpha=.5)\n",
    "\n",
    "plt.xlabel(\"Прибыль\")\n",
    "\n",
    "plt.ylabel(\"Количество заездов\")\n",
    "\n",
    "plt.legend(loc='best', fontsize='x-large')\n",
    "\n",
    "plt.title(\"Гистограмма распределения количества заездов по прибыли \")\n",
    "\n",
    "plt.show()\n"
   ]
  },
  {
   "cell_type": "code",
   "execution_count": 214,
   "metadata": {},
   "outputs": [],
   "source": [
    "def visio(df):\n",
    "    plt.figure(figsize=[12,9])\n",
    "    plt.hist(df['lead_time'][df['forecast_mode']==1], bins=100,color =('red'), \n",
    "             label = 'lead_time is_canceled', alpha=.5)\n",
    "    \n",
    "    plt.xlabel(\"Количество дней между датой бронирования и датой прибытия\")\n",
    "    plt.ylabel(\"Количество заездов\")\n",
    "    plt.legend(loc='best', fontsize='x-large')\n",
    "    plt.title(\"Гистограмма распределения количества дней между датой бронирования и датой прибытия\")\n",
    "    plt.show()\n",
    "    \n",
    "       \n",
    "    \n",
    "    \n",
    "    plt.figure(figsize=[12,9])\n",
    "    plt.hist(df['arrival_date_day_of_month'][df['forecast_mode']==1], \n",
    "    bins=100,color =('red'), label = 'arrival_date_day_of_month is_canceled', alpha=.5)\n",
    "    \n",
    "    plt.xlabel(\"День в месяце\")\n",
    "    plt.ylabel(\"Количество заездов\")\n",
    "    plt.legend(loc='best', fontsize='x-large')\n",
    "    plt.title(\"Гистограмма распределения количества заездов по дням месяца\")\n",
    "    plt.show()\n",
    "    \n",
    "    plt.figure(figsize=[12,9])\n",
    "    plt.hist(df['babies'][df['forecast_mode']==1], \n",
    "             bins=100,color =('red'), label = 'babies is_canceled', alpha=.5)\n",
    "    plt.xlabel(\"babies\")\n",
    "    plt.ylabel(\"Количество заездов\")\n",
    "    plt.legend(loc='best', fontsize='x-large')\n",
    "    plt.title(\"Гистограмма распределения количества заездов по наличию младенцев\")\n",
    "    plt.show()\n",
    "    \n",
    "    plt.figure(figsize=[12,9])\n",
    "    plt.hist(df['booking_changes'][df['forecast_mode']==1], \n",
    "             bins=100,color =('red'), label = 'booking_changes is_canceled', alpha=.5)\n",
    "    \n",
    "    plt.xlabel(\"booking_changes\")\n",
    "    plt.ylabel(\"Количество заездов\")\n",
    "    plt.legend(loc='best', fontsize='x-large')\n",
    "    plt.title(\"Гистограмма распределения количества заездов по количеству изменений параметров заказа\")\n",
    "    plt.show()\n",
    "    \n",
    "    plt.figure(figsize=[12,9])\n",
    "    plt.hist(df['children'][df['forecast_mode']==1], \n",
    "             bins=100,color =('red'), label = 'children is_canceled', alpha=.5)\n",
    "    \n",
    "    plt.xlabel(\"children\")\n",
    "    plt.ylabel(\"Количество заездов\")\n",
    "    plt.legend(loc='best', fontsize='x-large')\n",
    "    plt.title(\"Гистограмма распределения количества заездов по наличию детей 3-14 лет\")\n",
    "    plt.show()\n",
    "    \n",
    "        \n",
    "    \n",
    "    plt.figure(figsize=[12,9])\n",
    "    plt.hist(df['days_in_waiting_list'][df['forecast_mode']==1], \n",
    "             bins=100,color =('red'), label = 'days_in_waiting_list is_canceled', alpha=.5)\n",
    "    \n",
    "    plt.xlabel(\"Дней ожидания\")\n",
    "    plt.ylabel(\"Количество заездов\")\n",
    "    plt.legend(loc='best', fontsize='x-large')\n",
    "    plt.title(\"Гистограмма распределения количества заездов по дням ожидания подтверждения\")\n",
    "    plt.show()\n",
    "    \n",
    "       \n",
    "        \n",
    "    \n",
    "    plt.figure(figsize=[12,9])\n",
    "    plt.hist(df['is_repeated_guest'][df['forecast_mode']==1], \n",
    "             bins=100,color =('red'), label = 'is_repeated_guest is_canceled', alpha=.5)\n",
    "    \n",
    "    plt.xlabel(\"Признак повторного бронирования\")\n",
    "    plt.ylabel(\"Количество заездов\")\n",
    "    plt.legend(loc='best', fontsize='x-large')\n",
    "    plt.title(\"Гистограмма распределения количества заездов по признаку повторного бронирования\")\n",
    "    plt.show()\n",
    "    \n",
    "    \n",
    "    plt.figure(figsize=[12,9])\n",
    "    plt.hist(df['lead_time'][df['forecast_mode']==1], \n",
    "             bins=100,color =('red'), label = 'lead_time is_canceled', alpha=.5)\n",
    "    \n",
    "    plt.xlabel(\"Количество дней между датой бронирования и датой прибытия\")\n",
    "    plt.ylabel(\"Количество заездов\")\n",
    "    plt.legend(loc='best', fontsize='x-large')\n",
    "    plt.title(\"Гистограмма распределения количества заездов по числу дней между датой бронирования и датой прибытия\")\n",
    "    plt.show()\n",
    "    \n",
    "    \n",
    "    \n",
    "    \n",
    "    \n",
    "    \n",
    "    plt.figure(figsize=[12,9])\n",
    "    plt.hist(df['previous_bookings_not_canceled'][df['forecast_mode']==1], \n",
    "             bins=100,color =('red'), label = 'previous_bookings_not_canceled is_canceled', alpha=.5)\n",
    "    \n",
    "    plt.xlabel(\"Количество подтверждённых заказов у клиента\")\n",
    "    plt.ylabel(\"Количество заездов\")\n",
    "    plt.legend(loc='best', fontsize='x-large')\n",
    "    plt.title(\"Гистограмма распределения количества заездов количеству подтверждённых заказов у клиента\")\n",
    "    plt.show()\n",
    "    \n",
    "    \n",
    "    plt.figure(figsize=[12,9])\n",
    "    plt.hist(df['previous_cancellations'][df['forecast_mode']==1], \n",
    "             bins=100,color =('red'), label = 'previous_cancellations is_canceled', alpha=.5)\n",
    "    \n",
    "    plt.xlabel(\"Количество отменённых заказов у клиента\")\n",
    "    plt.ylabel(\"Количество заездов\")\n",
    "    plt.legend(loc='best', fontsize='x-large')\n",
    "    plt.title(\"Гистограмма распределения количества заездов по количеству отменённых заказов у клиента\")\n",
    "    plt.show()\n",
    "    \n",
    "    \n",
    "    plt.figure(figsize=[12,9])\n",
    "    plt.hist(df['required_car_parking_spaces'][df['forecast_mode']==1], \n",
    "             bins=100,color =('red'), label = 'required_car_parking_spaces is_canceled', alpha=.5)\n",
    "    \n",
    "    plt.xlabel(\"Необходимость места для автомобиля\")\n",
    "    plt.ylabel(\"Количество заездов\")\n",
    "    plt.legend(loc='best', fontsize='x-large')\n",
    "    plt.title(\"Гистограмма распределения количества заездов по необходимости места для автомобиля\")\n",
    "    plt.show()\n",
    "    \n",
    "    \n",
    "    \n",
    "    \n",
    "      \n",
    "    \n",
    "    \n",
    "    \n",
    "    \n",
    "    plt.figure(figsize=[12,9])\n",
    "    plt.hist(df['total_nights'][df['forecast_mode']==1], \n",
    "             bins=100,color =('red'), label = 'total_nights is_canceled', alpha=.5)\n",
    "    \n",
    "    plt.xlabel(\"Общее количество ночей\")\n",
    "    plt.ylabel(\"Количество заездов\")\n",
    "    plt.legend(loc='best', fontsize='x-large')\n",
    "    plt.title(\"Гистограмма распределения количества заездов по общему количество ночей\")\n",
    "    plt.show()\n",
    "    \n",
    "    \n",
    "    \n",
    "    \n",
    "    plt.figure(figsize=[12,9])\n",
    "    plt.hist(df['total_of_special_requests'][df['forecast_mode']==1], \n",
    "             bins=100,color =('red'), label = 'total_of_special_requests is_canceled', alpha=.5)\n",
    "    \n",
    "    plt.xlabel(\"Количество специальных отметок\")\n",
    "    plt.ylabel(\"Количество заездов\")\n",
    "    plt.legend(loc='best', fontsize='x-large')\n",
    "    plt.title(\"Гистограмма распределения количества заездов по количеству специальных отметок\")\n",
    "    plt.show()\n",
    "    \n",
    "    plt.figure(figsize=[12,9])\n",
    "    plt.hist(df['price_class'][df['forecast_mode']==1], \n",
    "             bins=100,color =('red'), label = 'price_class', alpha=.5)\n",
    "    \n",
    "    plt.xlabel(\"Ценовой класс номера\")\n",
    "    plt.ylabel(\"Количество заездов\")\n",
    "    plt.legend(loc='best', fontsize='x-large')\n",
    "    plt.title(\"Гистограмма распределения  заездов по ценовому классу номера\")\n",
    "    plt.show()\n",
    "    \n",
    "    \n",
    "    \n",
    "    \n",
    "    \n",
    "    \n",
    "    \n",
    "    \n",
    "\n",
    "     "
   ]
  },
  {
   "cell_type": "markdown",
   "metadata": {},
   "source": [
    "#### Портрет «ненадёжного» клиента"
   ]
  },
  {
   "cell_type": "code",
   "execution_count": 215,
   "metadata": {
    "scrolled": true
   },
   "outputs": [
    {
     "data": {
      "image/png": "[encoded data removed]",
      "text/plain": [
       "<Figure size 864x648 with 1 Axes>"
      ]
     },
     "metadata": {
      "needs_background": "light"
     },
     "output_type": "display_data"
    },
    {
     "data": {
      "image/png": "[encoded data removed]",
      "text/plain": [
       "<Figure size 864x648 with 1 Axes>"
      ]
     },
     "metadata": {
      "needs_background": "light"
     },
     "output_type": "display_data"
    },
    {
     "data": {
      "image/png": "[encoded data removed]",
      "text/plain": [
       "<Figure size 864x648 with 1 Axes>"
      ]
     },
     "metadata": {
      "needs_background": "light"
     },
     "output_type": "display_data"
    },
    {
     "data": {
      "image/png": "[encoded data removed]",
      "text/plain": [
       "<Figure size 864x648 with 1 Axes>"
      ]
     },
     "metadata": {
      "needs_background": "light"
     },
     "output_type": "display_data"
    },
    {
     "data": {
      "image/png": "[encoded data removed]",
      "text/plain": [
       "<Figure size 864x648 with 1 Axes>"
      ]
     },
     "metadata": {
      "needs_background": "light"
     },
     "output_type": "display_data"
    },
    {
     "data": {
      "image/png": "[encoded data removed]",
      "text/plain": [
       "<Figure size 864x648 with 1 Axes>"
      ]
     },
     "metadata": {
      "needs_background": "light"
     },
     "output_type": "display_data"
    },
    {
     "data": {
      "image/png": "[encoded data removed]",
      "text/plain": [
       "<Figure size 864x648 with 1 Axes>"
      ]
     },
     "metadata": {
      "needs_background": "light"
     },
     "output_type": "display_data"
    },
    {
     "data": {
      "image/png": "[encoded data removed]",
      "text/plain": [
       "<Figure size 864x648 with 1 Axes>"
      ]
     },
     "metadata": {
      "needs_background": "light"
     },
     "output_type": "display_data"
    },
    {
     "data": {
      "image/png": "[encoded data removed]",
      "text/plain": [
       "<Figure size 864x648 with 1 Axes>"
      ]
     },
     "metadata": {
      "needs_background": "light"
     },
     "output_type": "display_data"
    },
    {
     "data": {
      "image/png": "[encoded data removed]",
      "text/plain": [
       "<Figure size 864x648 with 1 Axes>"
      ]
     },
     "metadata": {
      "needs_background": "light"
     },
     "output_type": "display_data"
    },
    {
     "data": {
      "image/png": "[encoded data removed]",
      "text/plain": [
       "<Figure size 864x648 with 1 Axes>"
      ]
     },
     "metadata": {
      "needs_background": "light"
     },
     "output_type": "display_data"
    },
    {
     "data": {
      "image/png": "[encoded data removed]",
      "text/plain": [
       "<Figure size 864x648 with 1 Axes>"
      ]
     },
     "metadata": {
      "needs_background": "light"
     },
     "output_type": "display_data"
    },
    {
     "data": {
      "image/png": "[encoded data removed]",
      "text/plain": [
       "<Figure size 864x648 with 1 Axes>"
      ]
     },
     "metadata": {
      "needs_background": "light"
     },
     "output_type": "display_data"
    },
    {
     "data": {
      "image/png": "[encoded data removed]",
      "text/plain": [
       "<Figure size 864x648 with 1 Axes>"
      ]
     },
     "metadata": {
      "needs_background": "light"
     },
     "output_type": "display_data"
    }
   ],
   "source": [
    "visio(test)"
   ]
  },
  {
   "cell_type": "markdown",
   "metadata": {},
   "source": [
    "Количество дней между датой бронирования и датой заезда от 0 до 50, заезжает преимущественно на 1 ночь чаще всего в будний день, нет специальных отметок, имел отмененные заказы в диапазоне от 0 до 6 или более 11 отмен заказа, имеет от 0 до 20 подтвержденных заказов, в основном не требуется парковочное место, бронирует повторно, ожидал подтверждения 0, дней, не имеет детей 3-14 лет,в основном менял параметры заказов от 0 до 4 раз, также в основном бронирует на 1 - 10 неделе и с 20 по 30 неделю и в основном останавливается в номере класса 1000, то есть категории A"
   ]
  },
  {
   "cell_type": "markdown",
   "metadata": {},
   "source": [
    "# Итоговый вывод:\n",
    "\n",
    "В данном исследовании была проведена обширная предобработка данных, включая устранение аномалий и коррекцию некорректных форматов данных. Была также рассчитана прибыль за 2017 и 2016 года, что позволило выяснить интересные тенденции. Основным результатом этого анализа стало обнаружение того, что прибыль отеля растет, но при этом имеется потенциальный убыток, составляющий около 60% от медианной стоимости аренды номера. Это является существенной проблемой, которую следует учитывать при разработке стратегии отеля.\n",
    "\n",
    "Для решения задачи классификации были обучены несколько моделей машинного обучения, такие как RandomForest, DecisionTree и LogisticRegression. Лучшие результаты были достигнуты с использованием модели RandomForest с определенными гиперпараметрами, что позволило добиться F1-меры в размере 0.3028. Эти результаты позволили выбрать RandomForest как лучшую модель для решения задачи классификации.\n",
    "\n",
    "Итоговая стратегия, предложенная на основе результатов анализа и моделирования, включает в себя комбинированную систему, которая включает в себя введение депозита для клиентов и использование прогнозных моделей для определения вероятности отмены бронирования. Это предложение может помочь увеличить среднюю прибыль отеля на 313 рублей.\n",
    "\n",
    "Однако остается вопрос, зачем отелю уходить в убытки, и важно рассмотреть дополнительные стратегии и действия, направленные на уменьшение потенциальных убытков и оптимизацию прибыли. Это может включать в себя пересмотр ценовой политики, маркетинговые мероприятия и улучшение обслуживания, чтобы увеличить долю успешных бронирований и уменьшить риск убытков."
   ]
  }
 ],
 "metadata": {
  "ExecuteTimeLog": [
   {
    "duration": 15873,
    "start_time": "2023-09-01T10:58:55.518Z"
   },
   {
    "duration": 1869,
    "start_time": "2023-09-01T10:59:11.393Z"
   },
   {
    "duration": 3,
    "start_time": "2023-09-01T10:59:13.263Z"
   },
   {
    "duration": 95,
    "start_time": "2023-09-01T10:59:13.268Z"
   },
   {
    "duration": 136,
    "start_time": "2023-09-01T10:59:13.365Z"
   },
   {
    "duration": 0,
    "start_time": "2023-09-01T10:59:13.509Z"
   },
   {
    "duration": 0,
    "start_time": "2023-09-01T10:59:13.510Z"
   },
   {
    "duration": 0,
    "start_time": "2023-09-01T10:59:13.511Z"
   },
   {
    "duration": 0,
    "start_time": "2023-09-01T10:59:13.513Z"
   },
   {
    "duration": 0,
    "start_time": "2023-09-01T10:59:13.514Z"
   },
   {
    "duration": 0,
    "start_time": "2023-09-01T10:59:13.515Z"
   },
   {
    "duration": 0,
    "start_time": "2023-09-01T10:59:13.516Z"
   },
   {
    "duration": 0,
    "start_time": "2023-09-01T10:59:13.518Z"
   },
   {
    "duration": 0,
    "start_time": "2023-09-01T10:59:13.519Z"
   },
   {
    "duration": 0,
    "start_time": "2023-09-01T10:59:13.520Z"
   },
   {
    "duration": 0,
    "start_time": "2023-09-01T10:59:13.521Z"
   },
   {
    "duration": 0,
    "start_time": "2023-09-01T10:59:13.522Z"
   },
   {
    "duration": 0,
    "start_time": "2023-09-01T10:59:13.524Z"
   },
   {
    "duration": 0,
    "start_time": "2023-09-01T10:59:13.525Z"
   },
   {
    "duration": 0,
    "start_time": "2023-09-01T10:59:13.555Z"
   },
   {
    "duration": 0,
    "start_time": "2023-09-01T10:59:13.557Z"
   },
   {
    "duration": 0,
    "start_time": "2023-09-01T10:59:13.558Z"
   },
   {
    "duration": 0,
    "start_time": "2023-09-01T10:59:13.559Z"
   },
   {
    "duration": 0,
    "start_time": "2023-09-01T10:59:13.560Z"
   },
   {
    "duration": 0,
    "start_time": "2023-09-01T10:59:13.561Z"
   },
   {
    "duration": 0,
    "start_time": "2023-09-01T10:59:13.562Z"
   },
   {
    "duration": 0,
    "start_time": "2023-09-01T10:59:13.563Z"
   },
   {
    "duration": 0,
    "start_time": "2023-09-01T10:59:13.564Z"
   },
   {
    "duration": 0,
    "start_time": "2023-09-01T10:59:13.566Z"
   },
   {
    "duration": 0,
    "start_time": "2023-09-01T10:59:13.567Z"
   },
   {
    "duration": 0,
    "start_time": "2023-09-01T10:59:13.568Z"
   },
   {
    "duration": 0,
    "start_time": "2023-09-01T10:59:13.569Z"
   },
   {
    "duration": 0,
    "start_time": "2023-09-01T10:59:13.570Z"
   },
   {
    "duration": 0,
    "start_time": "2023-09-01T10:59:13.571Z"
   },
   {
    "duration": 0,
    "start_time": "2023-09-01T10:59:13.572Z"
   },
   {
    "duration": 0,
    "start_time": "2023-09-01T10:59:13.573Z"
   },
   {
    "duration": 0,
    "start_time": "2023-09-01T10:59:13.574Z"
   },
   {
    "duration": 0,
    "start_time": "2023-09-01T10:59:13.575Z"
   },
   {
    "duration": 0,
    "start_time": "2023-09-01T10:59:13.576Z"
   },
   {
    "duration": 0,
    "start_time": "2023-09-01T10:59:13.577Z"
   },
   {
    "duration": 0,
    "start_time": "2023-09-01T10:59:13.578Z"
   },
   {
    "duration": 0,
    "start_time": "2023-09-01T10:59:13.579Z"
   },
   {
    "duration": 0,
    "start_time": "2023-09-01T10:59:13.580Z"
   },
   {
    "duration": 0,
    "start_time": "2023-09-01T10:59:13.581Z"
   },
   {
    "duration": 0,
    "start_time": "2023-09-01T10:59:13.583Z"
   },
   {
    "duration": 0,
    "start_time": "2023-09-01T10:59:13.584Z"
   },
   {
    "duration": 0,
    "start_time": "2023-09-01T10:59:13.585Z"
   },
   {
    "duration": 0,
    "start_time": "2023-09-01T10:59:13.586Z"
   },
   {
    "duration": 0,
    "start_time": "2023-09-01T10:59:13.586Z"
   },
   {
    "duration": 0,
    "start_time": "2023-09-01T10:59:13.587Z"
   },
   {
    "duration": 0,
    "start_time": "2023-09-01T10:59:13.588Z"
   },
   {
    "duration": 0,
    "start_time": "2023-09-01T10:59:13.589Z"
   },
   {
    "duration": 0,
    "start_time": "2023-09-01T10:59:13.590Z"
   },
   {
    "duration": 0,
    "start_time": "2023-09-01T10:59:13.591Z"
   },
   {
    "duration": 0,
    "start_time": "2023-09-01T10:59:13.592Z"
   },
   {
    "duration": 0,
    "start_time": "2023-09-01T10:59:13.657Z"
   },
   {
    "duration": 0,
    "start_time": "2023-09-01T10:59:13.659Z"
   },
   {
    "duration": 0,
    "start_time": "2023-09-01T10:59:13.661Z"
   },
   {
    "duration": 0,
    "start_time": "2023-09-01T10:59:13.662Z"
   },
   {
    "duration": 0,
    "start_time": "2023-09-01T10:59:13.664Z"
   },
   {
    "duration": 0,
    "start_time": "2023-09-01T10:59:13.665Z"
   },
   {
    "duration": 0,
    "start_time": "2023-09-01T10:59:13.666Z"
   },
   {
    "duration": 0,
    "start_time": "2023-09-01T10:59:13.668Z"
   },
   {
    "duration": 0,
    "start_time": "2023-09-01T10:59:13.669Z"
   },
   {
    "duration": 0,
    "start_time": "2023-09-01T10:59:13.670Z"
   },
   {
    "duration": 0,
    "start_time": "2023-09-01T10:59:13.672Z"
   },
   {
    "duration": 0,
    "start_time": "2023-09-01T10:59:13.674Z"
   },
   {
    "duration": 0,
    "start_time": "2023-09-01T10:59:13.675Z"
   },
   {
    "duration": 0,
    "start_time": "2023-09-01T10:59:13.676Z"
   },
   {
    "duration": 0,
    "start_time": "2023-09-01T10:59:13.678Z"
   },
   {
    "duration": 0,
    "start_time": "2023-09-01T10:59:13.679Z"
   },
   {
    "duration": 0,
    "start_time": "2023-09-01T10:59:13.681Z"
   },
   {
    "duration": 0,
    "start_time": "2023-09-01T10:59:13.682Z"
   },
   {
    "duration": 0,
    "start_time": "2023-09-01T10:59:13.683Z"
   },
   {
    "duration": 0,
    "start_time": "2023-09-01T10:59:13.684Z"
   },
   {
    "duration": 0,
    "start_time": "2023-09-01T10:59:13.685Z"
   },
   {
    "duration": 0,
    "start_time": "2023-09-01T10:59:13.686Z"
   },
   {
    "duration": 0,
    "start_time": "2023-09-01T10:59:13.688Z"
   },
   {
    "duration": 0,
    "start_time": "2023-09-01T10:59:13.688Z"
   },
   {
    "duration": 0,
    "start_time": "2023-09-01T10:59:13.689Z"
   },
   {
    "duration": 0,
    "start_time": "2023-09-01T10:59:13.690Z"
   },
   {
    "duration": 0,
    "start_time": "2023-09-01T10:59:13.691Z"
   },
   {
    "duration": 0,
    "start_time": "2023-09-01T10:59:13.692Z"
   },
   {
    "duration": 0,
    "start_time": "2023-09-01T10:59:13.692Z"
   },
   {
    "duration": 0,
    "start_time": "2023-09-01T10:59:13.693Z"
   },
   {
    "duration": 0,
    "start_time": "2023-09-01T10:59:13.694Z"
   },
   {
    "duration": 0,
    "start_time": "2023-09-01T10:59:13.695Z"
   },
   {
    "duration": 0,
    "start_time": "2023-09-01T10:59:13.756Z"
   },
   {
    "duration": 0,
    "start_time": "2023-09-01T10:59:13.757Z"
   },
   {
    "duration": 0,
    "start_time": "2023-09-01T10:59:13.758Z"
   },
   {
    "duration": 0,
    "start_time": "2023-09-01T10:59:13.759Z"
   },
   {
    "duration": 0,
    "start_time": "2023-09-01T10:59:13.760Z"
   },
   {
    "duration": 0,
    "start_time": "2023-09-01T10:59:13.761Z"
   },
   {
    "duration": 0,
    "start_time": "2023-09-01T10:59:13.763Z"
   },
   {
    "duration": 0,
    "start_time": "2023-09-01T10:59:13.764Z"
   },
   {
    "duration": 0,
    "start_time": "2023-09-01T10:59:13.764Z"
   },
   {
    "duration": 0,
    "start_time": "2023-09-01T10:59:13.765Z"
   },
   {
    "duration": 0,
    "start_time": "2023-09-01T10:59:13.766Z"
   },
   {
    "duration": 0,
    "start_time": "2023-09-01T10:59:13.767Z"
   },
   {
    "duration": 0,
    "start_time": "2023-09-01T10:59:13.768Z"
   },
   {
    "duration": 0,
    "start_time": "2023-09-01T10:59:13.769Z"
   },
   {
    "duration": 0,
    "start_time": "2023-09-01T10:59:13.770Z"
   },
   {
    "duration": 0,
    "start_time": "2023-09-01T10:59:13.771Z"
   },
   {
    "duration": 0,
    "start_time": "2023-09-01T10:59:13.772Z"
   },
   {
    "duration": 0,
    "start_time": "2023-09-01T10:59:13.773Z"
   },
   {
    "duration": 0,
    "start_time": "2023-09-01T10:59:13.774Z"
   },
   {
    "duration": 0,
    "start_time": "2023-09-01T10:59:13.775Z"
   },
   {
    "duration": 0,
    "start_time": "2023-09-01T10:59:13.776Z"
   },
   {
    "duration": 0,
    "start_time": "2023-09-01T10:59:13.777Z"
   },
   {
    "duration": 0,
    "start_time": "2023-09-01T10:59:13.779Z"
   },
   {
    "duration": 0,
    "start_time": "2023-09-01T10:59:13.780Z"
   },
   {
    "duration": 0,
    "start_time": "2023-09-01T10:59:13.781Z"
   },
   {
    "duration": 0,
    "start_time": "2023-09-01T10:59:13.782Z"
   },
   {
    "duration": 0,
    "start_time": "2023-09-01T10:59:13.783Z"
   },
   {
    "duration": 0,
    "start_time": "2023-09-01T10:59:13.785Z"
   },
   {
    "duration": 0,
    "start_time": "2023-09-01T10:59:13.785Z"
   },
   {
    "duration": 0,
    "start_time": "2023-09-01T10:59:13.786Z"
   },
   {
    "duration": 0,
    "start_time": "2023-09-01T10:59:13.788Z"
   },
   {
    "duration": 0,
    "start_time": "2023-09-01T10:59:13.789Z"
   },
   {
    "duration": 0,
    "start_time": "2023-09-01T10:59:13.790Z"
   },
   {
    "duration": 0,
    "start_time": "2023-09-01T10:59:13.791Z"
   },
   {
    "duration": 0,
    "start_time": "2023-09-01T10:59:13.793Z"
   },
   {
    "duration": 0,
    "start_time": "2023-09-01T10:59:13.857Z"
   },
   {
    "duration": 0,
    "start_time": "2023-09-01T10:59:13.858Z"
   },
   {
    "duration": 0,
    "start_time": "2023-09-01T10:59:13.859Z"
   },
   {
    "duration": 0,
    "start_time": "2023-09-01T10:59:13.860Z"
   },
   {
    "duration": 0,
    "start_time": "2023-09-01T10:59:13.861Z"
   },
   {
    "duration": 0,
    "start_time": "2023-09-01T10:59:13.862Z"
   },
   {
    "duration": 0,
    "start_time": "2023-09-01T10:59:13.864Z"
   },
   {
    "duration": 0,
    "start_time": "2023-09-01T10:59:13.864Z"
   },
   {
    "duration": 0,
    "start_time": "2023-09-01T10:59:13.865Z"
   },
   {
    "duration": 0,
    "start_time": "2023-09-01T10:59:13.866Z"
   },
   {
    "duration": 0,
    "start_time": "2023-09-01T10:59:13.867Z"
   },
   {
    "duration": 0,
    "start_time": "2023-09-01T10:59:13.868Z"
   },
   {
    "duration": 0,
    "start_time": "2023-09-01T10:59:13.869Z"
   },
   {
    "duration": 0,
    "start_time": "2023-09-01T10:59:13.870Z"
   },
   {
    "duration": 0,
    "start_time": "2023-09-01T10:59:13.871Z"
   },
   {
    "duration": 0,
    "start_time": "2023-09-01T10:59:13.872Z"
   },
   {
    "duration": 0,
    "start_time": "2023-09-01T10:59:13.873Z"
   },
   {
    "duration": 0,
    "start_time": "2023-09-01T10:59:13.874Z"
   },
   {
    "duration": 0,
    "start_time": "2023-09-01T10:59:13.875Z"
   },
   {
    "duration": 0,
    "start_time": "2023-09-01T10:59:13.875Z"
   },
   {
    "duration": 0,
    "start_time": "2023-09-01T10:59:13.876Z"
   },
   {
    "duration": 0,
    "start_time": "2023-09-01T10:59:13.878Z"
   },
   {
    "duration": 0,
    "start_time": "2023-09-01T10:59:13.878Z"
   },
   {
    "duration": 0,
    "start_time": "2023-09-01T10:59:13.879Z"
   },
   {
    "duration": 0,
    "start_time": "2023-09-01T10:59:13.880Z"
   },
   {
    "duration": 0,
    "start_time": "2023-09-01T10:59:13.881Z"
   },
   {
    "duration": 0,
    "start_time": "2023-09-01T10:59:13.882Z"
   },
   {
    "duration": 0,
    "start_time": "2023-09-01T10:59:13.883Z"
   },
   {
    "duration": 0,
    "start_time": "2023-09-01T10:59:13.884Z"
   },
   {
    "duration": 0,
    "start_time": "2023-09-01T10:59:13.885Z"
   },
   {
    "duration": 0,
    "start_time": "2023-09-01T10:59:13.885Z"
   },
   {
    "duration": 0,
    "start_time": "2023-09-01T10:59:13.886Z"
   },
   {
    "duration": 0,
    "start_time": "2023-09-01T10:59:13.887Z"
   },
   {
    "duration": 0,
    "start_time": "2023-09-01T10:59:13.888Z"
   },
   {
    "duration": 0,
    "start_time": "2023-09-01T10:59:13.889Z"
   },
   {
    "duration": 0,
    "start_time": "2023-09-01T10:59:13.890Z"
   },
   {
    "duration": 0,
    "start_time": "2023-09-01T10:59:13.891Z"
   },
   {
    "duration": 0,
    "start_time": "2023-09-01T10:59:13.891Z"
   },
   {
    "duration": 0,
    "start_time": "2023-09-01T10:59:13.957Z"
   },
   {
    "duration": 0,
    "start_time": "2023-09-01T10:59:13.959Z"
   },
   {
    "duration": 0,
    "start_time": "2023-09-01T10:59:13.959Z"
   },
   {
    "duration": 0,
    "start_time": "2023-09-01T10:59:13.960Z"
   },
   {
    "duration": 0,
    "start_time": "2023-09-01T10:59:13.961Z"
   },
   {
    "duration": 0,
    "start_time": "2023-09-01T10:59:13.962Z"
   },
   {
    "duration": 0,
    "start_time": "2023-09-01T10:59:13.963Z"
   },
   {
    "duration": 0,
    "start_time": "2023-09-01T10:59:13.964Z"
   },
   {
    "duration": 0,
    "start_time": "2023-09-01T10:59:13.965Z"
   },
   {
    "duration": 0,
    "start_time": "2023-09-01T10:59:13.966Z"
   },
   {
    "duration": 0,
    "start_time": "2023-09-01T10:59:13.968Z"
   },
   {
    "duration": 0,
    "start_time": "2023-09-01T10:59:13.969Z"
   },
   {
    "duration": 0,
    "start_time": "2023-09-01T10:59:13.970Z"
   },
   {
    "duration": 0,
    "start_time": "2023-09-01T10:59:13.971Z"
   },
   {
    "duration": 0,
    "start_time": "2023-09-01T10:59:13.972Z"
   },
   {
    "duration": 0,
    "start_time": "2023-09-01T10:59:13.973Z"
   },
   {
    "duration": 29000,
    "start_time": "2023-09-03T09:23:14.226Z"
   },
   {
    "duration": 11114,
    "start_time": "2023-09-03T09:23:52.844Z"
   },
   {
    "duration": 1858,
    "start_time": "2023-09-03T09:24:03.960Z"
   },
   {
    "duration": 3,
    "start_time": "2023-09-03T09:24:05.820Z"
   },
   {
    "duration": 24,
    "start_time": "2023-09-03T09:24:05.825Z"
   },
   {
    "duration": 572,
    "start_time": "2023-09-03T09:24:05.852Z"
   },
   {
    "duration": 876,
    "start_time": "2023-09-03T09:24:06.426Z"
   },
   {
    "duration": 3,
    "start_time": "2023-09-03T09:24:07.304Z"
   },
   {
    "duration": 41,
    "start_time": "2023-09-03T09:24:07.308Z"
   },
   {
    "duration": 36,
    "start_time": "2023-09-03T09:24:07.351Z"
   },
   {
    "duration": 21,
    "start_time": "2023-09-03T09:24:07.388Z"
   },
   {
    "duration": 6,
    "start_time": "2023-09-03T09:24:07.410Z"
   },
   {
    "duration": 42,
    "start_time": "2023-09-03T09:24:07.418Z"
   },
   {
    "duration": 44,
    "start_time": "2023-09-03T09:24:07.462Z"
   },
   {
    "duration": 52,
    "start_time": "2023-09-03T09:24:07.510Z"
   },
   {
    "duration": 17,
    "start_time": "2023-09-03T09:24:07.564Z"
   },
   {
    "duration": 91,
    "start_time": "2023-09-03T09:24:07.582Z"
   },
   {
    "duration": 64,
    "start_time": "2023-09-03T09:24:07.675Z"
   },
   {
    "duration": 505,
    "start_time": "2023-09-03T09:24:07.740Z"
   },
   {
    "duration": 52,
    "start_time": "2023-09-03T09:24:08.247Z"
   },
   {
    "duration": 57,
    "start_time": "2023-09-03T09:24:08.301Z"
   },
   {
    "duration": 28,
    "start_time": "2023-09-03T09:24:08.359Z"
   },
   {
    "duration": 5,
    "start_time": "2023-09-03T09:24:08.389Z"
   },
   {
    "duration": 5,
    "start_time": "2023-09-03T09:24:08.395Z"
   },
   {
    "duration": 5,
    "start_time": "2023-09-03T09:24:08.401Z"
   },
   {
    "duration": 134,
    "start_time": "2023-09-03T09:24:08.407Z"
   },
   {
    "duration": 115,
    "start_time": "2023-09-03T09:24:08.543Z"
   },
   {
    "duration": 7,
    "start_time": "2023-09-03T09:24:08.660Z"
   },
   {
    "duration": 18,
    "start_time": "2023-09-03T09:24:08.669Z"
   },
   {
    "duration": 68,
    "start_time": "2023-09-03T09:24:08.689Z"
   },
   {
    "duration": 82,
    "start_time": "2023-09-03T09:24:08.759Z"
   },
   {
    "duration": 3,
    "start_time": "2023-09-03T09:24:08.856Z"
   },
   {
    "duration": 9,
    "start_time": "2023-09-03T09:24:08.860Z"
   },
   {
    "duration": 24,
    "start_time": "2023-09-03T09:24:08.871Z"
   },
   {
    "duration": 6,
    "start_time": "2023-09-03T09:24:08.897Z"
   },
   {
    "duration": 8,
    "start_time": "2023-09-03T09:24:08.904Z"
   },
   {
    "duration": 98,
    "start_time": "2023-09-03T09:24:08.914Z"
   },
   {
    "duration": 2,
    "start_time": "2023-09-03T09:24:09.014Z"
   },
   {
    "duration": 7,
    "start_time": "2023-09-03T09:24:09.018Z"
   },
   {
    "duration": 12,
    "start_time": "2023-09-03T09:24:09.027Z"
   },
   {
    "duration": 3,
    "start_time": "2023-09-03T09:24:09.040Z"
   },
   {
    "duration": 2,
    "start_time": "2023-09-03T09:24:09.061Z"
   },
   {
    "duration": 54,
    "start_time": "2023-09-03T09:24:09.065Z"
   },
   {
    "duration": 3,
    "start_time": "2023-09-03T09:24:09.120Z"
   },
   {
    "duration": 5,
    "start_time": "2023-09-03T09:24:09.125Z"
   },
   {
    "duration": 6,
    "start_time": "2023-09-03T09:24:09.131Z"
   },
   {
    "duration": 24,
    "start_time": "2023-09-03T09:24:09.139Z"
   },
   {
    "duration": 52,
    "start_time": "2023-09-03T09:24:09.165Z"
   },
   {
    "duration": 17,
    "start_time": "2023-09-03T09:24:09.219Z"
   },
   {
    "duration": 12,
    "start_time": "2023-09-03T09:24:09.238Z"
   },
   {
    "duration": 8,
    "start_time": "2023-09-03T09:24:09.252Z"
   },
   {
    "duration": 12,
    "start_time": "2023-09-03T09:24:09.261Z"
   },
   {
    "duration": 6,
    "start_time": "2023-09-03T09:24:09.275Z"
   },
   {
    "duration": 15,
    "start_time": "2023-09-03T09:24:09.282Z"
   },
   {
    "duration": 9,
    "start_time": "2023-09-03T09:24:09.299Z"
   },
   {
    "duration": 7,
    "start_time": "2023-09-03T09:24:09.310Z"
   },
   {
    "duration": 12,
    "start_time": "2023-09-03T09:24:09.319Z"
   },
   {
    "duration": 26,
    "start_time": "2023-09-03T09:24:09.333Z"
   },
   {
    "duration": 12,
    "start_time": "2023-09-03T09:24:09.361Z"
   },
   {
    "duration": 798,
    "start_time": "2023-09-03T09:24:09.375Z"
   },
   {
    "duration": 10,
    "start_time": "2023-09-03T09:24:10.175Z"
   },
   {
    "duration": 29,
    "start_time": "2023-09-03T09:24:10.187Z"
   },
   {
    "duration": 23,
    "start_time": "2023-09-03T09:24:10.218Z"
   },
   {
    "duration": 36,
    "start_time": "2023-09-03T09:24:10.243Z"
   },
   {
    "duration": 3,
    "start_time": "2023-09-03T09:24:10.281Z"
   },
   {
    "duration": 6,
    "start_time": "2023-09-03T09:24:10.286Z"
   },
   {
    "duration": 14,
    "start_time": "2023-09-03T09:24:10.294Z"
   },
   {
    "duration": 10,
    "start_time": "2023-09-03T09:24:10.310Z"
   },
   {
    "duration": 4,
    "start_time": "2023-09-03T09:24:10.323Z"
   },
   {
    "duration": 26,
    "start_time": "2023-09-03T09:24:10.329Z"
   },
   {
    "duration": 9,
    "start_time": "2023-09-03T09:24:10.357Z"
   },
   {
    "duration": 15,
    "start_time": "2023-09-03T09:24:10.367Z"
   },
   {
    "duration": 10,
    "start_time": "2023-09-03T09:24:10.384Z"
   },
   {
    "duration": 10,
    "start_time": "2023-09-03T09:24:10.396Z"
   },
   {
    "duration": 34,
    "start_time": "2023-09-03T09:24:10.408Z"
   },
   {
    "duration": 2,
    "start_time": "2023-09-03T09:24:10.444Z"
   },
   {
    "duration": 8,
    "start_time": "2023-09-03T09:24:10.447Z"
   },
   {
    "duration": 9,
    "start_time": "2023-09-03T09:24:10.456Z"
   },
   {
    "duration": 84,
    "start_time": "2023-09-03T09:24:10.466Z"
   },
   {
    "duration": 61,
    "start_time": "2023-09-03T09:24:10.552Z"
   },
   {
    "duration": 4,
    "start_time": "2023-09-03T09:24:10.614Z"
   },
   {
    "duration": 8,
    "start_time": "2023-09-03T09:24:10.619Z"
   },
   {
    "duration": 7,
    "start_time": "2023-09-03T09:24:10.629Z"
   },
   {
    "duration": 20,
    "start_time": "2023-09-03T09:24:10.637Z"
   },
   {
    "duration": 19,
    "start_time": "2023-09-03T09:24:10.659Z"
   },
   {
    "duration": 6,
    "start_time": "2023-09-03T09:24:10.680Z"
   },
   {
    "duration": 14,
    "start_time": "2023-09-03T09:24:10.687Z"
   },
   {
    "duration": 5,
    "start_time": "2023-09-03T09:24:10.703Z"
   },
   {
    "duration": 9,
    "start_time": "2023-09-03T09:24:10.709Z"
   },
   {
    "duration": 13,
    "start_time": "2023-09-03T09:24:10.720Z"
   },
   {
    "duration": 3,
    "start_time": "2023-09-03T09:24:10.734Z"
   },
   {
    "duration": 8,
    "start_time": "2023-09-03T09:24:10.739Z"
   },
   {
    "duration": 8,
    "start_time": "2023-09-03T09:24:10.748Z"
   },
   {
    "duration": 14,
    "start_time": "2023-09-03T09:24:10.758Z"
   },
   {
    "duration": 229,
    "start_time": "2023-09-03T09:24:10.774Z"
   },
   {
    "duration": 3,
    "start_time": "2023-09-03T09:24:11.005Z"
   },
   {
    "duration": 9,
    "start_time": "2023-09-03T09:24:11.010Z"
   },
   {
    "duration": 15,
    "start_time": "2023-09-03T09:24:11.020Z"
   },
   {
    "duration": 13,
    "start_time": "2023-09-03T09:24:11.037Z"
   },
   {
    "duration": 6,
    "start_time": "2023-09-03T09:24:11.051Z"
   },
   {
    "duration": 5,
    "start_time": "2023-09-03T09:24:11.059Z"
   },
   {
    "duration": 10,
    "start_time": "2023-09-03T09:24:11.065Z"
   },
   {
    "duration": 14,
    "start_time": "2023-09-03T09:24:11.077Z"
   },
   {
    "duration": 96,
    "start_time": "2023-09-03T09:24:11.093Z"
   },
   {
    "duration": 8,
    "start_time": "2023-09-03T09:24:11.191Z"
   },
   {
    "duration": 9,
    "start_time": "2023-09-03T09:24:11.200Z"
   },
   {
    "duration": 7,
    "start_time": "2023-09-03T09:24:11.210Z"
   },
   {
    "duration": 30,
    "start_time": "2023-09-03T09:24:11.219Z"
   },
   {
    "duration": 10,
    "start_time": "2023-09-03T09:24:11.250Z"
   },
   {
    "duration": 7,
    "start_time": "2023-09-03T09:24:11.262Z"
   },
   {
    "duration": 7,
    "start_time": "2023-09-03T09:24:11.270Z"
   },
   {
    "duration": 7,
    "start_time": "2023-09-03T09:24:11.278Z"
   },
   {
    "duration": 6,
    "start_time": "2023-09-03T09:24:11.286Z"
   },
   {
    "duration": 9,
    "start_time": "2023-09-03T09:24:11.294Z"
   },
   {
    "duration": 6,
    "start_time": "2023-09-03T09:24:11.305Z"
   },
   {
    "duration": 6,
    "start_time": "2023-09-03T09:24:11.312Z"
   },
   {
    "duration": 5,
    "start_time": "2023-09-03T09:24:11.320Z"
   },
   {
    "duration": 31,
    "start_time": "2023-09-03T09:24:11.327Z"
   },
   {
    "duration": 24,
    "start_time": "2023-09-03T09:24:11.359Z"
   },
   {
    "duration": 13,
    "start_time": "2023-09-03T09:24:11.385Z"
   },
   {
    "duration": 11,
    "start_time": "2023-09-03T09:24:11.400Z"
   },
   {
    "duration": 8,
    "start_time": "2023-09-03T09:24:11.413Z"
   },
   {
    "duration": 31,
    "start_time": "2023-09-03T09:24:11.429Z"
   },
   {
    "duration": 6,
    "start_time": "2023-09-03T09:24:11.462Z"
   },
   {
    "duration": 51,
    "start_time": "2023-09-03T09:24:11.470Z"
   },
   {
    "duration": 3,
    "start_time": "2023-09-03T09:24:11.523Z"
   },
   {
    "duration": 23,
    "start_time": "2023-09-03T09:24:11.527Z"
   },
   {
    "duration": 26,
    "start_time": "2023-09-03T09:24:11.552Z"
   },
   {
    "duration": 90,
    "start_time": "2023-09-03T09:24:11.580Z"
   },
   {
    "duration": 25,
    "start_time": "2023-09-03T09:24:11.672Z"
   },
   {
    "duration": 77,
    "start_time": "2023-09-03T09:24:11.699Z"
   },
   {
    "duration": 4,
    "start_time": "2023-09-03T09:24:11.777Z"
   },
   {
    "duration": 102,
    "start_time": "2023-09-03T09:24:11.783Z"
   },
   {
    "duration": 7,
    "start_time": "2023-09-03T09:24:11.887Z"
   },
   {
    "duration": 14,
    "start_time": "2023-09-03T09:24:11.896Z"
   },
   {
    "duration": 23,
    "start_time": "2023-09-03T09:24:11.912Z"
   },
   {
    "duration": 18,
    "start_time": "2023-09-03T09:24:11.937Z"
   },
   {
    "duration": 5,
    "start_time": "2023-09-03T09:24:11.957Z"
   },
   {
    "duration": 4,
    "start_time": "2023-09-03T09:24:11.964Z"
   },
   {
    "duration": 15,
    "start_time": "2023-09-03T09:24:11.970Z"
   },
   {
    "duration": 24,
    "start_time": "2023-09-03T09:24:11.987Z"
   },
   {
    "duration": 5,
    "start_time": "2023-09-03T09:24:12.012Z"
   },
   {
    "duration": 111,
    "start_time": "2023-09-03T09:24:12.018Z"
   },
   {
    "duration": 9,
    "start_time": "2023-09-03T09:24:12.130Z"
   },
   {
    "duration": 63,
    "start_time": "2023-09-03T09:24:12.141Z"
   },
   {
    "duration": 57,
    "start_time": "2023-09-03T09:24:12.205Z"
   },
   {
    "duration": 17,
    "start_time": "2023-09-03T09:24:12.264Z"
   },
   {
    "duration": 1302,
    "start_time": "2023-09-03T09:24:12.283Z"
   },
   {
    "duration": 40,
    "start_time": "2023-09-03T09:24:13.587Z"
   },
   {
    "duration": 4591,
    "start_time": "2023-09-03T09:24:13.629Z"
   },
   {
    "duration": 5,
    "start_time": "2023-09-03T09:24:18.222Z"
   },
   {
    "duration": 196510,
    "start_time": "2023-09-03T09:24:18.229Z"
   },
   {
    "duration": 3,
    "start_time": "2023-09-03T09:27:34.741Z"
   },
   {
    "duration": 14,
    "start_time": "2023-09-03T09:27:34.745Z"
   },
   {
    "duration": 63078,
    "start_time": "2023-09-03T09:27:34.761Z"
   },
   {
    "duration": 2,
    "start_time": "2023-09-03T09:28:37.841Z"
   },
   {
    "duration": 45128,
    "start_time": "2023-09-06T08:34:26.799Z"
   },
   {
    "duration": 2388,
    "start_time": "2023-09-06T08:35:11.930Z"
   },
   {
    "duration": 4,
    "start_time": "2023-09-06T08:35:14.325Z"
   },
   {
    "duration": 20,
    "start_time": "2023-09-06T08:35:14.330Z"
   },
   {
    "duration": 704,
    "start_time": "2023-09-06T08:35:14.352Z"
   },
   {
    "duration": 678,
    "start_time": "2023-09-06T08:35:15.058Z"
   },
   {
    "duration": 3,
    "start_time": "2023-09-06T08:35:15.739Z"
   },
   {
    "duration": 78,
    "start_time": "2023-09-06T08:35:15.743Z"
   },
   {
    "duration": 38,
    "start_time": "2023-09-06T08:35:15.823Z"
   },
   {
    "duration": 3,
    "start_time": "2023-09-06T08:35:15.862Z"
   },
   {
    "duration": 9,
    "start_time": "2023-09-06T08:35:15.867Z"
   },
   {
    "duration": 26,
    "start_time": "2023-09-06T08:35:15.877Z"
   },
   {
    "duration": 6,
    "start_time": "2023-09-06T08:35:15.907Z"
   },
   {
    "duration": 129,
    "start_time": "2023-09-06T08:35:15.921Z"
   },
   {
    "duration": 24,
    "start_time": "2023-09-06T08:35:16.053Z"
   },
   {
    "duration": 160,
    "start_time": "2023-09-06T08:35:16.079Z"
   },
   {
    "duration": 123,
    "start_time": "2023-09-06T08:35:16.240Z"
   },
   {
    "duration": 86,
    "start_time": "2023-09-06T08:35:16.365Z"
   },
   {
    "duration": 70,
    "start_time": "2023-09-06T08:35:16.453Z"
   },
   {
    "duration": 70,
    "start_time": "2023-09-06T08:35:16.525Z"
   },
   {
    "duration": 41,
    "start_time": "2023-09-06T08:35:16.599Z"
   },
   {
    "duration": 6,
    "start_time": "2023-09-06T08:35:16.641Z"
   },
   {
    "duration": 8,
    "start_time": "2023-09-06T08:35:16.648Z"
   },
   {
    "duration": 34,
    "start_time": "2023-09-06T08:35:16.657Z"
   },
   {
    "duration": 182,
    "start_time": "2023-09-06T08:35:16.701Z"
   },
   {
    "duration": 171,
    "start_time": "2023-09-06T08:35:16.896Z"
   },
   {
    "duration": 8,
    "start_time": "2023-09-06T08:35:17.070Z"
   },
   {
    "duration": 27,
    "start_time": "2023-09-06T08:35:17.080Z"
   },
   {
    "duration": 132,
    "start_time": "2023-09-06T08:35:17.109Z"
   },
   {
    "duration": 106,
    "start_time": "2023-09-06T08:35:17.244Z"
   },
   {
    "duration": 3,
    "start_time": "2023-09-06T08:35:17.352Z"
   },
   {
    "duration": 20,
    "start_time": "2023-09-06T08:35:17.357Z"
   },
   {
    "duration": 37,
    "start_time": "2023-09-06T08:35:17.379Z"
   },
   {
    "duration": 13,
    "start_time": "2023-09-06T08:35:17.418Z"
   },
   {
    "duration": 6,
    "start_time": "2023-09-06T08:35:17.434Z"
   },
   {
    "duration": 111,
    "start_time": "2023-09-06T08:35:17.442Z"
   },
   {
    "duration": 3,
    "start_time": "2023-09-06T08:35:17.554Z"
   },
   {
    "duration": 10,
    "start_time": "2023-09-06T08:35:17.559Z"
   },
   {
    "duration": 37,
    "start_time": "2023-09-06T08:35:17.571Z"
   },
   {
    "duration": 3,
    "start_time": "2023-09-06T08:35:17.616Z"
   },
   {
    "duration": 2,
    "start_time": "2023-09-06T08:35:17.625Z"
   },
   {
    "duration": 71,
    "start_time": "2023-09-06T08:35:17.629Z"
   },
   {
    "duration": 10,
    "start_time": "2023-09-06T08:35:17.709Z"
   },
   {
    "duration": 8,
    "start_time": "2023-09-06T08:35:17.721Z"
   },
   {
    "duration": 26,
    "start_time": "2023-09-06T08:35:17.731Z"
   },
   {
    "duration": 20,
    "start_time": "2023-09-06T08:35:17.759Z"
   },
   {
    "duration": 30,
    "start_time": "2023-09-06T08:35:17.788Z"
   },
   {
    "duration": 14,
    "start_time": "2023-09-06T08:35:17.820Z"
   },
   {
    "duration": 5,
    "start_time": "2023-09-06T08:35:17.837Z"
   },
   {
    "duration": 14,
    "start_time": "2023-09-06T08:35:17.843Z"
   },
   {
    "duration": 5,
    "start_time": "2023-09-06T08:35:17.858Z"
   },
   {
    "duration": 8,
    "start_time": "2023-09-06T08:35:17.864Z"
   },
   {
    "duration": 21,
    "start_time": "2023-09-06T08:35:17.874Z"
   },
   {
    "duration": 16,
    "start_time": "2023-09-06T08:35:17.901Z"
   },
   {
    "duration": 5,
    "start_time": "2023-09-06T08:35:17.920Z"
   },
   {
    "duration": 10,
    "start_time": "2023-09-06T08:35:17.927Z"
   },
   {
    "duration": 22,
    "start_time": "2023-09-06T08:35:17.938Z"
   },
   {
    "duration": 33,
    "start_time": "2023-09-06T08:35:17.963Z"
   },
   {
    "duration": 1374,
    "start_time": "2023-09-06T08:35:18.003Z"
   },
   {
    "duration": 18,
    "start_time": "2023-09-06T08:35:19.380Z"
   },
   {
    "duration": 25,
    "start_time": "2023-09-06T08:35:19.406Z"
   },
   {
    "duration": 11,
    "start_time": "2023-09-06T08:35:19.433Z"
   },
   {
    "duration": 43,
    "start_time": "2023-09-06T08:35:19.446Z"
   },
   {
    "duration": 2,
    "start_time": "2023-09-06T08:35:19.493Z"
   },
   {
    "duration": 14,
    "start_time": "2023-09-06T08:35:19.497Z"
   },
   {
    "duration": 16,
    "start_time": "2023-09-06T08:35:19.513Z"
   },
   {
    "duration": 11,
    "start_time": "2023-09-06T08:35:19.530Z"
   },
   {
    "duration": 4,
    "start_time": "2023-09-06T08:35:19.543Z"
   },
   {
    "duration": 5,
    "start_time": "2023-09-06T08:35:19.548Z"
   },
   {
    "duration": 7,
    "start_time": "2023-09-06T08:35:19.555Z"
   },
   {
    "duration": 27,
    "start_time": "2023-09-06T08:35:19.564Z"
   },
   {
    "duration": 14,
    "start_time": "2023-09-06T08:35:19.593Z"
   },
   {
    "duration": 11,
    "start_time": "2023-09-06T08:35:19.609Z"
   },
   {
    "duration": 32,
    "start_time": "2023-09-06T08:35:19.622Z"
   },
   {
    "duration": 3,
    "start_time": "2023-09-06T08:35:19.656Z"
   },
   {
    "duration": 19,
    "start_time": "2023-09-06T08:35:19.660Z"
   },
   {
    "duration": 28,
    "start_time": "2023-09-06T08:35:19.680Z"
   },
   {
    "duration": 90,
    "start_time": "2023-09-06T08:35:19.710Z"
   },
   {
    "duration": 93,
    "start_time": "2023-09-06T08:35:19.802Z"
   },
   {
    "duration": 10,
    "start_time": "2023-09-06T08:35:19.897Z"
   },
   {
    "duration": 19,
    "start_time": "2023-09-06T08:35:19.910Z"
   },
   {
    "duration": 9,
    "start_time": "2023-09-06T08:35:19.931Z"
   },
   {
    "duration": 6,
    "start_time": "2023-09-06T08:35:19.942Z"
   },
   {
    "duration": 21,
    "start_time": "2023-09-06T08:35:19.950Z"
   },
   {
    "duration": 34,
    "start_time": "2023-09-06T08:35:19.973Z"
   },
   {
    "duration": 17,
    "start_time": "2023-09-06T08:35:20.009Z"
   },
   {
    "duration": 19,
    "start_time": "2023-09-06T08:35:20.028Z"
   },
   {
    "duration": 38,
    "start_time": "2023-09-06T08:35:20.049Z"
   },
   {
    "duration": 31,
    "start_time": "2023-09-06T08:35:20.089Z"
   },
   {
    "duration": 4,
    "start_time": "2023-09-06T08:35:20.122Z"
   },
   {
    "duration": 22,
    "start_time": "2023-09-06T08:35:20.127Z"
   },
   {
    "duration": 37,
    "start_time": "2023-09-06T08:35:20.150Z"
   },
   {
    "duration": 29,
    "start_time": "2023-09-06T08:35:20.190Z"
   },
   {
    "duration": 290,
    "start_time": "2023-09-06T08:35:20.222Z"
   },
   {
    "duration": 4,
    "start_time": "2023-09-06T08:35:20.514Z"
   },
   {
    "duration": 6,
    "start_time": "2023-09-06T08:35:20.520Z"
   },
   {
    "duration": 4,
    "start_time": "2023-09-06T08:35:20.528Z"
   },
   {
    "duration": 5,
    "start_time": "2023-09-06T08:35:20.534Z"
   },
   {
    "duration": 22,
    "start_time": "2023-09-06T08:35:20.541Z"
   },
   {
    "duration": 40,
    "start_time": "2023-09-06T08:35:20.565Z"
   },
   {
    "duration": 16,
    "start_time": "2023-09-06T08:35:20.607Z"
   },
   {
    "duration": 14,
    "start_time": "2023-09-06T08:35:20.625Z"
   },
   {
    "duration": 99,
    "start_time": "2023-09-06T08:35:20.641Z"
   },
   {
    "duration": 10,
    "start_time": "2023-09-06T08:35:20.743Z"
   },
   {
    "duration": 11,
    "start_time": "2023-09-06T08:35:20.755Z"
   },
   {
    "duration": 43,
    "start_time": "2023-09-06T08:35:20.768Z"
   },
   {
    "duration": 36,
    "start_time": "2023-09-06T08:35:20.813Z"
   },
   {
    "duration": 38,
    "start_time": "2023-09-06T08:35:20.850Z"
   },
   {
    "duration": 39,
    "start_time": "2023-09-06T08:35:20.890Z"
   },
   {
    "duration": 27,
    "start_time": "2023-09-06T08:35:20.931Z"
   },
   {
    "duration": 31,
    "start_time": "2023-09-06T08:35:20.960Z"
   },
   {
    "duration": 31,
    "start_time": "2023-09-06T08:35:20.994Z"
   },
   {
    "duration": 13,
    "start_time": "2023-09-06T08:35:21.027Z"
   },
   {
    "duration": 9,
    "start_time": "2023-09-06T08:35:21.042Z"
   },
   {
    "duration": 34,
    "start_time": "2023-09-06T08:35:21.053Z"
   },
   {
    "duration": 29,
    "start_time": "2023-09-06T08:35:21.090Z"
   },
   {
    "duration": 9,
    "start_time": "2023-09-06T08:35:21.123Z"
   },
   {
    "duration": 26,
    "start_time": "2023-09-06T08:35:21.133Z"
   },
   {
    "duration": 13,
    "start_time": "2023-09-06T08:35:21.161Z"
   },
   {
    "duration": 22,
    "start_time": "2023-09-06T08:35:21.176Z"
   },
   {
    "duration": 25,
    "start_time": "2023-09-06T08:35:21.201Z"
   },
   {
    "duration": 7,
    "start_time": "2023-09-06T08:35:21.237Z"
   },
   {
    "duration": 6,
    "start_time": "2023-09-06T08:35:21.246Z"
   },
   {
    "duration": 72,
    "start_time": "2023-09-06T08:35:21.254Z"
   },
   {
    "duration": 3,
    "start_time": "2023-09-06T08:35:21.328Z"
   },
   {
    "duration": 10,
    "start_time": "2023-09-06T08:35:21.332Z"
   },
   {
    "duration": 13,
    "start_time": "2023-09-06T08:35:21.343Z"
   },
   {
    "duration": 82,
    "start_time": "2023-09-06T08:35:21.358Z"
   },
   {
    "duration": 28,
    "start_time": "2023-09-06T08:35:21.442Z"
   },
   {
    "duration": 98,
    "start_time": "2023-09-06T08:35:21.485Z"
   },
   {
    "duration": 22,
    "start_time": "2023-09-06T08:35:21.587Z"
   },
   {
    "duration": 13,
    "start_time": "2023-09-06T08:35:21.612Z"
   },
   {
    "duration": 6,
    "start_time": "2023-09-06T08:35:21.628Z"
   },
   {
    "duration": 12,
    "start_time": "2023-09-06T08:35:21.635Z"
   },
   {
    "duration": 17,
    "start_time": "2023-09-06T08:35:21.648Z"
   },
   {
    "duration": 38,
    "start_time": "2023-09-06T08:35:21.667Z"
   },
   {
    "duration": 12,
    "start_time": "2023-09-06T08:35:21.708Z"
   },
   {
    "duration": 5,
    "start_time": "2023-09-06T08:35:21.722Z"
   },
   {
    "duration": 11,
    "start_time": "2023-09-06T08:35:21.728Z"
   },
   {
    "duration": 23,
    "start_time": "2023-09-06T08:35:21.741Z"
   },
   {
    "duration": 17,
    "start_time": "2023-09-06T08:35:21.766Z"
   },
   {
    "duration": 171,
    "start_time": "2023-09-06T08:35:21.796Z"
   },
   {
    "duration": 9,
    "start_time": "2023-09-06T08:35:21.968Z"
   },
   {
    "duration": 83,
    "start_time": "2023-09-06T08:35:21.979Z"
   },
   {
    "duration": 86,
    "start_time": "2023-09-06T08:35:22.064Z"
   },
   {
    "duration": 123,
    "start_time": "2023-09-06T08:35:22.152Z"
   },
   {
    "duration": 1492,
    "start_time": "2023-09-06T08:35:22.277Z"
   },
   {
    "duration": 59,
    "start_time": "2023-09-06T08:35:23.770Z"
   },
   {
    "duration": 5243,
    "start_time": "2023-09-06T08:35:23.831Z"
   },
   {
    "duration": 9,
    "start_time": "2023-09-06T08:35:29.077Z"
   },
   {
    "duration": 270448,
    "start_time": "2023-09-06T08:35:29.092Z"
   },
   {
    "duration": 3,
    "start_time": "2023-09-06T08:39:59.542Z"
   },
   {
    "duration": 15,
    "start_time": "2023-09-06T08:39:59.546Z"
   },
   {
    "duration": 78140,
    "start_time": "2023-09-06T08:39:59.563Z"
   },
   {
    "duration": 8,
    "start_time": "2023-09-06T08:41:17.712Z"
   },
   {
    "duration": 1314676,
    "start_time": "2023-09-06T08:41:17.723Z"
   },
   {
    "duration": 11,
    "start_time": "2023-09-06T09:03:12.480Z"
   },
   {
    "duration": 22,
    "start_time": "2023-09-06T09:03:12.494Z"
   },
   {
    "duration": 407,
    "start_time": "2023-09-06T09:03:12.518Z"
   },
   {
    "duration": 5,
    "start_time": "2023-09-06T09:03:12.928Z"
   },
   {
    "duration": 9,
    "start_time": "2023-09-06T09:03:12.934Z"
   },
   {
    "duration": 64,
    "start_time": "2023-09-06T09:03:12.945Z"
   },
   {
    "duration": 15,
    "start_time": "2023-09-06T09:03:13.011Z"
   },
   {
    "duration": 507,
    "start_time": "2023-09-06T09:03:13.028Z"
   },
   {
    "duration": 62,
    "start_time": "2023-09-06T09:03:13.537Z"
   },
   {
    "duration": 16,
    "start_time": "2023-09-06T09:03:13.602Z"
   },
   {
    "duration": 344,
    "start_time": "2023-09-06T09:03:13.620Z"
   },
   {
    "duration": 21,
    "start_time": "2023-09-06T09:03:13.966Z"
   },
   {
    "duration": 23,
    "start_time": "2023-09-06T09:03:13.992Z"
   },
   {
    "duration": 11,
    "start_time": "2023-09-06T09:03:14.017Z"
   },
   {
    "duration": 584,
    "start_time": "2023-09-06T09:03:14.030Z"
   },
   {
    "duration": 1786,
    "start_time": "2023-09-06T09:03:14.616Z"
   },
   {
    "duration": 23,
    "start_time": "2023-09-06T09:03:16.407Z"
   },
   {
    "duration": 5890,
    "start_time": "2023-09-06T09:03:16.432Z"
   },
   {
    "duration": 7,
    "start_time": "2023-09-06T09:03:22.324Z"
   },
   {
    "duration": 7,
    "start_time": "2023-09-06T09:03:22.332Z"
   },
   {
    "duration": 12996,
    "start_time": "2023-09-07T12:01:46.671Z"
   },
   {
    "duration": 1849,
    "start_time": "2023-09-07T12:01:59.669Z"
   },
   {
    "duration": 3,
    "start_time": "2023-09-07T12:02:01.520Z"
   },
   {
    "duration": 136,
    "start_time": "2023-09-07T12:02:01.525Z"
   },
   {
    "duration": 709,
    "start_time": "2023-09-07T12:02:01.663Z"
   },
   {
    "duration": 269,
    "start_time": "2023-09-07T12:02:02.374Z"
   },
   {
    "duration": 4,
    "start_time": "2023-09-07T12:02:02.645Z"
   },
   {
    "duration": 296,
    "start_time": "2023-09-07T12:02:02.651Z"
   },
   {
    "duration": 132,
    "start_time": "2023-09-07T12:02:02.948Z"
   },
   {
    "duration": 65,
    "start_time": "2023-09-07T12:02:03.083Z"
   },
   {
    "duration": 101,
    "start_time": "2023-09-07T12:02:03.149Z"
   },
   {
    "duration": 206,
    "start_time": "2023-09-07T12:02:03.251Z"
   },
   {
    "duration": 207,
    "start_time": "2023-09-07T12:02:03.459Z"
   },
   {
    "duration": 118,
    "start_time": "2023-09-07T12:02:03.668Z"
   },
   {
    "duration": 85,
    "start_time": "2023-09-07T12:02:03.788Z"
   },
   {
    "duration": 110,
    "start_time": "2023-09-07T12:02:03.874Z"
   },
   {
    "duration": 72,
    "start_time": "2023-09-07T12:02:03.985Z"
   },
   {
    "duration": 78,
    "start_time": "2023-09-07T12:02:04.059Z"
   },
   {
    "duration": 118,
    "start_time": "2023-09-07T12:02:04.138Z"
   },
   {
    "duration": 121,
    "start_time": "2023-09-07T12:02:04.257Z"
   },
   {
    "duration": 113,
    "start_time": "2023-09-07T12:02:04.379Z"
   },
   {
    "duration": 246,
    "start_time": "2023-09-07T12:02:04.494Z"
   },
   {
    "duration": 132,
    "start_time": "2023-09-07T12:02:04.742Z"
   },
   {
    "duration": 49,
    "start_time": "2023-09-07T12:02:04.876Z"
   },
   {
    "duration": 244,
    "start_time": "2023-09-07T12:02:04.927Z"
   },
   {
    "duration": 183,
    "start_time": "2023-09-07T12:02:05.172Z"
   },
   {
    "duration": 76,
    "start_time": "2023-09-07T12:02:05.357Z"
   },
   {
    "duration": 57,
    "start_time": "2023-09-07T12:02:05.438Z"
   },
   {
    "duration": 137,
    "start_time": "2023-09-07T12:02:05.497Z"
   },
   {
    "duration": 85,
    "start_time": "2023-09-07T12:02:05.636Z"
   },
   {
    "duration": 47,
    "start_time": "2023-09-07T12:02:05.722Z"
   },
   {
    "duration": 173,
    "start_time": "2023-09-07T12:02:05.770Z"
   },
   {
    "duration": 200,
    "start_time": "2023-09-07T12:02:05.945Z"
   },
   {
    "duration": 23,
    "start_time": "2023-09-07T12:02:06.147Z"
   },
   {
    "duration": 18,
    "start_time": "2023-09-07T12:02:06.172Z"
   },
   {
    "duration": 107,
    "start_time": "2023-09-07T12:02:06.192Z"
   },
   {
    "duration": 3,
    "start_time": "2023-09-07T12:02:06.302Z"
   },
   {
    "duration": 40,
    "start_time": "2023-09-07T12:02:06.307Z"
   },
   {
    "duration": 54,
    "start_time": "2023-09-07T12:02:06.349Z"
   },
   {
    "duration": 150,
    "start_time": "2023-09-07T12:02:06.406Z"
   },
   {
    "duration": 131,
    "start_time": "2023-09-07T12:02:06.558Z"
   },
   {
    "duration": 100,
    "start_time": "2023-09-07T12:02:06.691Z"
   },
   {
    "duration": 2,
    "start_time": "2023-09-07T12:02:06.792Z"
   },
   {
    "duration": 38,
    "start_time": "2023-09-07T12:02:06.796Z"
   },
   {
    "duration": 73,
    "start_time": "2023-09-07T12:02:06.836Z"
   },
   {
    "duration": 91,
    "start_time": "2023-09-07T12:02:06.910Z"
   },
   {
    "duration": 62,
    "start_time": "2023-09-07T12:02:07.003Z"
   },
   {
    "duration": 29,
    "start_time": "2023-09-07T12:02:07.067Z"
   },
   {
    "duration": 41,
    "start_time": "2023-09-07T12:02:07.098Z"
   },
   {
    "duration": 43,
    "start_time": "2023-09-07T12:02:07.141Z"
   },
   {
    "duration": 39,
    "start_time": "2023-09-07T12:02:07.185Z"
   },
   {
    "duration": 18,
    "start_time": "2023-09-07T12:02:07.226Z"
   },
   {
    "duration": 52,
    "start_time": "2023-09-07T12:02:07.246Z"
   },
   {
    "duration": 50,
    "start_time": "2023-09-07T12:02:07.300Z"
   },
   {
    "duration": 25,
    "start_time": "2023-09-07T12:02:07.352Z"
   },
   {
    "duration": 25,
    "start_time": "2023-09-07T12:02:07.378Z"
   },
   {
    "duration": 34,
    "start_time": "2023-09-07T12:02:07.405Z"
   },
   {
    "duration": 20,
    "start_time": "2023-09-07T12:02:07.440Z"
   },
   {
    "duration": 1029,
    "start_time": "2023-09-07T12:02:07.462Z"
   },
   {
    "duration": 9,
    "start_time": "2023-09-07T12:02:08.493Z"
   },
   {
    "duration": 153,
    "start_time": "2023-09-07T12:02:08.504Z"
   },
   {
    "duration": 52,
    "start_time": "2023-09-07T12:02:08.659Z"
   },
   {
    "duration": 56,
    "start_time": "2023-09-07T12:02:08.713Z"
   },
   {
    "duration": 2,
    "start_time": "2023-09-07T12:02:08.771Z"
   },
   {
    "duration": 6,
    "start_time": "2023-09-07T12:02:08.775Z"
   },
   {
    "duration": 5,
    "start_time": "2023-09-07T12:02:08.783Z"
   },
   {
    "duration": 14,
    "start_time": "2023-09-07T12:02:08.789Z"
   },
   {
    "duration": 35,
    "start_time": "2023-09-07T12:02:08.805Z"
   },
   {
    "duration": 17,
    "start_time": "2023-09-07T12:02:08.841Z"
   },
   {
    "duration": 9,
    "start_time": "2023-09-07T12:02:08.859Z"
   },
   {
    "duration": 11,
    "start_time": "2023-09-07T12:02:08.869Z"
   },
   {
    "duration": 18,
    "start_time": "2023-09-07T12:02:08.882Z"
   },
   {
    "duration": 21,
    "start_time": "2023-09-07T12:02:08.903Z"
   },
   {
    "duration": 43,
    "start_time": "2023-09-07T12:02:08.926Z"
   },
   {
    "duration": 2,
    "start_time": "2023-09-07T12:02:08.971Z"
   },
   {
    "duration": 14,
    "start_time": "2023-09-07T12:02:08.975Z"
   },
   {
    "duration": 13,
    "start_time": "2023-09-07T12:02:08.991Z"
   },
   {
    "duration": 99,
    "start_time": "2023-09-07T12:02:09.006Z"
   },
   {
    "duration": 65,
    "start_time": "2023-09-07T12:02:09.107Z"
   },
   {
    "duration": 3,
    "start_time": "2023-09-07T12:02:09.174Z"
   },
   {
    "duration": 12,
    "start_time": "2023-09-07T12:02:09.179Z"
   },
   {
    "duration": 4,
    "start_time": "2023-09-07T12:02:09.199Z"
   },
   {
    "duration": 21,
    "start_time": "2023-09-07T12:02:09.204Z"
   },
   {
    "duration": 7,
    "start_time": "2023-09-07T12:02:09.227Z"
   },
   {
    "duration": 4,
    "start_time": "2023-09-07T12:02:09.236Z"
   },
   {
    "duration": 5,
    "start_time": "2023-09-07T12:02:09.241Z"
   },
   {
    "duration": 10,
    "start_time": "2023-09-07T12:02:09.247Z"
   },
   {
    "duration": 13,
    "start_time": "2023-09-07T12:02:09.259Z"
   },
   {
    "duration": 13,
    "start_time": "2023-09-07T12:02:09.274Z"
   },
   {
    "duration": 5,
    "start_time": "2023-09-07T12:02:09.289Z"
   },
   {
    "duration": 8,
    "start_time": "2023-09-07T12:02:09.296Z"
   },
   {
    "duration": 5,
    "start_time": "2023-09-07T12:02:09.305Z"
   },
   {
    "duration": 35,
    "start_time": "2023-09-07T12:02:09.324Z"
   },
   {
    "duration": 250,
    "start_time": "2023-09-07T12:02:09.361Z"
   },
   {
    "duration": 4,
    "start_time": "2023-09-07T12:02:09.613Z"
   },
   {
    "duration": 6,
    "start_time": "2023-09-07T12:02:09.619Z"
   },
   {
    "duration": 5,
    "start_time": "2023-09-07T12:02:09.627Z"
   },
   {
    "duration": 6,
    "start_time": "2023-09-07T12:02:09.634Z"
   },
   {
    "duration": 6,
    "start_time": "2023-09-07T12:02:09.642Z"
   },
   {
    "duration": 17,
    "start_time": "2023-09-07T12:02:09.650Z"
   },
   {
    "duration": 7,
    "start_time": "2023-09-07T12:02:09.668Z"
   },
   {
    "duration": 8,
    "start_time": "2023-09-07T12:02:09.677Z"
   },
   {
    "duration": 91,
    "start_time": "2023-09-07T12:02:09.687Z"
   },
   {
    "duration": 9,
    "start_time": "2023-09-07T12:02:09.780Z"
   },
   {
    "duration": 15,
    "start_time": "2023-09-07T12:02:09.790Z"
   },
   {
    "duration": 18,
    "start_time": "2023-09-07T12:02:09.807Z"
   },
   {
    "duration": 140,
    "start_time": "2023-09-07T12:02:09.827Z"
   },
   {
    "duration": 182,
    "start_time": "2023-09-07T12:02:09.969Z"
   },
   {
    "duration": 133,
    "start_time": "2023-09-07T12:02:10.153Z"
   },
   {
    "duration": 288,
    "start_time": "2023-09-07T12:02:10.287Z"
   },
   {
    "duration": 153,
    "start_time": "2023-09-07T12:02:10.577Z"
   },
   {
    "duration": 182,
    "start_time": "2023-09-07T12:02:10.732Z"
   },
   {
    "duration": 170,
    "start_time": "2023-09-07T12:02:10.915Z"
   },
   {
    "duration": 21,
    "start_time": "2023-09-07T12:02:11.086Z"
   },
   {
    "duration": 24,
    "start_time": "2023-09-07T12:02:11.109Z"
   },
   {
    "duration": 14,
    "start_time": "2023-09-07T12:02:11.135Z"
   },
   {
    "duration": 8,
    "start_time": "2023-09-07T12:02:11.151Z"
   },
   {
    "duration": 36,
    "start_time": "2023-09-07T12:02:11.161Z"
   },
   {
    "duration": 41,
    "start_time": "2023-09-07T12:02:11.199Z"
   },
   {
    "duration": 29,
    "start_time": "2023-09-07T12:02:11.242Z"
   },
   {
    "duration": 27,
    "start_time": "2023-09-07T12:02:11.273Z"
   },
   {
    "duration": 30,
    "start_time": "2023-09-07T12:02:11.302Z"
   },
   {
    "duration": 19,
    "start_time": "2023-09-07T12:02:11.335Z"
   },
   {
    "duration": 62,
    "start_time": "2023-09-07T12:02:11.356Z"
   },
   {
    "duration": 23,
    "start_time": "2023-09-07T12:02:11.420Z"
   },
   {
    "duration": 18,
    "start_time": "2023-09-07T12:02:11.445Z"
   },
   {
    "duration": 18,
    "start_time": "2023-09-07T12:02:11.465Z"
   },
   {
    "duration": 60,
    "start_time": "2023-09-07T12:02:11.485Z"
   },
   {
    "duration": 27,
    "start_time": "2023-09-07T12:02:11.546Z"
   },
   {
    "duration": 80,
    "start_time": "2023-09-07T12:02:11.575Z"
   },
   {
    "duration": 5,
    "start_time": "2023-09-07T12:02:11.657Z"
   },
   {
    "duration": 27,
    "start_time": "2023-09-07T12:02:11.664Z"
   },
   {
    "duration": 38,
    "start_time": "2023-09-07T12:02:11.694Z"
   },
   {
    "duration": 36,
    "start_time": "2023-09-07T12:02:11.734Z"
   },
   {
    "duration": 18,
    "start_time": "2023-09-07T12:02:11.772Z"
   },
   {
    "duration": 28,
    "start_time": "2023-09-07T12:02:11.792Z"
   },
   {
    "duration": 36,
    "start_time": "2023-09-07T12:02:11.821Z"
   },
   {
    "duration": 7,
    "start_time": "2023-09-07T12:02:11.858Z"
   },
   {
    "duration": 27,
    "start_time": "2023-09-07T12:02:11.867Z"
   },
   {
    "duration": 26,
    "start_time": "2023-09-07T12:02:11.896Z"
   },
   {
    "duration": 4,
    "start_time": "2023-09-07T12:02:11.924Z"
   },
   {
    "duration": 124,
    "start_time": "2023-09-07T12:02:11.930Z"
   },
   {
    "duration": 9,
    "start_time": "2023-09-07T12:02:12.056Z"
   },
   {
    "duration": 244,
    "start_time": "2023-09-07T12:02:12.067Z"
   },
   {
    "duration": 75,
    "start_time": "2023-09-07T12:02:12.313Z"
   },
   {
    "duration": 35,
    "start_time": "2023-09-07T12:02:12.390Z"
   },
   {
    "duration": 1693,
    "start_time": "2023-09-07T12:02:12.427Z"
   },
   {
    "duration": 34,
    "start_time": "2023-09-07T12:02:14.123Z"
   },
   {
    "duration": 4101,
    "start_time": "2023-09-07T12:02:14.159Z"
   },
   {
    "duration": 6,
    "start_time": "2023-09-07T12:02:18.262Z"
   },
   {
    "duration": 261960,
    "start_time": "2023-09-07T12:02:18.270Z"
   },
   {
    "duration": 3,
    "start_time": "2023-09-07T12:06:40.231Z"
   },
   {
    "duration": 11,
    "start_time": "2023-09-07T12:06:40.236Z"
   },
   {
    "duration": 94980,
    "start_time": "2023-09-07T12:06:40.248Z"
   },
   {
    "duration": 4,
    "start_time": "2023-09-07T12:08:15.229Z"
   },
   {
    "duration": 295990,
    "start_time": "2023-09-07T12:08:15.234Z"
   },
   {
    "duration": 4,
    "start_time": "2023-09-07T12:13:11.226Z"
   },
   {
    "duration": 84,
    "start_time": "2023-09-07T12:13:11.232Z"
   },
   {
    "duration": 395,
    "start_time": "2023-09-07T12:13:11.318Z"
   },
   {
    "duration": 12,
    "start_time": "2023-09-07T12:13:11.714Z"
   },
   {
    "duration": 15,
    "start_time": "2023-09-07T12:13:11.727Z"
   },
   {
    "duration": 51,
    "start_time": "2023-09-07T12:13:11.743Z"
   },
   {
    "duration": 13,
    "start_time": "2023-09-07T12:13:11.795Z"
   },
   {
    "duration": 462,
    "start_time": "2023-09-07T12:13:11.810Z"
   },
   {
    "duration": 53,
    "start_time": "2023-09-07T12:13:12.274Z"
   },
   {
    "duration": 45,
    "start_time": "2023-09-07T12:13:12.329Z"
   },
   {
    "duration": 229,
    "start_time": "2023-09-07T12:13:12.376Z"
   },
   {
    "duration": 20,
    "start_time": "2023-09-07T12:13:12.607Z"
   },
   {
    "duration": 24,
    "start_time": "2023-09-07T12:13:12.628Z"
   },
   {
    "duration": 27,
    "start_time": "2023-09-07T12:13:12.654Z"
   },
   {
    "duration": 654,
    "start_time": "2023-09-07T12:13:12.683Z"
   },
   {
    "duration": 1447,
    "start_time": "2023-09-07T12:13:13.339Z"
   },
   {
    "duration": 19,
    "start_time": "2023-09-07T12:13:14.788Z"
   },
   {
    "duration": 4909,
    "start_time": "2023-09-07T12:13:14.808Z"
   },
   {
    "duration": 8,
    "start_time": "2023-09-07T12:13:19.719Z"
   },
   {
    "duration": 24,
    "start_time": "2023-09-07T12:13:19.728Z"
   },
   {
    "duration": 13051,
    "start_time": "2023-09-07T12:16:50.846Z"
   },
   {
    "duration": 1799,
    "start_time": "2023-09-07T12:17:03.900Z"
   },
   {
    "duration": 3,
    "start_time": "2023-09-07T12:17:05.701Z"
   },
   {
    "duration": 19,
    "start_time": "2023-09-07T12:17:05.706Z"
   },
   {
    "duration": 620,
    "start_time": "2023-09-07T12:17:05.727Z"
   },
   {
    "duration": 242,
    "start_time": "2023-09-07T12:17:06.348Z"
   },
   {
    "duration": 3,
    "start_time": "2023-09-07T12:17:06.591Z"
   },
   {
    "duration": 45,
    "start_time": "2023-09-07T12:17:06.596Z"
   },
   {
    "duration": 35,
    "start_time": "2023-09-07T12:17:06.643Z"
   },
   {
    "duration": 3,
    "start_time": "2023-09-07T12:17:06.680Z"
   },
   {
    "duration": 5,
    "start_time": "2023-09-07T12:17:06.685Z"
   },
   {
    "duration": 32,
    "start_time": "2023-09-07T12:17:06.692Z"
   },
   {
    "duration": 3,
    "start_time": "2023-09-07T12:17:06.726Z"
   },
   {
    "duration": 35,
    "start_time": "2023-09-07T12:17:06.731Z"
   },
   {
    "duration": 20,
    "start_time": "2023-09-07T12:17:06.769Z"
   },
   {
    "duration": 108,
    "start_time": "2023-09-07T12:17:06.791Z"
   },
   {
    "duration": 81,
    "start_time": "2023-09-07T12:17:06.901Z"
   },
   {
    "duration": 73,
    "start_time": "2023-09-07T12:17:06.984Z"
   },
   {
    "duration": 68,
    "start_time": "2023-09-07T12:17:07.058Z"
   },
   {
    "duration": 49,
    "start_time": "2023-09-07T12:17:07.128Z"
   },
   {
    "duration": 29,
    "start_time": "2023-09-07T12:17:07.178Z"
   },
   {
    "duration": 6,
    "start_time": "2023-09-07T12:17:07.224Z"
   },
   {
    "duration": 31,
    "start_time": "2023-09-07T12:17:07.231Z"
   },
   {
    "duration": 25,
    "start_time": "2023-09-07T12:17:07.264Z"
   },
   {
    "duration": 154,
    "start_time": "2023-09-07T12:17:07.292Z"
   },
   {
    "duration": 114,
    "start_time": "2023-09-07T12:17:07.449Z"
   },
   {
    "duration": 6,
    "start_time": "2023-09-07T12:17:07.564Z"
   },
   {
    "duration": 7,
    "start_time": "2023-09-07T12:17:07.574Z"
   },
   {
    "duration": 80,
    "start_time": "2023-09-07T12:17:07.583Z"
   },
   {
    "duration": 84,
    "start_time": "2023-09-07T12:17:07.665Z"
   },
   {
    "duration": 2,
    "start_time": "2023-09-07T12:17:07.751Z"
   },
   {
    "duration": 19,
    "start_time": "2023-09-07T12:17:07.755Z"
   },
   {
    "duration": 21,
    "start_time": "2023-09-07T12:17:07.776Z"
   },
   {
    "duration": 7,
    "start_time": "2023-09-07T12:17:07.798Z"
   },
   {
    "duration": 11,
    "start_time": "2023-09-07T12:17:07.807Z"
   },
   {
    "duration": 76,
    "start_time": "2023-09-07T12:17:07.823Z"
   },
   {
    "duration": 3,
    "start_time": "2023-09-07T12:17:07.900Z"
   },
   {
    "duration": 18,
    "start_time": "2023-09-07T12:17:07.905Z"
   },
   {
    "duration": 10,
    "start_time": "2023-09-07T12:17:07.925Z"
   },
   {
    "duration": 2,
    "start_time": "2023-09-07T12:17:07.937Z"
   },
   {
    "duration": 6,
    "start_time": "2023-09-07T12:17:07.941Z"
   },
   {
    "duration": 67,
    "start_time": "2023-09-07T12:17:07.948Z"
   },
   {
    "duration": 3,
    "start_time": "2023-09-07T12:17:08.016Z"
   },
   {
    "duration": 3,
    "start_time": "2023-09-07T12:17:08.024Z"
   },
   {
    "duration": 13,
    "start_time": "2023-09-07T12:17:08.028Z"
   },
   {
    "duration": 19,
    "start_time": "2023-09-07T12:17:08.042Z"
   },
   {
    "duration": 11,
    "start_time": "2023-09-07T12:17:08.063Z"
   },
   {
    "duration": 12,
    "start_time": "2023-09-07T12:17:08.076Z"
   },
   {
    "duration": 13,
    "start_time": "2023-09-07T12:17:08.091Z"
   },
   {
    "duration": 30,
    "start_time": "2023-09-07T12:17:08.106Z"
   },
   {
    "duration": 4,
    "start_time": "2023-09-07T12:17:08.137Z"
   },
   {
    "duration": 5,
    "start_time": "2023-09-07T12:17:08.142Z"
   },
   {
    "duration": 18,
    "start_time": "2023-09-07T12:17:08.148Z"
   },
   {
    "duration": 15,
    "start_time": "2023-09-07T12:17:08.167Z"
   },
   {
    "duration": 11,
    "start_time": "2023-09-07T12:17:08.183Z"
   },
   {
    "duration": 17,
    "start_time": "2023-09-07T12:17:08.196Z"
   },
   {
    "duration": 19,
    "start_time": "2023-09-07T12:17:08.215Z"
   },
   {
    "duration": 14,
    "start_time": "2023-09-07T12:17:08.236Z"
   },
   {
    "duration": 985,
    "start_time": "2023-09-07T12:17:08.252Z"
   },
   {
    "duration": 9,
    "start_time": "2023-09-07T12:17:09.238Z"
   },
   {
    "duration": 17,
    "start_time": "2023-09-07T12:17:09.249Z"
   },
   {
    "duration": 11,
    "start_time": "2023-09-07T12:17:09.268Z"
   },
   {
    "duration": 55,
    "start_time": "2023-09-07T12:17:09.280Z"
   },
   {
    "duration": 3,
    "start_time": "2023-09-07T12:17:09.337Z"
   },
   {
    "duration": 7,
    "start_time": "2023-09-07T12:17:09.341Z"
   },
   {
    "duration": 17,
    "start_time": "2023-09-07T12:17:09.350Z"
   },
   {
    "duration": 12,
    "start_time": "2023-09-07T12:17:09.368Z"
   },
   {
    "duration": 10,
    "start_time": "2023-09-07T12:17:09.381Z"
   },
   {
    "duration": 9,
    "start_time": "2023-09-07T12:17:09.393Z"
   },
   {
    "duration": 32,
    "start_time": "2023-09-07T12:17:09.404Z"
   },
   {
    "duration": 12,
    "start_time": "2023-09-07T12:17:09.438Z"
   },
   {
    "duration": 11,
    "start_time": "2023-09-07T12:17:09.451Z"
   },
   {
    "duration": 5,
    "start_time": "2023-09-07T12:17:09.463Z"
   },
   {
    "duration": 31,
    "start_time": "2023-09-07T12:17:09.469Z"
   },
   {
    "duration": 2,
    "start_time": "2023-09-07T12:17:09.502Z"
   },
   {
    "duration": 3,
    "start_time": "2023-09-07T12:17:09.506Z"
   },
   {
    "duration": 29,
    "start_time": "2023-09-07T12:17:09.511Z"
   },
   {
    "duration": 87,
    "start_time": "2023-09-07T12:17:09.541Z"
   },
   {
    "duration": 68,
    "start_time": "2023-09-07T12:17:09.630Z"
   },
   {
    "duration": 4,
    "start_time": "2023-09-07T12:17:09.700Z"
   },
   {
    "duration": 22,
    "start_time": "2023-09-07T12:17:09.706Z"
   },
   {
    "duration": 5,
    "start_time": "2023-09-07T12:17:09.735Z"
   },
   {
    "duration": 11,
    "start_time": "2023-09-07T12:17:09.741Z"
   },
   {
    "duration": 11,
    "start_time": "2023-09-07T12:17:09.754Z"
   },
   {
    "duration": 7,
    "start_time": "2023-09-07T12:17:09.766Z"
   },
   {
    "duration": 7,
    "start_time": "2023-09-07T12:17:09.774Z"
   },
   {
    "duration": 14,
    "start_time": "2023-09-07T12:17:09.783Z"
   },
   {
    "duration": 26,
    "start_time": "2023-09-07T12:17:09.799Z"
   },
   {
    "duration": 12,
    "start_time": "2023-09-07T12:17:09.826Z"
   },
   {
    "duration": 3,
    "start_time": "2023-09-07T12:17:09.840Z"
   },
   {
    "duration": 8,
    "start_time": "2023-09-07T12:17:09.845Z"
   },
   {
    "duration": 17,
    "start_time": "2023-09-07T12:17:09.855Z"
   },
   {
    "duration": 23,
    "start_time": "2023-09-07T12:17:09.873Z"
   },
   {
    "duration": 228,
    "start_time": "2023-09-07T12:17:09.898Z"
   },
   {
    "duration": 4,
    "start_time": "2023-09-07T12:17:10.128Z"
   },
   {
    "duration": 41,
    "start_time": "2023-09-07T12:17:10.134Z"
   },
   {
    "duration": 7,
    "start_time": "2023-09-07T12:17:10.177Z"
   },
   {
    "duration": 4,
    "start_time": "2023-09-07T12:17:10.185Z"
   },
   {
    "duration": 5,
    "start_time": "2023-09-07T12:17:10.191Z"
   },
   {
    "duration": 7,
    "start_time": "2023-09-07T12:17:10.197Z"
   },
   {
    "duration": 13,
    "start_time": "2023-09-07T12:17:10.205Z"
   },
   {
    "duration": 4,
    "start_time": "2023-09-07T12:17:10.219Z"
   },
   {
    "duration": 95,
    "start_time": "2023-09-07T12:17:10.225Z"
   },
   {
    "duration": 10,
    "start_time": "2023-09-07T12:17:10.322Z"
   },
   {
    "duration": 9,
    "start_time": "2023-09-07T12:17:10.334Z"
   },
   {
    "duration": 4,
    "start_time": "2023-09-07T12:17:10.346Z"
   },
   {
    "duration": 29,
    "start_time": "2023-09-07T12:17:10.352Z"
   },
   {
    "duration": 34,
    "start_time": "2023-09-07T12:17:10.383Z"
   },
   {
    "duration": 20,
    "start_time": "2023-09-07T12:17:10.419Z"
   },
   {
    "duration": 7,
    "start_time": "2023-09-07T12:17:10.441Z"
   },
   {
    "duration": 12,
    "start_time": "2023-09-07T12:17:10.449Z"
   },
   {
    "duration": 17,
    "start_time": "2023-09-07T12:17:10.464Z"
   },
   {
    "duration": 7,
    "start_time": "2023-09-07T12:17:10.483Z"
   },
   {
    "duration": 11,
    "start_time": "2023-09-07T12:17:10.492Z"
   },
   {
    "duration": 7,
    "start_time": "2023-09-07T12:17:10.505Z"
   },
   {
    "duration": 11,
    "start_time": "2023-09-07T12:17:10.513Z"
   },
   {
    "duration": 7,
    "start_time": "2023-09-07T12:17:10.526Z"
   },
   {
    "duration": 28,
    "start_time": "2023-09-07T12:17:10.535Z"
   },
   {
    "duration": 16,
    "start_time": "2023-09-07T12:17:10.565Z"
   },
   {
    "duration": 9,
    "start_time": "2023-09-07T12:17:10.583Z"
   },
   {
    "duration": 11,
    "start_time": "2023-09-07T12:17:10.594Z"
   },
   {
    "duration": 6,
    "start_time": "2023-09-07T12:17:10.623Z"
   },
   {
    "duration": 29,
    "start_time": "2023-09-07T12:17:10.631Z"
   },
   {
    "duration": 62,
    "start_time": "2023-09-07T12:17:10.662Z"
   },
   {
    "duration": 2,
    "start_time": "2023-09-07T12:17:10.726Z"
   },
   {
    "duration": 11,
    "start_time": "2023-09-07T12:17:10.730Z"
   },
   {
    "duration": 24,
    "start_time": "2023-09-07T12:17:10.743Z"
   },
   {
    "duration": 58,
    "start_time": "2023-09-07T12:17:10.769Z"
   },
   {
    "duration": 25,
    "start_time": "2023-09-07T12:17:10.828Z"
   },
   {
    "duration": 92,
    "start_time": "2023-09-07T12:17:10.854Z"
   },
   {
    "duration": 4,
    "start_time": "2023-09-07T12:17:10.948Z"
   },
   {
    "duration": 27,
    "start_time": "2023-09-07T12:17:10.953Z"
   },
   {
    "duration": 22,
    "start_time": "2023-09-07T12:17:10.981Z"
   },
   {
    "duration": 24,
    "start_time": "2023-09-07T12:17:11.004Z"
   },
   {
    "duration": 17,
    "start_time": "2023-09-07T12:17:11.029Z"
   },
   {
    "duration": 10,
    "start_time": "2023-09-07T12:17:11.047Z"
   },
   {
    "duration": 24,
    "start_time": "2023-09-07T12:17:11.058Z"
   },
   {
    "duration": 24,
    "start_time": "2023-09-07T12:17:11.084Z"
   },
   {
    "duration": 28,
    "start_time": "2023-09-07T12:17:11.109Z"
   },
   {
    "duration": 24,
    "start_time": "2023-09-07T12:17:11.138Z"
   },
   {
    "duration": 4,
    "start_time": "2023-09-07T12:17:11.164Z"
   },
   {
    "duration": 124,
    "start_time": "2023-09-07T12:17:11.169Z"
   },
   {
    "duration": 9,
    "start_time": "2023-09-07T12:17:11.294Z"
   },
   {
    "duration": 68,
    "start_time": "2023-09-07T12:17:11.304Z"
   },
   {
    "duration": 58,
    "start_time": "2023-09-07T12:17:11.374Z"
   },
   {
    "duration": 21,
    "start_time": "2023-09-07T12:17:11.433Z"
   },
   {
    "duration": 1552,
    "start_time": "2023-09-07T12:17:11.456Z"
   },
   {
    "duration": 40,
    "start_time": "2023-09-07T12:17:13.010Z"
   },
   {
    "duration": 4357,
    "start_time": "2023-09-07T12:17:13.052Z"
   },
   {
    "duration": 13,
    "start_time": "2023-09-07T12:17:17.411Z"
   },
   {
    "duration": 12241,
    "start_time": "2023-09-07T12:18:41.254Z"
   },
   {
    "duration": 1738,
    "start_time": "2023-09-07T12:18:53.497Z"
   },
   {
    "duration": 3,
    "start_time": "2023-09-07T12:18:55.236Z"
   },
   {
    "duration": 20,
    "start_time": "2023-09-07T12:18:55.241Z"
   },
   {
    "duration": 592,
    "start_time": "2023-09-07T12:18:55.263Z"
   },
   {
    "duration": 265,
    "start_time": "2023-09-07T12:18:55.857Z"
   },
   {
    "duration": 4,
    "start_time": "2023-09-07T12:18:56.124Z"
   },
   {
    "duration": 57,
    "start_time": "2023-09-07T12:18:56.130Z"
   },
   {
    "duration": 65,
    "start_time": "2023-09-07T12:18:56.189Z"
   },
   {
    "duration": 4,
    "start_time": "2023-09-07T12:18:56.257Z"
   },
   {
    "duration": 18,
    "start_time": "2023-09-07T12:18:56.262Z"
   },
   {
    "duration": 40,
    "start_time": "2023-09-07T12:18:56.282Z"
   },
   {
    "duration": 40,
    "start_time": "2023-09-07T12:18:56.324Z"
   },
   {
    "duration": 81,
    "start_time": "2023-09-07T12:18:56.367Z"
   },
   {
    "duration": 34,
    "start_time": "2023-09-07T12:18:56.449Z"
   },
   {
    "duration": 101,
    "start_time": "2023-09-07T12:18:56.484Z"
   },
   {
    "duration": 89,
    "start_time": "2023-09-07T12:18:56.586Z"
   },
   {
    "duration": 81,
    "start_time": "2023-09-07T12:18:56.677Z"
   },
   {
    "duration": 53,
    "start_time": "2023-09-07T12:18:56.760Z"
   },
   {
    "duration": 50,
    "start_time": "2023-09-07T12:18:56.825Z"
   },
   {
    "duration": 29,
    "start_time": "2023-09-07T12:18:56.877Z"
   },
   {
    "duration": 6,
    "start_time": "2023-09-07T12:18:56.925Z"
   },
   {
    "duration": 15,
    "start_time": "2023-09-07T12:18:56.933Z"
   },
   {
    "duration": 6,
    "start_time": "2023-09-07T12:18:56.949Z"
   },
   {
    "duration": 131,
    "start_time": "2023-09-07T12:18:56.956Z"
   },
   {
    "duration": 111,
    "start_time": "2023-09-07T12:18:57.089Z"
   },
   {
    "duration": 5,
    "start_time": "2023-09-07T12:18:57.202Z"
   },
   {
    "duration": 17,
    "start_time": "2023-09-07T12:18:57.211Z"
   },
   {
    "duration": 64,
    "start_time": "2023-09-07T12:18:57.230Z"
   },
   {
    "duration": 85,
    "start_time": "2023-09-07T12:18:57.296Z"
   },
   {
    "duration": 2,
    "start_time": "2023-09-07T12:18:57.383Z"
   },
   {
    "duration": 15,
    "start_time": "2023-09-07T12:18:57.387Z"
   },
   {
    "duration": 23,
    "start_time": "2023-09-07T12:18:57.404Z"
   },
   {
    "duration": 11,
    "start_time": "2023-09-07T12:18:57.429Z"
   },
   {
    "duration": 12,
    "start_time": "2023-09-07T12:18:57.442Z"
   },
   {
    "duration": 98,
    "start_time": "2023-09-07T12:18:57.455Z"
   },
   {
    "duration": 2,
    "start_time": "2023-09-07T12:18:57.555Z"
   },
   {
    "duration": 10,
    "start_time": "2023-09-07T12:18:57.559Z"
   },
   {
    "duration": 21,
    "start_time": "2023-09-07T12:18:57.571Z"
   },
   {
    "duration": 6,
    "start_time": "2023-09-07T12:18:57.593Z"
   },
   {
    "duration": 5,
    "start_time": "2023-09-07T12:18:57.600Z"
   },
   {
    "duration": 52,
    "start_time": "2023-09-07T12:18:57.606Z"
   },
   {
    "duration": 2,
    "start_time": "2023-09-07T12:18:57.660Z"
   },
   {
    "duration": 8,
    "start_time": "2023-09-07T12:18:57.664Z"
   },
   {
    "duration": 4,
    "start_time": "2023-09-07T12:18:57.674Z"
   },
   {
    "duration": 16,
    "start_time": "2023-09-07T12:18:57.679Z"
   },
   {
    "duration": 21,
    "start_time": "2023-09-07T12:18:57.697Z"
   },
   {
    "duration": 10,
    "start_time": "2023-09-07T12:18:57.720Z"
   },
   {
    "duration": 16,
    "start_time": "2023-09-07T12:18:57.732Z"
   },
   {
    "duration": 16,
    "start_time": "2023-09-07T12:18:57.749Z"
   },
   {
    "duration": 13,
    "start_time": "2023-09-07T12:18:57.767Z"
   },
   {
    "duration": 8,
    "start_time": "2023-09-07T12:18:57.782Z"
   },
   {
    "duration": 22,
    "start_time": "2023-09-07T12:18:57.792Z"
   },
   {
    "duration": 11,
    "start_time": "2023-09-07T12:18:57.816Z"
   },
   {
    "duration": 16,
    "start_time": "2023-09-07T12:18:57.828Z"
   },
   {
    "duration": 19,
    "start_time": "2023-09-07T12:18:57.845Z"
   },
   {
    "duration": 15,
    "start_time": "2023-09-07T12:18:57.866Z"
   },
   {
    "duration": 14,
    "start_time": "2023-09-07T12:18:57.883Z"
   },
   {
    "duration": 912,
    "start_time": "2023-09-07T12:18:57.899Z"
   },
   {
    "duration": 14,
    "start_time": "2023-09-07T12:18:58.813Z"
   },
   {
    "duration": 11,
    "start_time": "2023-09-07T12:18:58.829Z"
   },
   {
    "duration": 10,
    "start_time": "2023-09-07T12:18:58.842Z"
   },
   {
    "duration": 32,
    "start_time": "2023-09-07T12:18:58.854Z"
   },
   {
    "duration": 3,
    "start_time": "2023-09-07T12:18:58.888Z"
   },
   {
    "duration": 32,
    "start_time": "2023-09-07T12:18:58.892Z"
   },
   {
    "duration": 6,
    "start_time": "2023-09-07T12:18:58.926Z"
   },
   {
    "duration": 14,
    "start_time": "2023-09-07T12:18:58.934Z"
   },
   {
    "duration": 10,
    "start_time": "2023-09-07T12:18:58.950Z"
   },
   {
    "duration": 9,
    "start_time": "2023-09-07T12:18:58.961Z"
   },
   {
    "duration": 14,
    "start_time": "2023-09-07T12:18:58.971Z"
   },
   {
    "duration": 17,
    "start_time": "2023-09-07T12:18:58.987Z"
   },
   {
    "duration": 15,
    "start_time": "2023-09-07T12:18:59.006Z"
   },
   {
    "duration": 14,
    "start_time": "2023-09-07T12:18:59.022Z"
   },
   {
    "duration": 37,
    "start_time": "2023-09-07T12:18:59.038Z"
   },
   {
    "duration": 2,
    "start_time": "2023-09-07T12:18:59.077Z"
   },
   {
    "duration": 13,
    "start_time": "2023-09-07T12:18:59.080Z"
   },
   {
    "duration": 12,
    "start_time": "2023-09-07T12:18:59.095Z"
   },
   {
    "duration": 83,
    "start_time": "2023-09-07T12:18:59.109Z"
   },
   {
    "duration": 71,
    "start_time": "2023-09-07T12:18:59.194Z"
   },
   {
    "duration": 4,
    "start_time": "2023-09-07T12:18:59.267Z"
   },
   {
    "duration": 10,
    "start_time": "2023-09-07T12:18:59.272Z"
   },
   {
    "duration": 5,
    "start_time": "2023-09-07T12:18:59.289Z"
   },
   {
    "duration": 25,
    "start_time": "2023-09-07T12:18:59.295Z"
   },
   {
    "duration": 9,
    "start_time": "2023-09-07T12:18:59.321Z"
   },
   {
    "duration": 18,
    "start_time": "2023-09-07T12:18:59.331Z"
   },
   {
    "duration": 22,
    "start_time": "2023-09-07T12:18:59.350Z"
   },
   {
    "duration": 9,
    "start_time": "2023-09-07T12:18:59.373Z"
   },
   {
    "duration": 9,
    "start_time": "2023-09-07T12:18:59.383Z"
   },
   {
    "duration": 14,
    "start_time": "2023-09-07T12:18:59.393Z"
   },
   {
    "duration": 2,
    "start_time": "2023-09-07T12:18:59.408Z"
   },
   {
    "duration": 12,
    "start_time": "2023-09-07T12:18:59.412Z"
   },
   {
    "duration": 11,
    "start_time": "2023-09-07T12:18:59.425Z"
   },
   {
    "duration": 32,
    "start_time": "2023-09-07T12:18:59.437Z"
   },
   {
    "duration": 232,
    "start_time": "2023-09-07T12:18:59.471Z"
   },
   {
    "duration": 4,
    "start_time": "2023-09-07T12:18:59.704Z"
   },
   {
    "duration": 14,
    "start_time": "2023-09-07T12:18:59.709Z"
   },
   {
    "duration": 13,
    "start_time": "2023-09-07T12:18:59.725Z"
   },
   {
    "duration": 16,
    "start_time": "2023-09-07T12:18:59.739Z"
   },
   {
    "duration": 45,
    "start_time": "2023-09-07T12:18:59.756Z"
   },
   {
    "duration": 29,
    "start_time": "2023-09-07T12:18:59.802Z"
   },
   {
    "duration": 12,
    "start_time": "2023-09-07T12:18:59.833Z"
   },
   {
    "duration": 16,
    "start_time": "2023-09-07T12:18:59.846Z"
   },
   {
    "duration": 93,
    "start_time": "2023-09-07T12:18:59.863Z"
   },
   {
    "duration": 8,
    "start_time": "2023-09-07T12:18:59.957Z"
   },
   {
    "duration": 13,
    "start_time": "2023-09-07T12:18:59.966Z"
   },
   {
    "duration": 5,
    "start_time": "2023-09-07T12:18:59.980Z"
   },
   {
    "duration": 67,
    "start_time": "2023-09-07T12:18:59.987Z"
   },
   {
    "duration": 114,
    "start_time": "2023-09-07T12:19:00.056Z"
   },
   {
    "duration": 57,
    "start_time": "2023-09-07T12:19:00.172Z"
   },
   {
    "duration": 49,
    "start_time": "2023-09-07T12:19:00.231Z"
   },
   {
    "duration": 76,
    "start_time": "2023-09-07T12:19:00.282Z"
   },
   {
    "duration": 82,
    "start_time": "2023-09-07T12:19:00.361Z"
   },
   {
    "duration": 49,
    "start_time": "2023-09-07T12:19:00.445Z"
   },
   {
    "duration": 52,
    "start_time": "2023-09-07T12:19:00.496Z"
   },
   {
    "duration": 70,
    "start_time": "2023-09-07T12:19:00.550Z"
   },
   {
    "duration": 42,
    "start_time": "2023-09-07T12:19:00.622Z"
   },
   {
    "duration": 71,
    "start_time": "2023-09-07T12:19:00.666Z"
   },
   {
    "duration": 107,
    "start_time": "2023-09-07T12:19:00.739Z"
   },
   {
    "duration": 53,
    "start_time": "2023-09-07T12:19:00.848Z"
   },
   {
    "duration": 41,
    "start_time": "2023-09-07T12:19:00.903Z"
   },
   {
    "duration": 75,
    "start_time": "2023-09-07T12:19:00.945Z"
   },
   {
    "duration": 78,
    "start_time": "2023-09-07T12:19:01.022Z"
   },
   {
    "duration": 68,
    "start_time": "2023-09-07T12:19:01.101Z"
   },
   {
    "duration": 81,
    "start_time": "2023-09-07T12:19:01.171Z"
   },
   {
    "duration": 2,
    "start_time": "2023-09-07T12:19:01.254Z"
   },
   {
    "duration": 77,
    "start_time": "2023-09-07T12:19:01.258Z"
   },
   {
    "duration": 96,
    "start_time": "2023-09-07T12:19:01.336Z"
   },
   {
    "duration": 119,
    "start_time": "2023-09-07T12:19:01.434Z"
   },
   {
    "duration": 40,
    "start_time": "2023-09-07T12:19:01.555Z"
   },
   {
    "duration": 66,
    "start_time": "2023-09-07T12:19:01.597Z"
   },
   {
    "duration": 4,
    "start_time": "2023-09-07T12:19:01.665Z"
   },
   {
    "duration": 41,
    "start_time": "2023-09-07T12:19:01.670Z"
   },
   {
    "duration": 47,
    "start_time": "2023-09-07T12:19:01.713Z"
   },
   {
    "duration": 42,
    "start_time": "2023-09-07T12:19:01.762Z"
   },
   {
    "duration": 42,
    "start_time": "2023-09-07T12:19:01.806Z"
   },
   {
    "duration": 33,
    "start_time": "2023-09-07T12:19:01.850Z"
   },
   {
    "duration": 31,
    "start_time": "2023-09-07T12:19:01.885Z"
   },
   {
    "duration": 34,
    "start_time": "2023-09-07T12:19:01.918Z"
   },
   {
    "duration": 51,
    "start_time": "2023-09-07T12:19:01.954Z"
   },
   {
    "duration": 53,
    "start_time": "2023-09-07T12:19:02.006Z"
   },
   {
    "duration": 22,
    "start_time": "2023-09-07T12:19:02.061Z"
   },
   {
    "duration": 139,
    "start_time": "2023-09-07T12:19:02.085Z"
   },
   {
    "duration": 8,
    "start_time": "2023-09-07T12:19:02.225Z"
   },
   {
    "duration": 114,
    "start_time": "2023-09-07T12:19:02.234Z"
   },
   {
    "duration": 75,
    "start_time": "2023-09-07T12:19:02.350Z"
   },
   {
    "duration": 23,
    "start_time": "2023-09-07T12:19:02.427Z"
   },
   {
    "duration": 1384,
    "start_time": "2023-09-07T12:19:02.452Z"
   },
   {
    "duration": 28,
    "start_time": "2023-09-07T12:19:03.838Z"
   },
   {
    "duration": 4074,
    "start_time": "2023-09-07T12:19:03.868Z"
   },
   {
    "duration": 6,
    "start_time": "2023-09-07T12:19:07.944Z"
   },
   {
    "duration": 266243,
    "start_time": "2023-09-07T12:19:07.951Z"
   },
   {
    "duration": 3,
    "start_time": "2023-09-07T12:23:34.196Z"
   },
   {
    "duration": 39,
    "start_time": "2023-09-07T12:23:34.200Z"
   },
   {
    "duration": 94330,
    "start_time": "2023-09-07T12:23:34.241Z"
   },
   {
    "duration": 3,
    "start_time": "2023-09-07T12:25:08.573Z"
   },
   {
    "duration": 12562,
    "start_time": "2023-09-07T12:27:04.098Z"
   },
   {
    "duration": 1713,
    "start_time": "2023-09-07T12:27:16.662Z"
   },
   {
    "duration": 3,
    "start_time": "2023-09-07T12:27:18.377Z"
   },
   {
    "duration": 22,
    "start_time": "2023-09-07T12:27:18.382Z"
   },
   {
    "duration": 616,
    "start_time": "2023-09-07T12:27:18.405Z"
   },
   {
    "duration": 241,
    "start_time": "2023-09-07T12:27:19.024Z"
   },
   {
    "duration": 4,
    "start_time": "2023-09-07T12:27:19.266Z"
   },
   {
    "duration": 96,
    "start_time": "2023-09-07T12:27:19.271Z"
   },
   {
    "duration": 38,
    "start_time": "2023-09-07T12:27:19.369Z"
   },
   {
    "duration": 3,
    "start_time": "2023-09-07T12:27:19.426Z"
   },
   {
    "duration": 7,
    "start_time": "2023-09-07T12:27:19.432Z"
   },
   {
    "duration": 12,
    "start_time": "2023-09-07T12:27:19.442Z"
   },
   {
    "duration": 7,
    "start_time": "2023-09-07T12:27:19.456Z"
   },
   {
    "duration": 47,
    "start_time": "2023-09-07T12:27:19.464Z"
   },
   {
    "duration": 22,
    "start_time": "2023-09-07T12:27:19.513Z"
   },
   {
    "duration": 100,
    "start_time": "2023-09-07T12:27:19.537Z"
   },
   {
    "duration": 71,
    "start_time": "2023-09-07T12:27:19.639Z"
   },
   {
    "duration": 81,
    "start_time": "2023-09-07T12:27:19.712Z"
   },
   {
    "duration": 77,
    "start_time": "2023-09-07T12:27:19.795Z"
   },
   {
    "duration": 64,
    "start_time": "2023-09-07T12:27:19.875Z"
   },
   {
    "duration": 27,
    "start_time": "2023-09-07T12:27:19.942Z"
   },
   {
    "duration": 7,
    "start_time": "2023-09-07T12:27:19.971Z"
   },
   {
    "duration": 7,
    "start_time": "2023-09-07T12:27:19.979Z"
   },
   {
    "duration": 14,
    "start_time": "2023-09-07T12:27:19.988Z"
   },
   {
    "duration": 135,
    "start_time": "2023-09-07T12:27:20.004Z"
   },
   {
    "duration": 119,
    "start_time": "2023-09-07T12:27:20.140Z"
   },
   {
    "duration": 7,
    "start_time": "2023-09-07T12:27:20.260Z"
   },
   {
    "duration": 77,
    "start_time": "2023-09-07T12:27:20.273Z"
   },
   {
    "duration": 89,
    "start_time": "2023-09-07T12:27:20.352Z"
   },
   {
    "duration": 96,
    "start_time": "2023-09-07T12:27:20.443Z"
   },
   {
    "duration": 2,
    "start_time": "2023-09-07T12:27:20.542Z"
   },
   {
    "duration": 46,
    "start_time": "2023-09-07T12:27:20.546Z"
   },
   {
    "duration": 141,
    "start_time": "2023-09-07T12:27:20.593Z"
   },
   {
    "duration": 94,
    "start_time": "2023-09-07T12:27:20.736Z"
   },
   {
    "duration": 88,
    "start_time": "2023-09-07T12:27:20.832Z"
   },
   {
    "duration": 94,
    "start_time": "2023-09-07T12:27:20.922Z"
   },
   {
    "duration": 2,
    "start_time": "2023-09-07T12:27:21.018Z"
   },
   {
    "duration": 47,
    "start_time": "2023-09-07T12:27:21.022Z"
   },
   {
    "duration": 33,
    "start_time": "2023-09-07T12:27:21.071Z"
   },
   {
    "duration": 50,
    "start_time": "2023-09-07T12:27:21.105Z"
   },
   {
    "duration": 48,
    "start_time": "2023-09-07T12:27:21.158Z"
   },
   {
    "duration": 199,
    "start_time": "2023-09-07T12:27:21.208Z"
   },
   {
    "duration": 4,
    "start_time": "2023-09-07T12:27:21.408Z"
   },
   {
    "duration": 45,
    "start_time": "2023-09-07T12:27:21.413Z"
   },
   {
    "duration": 37,
    "start_time": "2023-09-07T12:27:21.460Z"
   },
   {
    "duration": 57,
    "start_time": "2023-09-07T12:27:21.499Z"
   },
   {
    "duration": 71,
    "start_time": "2023-09-07T12:27:21.558Z"
   },
   {
    "duration": 57,
    "start_time": "2023-09-07T12:27:21.631Z"
   },
   {
    "duration": 114,
    "start_time": "2023-09-07T12:27:21.690Z"
   },
   {
    "duration": 38,
    "start_time": "2023-09-07T12:27:21.806Z"
   },
   {
    "duration": 44,
    "start_time": "2023-09-07T12:27:21.845Z"
   },
   {
    "duration": 31,
    "start_time": "2023-09-07T12:27:21.891Z"
   },
   {
    "duration": 55,
    "start_time": "2023-09-07T12:27:21.924Z"
   },
   {
    "duration": 35,
    "start_time": "2023-09-07T12:27:21.981Z"
   },
   {
    "duration": 42,
    "start_time": "2023-09-07T12:27:22.018Z"
   },
   {
    "duration": 70,
    "start_time": "2023-09-07T12:27:22.061Z"
   },
   {
    "duration": 214,
    "start_time": "2023-09-07T12:27:22.133Z"
   },
   {
    "duration": 54,
    "start_time": "2023-09-07T12:27:22.350Z"
   },
   {
    "duration": 1040,
    "start_time": "2023-09-07T12:27:22.406Z"
   },
   {
    "duration": 9,
    "start_time": "2023-09-07T12:27:23.448Z"
   },
   {
    "duration": 110,
    "start_time": "2023-09-07T12:27:23.458Z"
   },
   {
    "duration": 65,
    "start_time": "2023-09-07T12:27:23.571Z"
   },
   {
    "duration": 42,
    "start_time": "2023-09-07T12:27:23.637Z"
   },
   {
    "duration": 18,
    "start_time": "2023-09-07T12:27:23.681Z"
   },
   {
    "duration": 34,
    "start_time": "2023-09-07T12:27:23.701Z"
   },
   {
    "duration": 31,
    "start_time": "2023-09-07T12:27:23.738Z"
   },
   {
    "duration": 39,
    "start_time": "2023-09-07T12:27:23.771Z"
   },
   {
    "duration": 15,
    "start_time": "2023-09-07T12:27:23.812Z"
   },
   {
    "duration": 24,
    "start_time": "2023-09-07T12:27:23.829Z"
   },
   {
    "duration": 19,
    "start_time": "2023-09-07T12:27:23.854Z"
   },
   {
    "duration": 32,
    "start_time": "2023-09-07T12:27:23.875Z"
   },
   {
    "duration": 15,
    "start_time": "2023-09-07T12:27:23.909Z"
   },
   {
    "duration": 37,
    "start_time": "2023-09-07T12:27:23.926Z"
   },
   {
    "duration": 37,
    "start_time": "2023-09-07T12:27:23.965Z"
   },
   {
    "duration": 14,
    "start_time": "2023-09-07T12:27:24.004Z"
   },
   {
    "duration": 93,
    "start_time": "2023-09-07T12:27:24.020Z"
   },
   {
    "duration": 35,
    "start_time": "2023-09-07T12:27:24.115Z"
   },
   {
    "duration": 177,
    "start_time": "2023-09-07T12:27:24.152Z"
   },
   {
    "duration": 72,
    "start_time": "2023-09-07T12:27:24.331Z"
   },
   {
    "duration": 19,
    "start_time": "2023-09-07T12:27:24.406Z"
   },
   {
    "duration": 39,
    "start_time": "2023-09-07T12:27:24.427Z"
   },
   {
    "duration": 9,
    "start_time": "2023-09-07T12:27:24.474Z"
   },
   {
    "duration": 20,
    "start_time": "2023-09-07T12:27:24.487Z"
   },
   {
    "duration": 17,
    "start_time": "2023-09-07T12:27:24.509Z"
   },
   {
    "duration": 42,
    "start_time": "2023-09-07T12:27:24.528Z"
   },
   {
    "duration": 13,
    "start_time": "2023-09-07T12:27:24.572Z"
   },
   {
    "duration": 6,
    "start_time": "2023-09-07T12:27:24.587Z"
   },
   {
    "duration": 18,
    "start_time": "2023-09-07T12:27:24.595Z"
   },
   {
    "duration": 40,
    "start_time": "2023-09-07T12:27:24.614Z"
   },
   {
    "duration": 19,
    "start_time": "2023-09-07T12:27:24.656Z"
   },
   {
    "duration": 19,
    "start_time": "2023-09-07T12:27:24.677Z"
   },
   {
    "duration": 33,
    "start_time": "2023-09-07T12:27:24.698Z"
   },
   {
    "duration": 86,
    "start_time": "2023-09-07T12:27:24.733Z"
   },
   {
    "duration": 302,
    "start_time": "2023-09-07T12:27:24.821Z"
   },
   {
    "duration": 5,
    "start_time": "2023-09-07T12:27:25.125Z"
   },
   {
    "duration": 49,
    "start_time": "2023-09-07T12:27:25.132Z"
   },
   {
    "duration": 44,
    "start_time": "2023-09-07T12:27:25.183Z"
   },
   {
    "duration": 80,
    "start_time": "2023-09-07T12:27:25.229Z"
   },
   {
    "duration": 64,
    "start_time": "2023-09-07T12:27:25.311Z"
   },
   {
    "duration": 48,
    "start_time": "2023-09-07T12:27:25.377Z"
   },
   {
    "duration": 46,
    "start_time": "2023-09-07T12:27:25.426Z"
   },
   {
    "duration": 26,
    "start_time": "2023-09-07T12:27:25.474Z"
   },
   {
    "duration": 102,
    "start_time": "2023-09-07T12:27:25.502Z"
   },
   {
    "duration": 8,
    "start_time": "2023-09-07T12:27:25.606Z"
   },
   {
    "duration": 73,
    "start_time": "2023-09-07T12:27:25.616Z"
   },
   {
    "duration": 90,
    "start_time": "2023-09-07T12:27:25.690Z"
   },
   {
    "duration": 57,
    "start_time": "2023-09-07T12:27:25.781Z"
   },
   {
    "duration": 105,
    "start_time": "2023-09-07T12:27:25.840Z"
   },
   {
    "duration": 65,
    "start_time": "2023-09-07T12:27:25.947Z"
   },
   {
    "duration": 169,
    "start_time": "2023-09-07T12:27:26.016Z"
   },
   {
    "duration": 110,
    "start_time": "2023-09-07T12:27:26.187Z"
   },
   {
    "duration": 205,
    "start_time": "2023-09-07T12:27:26.299Z"
   },
   {
    "duration": 326,
    "start_time": "2023-09-07T12:27:26.506Z"
   },
   {
    "duration": 231,
    "start_time": "2023-09-07T12:27:26.833Z"
   },
   {
    "duration": 164,
    "start_time": "2023-09-07T12:27:27.066Z"
   },
   {
    "duration": 81,
    "start_time": "2023-09-07T12:27:27.232Z"
   },
   {
    "duration": 65,
    "start_time": "2023-09-07T12:27:27.315Z"
   },
   {
    "duration": 61,
    "start_time": "2023-09-07T12:27:27.382Z"
   },
   {
    "duration": 43,
    "start_time": "2023-09-07T12:27:27.445Z"
   },
   {
    "duration": 22,
    "start_time": "2023-09-07T12:27:27.489Z"
   },
   {
    "duration": 51,
    "start_time": "2023-09-07T12:27:27.513Z"
   },
   {
    "duration": 44,
    "start_time": "2023-09-07T12:27:27.566Z"
   },
   {
    "duration": 71,
    "start_time": "2023-09-07T12:27:27.612Z"
   },
   {
    "duration": 67,
    "start_time": "2023-09-07T12:27:27.685Z"
   },
   {
    "duration": 3,
    "start_time": "2023-09-07T12:27:27.754Z"
   },
   {
    "duration": 31,
    "start_time": "2023-09-07T12:27:27.759Z"
   },
   {
    "duration": 64,
    "start_time": "2023-09-07T12:27:27.792Z"
   },
   {
    "duration": 239,
    "start_time": "2023-09-07T12:27:27.858Z"
   },
   {
    "duration": 35,
    "start_time": "2023-09-07T12:27:28.099Z"
   },
   {
    "duration": 96,
    "start_time": "2023-09-07T12:27:28.136Z"
   },
   {
    "duration": 4,
    "start_time": "2023-09-07T12:27:28.234Z"
   },
   {
    "duration": 33,
    "start_time": "2023-09-07T12:27:28.239Z"
   },
   {
    "duration": 46,
    "start_time": "2023-09-07T12:27:28.274Z"
   },
   {
    "duration": 116,
    "start_time": "2023-09-07T12:27:28.322Z"
   },
   {
    "duration": 39,
    "start_time": "2023-09-07T12:27:28.440Z"
   },
   {
    "duration": 236,
    "start_time": "2023-09-07T12:27:28.481Z"
   },
   {
    "duration": 79,
    "start_time": "2023-09-07T12:27:28.719Z"
   },
   {
    "duration": 70,
    "start_time": "2023-09-07T12:27:28.799Z"
   },
   {
    "duration": 51,
    "start_time": "2023-09-07T12:27:28.871Z"
   },
   {
    "duration": 58,
    "start_time": "2023-09-07T12:27:28.923Z"
   },
   {
    "duration": 7,
    "start_time": "2023-09-07T12:27:28.983Z"
   },
   {
    "duration": 135,
    "start_time": "2023-09-07T12:27:28.992Z"
   },
   {
    "duration": 8,
    "start_time": "2023-09-07T12:27:29.129Z"
   },
   {
    "duration": 95,
    "start_time": "2023-09-07T12:27:29.138Z"
   },
   {
    "duration": 59,
    "start_time": "2023-09-07T12:27:29.235Z"
   },
   {
    "duration": 36,
    "start_time": "2023-09-07T12:27:29.296Z"
   },
   {
    "duration": 1560,
    "start_time": "2023-09-07T12:27:29.333Z"
   },
   {
    "duration": 40,
    "start_time": "2023-09-07T12:27:30.895Z"
   },
   {
    "duration": 4135,
    "start_time": "2023-09-07T12:27:30.937Z"
   },
   {
    "duration": 6,
    "start_time": "2023-09-07T12:27:35.074Z"
   },
   {
    "duration": 228204,
    "start_time": "2023-09-07T12:27:35.081Z"
   },
   {
    "duration": 3,
    "start_time": "2023-09-07T12:31:23.286Z"
   },
   {
    "duration": 45,
    "start_time": "2023-09-07T12:31:23.291Z"
   },
   {
    "duration": 93569,
    "start_time": "2023-09-07T12:31:23.338Z"
   },
   {
    "duration": 7,
    "start_time": "2023-09-07T12:32:56.909Z"
   },
   {
    "duration": 203108,
    "start_time": "2023-09-07T12:32:56.924Z"
   },
   {
    "duration": 2,
    "start_time": "2023-09-07T12:36:20.125Z"
   },
   {
    "duration": 83,
    "start_time": "2023-09-07T12:36:20.129Z"
   },
   {
    "duration": 442,
    "start_time": "2023-09-07T12:36:20.213Z"
   },
   {
    "duration": 5,
    "start_time": "2023-09-07T12:36:20.657Z"
   },
   {
    "duration": 35,
    "start_time": "2023-09-07T12:36:20.663Z"
   },
   {
    "duration": 41,
    "start_time": "2023-09-07T12:36:20.700Z"
   },
   {
    "duration": 13,
    "start_time": "2023-09-07T12:36:20.743Z"
   },
   {
    "duration": 420,
    "start_time": "2023-09-07T12:36:20.758Z"
   },
   {
    "duration": 51,
    "start_time": "2023-09-07T12:36:21.180Z"
   },
   {
    "duration": 13,
    "start_time": "2023-09-07T12:36:21.234Z"
   },
   {
    "duration": 309,
    "start_time": "2023-09-07T12:36:21.249Z"
   },
   {
    "duration": 13,
    "start_time": "2023-09-07T12:36:21.560Z"
   },
   {
    "duration": 10,
    "start_time": "2023-09-07T12:36:21.575Z"
   },
   {
    "duration": 13,
    "start_time": "2023-09-07T12:36:21.587Z"
   },
   {
    "duration": 486,
    "start_time": "2023-09-07T12:36:21.602Z"
   },
   {
    "duration": 1500,
    "start_time": "2023-09-07T12:36:22.090Z"
   },
   {
    "duration": 32,
    "start_time": "2023-09-07T12:36:23.592Z"
   },
   {
    "duration": 4812,
    "start_time": "2023-09-07T12:36:23.626Z"
   },
   {
    "duration": 5,
    "start_time": "2023-09-07T12:36:28.439Z"
   },
   {
    "duration": 38,
    "start_time": "2023-09-07T12:36:28.446Z"
   },
   {
    "duration": 95,
    "start_time": "2023-09-07T12:40:45.015Z"
   },
   {
    "duration": 9245,
    "start_time": "2023-09-07T12:42:14.324Z"
   },
   {
    "duration": 5,
    "start_time": "2023-09-07T12:42:37.094Z"
   },
   {
    "duration": 6,
    "start_time": "2023-09-07T12:42:38.286Z"
   },
   {
    "duration": 39,
    "start_time": "2023-09-07T12:42:39.222Z"
   },
   {
    "duration": 15,
    "start_time": "2023-09-07T12:42:40.378Z"
   },
   {
    "duration": 372,
    "start_time": "2023-09-07T12:42:43.122Z"
   },
   {
    "duration": 49,
    "start_time": "2023-09-07T12:42:44.887Z"
   },
   {
    "duration": 13,
    "start_time": "2023-09-07T12:42:46.206Z"
   },
   {
    "duration": 146,
    "start_time": "2023-09-07T12:42:48.981Z"
   },
   {
    "duration": 12,
    "start_time": "2023-09-07T12:42:52.450Z"
   },
   {
    "duration": 9,
    "start_time": "2023-09-07T12:42:56.703Z"
   },
   {
    "duration": 9,
    "start_time": "2023-09-07T12:42:58.643Z"
   },
   {
    "duration": 623,
    "start_time": "2023-09-07T12:43:02.842Z"
   },
   {
    "duration": 1493,
    "start_time": "2023-09-07T12:43:13.534Z"
   },
   {
    "duration": 19,
    "start_time": "2023-09-07T12:43:15.029Z"
   },
   {
    "duration": 4914,
    "start_time": "2023-09-07T12:43:15.050Z"
   },
   {
    "duration": 4,
    "start_time": "2023-09-07T12:43:19.966Z"
   },
   {
    "duration": 12,
    "start_time": "2023-09-07T12:43:19.972Z"
   },
   {
    "duration": 4,
    "start_time": "2023-09-07T12:43:41.180Z"
   },
   {
    "duration": 120,
    "start_time": "2023-09-09T16:40:42.144Z"
   },
   {
    "duration": 33440,
    "start_time": "2023-09-09T16:42:37.961Z"
   },
   {
    "duration": 2244,
    "start_time": "2023-09-09T16:43:11.403Z"
   },
   {
    "duration": 3,
    "start_time": "2023-09-09T16:43:13.649Z"
   },
   {
    "duration": 10,
    "start_time": "2023-09-09T16:43:13.654Z"
   },
   {
    "duration": 748,
    "start_time": "2023-09-09T16:43:13.666Z"
   },
   {
    "duration": 606,
    "start_time": "2023-09-09T16:43:14.416Z"
   },
   {
    "duration": 4,
    "start_time": "2023-09-09T16:43:15.024Z"
   },
   {
    "duration": 99,
    "start_time": "2023-09-09T16:43:15.030Z"
   },
   {
    "duration": 39,
    "start_time": "2023-09-09T16:43:15.131Z"
   },
   {
    "duration": 4,
    "start_time": "2023-09-09T16:43:15.173Z"
   },
   {
    "duration": 7,
    "start_time": "2023-09-09T16:43:15.179Z"
   },
   {
    "duration": 24,
    "start_time": "2023-09-09T16:43:15.188Z"
   },
   {
    "duration": 9,
    "start_time": "2023-09-09T16:43:15.214Z"
   },
   {
    "duration": 54,
    "start_time": "2023-09-09T16:43:15.225Z"
   },
   {
    "duration": 22,
    "start_time": "2023-09-09T16:43:15.280Z"
   },
   {
    "duration": 117,
    "start_time": "2023-09-09T16:43:15.303Z"
   },
   {
    "duration": 109,
    "start_time": "2023-09-09T16:43:15.422Z"
   },
   {
    "duration": 96,
    "start_time": "2023-09-09T16:43:15.534Z"
   },
   {
    "duration": 69,
    "start_time": "2023-09-09T16:43:15.648Z"
   },
   {
    "duration": 76,
    "start_time": "2023-09-09T16:43:15.719Z"
   },
   {
    "duration": 34,
    "start_time": "2023-09-09T16:43:15.797Z"
   },
   {
    "duration": 6,
    "start_time": "2023-09-09T16:43:15.848Z"
   },
   {
    "duration": 8,
    "start_time": "2023-09-09T16:43:15.856Z"
   },
   {
    "duration": 18,
    "start_time": "2023-09-09T16:43:15.865Z"
   },
   {
    "duration": 153,
    "start_time": "2023-09-09T16:43:15.886Z"
   },
   {
    "duration": 137,
    "start_time": "2023-09-09T16:43:16.047Z"
   },
   {
    "duration": 7,
    "start_time": "2023-09-09T16:43:16.186Z"
   },
   {
    "duration": 23,
    "start_time": "2023-09-09T16:43:16.198Z"
   },
   {
    "duration": 118,
    "start_time": "2023-09-09T16:43:16.223Z"
   },
   {
    "duration": 79,
    "start_time": "2023-09-09T16:43:16.343Z"
   },
   {
    "duration": 4,
    "start_time": "2023-09-09T16:43:16.424Z"
   },
   {
    "duration": 31,
    "start_time": "2023-09-09T16:43:16.430Z"
   },
   {
    "duration": 20,
    "start_time": "2023-09-09T16:43:16.463Z"
   },
   {
    "duration": 13,
    "start_time": "2023-09-09T16:43:16.485Z"
   },
   {
    "duration": 17,
    "start_time": "2023-09-09T16:43:16.500Z"
   },
   {
    "duration": 91,
    "start_time": "2023-09-09T16:43:16.519Z"
   },
   {
    "duration": 2,
    "start_time": "2023-09-09T16:43:16.613Z"
   },
   {
    "duration": 30,
    "start_time": "2023-09-09T16:43:16.617Z"
   },
   {
    "duration": 37,
    "start_time": "2023-09-09T16:43:16.649Z"
   },
   {
    "duration": 18,
    "start_time": "2023-09-09T16:43:16.688Z"
   },
   {
    "duration": 30,
    "start_time": "2023-09-09T16:43:16.708Z"
   },
   {
    "duration": 85,
    "start_time": "2023-09-09T16:43:16.741Z"
   },
   {
    "duration": 3,
    "start_time": "2023-09-09T16:43:16.828Z"
   },
   {
    "duration": 16,
    "start_time": "2023-09-09T16:43:16.832Z"
   },
   {
    "duration": 27,
    "start_time": "2023-09-09T16:43:16.850Z"
   },
   {
    "duration": 27,
    "start_time": "2023-09-09T16:43:16.879Z"
   },
   {
    "duration": 22,
    "start_time": "2023-09-09T16:43:16.908Z"
   },
   {
    "duration": 21,
    "start_time": "2023-09-09T16:43:16.932Z"
   },
   {
    "duration": 17,
    "start_time": "2023-09-09T16:43:16.955Z"
   },
   {
    "duration": 17,
    "start_time": "2023-09-09T16:43:16.974Z"
   },
   {
    "duration": 18,
    "start_time": "2023-09-09T16:43:16.993Z"
   },
   {
    "duration": 21,
    "start_time": "2023-09-09T16:43:17.013Z"
   },
   {
    "duration": 43,
    "start_time": "2023-09-09T16:43:17.036Z"
   },
   {
    "duration": 11,
    "start_time": "2023-09-09T16:43:17.082Z"
   },
   {
    "duration": 20,
    "start_time": "2023-09-09T16:43:17.096Z"
   },
   {
    "duration": 20,
    "start_time": "2023-09-09T16:43:17.118Z"
   },
   {
    "duration": 42,
    "start_time": "2023-09-09T16:43:17.140Z"
   },
   {
    "duration": 17,
    "start_time": "2023-09-09T16:43:17.184Z"
   },
   {
    "duration": 1117,
    "start_time": "2023-09-09T16:43:17.203Z"
   },
   {
    "duration": 11,
    "start_time": "2023-09-09T16:43:18.323Z"
   },
   {
    "duration": 25,
    "start_time": "2023-09-09T16:43:18.337Z"
   },
   {
    "duration": 19,
    "start_time": "2023-09-09T16:43:18.364Z"
   },
   {
    "duration": 32,
    "start_time": "2023-09-09T16:43:18.385Z"
   },
   {
    "duration": 3,
    "start_time": "2023-09-09T16:43:18.420Z"
   },
   {
    "duration": 24,
    "start_time": "2023-09-09T16:43:18.424Z"
   },
   {
    "duration": 27,
    "start_time": "2023-09-09T16:43:18.450Z"
   },
   {
    "duration": 19,
    "start_time": "2023-09-09T16:43:18.479Z"
   },
   {
    "duration": 33,
    "start_time": "2023-09-09T16:43:18.500Z"
   },
   {
    "duration": 14,
    "start_time": "2023-09-09T16:43:18.535Z"
   },
   {
    "duration": 26,
    "start_time": "2023-09-09T16:43:18.550Z"
   },
   {
    "duration": 26,
    "start_time": "2023-09-09T16:43:18.578Z"
   },
   {
    "duration": 29,
    "start_time": "2023-09-09T16:43:18.606Z"
   },
   {
    "duration": 66,
    "start_time": "2023-09-09T16:43:18.637Z"
   },
   {
    "duration": 52,
    "start_time": "2023-09-09T16:43:18.705Z"
   },
   {
    "duration": 2,
    "start_time": "2023-09-09T16:43:18.760Z"
   },
   {
    "duration": 22,
    "start_time": "2023-09-09T16:43:18.764Z"
   },
   {
    "duration": 31,
    "start_time": "2023-09-09T16:43:18.787Z"
   },
   {
    "duration": 117,
    "start_time": "2023-09-09T16:43:18.821Z"
   },
   {
    "duration": 77,
    "start_time": "2023-09-09T16:43:18.940Z"
   },
   {
    "duration": 9,
    "start_time": "2023-09-09T16:43:19.019Z"
   },
   {
    "duration": 18,
    "start_time": "2023-09-09T16:43:19.029Z"
   },
   {
    "duration": 25,
    "start_time": "2023-09-09T16:43:19.056Z"
   },
   {
    "duration": 33,
    "start_time": "2023-09-09T16:43:19.084Z"
   },
   {
    "duration": 9,
    "start_time": "2023-09-09T16:43:19.119Z"
   },
   {
    "duration": 20,
    "start_time": "2023-09-09T16:43:19.129Z"
   },
   {
    "duration": 7,
    "start_time": "2023-09-09T16:43:19.151Z"
   },
   {
    "duration": 39,
    "start_time": "2023-09-09T16:43:19.160Z"
   },
   {
    "duration": 32,
    "start_time": "2023-09-09T16:43:19.201Z"
   },
   {
    "duration": 21,
    "start_time": "2023-09-09T16:43:19.235Z"
   },
   {
    "duration": 6,
    "start_time": "2023-09-09T16:43:19.258Z"
   },
   {
    "duration": 4,
    "start_time": "2023-09-09T16:43:19.265Z"
   },
   {
    "duration": 9,
    "start_time": "2023-09-09T16:43:19.272Z"
   },
   {
    "duration": 19,
    "start_time": "2023-09-09T16:43:19.283Z"
   },
   {
    "duration": 263,
    "start_time": "2023-09-09T16:43:19.304Z"
   },
   {
    "duration": 5,
    "start_time": "2023-09-09T16:43:19.570Z"
   },
   {
    "duration": 9,
    "start_time": "2023-09-09T16:43:19.577Z"
   },
   {
    "duration": 6,
    "start_time": "2023-09-09T16:43:19.588Z"
   },
   {
    "duration": 7,
    "start_time": "2023-09-09T16:43:19.596Z"
   },
   {
    "duration": 9,
    "start_time": "2023-09-09T16:43:19.604Z"
   },
   {
    "duration": 37,
    "start_time": "2023-09-09T16:43:19.614Z"
   },
   {
    "duration": 6,
    "start_time": "2023-09-09T16:43:19.653Z"
   },
   {
    "duration": 8,
    "start_time": "2023-09-09T16:43:19.661Z"
   },
   {
    "duration": 106,
    "start_time": "2023-09-09T16:43:19.671Z"
   },
   {
    "duration": 10,
    "start_time": "2023-09-09T16:43:19.778Z"
   },
   {
    "duration": 10,
    "start_time": "2023-09-09T16:43:19.789Z"
   },
   {
    "duration": 4,
    "start_time": "2023-09-09T16:43:19.801Z"
   },
   {
    "duration": 4,
    "start_time": "2023-09-09T16:43:19.807Z"
   },
   {
    "duration": 39,
    "start_time": "2023-09-09T16:43:19.813Z"
   },
   {
    "duration": 9,
    "start_time": "2023-09-09T16:43:19.853Z"
   },
   {
    "duration": 12,
    "start_time": "2023-09-09T16:43:19.864Z"
   },
   {
    "duration": 10,
    "start_time": "2023-09-09T16:43:19.877Z"
   },
   {
    "duration": 9,
    "start_time": "2023-09-09T16:43:19.888Z"
   },
   {
    "duration": 8,
    "start_time": "2023-09-09T16:43:19.899Z"
   },
   {
    "duration": 39,
    "start_time": "2023-09-09T16:43:19.909Z"
   },
   {
    "duration": 9,
    "start_time": "2023-09-09T16:43:19.950Z"
   },
   {
    "duration": 9,
    "start_time": "2023-09-09T16:43:19.962Z"
   },
   {
    "duration": 23,
    "start_time": "2023-09-09T16:43:19.973Z"
   },
   {
    "duration": 27,
    "start_time": "2023-09-09T16:43:19.999Z"
   },
   {
    "duration": 46,
    "start_time": "2023-09-09T16:43:20.027Z"
   },
   {
    "duration": 12,
    "start_time": "2023-09-09T16:43:20.075Z"
   },
   {
    "duration": 27,
    "start_time": "2023-09-09T16:43:20.089Z"
   },
   {
    "duration": 25,
    "start_time": "2023-09-09T16:43:20.118Z"
   },
   {
    "duration": 15,
    "start_time": "2023-09-09T16:43:20.146Z"
   },
   {
    "duration": 65,
    "start_time": "2023-09-09T16:43:20.163Z"
   },
   {
    "duration": 2,
    "start_time": "2023-09-09T16:43:20.230Z"
   },
   {
    "duration": 29,
    "start_time": "2023-09-09T16:43:20.234Z"
   },
   {
    "duration": 18,
    "start_time": "2023-09-09T16:43:20.265Z"
   },
   {
    "duration": 73,
    "start_time": "2023-09-09T16:43:20.285Z"
   },
   {
    "duration": 29,
    "start_time": "2023-09-09T16:43:20.360Z"
   },
   {
    "duration": 94,
    "start_time": "2023-09-09T16:43:20.391Z"
   },
   {
    "duration": 4,
    "start_time": "2023-09-09T16:43:20.487Z"
   },
   {
    "duration": 32,
    "start_time": "2023-09-09T16:43:20.493Z"
   },
   {
    "duration": 21,
    "start_time": "2023-09-09T16:43:20.527Z"
   },
   {
    "duration": 29,
    "start_time": "2023-09-09T16:43:20.550Z"
   },
   {
    "duration": 22,
    "start_time": "2023-09-09T16:43:20.581Z"
   },
   {
    "duration": 18,
    "start_time": "2023-09-09T16:43:20.604Z"
   },
   {
    "duration": 5,
    "start_time": "2023-09-09T16:43:20.624Z"
   },
   {
    "duration": 19,
    "start_time": "2023-09-09T16:43:20.631Z"
   },
   {
    "duration": 24,
    "start_time": "2023-09-09T16:43:20.652Z"
   },
   {
    "duration": 19,
    "start_time": "2023-09-09T16:43:20.678Z"
   },
   {
    "duration": 7,
    "start_time": "2023-09-09T16:43:20.700Z"
   },
   {
    "duration": 144,
    "start_time": "2023-09-09T16:43:20.708Z"
   },
   {
    "duration": 8,
    "start_time": "2023-09-09T16:43:20.854Z"
   },
   {
    "duration": 167,
    "start_time": "2023-09-09T16:43:20.864Z"
   },
   {
    "duration": 61,
    "start_time": "2023-09-09T16:43:21.033Z"
   },
   {
    "duration": 23,
    "start_time": "2023-09-09T16:43:21.095Z"
   },
   {
    "duration": 1535,
    "start_time": "2023-09-09T16:43:21.119Z"
   },
   {
    "duration": 33,
    "start_time": "2023-09-09T16:43:22.656Z"
   },
   {
    "duration": 4681,
    "start_time": "2023-09-09T16:43:22.691Z"
   },
   {
    "duration": 7,
    "start_time": "2023-09-09T16:43:27.375Z"
   },
   {
    "duration": 290040,
    "start_time": "2023-09-09T16:43:27.383Z"
   },
   {
    "duration": 3,
    "start_time": "2023-09-09T16:48:17.425Z"
   },
   {
    "duration": 30,
    "start_time": "2023-09-09T16:48:17.430Z"
   },
   {
    "duration": 107388,
    "start_time": "2023-09-09T16:48:17.462Z"
   },
   {
    "duration": 3,
    "start_time": "2023-09-09T16:50:04.852Z"
   },
   {
    "duration": 223091,
    "start_time": "2023-09-09T16:50:04.857Z"
   },
   {
    "duration": 3,
    "start_time": "2023-09-09T16:53:47.950Z"
   },
   {
    "duration": 15,
    "start_time": "2023-09-09T16:53:47.955Z"
   },
   {
    "duration": 10561,
    "start_time": "2023-09-09T16:53:47.972Z"
   },
   {
    "duration": 12,
    "start_time": "2023-09-09T16:53:58.535Z"
   },
   {
    "duration": 20,
    "start_time": "2023-09-09T16:53:58.549Z"
   },
   {
    "duration": 49,
    "start_time": "2023-09-09T16:53:58.571Z"
   },
   {
    "duration": 39,
    "start_time": "2023-09-09T16:53:58.622Z"
   },
   {
    "duration": 545,
    "start_time": "2023-09-09T16:53:58.663Z"
   },
   {
    "duration": 54,
    "start_time": "2023-09-09T16:53:59.210Z"
   },
   {
    "duration": 19,
    "start_time": "2023-09-09T16:53:59.266Z"
   },
   {
    "duration": 319,
    "start_time": "2023-09-09T16:53:59.286Z"
   },
   {
    "duration": 13,
    "start_time": "2023-09-09T16:53:59.607Z"
   },
   {
    "duration": 27,
    "start_time": "2023-09-09T16:53:59.621Z"
   },
   {
    "duration": 11,
    "start_time": "2023-09-09T16:53:59.649Z"
   },
   {
    "duration": 568,
    "start_time": "2023-09-09T16:53:59.661Z"
   },
   {
    "duration": 1710,
    "start_time": "2023-09-09T16:54:00.231Z"
   },
   {
    "duration": 21,
    "start_time": "2023-09-09T16:54:01.943Z"
   },
   {
    "duration": 5548,
    "start_time": "2023-09-09T16:54:01.966Z"
   },
   {
    "duration": 6,
    "start_time": "2023-09-09T16:54:07.516Z"
   },
   {
    "duration": 8,
    "start_time": "2023-09-09T16:54:07.524Z"
   },
   {
    "duration": 2191,
    "start_time": "2023-09-09T18:48:55.777Z"
   },
   {
    "duration": 42,
    "start_time": "2023-09-09T18:55:30.366Z"
   },
   {
    "duration": 49401,
    "start_time": "2023-09-09T18:55:52.574Z"
   },
   {
    "duration": 26,
    "start_time": "2023-09-09T19:02:28.929Z"
   },
   {
    "duration": 14,
    "start_time": "2023-09-09T19:03:00.908Z"
   },
   {
    "duration": 81,
    "start_time": "2023-09-09T19:03:21.709Z"
   },
   {
    "duration": 19,
    "start_time": "2023-09-09T19:03:39.973Z"
   },
   {
    "duration": 30,
    "start_time": "2023-09-09T19:03:45.142Z"
   },
   {
    "duration": 18144,
    "start_time": "2023-09-09T19:04:27.728Z"
   },
   {
    "duration": 2094,
    "start_time": "2023-09-09T19:04:45.874Z"
   },
   {
    "duration": 6,
    "start_time": "2023-09-09T19:04:47.969Z"
   },
   {
    "duration": 41,
    "start_time": "2023-09-09T19:04:47.977Z"
   },
   {
    "duration": 923,
    "start_time": "2023-09-09T19:04:48.020Z"
   },
   {
    "duration": 669,
    "start_time": "2023-09-09T19:04:48.945Z"
   },
   {
    "duration": 3,
    "start_time": "2023-09-09T19:04:49.616Z"
   },
   {
    "duration": 80,
    "start_time": "2023-09-09T19:04:49.620Z"
   },
   {
    "duration": 49,
    "start_time": "2023-09-09T19:04:49.702Z"
   },
   {
    "duration": 13,
    "start_time": "2023-09-09T19:04:49.753Z"
   },
   {
    "duration": 19,
    "start_time": "2023-09-09T19:04:49.773Z"
   },
   {
    "duration": 22,
    "start_time": "2023-09-09T19:04:49.793Z"
   },
   {
    "duration": 38,
    "start_time": "2023-09-09T19:04:49.816Z"
   },
   {
    "duration": 41,
    "start_time": "2023-09-09T19:04:49.863Z"
   },
   {
    "duration": 27,
    "start_time": "2023-09-09T19:04:49.906Z"
   },
   {
    "duration": 111,
    "start_time": "2023-09-09T19:04:49.943Z"
   },
   {
    "duration": 92,
    "start_time": "2023-09-09T19:04:50.056Z"
   },
   {
    "duration": 102,
    "start_time": "2023-09-09T19:04:50.153Z"
   },
   {
    "duration": 73,
    "start_time": "2023-09-09T19:04:50.262Z"
   },
   {
    "duration": 86,
    "start_time": "2023-09-09T19:04:50.347Z"
   },
   {
    "duration": 51,
    "start_time": "2023-09-09T19:04:50.443Z"
   },
   {
    "duration": 58,
    "start_time": "2023-09-09T19:04:50.497Z"
   },
   {
    "duration": 43,
    "start_time": "2023-09-09T19:04:50.557Z"
   },
   {
    "duration": 18,
    "start_time": "2023-09-09T19:04:50.602Z"
   },
   {
    "duration": 162,
    "start_time": "2023-09-09T19:04:50.621Z"
   },
   {
    "duration": 156,
    "start_time": "2023-09-09T19:04:50.785Z"
   },
   {
    "duration": 13,
    "start_time": "2023-09-09T19:04:50.952Z"
   },
   {
    "duration": 25,
    "start_time": "2023-09-09T19:04:50.968Z"
   },
   {
    "duration": 123,
    "start_time": "2023-09-09T19:04:50.994Z"
   },
   {
    "duration": 97,
    "start_time": "2023-09-09T19:04:51.118Z"
   },
   {
    "duration": 2,
    "start_time": "2023-09-09T19:04:51.217Z"
   },
   {
    "duration": 46,
    "start_time": "2023-09-09T19:04:51.220Z"
   },
   {
    "duration": 43,
    "start_time": "2023-09-09T19:04:51.272Z"
   },
   {
    "duration": 18,
    "start_time": "2023-09-09T19:04:51.317Z"
   },
   {
    "duration": 30,
    "start_time": "2023-09-09T19:04:51.337Z"
   },
   {
    "duration": 113,
    "start_time": "2023-09-09T19:04:51.369Z"
   },
   {
    "duration": 3,
    "start_time": "2023-09-09T19:04:51.484Z"
   },
   {
    "duration": 13,
    "start_time": "2023-09-09T19:04:51.488Z"
   },
   {
    "duration": 49,
    "start_time": "2023-09-09T19:04:51.503Z"
   },
   {
    "duration": 12,
    "start_time": "2023-09-09T19:04:51.561Z"
   },
   {
    "duration": 15,
    "start_time": "2023-09-09T19:04:51.583Z"
   },
   {
    "duration": 96,
    "start_time": "2023-09-09T19:04:51.599Z"
   },
   {
    "duration": 3,
    "start_time": "2023-09-09T19:04:51.697Z"
   },
   {
    "duration": 35,
    "start_time": "2023-09-09T19:04:51.701Z"
   },
   {
    "duration": 12,
    "start_time": "2023-09-09T19:04:51.752Z"
   },
   {
    "duration": 27,
    "start_time": "2023-09-09T19:04:51.766Z"
   },
   {
    "duration": 37,
    "start_time": "2023-09-09T19:04:51.794Z"
   },
   {
    "duration": 30,
    "start_time": "2023-09-09T19:04:51.833Z"
   },
   {
    "duration": 16,
    "start_time": "2023-09-09T19:04:51.865Z"
   },
   {
    "duration": 62,
    "start_time": "2023-09-09T19:04:51.882Z"
   },
   {
    "duration": 29,
    "start_time": "2023-09-09T19:04:51.945Z"
   },
   {
    "duration": 36,
    "start_time": "2023-09-09T19:04:51.978Z"
   },
   {
    "duration": 52,
    "start_time": "2023-09-09T19:04:52.016Z"
   },
   {
    "duration": 19,
    "start_time": "2023-09-09T19:04:52.071Z"
   },
   {
    "duration": 45,
    "start_time": "2023-09-09T19:04:52.091Z"
   },
   {
    "duration": 32,
    "start_time": "2023-09-09T19:04:52.138Z"
   },
   {
    "duration": 27,
    "start_time": "2023-09-09T19:04:52.175Z"
   },
   {
    "duration": 15,
    "start_time": "2023-09-09T19:04:52.203Z"
   },
   {
    "duration": 1401,
    "start_time": "2023-09-09T19:04:52.219Z"
   },
   {
    "duration": 14,
    "start_time": "2023-09-09T19:04:53.622Z"
   },
   {
    "duration": 27,
    "start_time": "2023-09-09T19:04:53.645Z"
   },
   {
    "duration": 22,
    "start_time": "2023-09-09T19:04:53.673Z"
   },
   {
    "duration": 60,
    "start_time": "2023-09-09T19:04:53.697Z"
   },
   {
    "duration": 5,
    "start_time": "2023-09-09T19:04:53.759Z"
   },
   {
    "duration": 31,
    "start_time": "2023-09-09T19:04:53.766Z"
   },
   {
    "duration": 26,
    "start_time": "2023-09-09T19:04:53.799Z"
   },
   {
    "duration": 36,
    "start_time": "2023-09-09T19:04:53.829Z"
   },
   {
    "duration": 16,
    "start_time": "2023-09-09T19:04:53.867Z"
   },
   {
    "duration": 22,
    "start_time": "2023-09-09T19:04:53.885Z"
   },
   {
    "duration": 66,
    "start_time": "2023-09-09T19:04:53.908Z"
   },
   {
    "duration": 44,
    "start_time": "2023-09-09T19:04:53.976Z"
   },
   {
    "duration": 39,
    "start_time": "2023-09-09T19:04:54.022Z"
   },
   {
    "duration": 27,
    "start_time": "2023-09-09T19:04:54.063Z"
   },
   {
    "duration": 80,
    "start_time": "2023-09-09T19:04:54.092Z"
   },
   {
    "duration": 3,
    "start_time": "2023-09-09T19:04:54.174Z"
   },
   {
    "duration": 21,
    "start_time": "2023-09-09T19:04:54.182Z"
   },
   {
    "duration": 50,
    "start_time": "2023-09-09T19:04:54.204Z"
   },
   {
    "duration": 120,
    "start_time": "2023-09-09T19:04:54.256Z"
   },
   {
    "duration": 94,
    "start_time": "2023-09-09T19:04:54.380Z"
   },
   {
    "duration": 3,
    "start_time": "2023-09-09T19:04:54.481Z"
   },
   {
    "duration": 10,
    "start_time": "2023-09-09T19:04:54.486Z"
   },
   {
    "duration": 7,
    "start_time": "2023-09-09T19:04:54.497Z"
   },
   {
    "duration": 5,
    "start_time": "2023-09-09T19:04:54.506Z"
   },
   {
    "duration": 7,
    "start_time": "2023-09-09T19:04:54.512Z"
   },
   {
    "duration": 9,
    "start_time": "2023-09-09T19:04:54.520Z"
   },
   {
    "duration": 11,
    "start_time": "2023-09-09T19:04:54.530Z"
   },
   {
    "duration": 26,
    "start_time": "2023-09-09T19:04:54.542Z"
   },
   {
    "duration": 18,
    "start_time": "2023-09-09T19:04:54.570Z"
   },
   {
    "duration": 17,
    "start_time": "2023-09-09T19:04:54.589Z"
   },
   {
    "duration": 2,
    "start_time": "2023-09-09T19:04:54.608Z"
   },
   {
    "duration": 19,
    "start_time": "2023-09-09T19:04:54.612Z"
   },
   {
    "duration": 17,
    "start_time": "2023-09-09T19:04:54.639Z"
   },
   {
    "duration": 26,
    "start_time": "2023-09-09T19:04:54.660Z"
   },
   {
    "duration": 283,
    "start_time": "2023-09-09T19:04:54.688Z"
   },
   {
    "duration": 8,
    "start_time": "2023-09-09T19:04:54.976Z"
   },
   {
    "duration": 5,
    "start_time": "2023-09-09T19:04:54.986Z"
   },
   {
    "duration": 8,
    "start_time": "2023-09-09T19:04:54.993Z"
   },
   {
    "duration": 10,
    "start_time": "2023-09-09T19:04:55.002Z"
   },
   {
    "duration": 16,
    "start_time": "2023-09-09T19:04:55.014Z"
   },
   {
    "duration": 17,
    "start_time": "2023-09-09T19:04:55.031Z"
   },
   {
    "duration": 20,
    "start_time": "2023-09-09T19:04:55.052Z"
   },
   {
    "duration": 7,
    "start_time": "2023-09-09T19:04:55.075Z"
   },
   {
    "duration": 89,
    "start_time": "2023-09-09T19:04:55.083Z"
   },
   {
    "duration": 9,
    "start_time": "2023-09-09T19:04:55.174Z"
   },
   {
    "duration": 6,
    "start_time": "2023-09-09T19:04:55.185Z"
   },
   {
    "duration": 4,
    "start_time": "2023-09-09T19:04:55.193Z"
   },
   {
    "duration": 46,
    "start_time": "2023-09-09T19:04:55.198Z"
   },
   {
    "duration": 9,
    "start_time": "2023-09-09T19:04:55.247Z"
   },
   {
    "duration": 12,
    "start_time": "2023-09-09T19:04:55.261Z"
   },
   {
    "duration": 10,
    "start_time": "2023-09-09T19:04:55.276Z"
   },
   {
    "duration": 7,
    "start_time": "2023-09-09T19:04:55.288Z"
   },
   {
    "duration": 19,
    "start_time": "2023-09-09T19:04:55.297Z"
   },
   {
    "duration": 18,
    "start_time": "2023-09-09T19:04:55.317Z"
   },
   {
    "duration": 21,
    "start_time": "2023-09-09T19:04:55.339Z"
   },
   {
    "duration": 7,
    "start_time": "2023-09-09T19:04:55.367Z"
   },
   {
    "duration": 8,
    "start_time": "2023-09-09T19:04:55.377Z"
   },
   {
    "duration": 6,
    "start_time": "2023-09-09T19:04:55.387Z"
   },
   {
    "duration": 21,
    "start_time": "2023-09-09T19:04:55.394Z"
   },
   {
    "duration": 12,
    "start_time": "2023-09-09T19:04:55.417Z"
   },
   {
    "duration": 15,
    "start_time": "2023-09-09T19:04:55.431Z"
   },
   {
    "duration": 12,
    "start_time": "2023-09-09T19:04:55.448Z"
   },
   {
    "duration": 6,
    "start_time": "2023-09-09T19:04:55.472Z"
   },
   {
    "duration": 46,
    "start_time": "2023-09-09T19:04:55.480Z"
   },
   {
    "duration": 84,
    "start_time": "2023-09-09T19:04:55.528Z"
   },
   {
    "duration": 2,
    "start_time": "2023-09-09T19:04:55.614Z"
   },
   {
    "duration": 45,
    "start_time": "2023-09-09T19:04:55.617Z"
   },
   {
    "duration": 33,
    "start_time": "2023-09-09T19:04:55.669Z"
   },
   {
    "duration": 85,
    "start_time": "2023-09-09T19:04:55.705Z"
   },
   {
    "duration": 39,
    "start_time": "2023-09-09T19:04:55.792Z"
   },
   {
    "duration": 99,
    "start_time": "2023-09-09T19:04:55.832Z"
   },
   {
    "duration": 4,
    "start_time": "2023-09-09T19:04:55.932Z"
   },
   {
    "duration": 11,
    "start_time": "2023-09-09T19:04:55.938Z"
   },
   {
    "duration": 34,
    "start_time": "2023-09-09T19:04:55.950Z"
   },
   {
    "duration": 12,
    "start_time": "2023-09-09T19:04:55.986Z"
   },
   {
    "duration": 5,
    "start_time": "2023-09-09T19:04:56.000Z"
   },
   {
    "duration": 9,
    "start_time": "2023-09-09T19:04:56.007Z"
   },
   {
    "duration": 17,
    "start_time": "2023-09-09T19:04:56.017Z"
   },
   {
    "duration": 10,
    "start_time": "2023-09-09T19:04:56.040Z"
   },
   {
    "duration": 17,
    "start_time": "2023-09-09T19:04:56.054Z"
   },
   {
    "duration": 25,
    "start_time": "2023-09-09T19:04:56.073Z"
   },
   {
    "duration": 4,
    "start_time": "2023-09-09T19:04:56.100Z"
   },
   {
    "duration": 228,
    "start_time": "2023-09-09T19:04:56.106Z"
   },
   {
    "duration": 12,
    "start_time": "2023-09-09T19:04:56.341Z"
   },
   {
    "duration": 75,
    "start_time": "2023-09-09T19:04:56.355Z"
   },
   {
    "duration": 83,
    "start_time": "2023-09-09T19:04:56.435Z"
   },
   {
    "duration": 51,
    "start_time": "2023-09-09T19:04:56.520Z"
   },
   {
    "duration": 1642,
    "start_time": "2023-09-09T19:04:56.573Z"
   },
   {
    "duration": 54,
    "start_time": "2023-09-09T19:04:58.217Z"
   },
   {
    "duration": 4916,
    "start_time": "2023-09-09T19:04:58.273Z"
   },
   {
    "duration": 262,
    "start_time": "2023-09-09T19:05:03.191Z"
   },
   {
    "duration": 0,
    "start_time": "2023-09-09T19:05:03.455Z"
   },
   {
    "duration": 0,
    "start_time": "2023-09-09T19:05:03.456Z"
   },
   {
    "duration": 0,
    "start_time": "2023-09-09T19:05:03.459Z"
   },
   {
    "duration": 0,
    "start_time": "2023-09-09T19:05:03.460Z"
   },
   {
    "duration": 0,
    "start_time": "2023-09-09T19:05:03.461Z"
   },
   {
    "duration": 0,
    "start_time": "2023-09-09T19:05:03.462Z"
   },
   {
    "duration": 0,
    "start_time": "2023-09-09T19:05:03.463Z"
   },
   {
    "duration": 0,
    "start_time": "2023-09-09T19:05:03.464Z"
   },
   {
    "duration": 0,
    "start_time": "2023-09-09T19:05:03.465Z"
   },
   {
    "duration": 0,
    "start_time": "2023-09-09T19:05:03.466Z"
   },
   {
    "duration": 0,
    "start_time": "2023-09-09T19:05:03.467Z"
   },
   {
    "duration": 0,
    "start_time": "2023-09-09T19:05:03.471Z"
   },
   {
    "duration": 0,
    "start_time": "2023-09-09T19:05:03.472Z"
   },
   {
    "duration": 0,
    "start_time": "2023-09-09T19:05:03.473Z"
   },
   {
    "duration": 0,
    "start_time": "2023-09-09T19:05:03.474Z"
   },
   {
    "duration": 0,
    "start_time": "2023-09-09T19:05:03.475Z"
   },
   {
    "duration": 0,
    "start_time": "2023-09-09T19:05:03.476Z"
   },
   {
    "duration": 0,
    "start_time": "2023-09-09T19:05:03.477Z"
   },
   {
    "duration": 0,
    "start_time": "2023-09-09T19:05:03.478Z"
   },
   {
    "duration": 0,
    "start_time": "2023-09-09T19:05:03.479Z"
   },
   {
    "duration": 0,
    "start_time": "2023-09-09T19:05:03.482Z"
   },
   {
    "duration": 0,
    "start_time": "2023-09-09T19:05:03.483Z"
   },
   {
    "duration": 0,
    "start_time": "2023-09-09T19:05:03.485Z"
   },
   {
    "duration": 0,
    "start_time": "2023-09-09T19:05:03.487Z"
   },
   {
    "duration": 0,
    "start_time": "2023-09-09T19:05:03.487Z"
   },
   {
    "duration": 0,
    "start_time": "2023-09-09T19:05:03.488Z"
   },
   {
    "duration": 0,
    "start_time": "2023-09-09T19:05:03.489Z"
   },
   {
    "duration": 13,
    "start_time": "2023-09-09T19:06:30.208Z"
   },
   {
    "duration": 36466,
    "start_time": "2023-09-09T19:06:40.749Z"
   },
   {
    "duration": 76308,
    "start_time": "2023-09-09T19:09:46.141Z"
   },
   {
    "duration": 21086,
    "start_time": "2023-09-09T19:13:40.103Z"
   },
   {
    "duration": 0,
    "start_time": "2023-09-09T19:15:06.661Z"
   },
   {
    "duration": 15611,
    "start_time": "2023-09-09T19:15:11.895Z"
   },
   {
    "duration": 19496,
    "start_time": "2023-09-09T19:15:45.068Z"
   },
   {
    "duration": 2003,
    "start_time": "2023-09-09T19:16:04.570Z"
   },
   {
    "duration": 4,
    "start_time": "2023-09-09T19:16:06.581Z"
   },
   {
    "duration": 14,
    "start_time": "2023-09-09T19:16:06.587Z"
   },
   {
    "duration": 681,
    "start_time": "2023-09-09T19:16:06.603Z"
   },
   {
    "duration": 273,
    "start_time": "2023-09-09T19:16:07.289Z"
   },
   {
    "duration": 4,
    "start_time": "2023-09-09T19:16:07.572Z"
   },
   {
    "duration": 46,
    "start_time": "2023-09-09T19:16:07.577Z"
   },
   {
    "duration": 63,
    "start_time": "2023-09-09T19:16:07.625Z"
   },
   {
    "duration": 3,
    "start_time": "2023-09-09T19:16:07.692Z"
   },
   {
    "duration": 13,
    "start_time": "2023-09-09T19:16:07.697Z"
   },
   {
    "duration": 29,
    "start_time": "2023-09-09T19:16:07.713Z"
   },
   {
    "duration": 8,
    "start_time": "2023-09-09T19:16:07.745Z"
   },
   {
    "duration": 53,
    "start_time": "2023-09-09T19:16:07.757Z"
   },
   {
    "duration": 39,
    "start_time": "2023-09-09T19:16:07.812Z"
   },
   {
    "duration": 104,
    "start_time": "2023-09-09T19:16:07.855Z"
   },
   {
    "duration": 79,
    "start_time": "2023-09-09T19:16:07.961Z"
   },
   {
    "duration": 80,
    "start_time": "2023-09-09T19:16:08.042Z"
   },
   {
    "duration": 64,
    "start_time": "2023-09-09T19:16:08.128Z"
   },
   {
    "duration": 88,
    "start_time": "2023-09-09T19:16:08.193Z"
   },
   {
    "duration": 34,
    "start_time": "2023-09-09T19:16:08.282Z"
   },
   {
    "duration": 23,
    "start_time": "2023-09-09T19:16:08.318Z"
   },
   {
    "duration": 20,
    "start_time": "2023-09-09T19:16:08.343Z"
   },
   {
    "duration": 10,
    "start_time": "2023-09-09T19:16:08.369Z"
   },
   {
    "duration": 148,
    "start_time": "2023-09-09T19:16:08.381Z"
   },
   {
    "duration": 136,
    "start_time": "2023-09-09T19:16:08.536Z"
   },
   {
    "duration": 6,
    "start_time": "2023-09-09T19:16:08.674Z"
   },
   {
    "duration": 15,
    "start_time": "2023-09-09T19:16:08.686Z"
   },
   {
    "duration": 91,
    "start_time": "2023-09-09T19:16:08.703Z"
   },
   {
    "duration": 106,
    "start_time": "2023-09-09T19:16:08.796Z"
   },
   {
    "duration": 3,
    "start_time": "2023-09-09T19:16:08.904Z"
   },
   {
    "duration": 12,
    "start_time": "2023-09-09T19:16:08.909Z"
   },
   {
    "duration": 31,
    "start_time": "2023-09-09T19:16:08.923Z"
   },
   {
    "duration": 4,
    "start_time": "2023-09-09T19:16:08.956Z"
   },
   {
    "duration": 6,
    "start_time": "2023-09-09T19:16:08.961Z"
   },
   {
    "duration": 103,
    "start_time": "2023-09-09T19:16:08.971Z"
   },
   {
    "duration": 4,
    "start_time": "2023-09-09T19:16:09.081Z"
   },
   {
    "duration": 6,
    "start_time": "2023-09-09T19:16:09.087Z"
   },
   {
    "duration": 14,
    "start_time": "2023-09-09T19:16:09.094Z"
   },
   {
    "duration": 5,
    "start_time": "2023-09-09T19:16:09.109Z"
   },
   {
    "duration": 6,
    "start_time": "2023-09-09T19:16:09.115Z"
   },
   {
    "duration": 81,
    "start_time": "2023-09-09T19:16:09.122Z"
   },
   {
    "duration": 2,
    "start_time": "2023-09-09T19:16:09.205Z"
   },
   {
    "duration": 6,
    "start_time": "2023-09-09T19:16:09.208Z"
   },
   {
    "duration": 6,
    "start_time": "2023-09-09T19:16:09.215Z"
   },
   {
    "duration": 21,
    "start_time": "2023-09-09T19:16:09.224Z"
   },
   {
    "duration": 18,
    "start_time": "2023-09-09T19:16:09.246Z"
   },
   {
    "duration": 13,
    "start_time": "2023-09-09T19:16:09.270Z"
   },
   {
    "duration": 6,
    "start_time": "2023-09-09T19:16:09.284Z"
   },
   {
    "duration": 13,
    "start_time": "2023-09-09T19:16:09.291Z"
   },
   {
    "duration": 8,
    "start_time": "2023-09-09T19:16:09.306Z"
   },
   {
    "duration": 7,
    "start_time": "2023-09-09T19:16:09.315Z"
   },
   {
    "duration": 35,
    "start_time": "2023-09-09T19:16:09.328Z"
   },
   {
    "duration": 18,
    "start_time": "2023-09-09T19:16:09.365Z"
   },
   {
    "duration": 4,
    "start_time": "2023-09-09T19:16:09.385Z"
   },
   {
    "duration": 9,
    "start_time": "2023-09-09T19:16:09.391Z"
   },
   {
    "duration": 15,
    "start_time": "2023-09-09T19:16:09.402Z"
   },
   {
    "duration": 21,
    "start_time": "2023-09-09T19:16:09.419Z"
   },
   {
    "duration": 1445,
    "start_time": "2023-09-09T19:16:09.442Z"
   },
   {
    "duration": 10,
    "start_time": "2023-09-09T19:16:10.888Z"
   },
   {
    "duration": 13,
    "start_time": "2023-09-09T19:16:10.900Z"
   },
   {
    "duration": 22,
    "start_time": "2023-09-09T19:16:10.915Z"
   },
   {
    "duration": 48,
    "start_time": "2023-09-09T19:16:10.946Z"
   },
   {
    "duration": 2,
    "start_time": "2023-09-09T19:16:10.996Z"
   },
   {
    "duration": 6,
    "start_time": "2023-09-09T19:16:11.000Z"
   },
   {
    "duration": 6,
    "start_time": "2023-09-09T19:16:11.008Z"
   },
   {
    "duration": 31,
    "start_time": "2023-09-09T19:16:11.016Z"
   },
   {
    "duration": 11,
    "start_time": "2023-09-09T19:16:11.049Z"
   },
   {
    "duration": 11,
    "start_time": "2023-09-09T19:16:11.062Z"
   },
   {
    "duration": 21,
    "start_time": "2023-09-09T19:16:11.075Z"
   },
   {
    "duration": 22,
    "start_time": "2023-09-09T19:16:11.098Z"
   },
   {
    "duration": 19,
    "start_time": "2023-09-09T19:16:11.121Z"
   },
   {
    "duration": 11,
    "start_time": "2023-09-09T19:16:11.141Z"
   },
   {
    "duration": 45,
    "start_time": "2023-09-09T19:16:11.157Z"
   },
   {
    "duration": 3,
    "start_time": "2023-09-09T19:16:11.203Z"
   },
   {
    "duration": 14,
    "start_time": "2023-09-09T19:16:11.208Z"
   },
   {
    "duration": 22,
    "start_time": "2023-09-09T19:16:11.224Z"
   },
   {
    "duration": 103,
    "start_time": "2023-09-09T19:16:11.247Z"
   },
   {
    "duration": 73,
    "start_time": "2023-09-09T19:16:11.352Z"
   },
   {
    "duration": 22,
    "start_time": "2023-09-09T19:16:11.428Z"
   },
   {
    "duration": 6,
    "start_time": "2023-09-09T19:16:11.451Z"
   },
   {
    "duration": 19,
    "start_time": "2023-09-09T19:16:11.469Z"
   },
   {
    "duration": 9,
    "start_time": "2023-09-09T19:16:11.490Z"
   },
   {
    "duration": 5,
    "start_time": "2023-09-09T19:16:11.501Z"
   },
   {
    "duration": 10,
    "start_time": "2023-09-09T19:16:11.508Z"
   },
   {
    "duration": 5,
    "start_time": "2023-09-09T19:16:11.519Z"
   },
   {
    "duration": 11,
    "start_time": "2023-09-09T19:16:11.531Z"
   },
   {
    "duration": 10,
    "start_time": "2023-09-09T19:16:11.548Z"
   },
   {
    "duration": 27,
    "start_time": "2023-09-09T19:16:11.560Z"
   },
   {
    "duration": 14,
    "start_time": "2023-09-09T19:16:11.589Z"
   },
   {
    "duration": 4,
    "start_time": "2023-09-09T19:16:11.605Z"
   },
   {
    "duration": 5,
    "start_time": "2023-09-09T19:16:11.611Z"
   },
   {
    "duration": 49,
    "start_time": "2023-09-09T19:16:11.617Z"
   },
   {
    "duration": 295,
    "start_time": "2023-09-09T19:16:11.672Z"
   },
   {
    "duration": 7,
    "start_time": "2023-09-09T19:16:11.968Z"
   },
   {
    "duration": 69,
    "start_time": "2023-09-09T19:16:11.976Z"
   },
   {
    "duration": 13,
    "start_time": "2023-09-09T19:16:12.047Z"
   },
   {
    "duration": 21,
    "start_time": "2023-09-09T19:16:12.062Z"
   },
   {
    "duration": 5,
    "start_time": "2023-09-09T19:16:12.086Z"
   },
   {
    "duration": 8,
    "start_time": "2023-09-09T19:16:12.093Z"
   },
   {
    "duration": 4,
    "start_time": "2023-09-09T19:16:12.102Z"
   },
   {
    "duration": 9,
    "start_time": "2023-09-09T19:16:12.108Z"
   },
   {
    "duration": 116,
    "start_time": "2023-09-09T19:16:12.118Z"
   },
   {
    "duration": 16,
    "start_time": "2023-09-09T19:16:12.246Z"
   },
   {
    "duration": 10,
    "start_time": "2023-09-09T19:16:12.265Z"
   },
   {
    "duration": 6,
    "start_time": "2023-09-09T19:16:12.278Z"
   },
   {
    "duration": 24,
    "start_time": "2023-09-09T19:16:12.286Z"
   },
   {
    "duration": 8,
    "start_time": "2023-09-09T19:16:12.312Z"
   },
   {
    "duration": 13,
    "start_time": "2023-09-09T19:16:12.322Z"
   },
   {
    "duration": 23,
    "start_time": "2023-09-09T19:16:12.336Z"
   },
   {
    "duration": 7,
    "start_time": "2023-09-09T19:16:12.362Z"
   },
   {
    "duration": 26,
    "start_time": "2023-09-09T19:16:12.371Z"
   },
   {
    "duration": 9,
    "start_time": "2023-09-09T19:16:12.399Z"
   },
   {
    "duration": 6,
    "start_time": "2023-09-09T19:16:12.410Z"
   },
   {
    "duration": 6,
    "start_time": "2023-09-09T19:16:12.418Z"
   },
   {
    "duration": 21,
    "start_time": "2023-09-09T19:16:12.426Z"
   },
   {
    "duration": 26,
    "start_time": "2023-09-09T19:16:12.449Z"
   },
   {
    "duration": 30,
    "start_time": "2023-09-09T19:16:12.476Z"
   },
   {
    "duration": 12,
    "start_time": "2023-09-09T19:16:12.508Z"
   },
   {
    "duration": 11,
    "start_time": "2023-09-09T19:16:12.522Z"
   },
   {
    "duration": 11,
    "start_time": "2023-09-09T19:16:12.535Z"
   },
   {
    "duration": 13,
    "start_time": "2023-09-09T19:16:12.547Z"
   },
   {
    "duration": 8,
    "start_time": "2023-09-09T19:16:12.561Z"
   },
   {
    "duration": 48,
    "start_time": "2023-09-09T19:16:12.571Z"
   },
   {
    "duration": 11,
    "start_time": "2023-09-09T19:16:12.625Z"
   },
   {
    "duration": 3,
    "start_time": "2023-09-09T19:16:12.638Z"
   },
   {
    "duration": 25,
    "start_time": "2023-09-09T19:16:12.643Z"
   },
   {
    "duration": 77,
    "start_time": "2023-09-09T19:16:12.675Z"
   },
   {
    "duration": 33,
    "start_time": "2023-09-09T19:16:12.758Z"
   },
   {
    "duration": 84,
    "start_time": "2023-09-09T19:16:12.792Z"
   },
   {
    "duration": 11,
    "start_time": "2023-09-09T19:16:12.878Z"
   },
   {
    "duration": 11,
    "start_time": "2023-09-09T19:16:12.890Z"
   },
   {
    "duration": 20,
    "start_time": "2023-09-09T19:16:12.902Z"
   },
   {
    "duration": 28,
    "start_time": "2023-09-09T19:16:12.927Z"
   },
   {
    "duration": 27,
    "start_time": "2023-09-09T19:16:12.959Z"
   },
   {
    "duration": 17,
    "start_time": "2023-09-09T19:16:12.987Z"
   },
   {
    "duration": 57,
    "start_time": "2023-09-09T19:16:13.005Z"
   },
   {
    "duration": 9,
    "start_time": "2023-09-09T19:16:13.068Z"
   },
   {
    "duration": 13,
    "start_time": "2023-09-09T19:16:13.079Z"
   },
   {
    "duration": 56,
    "start_time": "2023-09-09T19:16:13.094Z"
   },
   {
    "duration": 16,
    "start_time": "2023-09-09T19:16:13.159Z"
   },
   {
    "duration": 169,
    "start_time": "2023-09-09T19:16:13.177Z"
   },
   {
    "duration": 14,
    "start_time": "2023-09-09T19:16:13.353Z"
   },
   {
    "duration": 65,
    "start_time": "2023-09-09T19:16:13.371Z"
   },
   {
    "duration": 70,
    "start_time": "2023-09-09T19:16:13.438Z"
   },
   {
    "duration": 60,
    "start_time": "2023-09-09T19:16:13.510Z"
   },
   {
    "duration": 1681,
    "start_time": "2023-09-09T19:16:13.574Z"
   },
   {
    "duration": 41,
    "start_time": "2023-09-09T19:16:15.262Z"
   },
   {
    "duration": 3,
    "start_time": "2023-09-09T19:16:15.304Z"
   },
   {
    "duration": 5329,
    "start_time": "2023-09-09T19:16:15.308Z"
   },
   {
    "duration": 0,
    "start_time": "2023-09-09T19:16:20.639Z"
   },
   {
    "duration": 0,
    "start_time": "2023-09-09T19:16:20.640Z"
   },
   {
    "duration": 0,
    "start_time": "2023-09-09T19:16:20.641Z"
   },
   {
    "duration": 0,
    "start_time": "2023-09-09T19:16:20.641Z"
   },
   {
    "duration": 0,
    "start_time": "2023-09-09T19:16:20.642Z"
   },
   {
    "duration": 0,
    "start_time": "2023-09-09T19:16:20.643Z"
   },
   {
    "duration": 0,
    "start_time": "2023-09-09T19:16:20.644Z"
   },
   {
    "duration": 0,
    "start_time": "2023-09-09T19:16:20.645Z"
   },
   {
    "duration": 0,
    "start_time": "2023-09-09T19:16:20.647Z"
   },
   {
    "duration": 0,
    "start_time": "2023-09-09T19:16:20.648Z"
   },
   {
    "duration": 0,
    "start_time": "2023-09-09T19:16:20.649Z"
   },
   {
    "duration": 0,
    "start_time": "2023-09-09T19:16:20.650Z"
   },
   {
    "duration": 0,
    "start_time": "2023-09-09T19:16:20.652Z"
   },
   {
    "duration": 0,
    "start_time": "2023-09-09T19:16:20.653Z"
   },
   {
    "duration": 0,
    "start_time": "2023-09-09T19:16:20.654Z"
   },
   {
    "duration": 0,
    "start_time": "2023-09-09T19:16:20.656Z"
   },
   {
    "duration": 0,
    "start_time": "2023-09-09T19:16:20.657Z"
   },
   {
    "duration": 0,
    "start_time": "2023-09-09T19:16:20.658Z"
   },
   {
    "duration": 0,
    "start_time": "2023-09-09T19:16:20.659Z"
   },
   {
    "duration": 0,
    "start_time": "2023-09-09T19:16:20.661Z"
   },
   {
    "duration": 0,
    "start_time": "2023-09-09T19:16:20.662Z"
   },
   {
    "duration": 0,
    "start_time": "2023-09-09T19:16:20.663Z"
   },
   {
    "duration": 0,
    "start_time": "2023-09-09T19:16:20.665Z"
   },
   {
    "duration": 0,
    "start_time": "2023-09-09T19:16:20.666Z"
   },
   {
    "duration": 0,
    "start_time": "2023-09-09T19:16:20.667Z"
   },
   {
    "duration": 0,
    "start_time": "2023-09-09T19:16:20.668Z"
   },
   {
    "duration": 0,
    "start_time": "2023-09-09T19:16:20.670Z"
   },
   {
    "duration": 24486,
    "start_time": "2023-09-09T19:17:32.217Z"
   },
   {
    "duration": 151,
    "start_time": "2023-09-09T19:20:31.469Z"
   },
   {
    "duration": 26186,
    "start_time": "2023-09-09T19:20:50.432Z"
   },
   {
    "duration": 16930,
    "start_time": "2023-09-09T19:34:05.051Z"
   },
   {
    "duration": 1871,
    "start_time": "2023-09-09T19:34:21.983Z"
   },
   {
    "duration": 5,
    "start_time": "2023-09-09T19:34:23.855Z"
   },
   {
    "duration": 23,
    "start_time": "2023-09-09T19:34:23.861Z"
   },
   {
    "duration": 673,
    "start_time": "2023-09-09T19:34:23.886Z"
   },
   {
    "duration": 269,
    "start_time": "2023-09-09T19:34:24.565Z"
   },
   {
    "duration": 4,
    "start_time": "2023-09-09T19:34:24.836Z"
   },
   {
    "duration": 57,
    "start_time": "2023-09-09T19:34:24.842Z"
   },
   {
    "duration": 64,
    "start_time": "2023-09-09T19:34:24.901Z"
   },
   {
    "duration": 3,
    "start_time": "2023-09-09T19:34:24.967Z"
   },
   {
    "duration": 7,
    "start_time": "2023-09-09T19:34:24.971Z"
   },
   {
    "duration": 6,
    "start_time": "2023-09-09T19:34:24.980Z"
   },
   {
    "duration": 6,
    "start_time": "2023-09-09T19:34:24.987Z"
   },
   {
    "duration": 41,
    "start_time": "2023-09-09T19:34:24.995Z"
   },
   {
    "duration": 30,
    "start_time": "2023-09-09T19:34:25.047Z"
   },
   {
    "duration": 100,
    "start_time": "2023-09-09T19:34:25.079Z"
   },
   {
    "duration": 89,
    "start_time": "2023-09-09T19:34:25.180Z"
   },
   {
    "duration": 74,
    "start_time": "2023-09-09T19:34:25.271Z"
   },
   {
    "duration": 60,
    "start_time": "2023-09-09T19:34:25.354Z"
   },
   {
    "duration": 72,
    "start_time": "2023-09-09T19:34:25.415Z"
   },
   {
    "duration": 37,
    "start_time": "2023-09-09T19:34:25.488Z"
   },
   {
    "duration": 7,
    "start_time": "2023-09-09T19:34:25.527Z"
   },
   {
    "duration": 8,
    "start_time": "2023-09-09T19:34:25.536Z"
   },
   {
    "duration": 4,
    "start_time": "2023-09-09T19:34:25.547Z"
   },
   {
    "duration": 139,
    "start_time": "2023-09-09T19:34:25.553Z"
   },
   {
    "duration": 156,
    "start_time": "2023-09-09T19:34:25.694Z"
   },
   {
    "duration": 9,
    "start_time": "2023-09-09T19:34:25.851Z"
   },
   {
    "duration": 10,
    "start_time": "2023-09-09T19:34:25.861Z"
   },
   {
    "duration": 88,
    "start_time": "2023-09-09T19:34:25.873Z"
   },
   {
    "duration": 87,
    "start_time": "2023-09-09T19:34:25.963Z"
   },
   {
    "duration": 3,
    "start_time": "2023-09-09T19:34:26.053Z"
   },
   {
    "duration": 2,
    "start_time": "2023-09-09T19:34:26.057Z"
   },
   {
    "duration": 19,
    "start_time": "2023-09-09T19:34:26.061Z"
   },
   {
    "duration": 2,
    "start_time": "2023-09-09T19:34:26.082Z"
   },
   {
    "duration": 5,
    "start_time": "2023-09-09T19:34:26.086Z"
   },
   {
    "duration": 141,
    "start_time": "2023-09-09T19:34:26.092Z"
   },
   {
    "duration": 10,
    "start_time": "2023-09-09T19:34:26.235Z"
   },
   {
    "duration": 16,
    "start_time": "2023-09-09T19:34:26.247Z"
   },
   {
    "duration": 10,
    "start_time": "2023-09-09T19:34:26.265Z"
   },
   {
    "duration": 2,
    "start_time": "2023-09-09T19:34:26.276Z"
   },
   {
    "duration": 2,
    "start_time": "2023-09-09T19:34:26.284Z"
   },
   {
    "duration": 73,
    "start_time": "2023-09-09T19:34:26.288Z"
   },
   {
    "duration": 3,
    "start_time": "2023-09-09T19:34:26.365Z"
   },
   {
    "duration": 10,
    "start_time": "2023-09-09T19:34:26.369Z"
   },
   {
    "duration": 4,
    "start_time": "2023-09-09T19:34:26.380Z"
   },
   {
    "duration": 8,
    "start_time": "2023-09-09T19:34:26.385Z"
   },
   {
    "duration": 10,
    "start_time": "2023-09-09T19:34:26.394Z"
   },
   {
    "duration": 9,
    "start_time": "2023-09-09T19:34:26.405Z"
   },
   {
    "duration": 17,
    "start_time": "2023-09-09T19:34:26.415Z"
   },
   {
    "duration": 10,
    "start_time": "2023-09-09T19:34:26.435Z"
   },
   {
    "duration": 11,
    "start_time": "2023-09-09T19:34:26.447Z"
   },
   {
    "duration": 5,
    "start_time": "2023-09-09T19:34:26.460Z"
   },
   {
    "duration": 10,
    "start_time": "2023-09-09T19:34:26.469Z"
   },
   {
    "duration": 7,
    "start_time": "2023-09-09T19:34:26.481Z"
   },
   {
    "duration": 6,
    "start_time": "2023-09-09T19:34:26.490Z"
   },
   {
    "duration": 8,
    "start_time": "2023-09-09T19:34:26.497Z"
   },
   {
    "duration": 32,
    "start_time": "2023-09-09T19:34:26.507Z"
   },
   {
    "duration": 24,
    "start_time": "2023-09-09T19:34:26.541Z"
   },
   {
    "duration": 1218,
    "start_time": "2023-09-09T19:34:26.567Z"
   },
   {
    "duration": 10,
    "start_time": "2023-09-09T19:34:27.787Z"
   },
   {
    "duration": 34,
    "start_time": "2023-09-09T19:34:27.799Z"
   },
   {
    "duration": 16,
    "start_time": "2023-09-09T19:34:27.841Z"
   },
   {
    "duration": 34,
    "start_time": "2023-09-09T19:34:27.863Z"
   },
   {
    "duration": 2,
    "start_time": "2023-09-09T19:34:27.899Z"
   },
   {
    "duration": 5,
    "start_time": "2023-09-09T19:34:27.902Z"
   },
   {
    "duration": 25,
    "start_time": "2023-09-09T19:34:27.909Z"
   },
   {
    "duration": 26,
    "start_time": "2023-09-09T19:34:27.939Z"
   },
   {
    "duration": 4,
    "start_time": "2023-09-09T19:34:27.967Z"
   },
   {
    "duration": 4,
    "start_time": "2023-09-09T19:34:27.973Z"
   },
   {
    "duration": 6,
    "start_time": "2023-09-09T19:34:27.978Z"
   },
   {
    "duration": 7,
    "start_time": "2023-09-09T19:34:27.986Z"
   },
   {
    "duration": 5,
    "start_time": "2023-09-09T19:34:27.995Z"
   },
   {
    "duration": 4,
    "start_time": "2023-09-09T19:34:28.001Z"
   },
   {
    "duration": 48,
    "start_time": "2023-09-09T19:34:28.007Z"
   },
   {
    "duration": 3,
    "start_time": "2023-09-09T19:34:28.057Z"
   },
   {
    "duration": 5,
    "start_time": "2023-09-09T19:34:28.064Z"
   },
   {
    "duration": 8,
    "start_time": "2023-09-09T19:34:28.071Z"
   },
   {
    "duration": 92,
    "start_time": "2023-09-09T19:34:28.080Z"
   },
   {
    "duration": 83,
    "start_time": "2023-09-09T19:34:28.173Z"
   },
   {
    "duration": 5,
    "start_time": "2023-09-09T19:34:28.257Z"
   },
   {
    "duration": 8,
    "start_time": "2023-09-09T19:34:28.268Z"
   },
   {
    "duration": 5,
    "start_time": "2023-09-09T19:34:28.278Z"
   },
   {
    "duration": 5,
    "start_time": "2023-09-09T19:34:28.284Z"
   },
   {
    "duration": 7,
    "start_time": "2023-09-09T19:34:28.290Z"
   },
   {
    "duration": 39,
    "start_time": "2023-09-09T19:34:28.298Z"
   },
   {
    "duration": 3,
    "start_time": "2023-09-09T19:34:28.345Z"
   },
   {
    "duration": 10,
    "start_time": "2023-09-09T19:34:28.354Z"
   },
   {
    "duration": 8,
    "start_time": "2023-09-09T19:34:28.366Z"
   },
   {
    "duration": 20,
    "start_time": "2023-09-09T19:34:28.375Z"
   },
   {
    "duration": 2,
    "start_time": "2023-09-09T19:34:28.397Z"
   },
   {
    "duration": 6,
    "start_time": "2023-09-09T19:34:28.400Z"
   },
   {
    "duration": 4,
    "start_time": "2023-09-09T19:34:28.407Z"
   },
   {
    "duration": 31,
    "start_time": "2023-09-09T19:34:28.413Z"
   },
   {
    "duration": 308,
    "start_time": "2023-09-09T19:34:28.446Z"
   },
   {
    "duration": 6,
    "start_time": "2023-09-09T19:34:28.761Z"
   },
   {
    "duration": 5,
    "start_time": "2023-09-09T19:34:28.769Z"
   },
   {
    "duration": 7,
    "start_time": "2023-09-09T19:34:28.776Z"
   },
   {
    "duration": 6,
    "start_time": "2023-09-09T19:34:28.784Z"
   },
   {
    "duration": 5,
    "start_time": "2023-09-09T19:34:28.791Z"
   },
   {
    "duration": 4,
    "start_time": "2023-09-09T19:34:28.798Z"
   },
   {
    "duration": 6,
    "start_time": "2023-09-09T19:34:28.804Z"
   },
   {
    "duration": 27,
    "start_time": "2023-09-09T19:34:28.811Z"
   },
   {
    "duration": 103,
    "start_time": "2023-09-09T19:34:28.843Z"
   },
   {
    "duration": 14,
    "start_time": "2023-09-09T19:34:28.953Z"
   },
   {
    "duration": 12,
    "start_time": "2023-09-09T19:34:28.978Z"
   },
   {
    "duration": 6,
    "start_time": "2023-09-09T19:34:28.992Z"
   },
   {
    "duration": 7,
    "start_time": "2023-09-09T19:34:28.999Z"
   },
   {
    "duration": 8,
    "start_time": "2023-09-09T19:34:29.007Z"
   },
   {
    "duration": 7,
    "start_time": "2023-09-09T19:34:29.016Z"
   },
   {
    "duration": 9,
    "start_time": "2023-09-09T19:34:29.031Z"
   },
   {
    "duration": 14,
    "start_time": "2023-09-09T19:34:29.047Z"
   },
   {
    "duration": 9,
    "start_time": "2023-09-09T19:34:29.063Z"
   },
   {
    "duration": 6,
    "start_time": "2023-09-09T19:34:29.073Z"
   },
   {
    "duration": 11,
    "start_time": "2023-09-09T19:34:29.081Z"
   },
   {
    "duration": 12,
    "start_time": "2023-09-09T19:34:29.093Z"
   },
   {
    "duration": 7,
    "start_time": "2023-09-09T19:34:29.107Z"
   },
   {
    "duration": 13,
    "start_time": "2023-09-09T19:34:29.116Z"
   },
   {
    "duration": 30,
    "start_time": "2023-09-09T19:34:29.135Z"
   },
   {
    "duration": 14,
    "start_time": "2023-09-09T19:34:29.166Z"
   },
   {
    "duration": 9,
    "start_time": "2023-09-09T19:34:29.182Z"
   },
   {
    "duration": 6,
    "start_time": "2023-09-09T19:34:29.193Z"
   },
   {
    "duration": 18,
    "start_time": "2023-09-09T19:34:29.207Z"
   },
   {
    "duration": 18,
    "start_time": "2023-09-09T19:34:29.227Z"
   },
   {
    "duration": 58,
    "start_time": "2023-09-09T19:34:29.247Z"
   },
   {
    "duration": 3,
    "start_time": "2023-09-09T19:34:29.307Z"
   },
   {
    "duration": 8,
    "start_time": "2023-09-09T19:34:29.312Z"
   },
   {
    "duration": 29,
    "start_time": "2023-09-09T19:34:29.322Z"
   },
   {
    "duration": 62,
    "start_time": "2023-09-09T19:34:29.357Z"
   },
   {
    "duration": 46,
    "start_time": "2023-09-09T19:34:29.421Z"
   },
   {
    "duration": 89,
    "start_time": "2023-09-09T19:34:29.469Z"
   },
   {
    "duration": 5,
    "start_time": "2023-09-09T19:34:29.562Z"
   },
   {
    "duration": 15,
    "start_time": "2023-09-09T19:34:29.569Z"
   },
   {
    "duration": 6,
    "start_time": "2023-09-09T19:34:29.585Z"
   },
   {
    "duration": 8,
    "start_time": "2023-09-09T19:34:29.593Z"
   },
   {
    "duration": 6,
    "start_time": "2023-09-09T19:34:29.603Z"
   },
   {
    "duration": 17,
    "start_time": "2023-09-09T19:34:29.610Z"
   },
   {
    "duration": 10,
    "start_time": "2023-09-09T19:34:29.633Z"
   },
   {
    "duration": 8,
    "start_time": "2023-09-09T19:34:29.644Z"
   },
   {
    "duration": 16,
    "start_time": "2023-09-09T19:34:29.654Z"
   },
   {
    "duration": 18,
    "start_time": "2023-09-09T19:34:29.672Z"
   },
   {
    "duration": 4,
    "start_time": "2023-09-09T19:34:29.692Z"
   },
   {
    "duration": 176,
    "start_time": "2023-09-09T19:34:29.698Z"
   },
   {
    "duration": 9,
    "start_time": "2023-09-09T19:34:29.876Z"
   },
   {
    "duration": 84,
    "start_time": "2023-09-09T19:34:29.887Z"
   },
   {
    "duration": 87,
    "start_time": "2023-09-09T19:34:29.973Z"
   },
   {
    "duration": 24,
    "start_time": "2023-09-09T19:34:30.066Z"
   },
   {
    "duration": 1968,
    "start_time": "2023-09-09T19:34:30.092Z"
   },
   {
    "duration": 32,
    "start_time": "2023-09-09T19:34:32.062Z"
   },
   {
    "duration": 2,
    "start_time": "2023-09-09T19:34:32.096Z"
   },
   {
    "duration": 27746,
    "start_time": "2023-09-09T19:34:32.100Z"
   },
   {
    "duration": 7468,
    "start_time": "2023-09-09T19:34:59.847Z"
   },
   {
    "duration": 7362,
    "start_time": "2023-09-09T19:35:07.317Z"
   },
   {
    "duration": 30570,
    "start_time": "2023-09-09T19:35:14.680Z"
   },
   {
    "duration": 75,
    "start_time": "2023-09-09T19:35:45.252Z"
   },
   {
    "duration": 129218,
    "start_time": "2023-09-09T19:35:45.330Z"
   },
   {
    "duration": 6,
    "start_time": "2023-09-09T19:37:54.554Z"
   },
   {
    "duration": 11,
    "start_time": "2023-09-09T19:37:54.563Z"
   },
   {
    "duration": 38884,
    "start_time": "2023-09-09T19:37:54.575Z"
   },
   {
    "duration": 6,
    "start_time": "2023-09-09T19:38:33.466Z"
   },
   {
    "duration": 17818,
    "start_time": "2023-09-09T19:39:21.618Z"
   },
   {
    "duration": 2071,
    "start_time": "2023-09-09T19:39:39.438Z"
   },
   {
    "duration": 3,
    "start_time": "2023-09-09T19:39:41.510Z"
   },
   {
    "duration": 55,
    "start_time": "2023-09-09T19:39:41.515Z"
   },
   {
    "duration": 787,
    "start_time": "2023-09-09T19:39:41.573Z"
   },
   {
    "duration": 290,
    "start_time": "2023-09-09T19:39:42.365Z"
   },
   {
    "duration": 3,
    "start_time": "2023-09-09T19:39:42.657Z"
   },
   {
    "duration": 91,
    "start_time": "2023-09-09T19:39:42.669Z"
   },
   {
    "duration": 49,
    "start_time": "2023-09-09T19:39:42.766Z"
   },
   {
    "duration": 24,
    "start_time": "2023-09-09T19:39:42.817Z"
   },
   {
    "duration": 119,
    "start_time": "2023-09-09T19:39:42.843Z"
   },
   {
    "duration": 131,
    "start_time": "2023-09-09T19:39:42.968Z"
   },
   {
    "duration": 6,
    "start_time": "2023-09-09T19:39:43.101Z"
   },
   {
    "duration": 69,
    "start_time": "2023-09-09T19:39:43.111Z"
   },
   {
    "duration": 20,
    "start_time": "2023-09-09T19:39:43.181Z"
   },
   {
    "duration": 133,
    "start_time": "2023-09-09T19:39:43.203Z"
   },
   {
    "duration": 102,
    "start_time": "2023-09-09T19:39:43.343Z"
   },
   {
    "duration": 107,
    "start_time": "2023-09-09T19:39:43.452Z"
   },
   {
    "duration": 75,
    "start_time": "2023-09-09T19:39:43.561Z"
   },
   {
    "duration": 89,
    "start_time": "2023-09-09T19:39:43.638Z"
   },
   {
    "duration": 79,
    "start_time": "2023-09-09T19:39:43.729Z"
   },
   {
    "duration": 46,
    "start_time": "2023-09-09T19:39:43.810Z"
   },
   {
    "duration": 20,
    "start_time": "2023-09-09T19:39:43.860Z"
   },
   {
    "duration": 4,
    "start_time": "2023-09-09T19:39:43.882Z"
   },
   {
    "duration": 199,
    "start_time": "2023-09-09T19:39:43.888Z"
   },
   {
    "duration": 129,
    "start_time": "2023-09-09T19:39:44.089Z"
   },
   {
    "duration": 24,
    "start_time": "2023-09-09T19:39:44.220Z"
   },
   {
    "duration": 57,
    "start_time": "2023-09-09T19:39:44.248Z"
   },
   {
    "duration": 101,
    "start_time": "2023-09-09T19:39:44.307Z"
   },
   {
    "duration": 106,
    "start_time": "2023-09-09T19:39:44.410Z"
   },
   {
    "duration": 91,
    "start_time": "2023-09-09T19:39:44.518Z"
   },
   {
    "duration": 85,
    "start_time": "2023-09-09T19:39:44.611Z"
   },
   {
    "duration": 97,
    "start_time": "2023-09-09T19:39:44.698Z"
   },
   {
    "duration": 75,
    "start_time": "2023-09-09T19:39:44.796Z"
   },
   {
    "duration": 5,
    "start_time": "2023-09-09T19:39:44.873Z"
   },
   {
    "duration": 118,
    "start_time": "2023-09-09T19:39:44.880Z"
   },
   {
    "duration": 3,
    "start_time": "2023-09-09T19:39:45.000Z"
   },
   {
    "duration": 86,
    "start_time": "2023-09-09T19:39:45.005Z"
   },
   {
    "duration": 23,
    "start_time": "2023-09-09T19:39:45.094Z"
   },
   {
    "duration": 36,
    "start_time": "2023-09-09T19:39:45.119Z"
   },
   {
    "duration": 5,
    "start_time": "2023-09-09T19:39:45.165Z"
   },
   {
    "duration": 79,
    "start_time": "2023-09-09T19:39:45.172Z"
   },
   {
    "duration": 7,
    "start_time": "2023-09-09T19:39:45.253Z"
   },
   {
    "duration": 47,
    "start_time": "2023-09-09T19:39:45.261Z"
   },
   {
    "duration": 9,
    "start_time": "2023-09-09T19:39:45.310Z"
   },
   {
    "duration": 22,
    "start_time": "2023-09-09T19:39:45.320Z"
   },
   {
    "duration": 40,
    "start_time": "2023-09-09T19:39:45.344Z"
   },
   {
    "duration": 14,
    "start_time": "2023-09-09T19:39:45.388Z"
   },
   {
    "duration": 6,
    "start_time": "2023-09-09T19:39:45.404Z"
   },
   {
    "duration": 6,
    "start_time": "2023-09-09T19:39:45.412Z"
   },
   {
    "duration": 19,
    "start_time": "2023-09-09T19:39:45.419Z"
   },
   {
    "duration": 10,
    "start_time": "2023-09-09T19:39:45.440Z"
   },
   {
    "duration": 30,
    "start_time": "2023-09-09T19:39:45.457Z"
   },
   {
    "duration": 9,
    "start_time": "2023-09-09T19:39:45.489Z"
   },
   {
    "duration": 19,
    "start_time": "2023-09-09T19:39:45.500Z"
   },
   {
    "duration": 16,
    "start_time": "2023-09-09T19:39:45.521Z"
   },
   {
    "duration": 23,
    "start_time": "2023-09-09T19:39:45.538Z"
   },
   {
    "duration": 20,
    "start_time": "2023-09-09T19:39:45.564Z"
   },
   {
    "duration": 1424,
    "start_time": "2023-09-09T19:39:45.588Z"
   },
   {
    "duration": 26,
    "start_time": "2023-09-09T19:39:47.014Z"
   },
   {
    "duration": 18,
    "start_time": "2023-09-09T19:39:47.047Z"
   },
   {
    "duration": 19,
    "start_time": "2023-09-09T19:39:47.072Z"
   },
   {
    "duration": 35,
    "start_time": "2023-09-09T19:39:47.092Z"
   },
   {
    "duration": 22,
    "start_time": "2023-09-09T19:39:47.137Z"
   },
   {
    "duration": 7,
    "start_time": "2023-09-09T19:39:47.164Z"
   },
   {
    "duration": 5,
    "start_time": "2023-09-09T19:39:47.173Z"
   },
   {
    "duration": 10,
    "start_time": "2023-09-09T19:39:47.179Z"
   },
   {
    "duration": 4,
    "start_time": "2023-09-09T19:39:47.191Z"
   },
   {
    "duration": 5,
    "start_time": "2023-09-09T19:39:47.196Z"
   },
   {
    "duration": 9,
    "start_time": "2023-09-09T19:39:47.203Z"
   },
   {
    "duration": 9,
    "start_time": "2023-09-09T19:39:47.214Z"
   },
   {
    "duration": 9,
    "start_time": "2023-09-09T19:39:47.225Z"
   },
   {
    "duration": 6,
    "start_time": "2023-09-09T19:39:47.235Z"
   },
   {
    "duration": 43,
    "start_time": "2023-09-09T19:39:47.249Z"
   },
   {
    "duration": 2,
    "start_time": "2023-09-09T19:39:47.294Z"
   },
   {
    "duration": 10,
    "start_time": "2023-09-09T19:39:47.297Z"
   },
   {
    "duration": 27,
    "start_time": "2023-09-09T19:39:47.309Z"
   },
   {
    "duration": 100,
    "start_time": "2023-09-09T19:39:47.338Z"
   },
   {
    "duration": 74,
    "start_time": "2023-09-09T19:39:47.439Z"
   },
   {
    "duration": 10,
    "start_time": "2023-09-09T19:39:47.515Z"
   },
   {
    "duration": 19,
    "start_time": "2023-09-09T19:39:47.528Z"
   },
   {
    "duration": 16,
    "start_time": "2023-09-09T19:39:47.548Z"
   },
   {
    "duration": 33,
    "start_time": "2023-09-09T19:39:47.566Z"
   },
   {
    "duration": 60,
    "start_time": "2023-09-09T19:39:47.601Z"
   },
   {
    "duration": 21,
    "start_time": "2023-09-09T19:39:47.662Z"
   },
   {
    "duration": 17,
    "start_time": "2023-09-09T19:39:47.685Z"
   },
   {
    "duration": 11,
    "start_time": "2023-09-09T19:39:47.704Z"
   },
   {
    "duration": 27,
    "start_time": "2023-09-09T19:39:47.717Z"
   },
   {
    "duration": 59,
    "start_time": "2023-09-09T19:39:47.746Z"
   },
   {
    "duration": 27,
    "start_time": "2023-09-09T19:39:47.807Z"
   },
   {
    "duration": 49,
    "start_time": "2023-09-09T19:39:47.836Z"
   },
   {
    "duration": 65,
    "start_time": "2023-09-09T19:39:47.887Z"
   },
   {
    "duration": 45,
    "start_time": "2023-09-09T19:39:47.959Z"
   },
   {
    "duration": 359,
    "start_time": "2023-09-09T19:39:48.006Z"
   },
   {
    "duration": 4,
    "start_time": "2023-09-09T19:39:48.372Z"
   },
   {
    "duration": 8,
    "start_time": "2023-09-09T19:39:48.378Z"
   },
   {
    "duration": 5,
    "start_time": "2023-09-09T19:39:48.388Z"
   },
   {
    "duration": 9,
    "start_time": "2023-09-09T19:39:48.394Z"
   },
   {
    "duration": 6,
    "start_time": "2023-09-09T19:39:48.405Z"
   },
   {
    "duration": 6,
    "start_time": "2023-09-09T19:39:48.412Z"
   },
   {
    "duration": 16,
    "start_time": "2023-09-09T19:39:48.420Z"
   },
   {
    "duration": 2,
    "start_time": "2023-09-09T19:39:48.437Z"
   },
   {
    "duration": 113,
    "start_time": "2023-09-09T19:39:48.442Z"
   },
   {
    "duration": 19,
    "start_time": "2023-09-09T19:39:48.559Z"
   },
   {
    "duration": 20,
    "start_time": "2023-09-09T19:39:48.582Z"
   },
   {
    "duration": 5,
    "start_time": "2023-09-09T19:39:48.604Z"
   },
   {
    "duration": 4,
    "start_time": "2023-09-09T19:39:48.611Z"
   },
   {
    "duration": 27,
    "start_time": "2023-09-09T19:39:48.617Z"
   },
   {
    "duration": 10,
    "start_time": "2023-09-09T19:39:48.648Z"
   },
   {
    "duration": 10,
    "start_time": "2023-09-09T19:39:48.660Z"
   },
   {
    "duration": 8,
    "start_time": "2023-09-09T19:39:48.672Z"
   },
   {
    "duration": 7,
    "start_time": "2023-09-09T19:39:48.682Z"
   },
   {
    "duration": 23,
    "start_time": "2023-09-09T19:39:48.691Z"
   },
   {
    "duration": 28,
    "start_time": "2023-09-09T19:39:48.716Z"
   },
   {
    "duration": 23,
    "start_time": "2023-09-09T19:39:48.748Z"
   },
   {
    "duration": 11,
    "start_time": "2023-09-09T19:39:48.773Z"
   },
   {
    "duration": 13,
    "start_time": "2023-09-09T19:39:48.786Z"
   },
   {
    "duration": 22,
    "start_time": "2023-09-09T19:39:48.800Z"
   },
   {
    "duration": 19,
    "start_time": "2023-09-09T19:39:48.827Z"
   },
   {
    "duration": 199,
    "start_time": "2023-09-09T19:39:48.852Z"
   },
   {
    "duration": 13,
    "start_time": "2023-09-09T19:39:49.053Z"
   },
   {
    "duration": 25,
    "start_time": "2023-09-09T19:39:49.077Z"
   },
   {
    "duration": 178,
    "start_time": "2023-09-09T19:39:49.104Z"
   },
   {
    "duration": 128,
    "start_time": "2023-09-09T19:39:49.284Z"
   },
   {
    "duration": 97,
    "start_time": "2023-09-09T19:39:49.414Z"
   },
   {
    "duration": 10,
    "start_time": "2023-09-09T19:39:49.513Z"
   },
   {
    "duration": 27,
    "start_time": "2023-09-09T19:39:49.529Z"
   },
   {
    "duration": 68,
    "start_time": "2023-09-09T19:39:49.562Z"
   },
   {
    "duration": 45,
    "start_time": "2023-09-09T19:39:49.636Z"
   },
   {
    "duration": 112,
    "start_time": "2023-09-09T19:39:49.684Z"
   },
   {
    "duration": 5,
    "start_time": "2023-09-09T19:39:49.797Z"
   },
   {
    "duration": 40,
    "start_time": "2023-09-09T19:39:49.804Z"
   },
   {
    "duration": 54,
    "start_time": "2023-09-09T19:39:49.850Z"
   },
   {
    "duration": 57,
    "start_time": "2023-09-09T19:39:49.906Z"
   },
   {
    "duration": 33,
    "start_time": "2023-09-09T19:39:49.965Z"
   },
   {
    "duration": 56,
    "start_time": "2023-09-09T19:39:50.000Z"
   },
   {
    "duration": 55,
    "start_time": "2023-09-09T19:39:50.058Z"
   },
   {
    "duration": 47,
    "start_time": "2023-09-09T19:39:50.114Z"
   },
   {
    "duration": 56,
    "start_time": "2023-09-09T19:39:50.163Z"
   },
   {
    "duration": 59,
    "start_time": "2023-09-09T19:39:50.221Z"
   },
   {
    "duration": 8,
    "start_time": "2023-09-09T19:39:50.285Z"
   },
   {
    "duration": 316,
    "start_time": "2023-09-09T19:39:50.299Z"
   },
   {
    "duration": 24,
    "start_time": "2023-09-09T19:39:50.617Z"
   },
   {
    "duration": 365,
    "start_time": "2023-09-09T19:39:50.650Z"
   },
   {
    "duration": 91,
    "start_time": "2023-09-09T19:39:51.017Z"
   },
   {
    "duration": 39,
    "start_time": "2023-09-09T19:39:51.110Z"
   },
   {
    "duration": 1887,
    "start_time": "2023-09-09T19:39:51.150Z"
   },
   {
    "duration": 49,
    "start_time": "2023-09-09T19:39:53.039Z"
   },
   {
    "duration": 4,
    "start_time": "2023-09-09T19:39:53.094Z"
   },
   {
    "duration": 29501,
    "start_time": "2023-09-09T19:39:53.103Z"
   },
   {
    "duration": 7471,
    "start_time": "2023-09-09T19:40:22.606Z"
   },
   {
    "duration": 7635,
    "start_time": "2023-09-09T19:40:30.079Z"
   },
   {
    "duration": 30332,
    "start_time": "2023-09-09T19:40:37.715Z"
   },
   {
    "duration": 4470,
    "start_time": "2023-09-09T19:41:08.049Z"
   },
   {
    "duration": 17,
    "start_time": "2023-09-09T19:41:12.520Z"
   }
  ],
  "hide_input": false,
  "kernelspec": {
   "display_name": "Python 3 (ipykernel)",
   "language": "python",
   "name": "python3"
  },
  "language_info": {
   "codemirror_mode": {
    "name": "ipython",
    "version": 3
   },
   "file_extension": ".py",
   "mimetype": "text/x-python",
   "name": "python",
   "nbconvert_exporter": "python",
   "pygments_lexer": "ipython3",
   "version": "3.9.7"
  },
  "toc": {
   "base_numbering": 1,
   "nav_menu": {},
   "number_sections": true,
   "sideBar": true,
   "skip_h1_title": true,
   "title_cell": "Table of Contents",
   "title_sidebar": "Contents",
   "toc_cell": false,
   "toc_position": {
    "height": "calc(100% - 180px)",
    "left": "10px",
    "top": "150px",
    "width": "396.569px"
   },
   "toc_section_display": true,
   "toc_window_display": true
  }
 },
 "nbformat": 4,
 "nbformat_minor": 2
}
